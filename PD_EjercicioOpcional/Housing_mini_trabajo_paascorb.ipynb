{
 "cells": [
  {
   "cell_type": "markdown",
   "id": "0869dac1-fdbe-417c-8786-02b649683d44",
   "metadata": {},
   "source": [
    "# Ejercicio Housing por Pablo Ascorbe"
   ]
  },
  {
   "cell_type": "markdown",
   "id": "17409500-c051-4ffc-8834-5464d54cd02a",
   "metadata": {},
   "source": [
    "Primero vamos a cargar los datos:"
   ]
  },
  {
   "cell_type": "code",
   "execution_count": 1,
   "id": "8a1eab96-deca-43c7-9c45-b56c9f937a02",
   "metadata": {},
   "outputs": [
    {
     "name": "stdout",
     "output_type": "stream",
     "text": [
      "(506, 13) (506,)\n"
     ]
    }
   ],
   "source": [
    "from pandas import read_csv\n",
    "\n",
    "dataframe = read_csv('housing.csv', header=None)\n",
    "last_ix = len(dataframe.columns) - 1\n",
    "X, y = dataframe.drop(last_ix, axis=1), dataframe[last_ix]\n",
    "print(X.shape, y.shape)"
   ]
  },
  {
   "cell_type": "code",
   "execution_count": 6,
   "id": "2ce35a40-baac-440e-addb-3a5614943089",
   "metadata": {},
   "outputs": [
    {
     "data": {
      "text/html": [
       "<div>\n",
       "<style scoped>\n",
       "    .dataframe tbody tr th:only-of-type {\n",
       "        vertical-align: middle;\n",
       "    }\n",
       "\n",
       "    .dataframe tbody tr th {\n",
       "        vertical-align: top;\n",
       "    }\n",
       "\n",
       "    .dataframe thead th {\n",
       "        text-align: right;\n",
       "    }\n",
       "</style>\n",
       "<table border=\"1\" class=\"dataframe\">\n",
       "  <thead>\n",
       "    <tr style=\"text-align: right;\">\n",
       "      <th></th>\n",
       "      <th>0</th>\n",
       "      <th>1</th>\n",
       "      <th>2</th>\n",
       "      <th>3</th>\n",
       "      <th>4</th>\n",
       "      <th>5</th>\n",
       "      <th>6</th>\n",
       "      <th>7</th>\n",
       "      <th>8</th>\n",
       "      <th>9</th>\n",
       "      <th>10</th>\n",
       "      <th>11</th>\n",
       "      <th>12</th>\n",
       "    </tr>\n",
       "  </thead>\n",
       "  <tbody>\n",
       "    <tr>\n",
       "      <th>0</th>\n",
       "      <td>0.00632</td>\n",
       "      <td>18.0</td>\n",
       "      <td>2.31</td>\n",
       "      <td>0</td>\n",
       "      <td>0.538</td>\n",
       "      <td>6.575</td>\n",
       "      <td>65.2</td>\n",
       "      <td>4.0900</td>\n",
       "      <td>1</td>\n",
       "      <td>296.0</td>\n",
       "      <td>15.3</td>\n",
       "      <td>396.90</td>\n",
       "      <td>4.98</td>\n",
       "    </tr>\n",
       "    <tr>\n",
       "      <th>1</th>\n",
       "      <td>0.02731</td>\n",
       "      <td>0.0</td>\n",
       "      <td>7.07</td>\n",
       "      <td>0</td>\n",
       "      <td>0.469</td>\n",
       "      <td>6.421</td>\n",
       "      <td>78.9</td>\n",
       "      <td>4.9671</td>\n",
       "      <td>2</td>\n",
       "      <td>242.0</td>\n",
       "      <td>17.8</td>\n",
       "      <td>396.90</td>\n",
       "      <td>9.14</td>\n",
       "    </tr>\n",
       "    <tr>\n",
       "      <th>2</th>\n",
       "      <td>0.02729</td>\n",
       "      <td>0.0</td>\n",
       "      <td>7.07</td>\n",
       "      <td>0</td>\n",
       "      <td>0.469</td>\n",
       "      <td>7.185</td>\n",
       "      <td>61.1</td>\n",
       "      <td>4.9671</td>\n",
       "      <td>2</td>\n",
       "      <td>242.0</td>\n",
       "      <td>17.8</td>\n",
       "      <td>392.83</td>\n",
       "      <td>4.03</td>\n",
       "    </tr>\n",
       "    <tr>\n",
       "      <th>3</th>\n",
       "      <td>0.03237</td>\n",
       "      <td>0.0</td>\n",
       "      <td>2.18</td>\n",
       "      <td>0</td>\n",
       "      <td>0.458</td>\n",
       "      <td>6.998</td>\n",
       "      <td>45.8</td>\n",
       "      <td>6.0622</td>\n",
       "      <td>3</td>\n",
       "      <td>222.0</td>\n",
       "      <td>18.7</td>\n",
       "      <td>394.63</td>\n",
       "      <td>2.94</td>\n",
       "    </tr>\n",
       "    <tr>\n",
       "      <th>4</th>\n",
       "      <td>0.06905</td>\n",
       "      <td>0.0</td>\n",
       "      <td>2.18</td>\n",
       "      <td>0</td>\n",
       "      <td>0.458</td>\n",
       "      <td>7.147</td>\n",
       "      <td>54.2</td>\n",
       "      <td>6.0622</td>\n",
       "      <td>3</td>\n",
       "      <td>222.0</td>\n",
       "      <td>18.7</td>\n",
       "      <td>396.90</td>\n",
       "      <td>5.33</td>\n",
       "    </tr>\n",
       "  </tbody>\n",
       "</table>\n",
       "</div>"
      ],
      "text/plain": [
       "        0     1     2   3      4      5     6       7   8      9     10  \\\n",
       "0  0.00632  18.0  2.31   0  0.538  6.575  65.2  4.0900   1  296.0  15.3   \n",
       "1  0.02731   0.0  7.07   0  0.469  6.421  78.9  4.9671   2  242.0  17.8   \n",
       "2  0.02729   0.0  7.07   0  0.469  7.185  61.1  4.9671   2  242.0  17.8   \n",
       "3  0.03237   0.0  2.18   0  0.458  6.998  45.8  6.0622   3  222.0  18.7   \n",
       "4  0.06905   0.0  2.18   0  0.458  7.147  54.2  6.0622   3  222.0  18.7   \n",
       "\n",
       "       11    12  \n",
       "0  396.90  4.98  \n",
       "1  396.90  9.14  \n",
       "2  392.83  4.03  \n",
       "3  394.63  2.94  \n",
       "4  396.90  5.33  "
      ]
     },
     "execution_count": 6,
     "metadata": {},
     "output_type": "execute_result"
    }
   ],
   "source": [
    "X.head()"
   ]
  },
  {
   "cell_type": "markdown",
   "id": "9138b3bc-ebaa-40bf-b6e6-da70013c6719",
   "metadata": {},
   "source": [
    "En este notebook nos vamos a centrar unicamente en el escalado, transformar las dsitribuciones y la selección de características."
   ]
  },
  {
   "cell_type": "markdown",
   "id": "b965cb72-2ad4-4ad9-9f9f-5792909dbcdc",
   "metadata": {},
   "source": [
    "Comencemos con el escalado. Pero, primero, vamos a ver el MAE de un modelo, en nuestro caso \"RandomForest\", sin haber aplicado ninguna técnica:"
   ]
  },
  {
   "cell_type": "code",
   "execution_count": 8,
   "id": "5d47b78e-2bae-4874-a8ea-f681b766fc1f",
   "metadata": {},
   "outputs": [
    {
     "name": "stdout",
     "output_type": "stream",
     "text": [
      "Mean MAE: 2.202\n"
     ]
    }
   ],
   "source": [
    "from numpy import mean\n",
    "from numpy import absolute\n",
    "from sklearn.ensemble import RandomForestRegressor\n",
    "from sklearn.model_selection import cross_val_score\n",
    "from sklearn.model_selection import RepeatedKFold\n",
    "from sklearn.pipeline import Pipeline\n",
    "\n",
    "regr = RandomForestRegressor(random_state=0)\n",
    "pipeline = Pipeline([(\"model\",regr)])\n",
    "\n",
    "cv = RepeatedKFold(n_splits=10, n_repeats=3, random_state=1)\n",
    "scores = cross_val_score(pipeline, X, y, scoring='neg_mean_absolute_error', cv=cv, n_jobs=-1)\n",
    "# convert scores to positive\n",
    "scores = absolute(scores)\n",
    "# summarize the result\n",
    "s_mean = mean(scores)\n",
    "print('Mean MAE: %.3f' % (s_mean))"
   ]
  },
  {
   "cell_type": "markdown",
   "id": "d26e839b-ed70-42d9-a29b-c05cee4f17d6",
   "metadata": {},
   "source": [
    "Partimos de un MAE de 2.202, veamos si aplicando las técnicas mencionadas anteriormente mejora. Recordemos que para que mejores necesitaremos que ese valor se aproxime a 0."
   ]
  },
  {
   "cell_type": "markdown",
   "id": "f2140f5a-9dff-4ee8-8e52-70a6fd3d2bf3",
   "metadata": {},
   "source": [
    "## Escalado"
   ]
  },
  {
   "cell_type": "markdown",
   "id": "6fb9e7fb-3eec-420b-b8b8-a37553406b9b",
   "metadata": {},
   "source": [
    "### Normalización"
   ]
  },
  {
   "cell_type": "code",
   "execution_count": 7,
   "id": "9077b3c1-f023-450f-9f94-f9dca2792777",
   "metadata": {},
   "outputs": [
    {
     "name": "stdout",
     "output_type": "stream",
     "text": [
      "Mean MAE: 2.200\n"
     ]
    }
   ],
   "source": [
    "from numpy import mean\n",
    "from numpy import absolute\n",
    "from sklearn.preprocessing import MinMaxScaler\n",
    "from sklearn.ensemble import RandomForestRegressor\n",
    "from sklearn.model_selection import cross_val_score\n",
    "from sklearn.model_selection import RepeatedKFold\n",
    "from sklearn.pipeline import Pipeline\n",
    "\n",
    "regr = RandomForestRegressor(random_state=0)\n",
    "scaler = MinMaxScaler()\n",
    "\n",
    "pipeline = Pipeline([(\"trans\",scaler),(\"model\",regr)])\n",
    "\n",
    "cv = RepeatedKFold(n_splits=10, n_repeats=3, random_state=1)\n",
    "scores = cross_val_score(pipeline, X, y, scoring='neg_mean_absolute_error', cv=cv, n_jobs=-1)\n",
    "# convert scores to positive\n",
    "scores = absolute(scores)\n",
    "# summarize the result\n",
    "s_mean = mean(scores)\n",
    "print('Mean MAE: %.3f' % (s_mean))"
   ]
  },
  {
   "cell_type": "markdown",
   "id": "ecc1a747-f087-4dfd-8be0-ddd038543387",
   "metadata": {},
   "source": [
    "Vemos que hemos reducido muy poquito el MAE, veamos si otras técnicas nos ayudan más."
   ]
  },
  {
   "cell_type": "markdown",
   "id": "9ecb3588-6c2a-4210-9d5d-189e86749e1c",
   "metadata": {},
   "source": [
    "### Estandarización"
   ]
  },
  {
   "cell_type": "code",
   "execution_count": 9,
   "id": "0c0dfbf1-6421-4dac-99ff-1103656b7f7f",
   "metadata": {},
   "outputs": [
    {
     "name": "stdout",
     "output_type": "stream",
     "text": [
      "Mean MAE: 2.202\n"
     ]
    }
   ],
   "source": [
    "from numpy import mean\n",
    "from numpy import absolute\n",
    "from sklearn.preprocessing import StandardScaler\n",
    "from sklearn.ensemble import RandomForestRegressor\n",
    "from sklearn.model_selection import cross_val_score\n",
    "from sklearn.model_selection import RepeatedKFold\n",
    "from sklearn.pipeline import Pipeline\n",
    "\n",
    "regr = RandomForestRegressor(random_state=0)\n",
    "scaler = StandardScaler()\n",
    "\n",
    "pipeline = Pipeline([(\"trans\",scaler),(\"model\",regr)])\n",
    "\n",
    "cv = RepeatedKFold(n_splits=10, n_repeats=3, random_state=1)\n",
    "scores = cross_val_score(pipeline, X, y, scoring='neg_mean_absolute_error', cv=cv, n_jobs=-1)\n",
    "# convert scores to positive\n",
    "scores = absolute(scores)\n",
    "# summarize the result\n",
    "s_mean = mean(scores)\n",
    "print('Mean MAE: %.3f' % (s_mean))"
   ]
  },
  {
   "cell_type": "markdown",
   "id": "fb25f615-0f8f-4fc6-9a63-245cd2a5fd7b",
   "metadata": {},
   "source": [
    "La estandarización vemos que no aporta nada a mejorar el error del modelo."
   ]
  },
  {
   "cell_type": "markdown",
   "id": "1ee3f2f6-ecba-49b2-8bac-35a72a3bc4da",
   "metadata": {},
   "source": [
    "### Robust Scaler"
   ]
  },
  {
   "cell_type": "code",
   "execution_count": 10,
   "id": "c4a91d8a-2f53-46c1-9997-ecec9a485b92",
   "metadata": {},
   "outputs": [
    {
     "name": "stdout",
     "output_type": "stream",
     "text": [
      "Mean MAE: 2.201\n"
     ]
    }
   ],
   "source": [
    "from numpy import mean\n",
    "from numpy import absolute\n",
    "from sklearn.preprocessing import RobustScaler\n",
    "from sklearn.ensemble import RandomForestRegressor\n",
    "from sklearn.model_selection import cross_val_score\n",
    "from sklearn.model_selection import RepeatedKFold\n",
    "from sklearn.pipeline import Pipeline\n",
    "\n",
    "regr = RandomForestRegressor(random_state=0)\n",
    "scaler = RobustScaler()\n",
    "\n",
    "pipeline = Pipeline([(\"trans\",scaler),(\"model\",regr)])\n",
    "\n",
    "cv = RepeatedKFold(n_splits=10, n_repeats=3, random_state=1)\n",
    "scores = cross_val_score(pipeline, X, y, scoring='neg_mean_absolute_error', cv=cv, n_jobs=-1)\n",
    "# convert scores to positive\n",
    "scores = absolute(scores)\n",
    "# summarize the result\n",
    "s_mean = mean(scores)\n",
    "print('Mean MAE: %.3f' % (s_mean))"
   ]
  },
  {
   "cell_type": "markdown",
   "id": "202beaad-fa47-4012-8fb8-e3d672efae72",
   "metadata": {},
   "source": [
    "## Cambiar Distribuciones"
   ]
  },
  {
   "cell_type": "markdown",
   "id": "c96239f7-8866-4ee8-b6be-c84a5fb0908f",
   "metadata": {},
   "source": [
    "Como el que mejor resultado nos ha dado ha sido la normalización, será la que utilicemos a partir de ahora:"
   ]
  },
  {
   "cell_type": "code",
   "execution_count": 11,
   "id": "6b994385-4174-4a3a-b2d8-4eeb6c68b60e",
   "metadata": {},
   "outputs": [
    {
     "ename": "ValueError",
     "evalue": "\nAll the 30 fits failed.\nIt is very likely that your model is misconfigured.\nYou can try to debug the error by setting error_score='raise'.\n\nBelow are more details about the failures:\n--------------------------------------------------------------------------------\n30 fits failed with the following error:\nTraceback (most recent call last):\n  File \"C:\\Users\\pablo\\AppData\\Roaming\\Python\\Python39\\site-packages\\sklearn\\model_selection\\_validation.py\", line 686, in _fit_and_score\n    estimator.fit(X_train, y_train, **fit_params)\n  File \"C:\\Users\\pablo\\AppData\\Roaming\\Python\\Python39\\site-packages\\sklearn\\pipeline.py\", line 378, in fit\n    Xt = self._fit(X, y, **fit_params_steps)\n  File \"C:\\Users\\pablo\\AppData\\Roaming\\Python\\Python39\\site-packages\\sklearn\\pipeline.py\", line 336, in _fit\n    X, fitted_transformer = fit_transform_one_cached(\n  File \"C:\\Users\\pablo\\anaconda3\\lib\\site-packages\\joblib\\memory.py\", line 349, in __call__\n    return self.func(*args, **kwargs)\n  File \"C:\\Users\\pablo\\AppData\\Roaming\\Python\\Python39\\site-packages\\sklearn\\pipeline.py\", line 870, in _fit_transform_one\n    res = transformer.fit_transform(X, y, **fit_params)\n  File \"C:\\Users\\pablo\\AppData\\Roaming\\Python\\Python39\\site-packages\\sklearn\\preprocessing\\_data.py\", line 3058, in fit_transform\n    return self._fit(X, y, force_transform=True)\n  File \"C:\\Users\\pablo\\AppData\\Roaming\\Python\\Python39\\site-packages\\sklearn\\preprocessing\\_data.py\", line 3061, in _fit\n    X = self._check_input(X, in_fit=True, check_positive=True, check_method=True)\n  File \"C:\\Users\\pablo\\AppData\\Roaming\\Python\\Python39\\site-packages\\sklearn\\preprocessing\\_data.py\", line 3299, in _check_input\n    raise ValueError(\nValueError: The Box-Cox transformation can only be applied to strictly positive data\n",
     "output_type": "error",
     "traceback": [
      "\u001b[1;31m---------------------------------------------------------------------------\u001b[0m",
      "\u001b[1;31mValueError\u001b[0m                                Traceback (most recent call last)",
      "\u001b[1;32m~\\AppData\\Local\\Temp\\ipykernel_10560\\2052481234.py\u001b[0m in \u001b[0;36m<module>\u001b[1;34m\u001b[0m\n\u001b[0;32m     15\u001b[0m \u001b[1;33m\u001b[0m\u001b[0m\n\u001b[0;32m     16\u001b[0m \u001b[0mcv\u001b[0m \u001b[1;33m=\u001b[0m \u001b[0mRepeatedKFold\u001b[0m\u001b[1;33m(\u001b[0m\u001b[0mn_splits\u001b[0m\u001b[1;33m=\u001b[0m\u001b[1;36m10\u001b[0m\u001b[1;33m,\u001b[0m \u001b[0mn_repeats\u001b[0m\u001b[1;33m=\u001b[0m\u001b[1;36m3\u001b[0m\u001b[1;33m,\u001b[0m \u001b[0mrandom_state\u001b[0m\u001b[1;33m=\u001b[0m\u001b[1;36m1\u001b[0m\u001b[1;33m)\u001b[0m\u001b[1;33m\u001b[0m\u001b[1;33m\u001b[0m\u001b[0m\n\u001b[1;32m---> 17\u001b[1;33m \u001b[0mscores\u001b[0m \u001b[1;33m=\u001b[0m \u001b[0mcross_val_score\u001b[0m\u001b[1;33m(\u001b[0m\u001b[0mpipeline\u001b[0m\u001b[1;33m,\u001b[0m \u001b[0mX\u001b[0m\u001b[1;33m,\u001b[0m \u001b[0my\u001b[0m\u001b[1;33m,\u001b[0m \u001b[0mscoring\u001b[0m\u001b[1;33m=\u001b[0m\u001b[1;34m'neg_mean_absolute_error'\u001b[0m\u001b[1;33m,\u001b[0m \u001b[0mcv\u001b[0m\u001b[1;33m=\u001b[0m\u001b[0mcv\u001b[0m\u001b[1;33m,\u001b[0m \u001b[0mn_jobs\u001b[0m\u001b[1;33m=\u001b[0m\u001b[1;33m-\u001b[0m\u001b[1;36m1\u001b[0m\u001b[1;33m)\u001b[0m\u001b[1;33m\u001b[0m\u001b[1;33m\u001b[0m\u001b[0m\n\u001b[0m\u001b[0;32m     18\u001b[0m \u001b[1;31m# convert scores to positive\u001b[0m\u001b[1;33m\u001b[0m\u001b[1;33m\u001b[0m\u001b[0m\n\u001b[0;32m     19\u001b[0m \u001b[0mscores\u001b[0m \u001b[1;33m=\u001b[0m \u001b[0mabsolute\u001b[0m\u001b[1;33m(\u001b[0m\u001b[0mscores\u001b[0m\u001b[1;33m)\u001b[0m\u001b[1;33m\u001b[0m\u001b[1;33m\u001b[0m\u001b[0m\n",
      "\u001b[1;32m~\\AppData\\Roaming\\Python\\Python39\\site-packages\\sklearn\\model_selection\\_validation.py\u001b[0m in \u001b[0;36mcross_val_score\u001b[1;34m(estimator, X, y, groups, scoring, cv, n_jobs, verbose, fit_params, pre_dispatch, error_score)\u001b[0m\n\u001b[0;32m    513\u001b[0m     \u001b[0mscorer\u001b[0m \u001b[1;33m=\u001b[0m \u001b[0mcheck_scoring\u001b[0m\u001b[1;33m(\u001b[0m\u001b[0mestimator\u001b[0m\u001b[1;33m,\u001b[0m \u001b[0mscoring\u001b[0m\u001b[1;33m=\u001b[0m\u001b[0mscoring\u001b[0m\u001b[1;33m)\u001b[0m\u001b[1;33m\u001b[0m\u001b[1;33m\u001b[0m\u001b[0m\n\u001b[0;32m    514\u001b[0m \u001b[1;33m\u001b[0m\u001b[0m\n\u001b[1;32m--> 515\u001b[1;33m     cv_results = cross_validate(\n\u001b[0m\u001b[0;32m    516\u001b[0m         \u001b[0mestimator\u001b[0m\u001b[1;33m=\u001b[0m\u001b[0mestimator\u001b[0m\u001b[1;33m,\u001b[0m\u001b[1;33m\u001b[0m\u001b[1;33m\u001b[0m\u001b[0m\n\u001b[0;32m    517\u001b[0m         \u001b[0mX\u001b[0m\u001b[1;33m=\u001b[0m\u001b[0mX\u001b[0m\u001b[1;33m,\u001b[0m\u001b[1;33m\u001b[0m\u001b[1;33m\u001b[0m\u001b[0m\n",
      "\u001b[1;32m~\\AppData\\Roaming\\Python\\Python39\\site-packages\\sklearn\\model_selection\\_validation.py\u001b[0m in \u001b[0;36mcross_validate\u001b[1;34m(estimator, X, y, groups, scoring, cv, n_jobs, verbose, fit_params, pre_dispatch, return_train_score, return_estimator, error_score)\u001b[0m\n\u001b[0;32m    283\u001b[0m     )\n\u001b[0;32m    284\u001b[0m \u001b[1;33m\u001b[0m\u001b[0m\n\u001b[1;32m--> 285\u001b[1;33m     \u001b[0m_warn_or_raise_about_fit_failures\u001b[0m\u001b[1;33m(\u001b[0m\u001b[0mresults\u001b[0m\u001b[1;33m,\u001b[0m \u001b[0merror_score\u001b[0m\u001b[1;33m)\u001b[0m\u001b[1;33m\u001b[0m\u001b[1;33m\u001b[0m\u001b[0m\n\u001b[0m\u001b[0;32m    286\u001b[0m \u001b[1;33m\u001b[0m\u001b[0m\n\u001b[0;32m    287\u001b[0m     \u001b[1;31m# For callabe scoring, the return type is only know after calling. If the\u001b[0m\u001b[1;33m\u001b[0m\u001b[1;33m\u001b[0m\u001b[0m\n",
      "\u001b[1;32m~\\AppData\\Roaming\\Python\\Python39\\site-packages\\sklearn\\model_selection\\_validation.py\u001b[0m in \u001b[0;36m_warn_or_raise_about_fit_failures\u001b[1;34m(results, error_score)\u001b[0m\n\u001b[0;32m    365\u001b[0m                 \u001b[1;34mf\"Below are more details about the failures:\\n{fit_errors_summary}\"\u001b[0m\u001b[1;33m\u001b[0m\u001b[1;33m\u001b[0m\u001b[0m\n\u001b[0;32m    366\u001b[0m             )\n\u001b[1;32m--> 367\u001b[1;33m             \u001b[1;32mraise\u001b[0m \u001b[0mValueError\u001b[0m\u001b[1;33m(\u001b[0m\u001b[0mall_fits_failed_message\u001b[0m\u001b[1;33m)\u001b[0m\u001b[1;33m\u001b[0m\u001b[1;33m\u001b[0m\u001b[0m\n\u001b[0m\u001b[0;32m    368\u001b[0m \u001b[1;33m\u001b[0m\u001b[0m\n\u001b[0;32m    369\u001b[0m         \u001b[1;32melse\u001b[0m\u001b[1;33m:\u001b[0m\u001b[1;33m\u001b[0m\u001b[1;33m\u001b[0m\u001b[0m\n",
      "\u001b[1;31mValueError\u001b[0m: \nAll the 30 fits failed.\nIt is very likely that your model is misconfigured.\nYou can try to debug the error by setting error_score='raise'.\n\nBelow are more details about the failures:\n--------------------------------------------------------------------------------\n30 fits failed with the following error:\nTraceback (most recent call last):\n  File \"C:\\Users\\pablo\\AppData\\Roaming\\Python\\Python39\\site-packages\\sklearn\\model_selection\\_validation.py\", line 686, in _fit_and_score\n    estimator.fit(X_train, y_train, **fit_params)\n  File \"C:\\Users\\pablo\\AppData\\Roaming\\Python\\Python39\\site-packages\\sklearn\\pipeline.py\", line 378, in fit\n    Xt = self._fit(X, y, **fit_params_steps)\n  File \"C:\\Users\\pablo\\AppData\\Roaming\\Python\\Python39\\site-packages\\sklearn\\pipeline.py\", line 336, in _fit\n    X, fitted_transformer = fit_transform_one_cached(\n  File \"C:\\Users\\pablo\\anaconda3\\lib\\site-packages\\joblib\\memory.py\", line 349, in __call__\n    return self.func(*args, **kwargs)\n  File \"C:\\Users\\pablo\\AppData\\Roaming\\Python\\Python39\\site-packages\\sklearn\\pipeline.py\", line 870, in _fit_transform_one\n    res = transformer.fit_transform(X, y, **fit_params)\n  File \"C:\\Users\\pablo\\AppData\\Roaming\\Python\\Python39\\site-packages\\sklearn\\preprocessing\\_data.py\", line 3058, in fit_transform\n    return self._fit(X, y, force_transform=True)\n  File \"C:\\Users\\pablo\\AppData\\Roaming\\Python\\Python39\\site-packages\\sklearn\\preprocessing\\_data.py\", line 3061, in _fit\n    X = self._check_input(X, in_fit=True, check_positive=True, check_method=True)\n  File \"C:\\Users\\pablo\\AppData\\Roaming\\Python\\Python39\\site-packages\\sklearn\\preprocessing\\_data.py\", line 3299, in _check_input\n    raise ValueError(\nValueError: The Box-Cox transformation can only be applied to strictly positive data\n"
     ]
    }
   ],
   "source": [
    "from numpy import mean\n",
    "from numpy import absolute\n",
    "from sklearn.preprocessing import MinMaxScaler\n",
    "from sklearn.ensemble import RandomForestRegressor\n",
    "from sklearn.model_selection import cross_val_score\n",
    "from sklearn.model_selection import RepeatedKFold\n",
    "from sklearn.preprocessing import PowerTransformer\n",
    "from sklearn.pipeline import Pipeline\n",
    "\n",
    "regr = RandomForestRegressor(random_state=0)\n",
    "scaler = MinMaxScaler()\n",
    "power = PowerTransformer(method='box-cox')\n",
    "\n",
    "pipeline = Pipeline([(\"trans\",scaler),('power', power),(\"model\",regr)])\n",
    "\n",
    "cv = RepeatedKFold(n_splits=10, n_repeats=3, random_state=1)\n",
    "scores = cross_val_score(pipeline, X, y, scoring='neg_mean_absolute_error', cv=cv, n_jobs=-1)\n",
    "# convert scores to positive\n",
    "scores = absolute(scores)\n",
    "# summarize the result\n",
    "s_mean = mean(scores)\n",
    "print('Mean MAE: %.3f' % (s_mean))"
   ]
  },
  {
   "cell_type": "markdown",
   "id": "4b2bf820-5501-4b14-a498-98b291bad8a6",
   "metadata": {},
   "source": [
    "He decidido dejar este error, porque a parte de que se incidió en él en clase, es interesante repasarlo para poder hacer uso de MinMaxScaler y reajustar el intervalo:"
   ]
  },
  {
   "cell_type": "code",
   "execution_count": 12,
   "id": "9fa007fe-a4a8-4ab3-890b-e2907e754fe4",
   "metadata": {},
   "outputs": [
    {
     "name": "stdout",
     "output_type": "stream",
     "text": [
      "Mean MAE: 2.198\n"
     ]
    }
   ],
   "source": [
    "from numpy import mean\n",
    "from numpy import absolute\n",
    "from sklearn.preprocessing import MinMaxScaler\n",
    "from sklearn.ensemble import RandomForestRegressor\n",
    "from sklearn.model_selection import cross_val_score\n",
    "from sklearn.model_selection import RepeatedKFold\n",
    "from sklearn.preprocessing import PowerTransformer\n",
    "from sklearn.pipeline import Pipeline\n",
    "\n",
    "regr = RandomForestRegressor(random_state=0)\n",
    "scaler = MinMaxScaler(feature_range=(0.5, 1.5))\n",
    "power = PowerTransformer(method='box-cox')\n",
    "\n",
    "pipeline = Pipeline([(\"trans\",scaler),('power', power),(\"model\",regr)])\n",
    "\n",
    "cv = RepeatedKFold(n_splits=10, n_repeats=3, random_state=1)\n",
    "scores = cross_val_score(pipeline, X, y, scoring='neg_mean_absolute_error', cv=cv, n_jobs=-1)\n",
    "# convert scores to positive\n",
    "scores = absolute(scores)\n",
    "# summarize the result\n",
    "s_mean = mean(scores)\n",
    "print('Mean MAE: %.3f' % (s_mean))"
   ]
  },
  {
   "cell_type": "markdown",
   "id": "b2db2cc2-5777-48ba-95a9-3639b785e5ed",
   "metadata": {},
   "source": [
    "Vemos que hemos conseguido bajar un poquito más el MAE, no mucho, pero algo es algo:"
   ]
  },
  {
   "cell_type": "code",
   "execution_count": 13,
   "id": "8c17ee47-6175-48ec-9eb3-fe246d9564c7",
   "metadata": {},
   "outputs": [
    {
     "name": "stdout",
     "output_type": "stream",
     "text": [
      "Mean MAE: 2.198\n"
     ]
    }
   ],
   "source": [
    "from numpy import mean\n",
    "from numpy import absolute\n",
    "from sklearn.preprocessing import MinMaxScaler\n",
    "from sklearn.ensemble import RandomForestRegressor\n",
    "from sklearn.model_selection import cross_val_score\n",
    "from sklearn.model_selection import RepeatedKFold\n",
    "from sklearn.preprocessing import PowerTransformer\n",
    "from sklearn.pipeline import Pipeline\n",
    "\n",
    "regr = RandomForestRegressor(random_state=0)\n",
    "scaler = MinMaxScaler()\n",
    "power = PowerTransformer()\n",
    "\n",
    "pipeline = Pipeline([(\"trans\",scaler),('power', power),(\"model\",regr)])\n",
    "\n",
    "cv = RepeatedKFold(n_splits=10, n_repeats=3, random_state=1)\n",
    "scores = cross_val_score(pipeline, X, y, scoring='neg_mean_absolute_error', cv=cv, n_jobs=-1)\n",
    "# convert scores to positive\n",
    "scores = absolute(scores)\n",
    "# summarize the result\n",
    "s_mean = mean(scores)\n",
    "print('Mean MAE: %.3f' % (s_mean))"
   ]
  },
  {
   "cell_type": "markdown",
   "id": "2811fc2a-5456-4b4c-8ca8-4fc78e28145b",
   "metadata": {},
   "source": [
    "Con ambos conseguimos el mismo MAE."
   ]
  },
  {
   "cell_type": "markdown",
   "id": "1d856592-1394-4a6a-b7a4-1c84bdaaabc8",
   "metadata": {},
   "source": [
    "### Quantile Transform"
   ]
  },
  {
   "cell_type": "code",
   "execution_count": 14,
   "id": "e76eef10-fd0b-4e09-8f22-8a337c5943f0",
   "metadata": {},
   "outputs": [
    {
     "name": "stdout",
     "output_type": "stream",
     "text": [
      "Mean MAE: 2.211\n"
     ]
    }
   ],
   "source": [
    "from numpy import mean\n",
    "from numpy import absolute\n",
    "from sklearn.preprocessing import MinMaxScaler\n",
    "from sklearn.ensemble import RandomForestRegressor\n",
    "from sklearn.model_selection import cross_val_score\n",
    "from sklearn.model_selection import RepeatedKFold\n",
    "from sklearn.preprocessing import QuantileTransformer\n",
    "from sklearn.pipeline import Pipeline\n",
    "\n",
    "regr = RandomForestRegressor(random_state=0)\n",
    "scaler = MinMaxScaler()\n",
    "dist = QuantileTransformer(n_quantiles=100, output_distribution='normal')\n",
    "\n",
    "pipeline = Pipeline([(\"trans\",scaler),('dist', dist),(\"model\",regr)])\n",
    "\n",
    "cv = RepeatedKFold(n_splits=10, n_repeats=3, random_state=1)\n",
    "scores = cross_val_score(pipeline, X, y, scoring='neg_mean_absolute_error', cv=cv, n_jobs=-1)\n",
    "# convert scores to positive\n",
    "scores = absolute(scores)\n",
    "# summarize the result\n",
    "s_mean = mean(scores)\n",
    "print('Mean MAE: %.3f' % (s_mean))"
   ]
  },
  {
   "cell_type": "markdown",
   "id": "fb50de43-90e9-4a3f-accc-cab8b53d5a0c",
   "metadata": {},
   "source": [
    "Vemos que añadiendo una transformación por centiles con distribución normal empeora el modelo."
   ]
  },
  {
   "cell_type": "code",
   "execution_count": 18,
   "id": "db0ac741-9695-4b65-aa67-e895f65ed624",
   "metadata": {},
   "outputs": [
    {
     "name": "stdout",
     "output_type": "stream",
     "text": [
      "Mean MAE: 2.204\n"
     ]
    }
   ],
   "source": [
    "from numpy import mean\n",
    "from numpy import absolute\n",
    "from sklearn.preprocessing import MinMaxScaler\n",
    "from sklearn.ensemble import RandomForestRegressor\n",
    "from sklearn.model_selection import cross_val_score\n",
    "from sklearn.model_selection import RepeatedKFold\n",
    "from sklearn.preprocessing import QuantileTransformer\n",
    "from sklearn.pipeline import Pipeline\n",
    "\n",
    "regr = RandomForestRegressor(random_state=0)\n",
    "scaler = MinMaxScaler()\n",
    "dist = QuantileTransformer(n_quantiles=100, output_distribution='uniform')\n",
    "\n",
    "pipeline = Pipeline([(\"trans\",scaler),('dist', dist),(\"model\",regr)])\n",
    "\n",
    "cv = RepeatedKFold(n_splits=10, n_repeats=3, random_state=1)\n",
    "scores = cross_val_score(pipeline, X, y, scoring='neg_mean_absolute_error', cv=cv, n_jobs=-1)\n",
    "# convert scores to positive\n",
    "scores = absolute(scores)\n",
    "# summarize the result\n",
    "s_mean = mean(scores)\n",
    "print('Mean MAE: %.3f' % (s_mean))"
   ]
  },
  {
   "cell_type": "markdown",
   "id": "44c63526-cd51-40d8-bac8-eefda1ae1953",
   "metadata": {},
   "source": [
    "Con distribución uniforme empeora, pero no tanto como con la normal."
   ]
  },
  {
   "cell_type": "markdown",
   "id": "42397d9a-9978-4d2e-b5a9-2c0dd6bb1458",
   "metadata": {},
   "source": [
    "### KBinsDiscretizer"
   ]
  },
  {
   "cell_type": "code",
   "execution_count": 28,
   "id": "4bffe22d-9300-4244-87d4-d34888734f4c",
   "metadata": {},
   "outputs": [
    {
     "name": "stdout",
     "output_type": "stream",
     "text": [
      "Estrategia: uniform Mean MAE: 2.578\n",
      "Estrategia: quantile Mean MAE: 2.480\n",
      "Estrategia: kmeans Mean MAE: 2.539\n"
     ]
    }
   ],
   "source": [
    "from numpy import mean\n",
    "from numpy import absolute\n",
    "from sklearn.preprocessing import MinMaxScaler\n",
    "from sklearn.ensemble import RandomForestRegressor\n",
    "from sklearn.model_selection import cross_val_score\n",
    "from sklearn.model_selection import RepeatedKFold\n",
    "from sklearn.preprocessing import KBinsDiscretizer\n",
    "from sklearn.pipeline import Pipeline\n",
    "\n",
    "regr = RandomForestRegressor(random_state=0)\n",
    "scaler = MinMaxScaler()\n",
    "\n",
    "for i in ['uniform', 'quantile', 'kmeans']:\n",
    "    dist = KBinsDiscretizer(n_bins=10, encode='ordinal', strategy=i)\n",
    "\n",
    "    pipeline = Pipeline([(\"trans\",scaler),('dist', dist),(\"model\",regr)])\n",
    "\n",
    "    cv = RepeatedKFold(n_splits=5, n_repeats=3, random_state=1)\n",
    "    scores = cross_val_score(pipeline, X, y, scoring='neg_mean_absolute_error', cv=cv, n_jobs=-1)\n",
    "    # convert scores to positive\n",
    "    scores = absolute(scores)\n",
    "    # summarize the result\n",
    "    s_mean = mean(scores)\n",
    "    print(f'Estrategia: {i}','Mean MAE: %.3f' % (s_mean))"
   ]
  },
  {
   "cell_type": "markdown",
   "id": "32816016-263b-467e-9614-db176cc65b92",
   "metadata": {},
   "source": [
    "Vemos que discretizar nuestras variables no está dando para nada buen resultado, da igual qué estrategia sigamos."
   ]
  },
  {
   "cell_type": "markdown",
   "id": "1fea774e-847c-42d1-bf77-0daf6e5116cf",
   "metadata": {},
   "source": [
    "Así que como el mejor resultado lo hemos obtenido al aplicar PowerTransform, nos quedaremos con esa estrategia para la última parte:"
   ]
  },
  {
   "cell_type": "markdown",
   "id": "7e61fadd-260f-455f-b1fe-f53d7c276582",
   "metadata": {},
   "source": [
    "## Selección de Características"
   ]
  },
  {
   "cell_type": "markdown",
   "id": "ff734d57-7bc7-4ccd-8391-2cbcad4f2d4b",
   "metadata": {},
   "source": [
    "Primero veamos qué valor de K es el mejor:"
   ]
  },
  {
   "cell_type": "code",
   "execution_count": 35,
   "id": "120e7304-0c8f-4fee-bf31-928ba599684f",
   "metadata": {},
   "outputs": [
    {
     "name": "stdout",
     "output_type": "stream",
     "text": [
      "Feature 0: 3.413923\n",
      "Feature 1: 1.698253\n",
      "Feature 2: 2.151220\n",
      "Feature 3: 1.102329\n",
      "Feature 4: 2.338995\n",
      "Feature 5: 2.675998\n",
      "Feature 6: 2.329545\n",
      "Feature 7: 1.506687\n",
      "Feature 8: 1.914649\n",
      "Feature 9: 2.210056\n",
      "Feature 10: 1.776251\n",
      "Feature 11: 1.818332\n",
      "Feature 12: 5.752151\n"
     ]
    }
   ],
   "source": [
    "from sklearn.feature_selection import SelectKBest\n",
    "from sklearn.feature_selection import f_classif\n",
    "from matplotlib import pyplot\n",
    "\n",
    "def select_features(X, y):\n",
    "    fs = SelectKBest(score_func=f_classif, k='all')\n",
    "    fs.fit(X, y)\n",
    "    X_fs = fs.transform(X)\n",
    "    return X_fs, fs\n",
    "\n",
    "X_fs, fs = select_features(X, y)\n",
    "# what are scores for the features\n",
    "for i in range(len(fs.scores_)):\n",
    "    print('Feature %d: %f' % (i, fs.scores_[i]))"
   ]
  },
  {
   "cell_type": "code",
   "execution_count": 36,
   "id": "ea2b587c-8d4e-4dec-9e67-edeaaaaf06b5",
   "metadata": {},
   "outputs": [
    {
     "data": {
      "image/png": "[encoded data removed]",
      "text/plain": [
       "<Figure size 640x480 with 1 Axes>"
      ]
     },
     "metadata": {},
     "output_type": "display_data"
    }
   ],
   "source": [
    "# plot the scores\n",
    "pyplot.bar([i for i in range(len(fs.scores_))], fs.scores_)\n",
    "pyplot.show()"
   ]
  },
  {
   "cell_type": "markdown",
   "id": "5c75e24b-3229-48ec-8b64-d68c336f948d",
   "metadata": {},
   "source": [
    "Vemos que casi todas las variables son muy interesantes, pero la 0 y la 12, es decir, la primera y la última son las que más aportan."
   ]
  },
  {
   "cell_type": "markdown",
   "id": "86fea9be-c114-4b03-a76e-3581986e72a1",
   "metadata": {},
   "source": [
    "Primero vamos a probar quitando 5 de 13:"
   ]
  },
  {
   "cell_type": "code",
   "execution_count": 37,
   "id": "010a23e6-2c2e-4b9c-b353-a58b570da41e",
   "metadata": {},
   "outputs": [
    {
     "name": "stdout",
     "output_type": "stream",
     "text": [
      "Mean MAE: 2.356\n"
     ]
    }
   ],
   "source": [
    "from numpy import mean\n",
    "from numpy import absolute\n",
    "from sklearn.preprocessing import MinMaxScaler\n",
    "from sklearn.ensemble import RandomForestRegressor\n",
    "from sklearn.model_selection import cross_val_score\n",
    "from sklearn.model_selection import RepeatedKFold\n",
    "from sklearn.preprocessing import PowerTransformer\n",
    "from sklearn.pipeline import Pipeline\n",
    "\n",
    "def select_features(X, y):\n",
    "    fs = SelectKBest(score_func=f_classif, k=8)\n",
    "    fs.fit(X, y)\n",
    "    X_fs = fs.transform(X)\n",
    "    return X_fs, fs\n",
    "\n",
    "X_fs, fs = select_features(X, y)\n",
    "\n",
    "regr = RandomForestRegressor(random_state=0)\n",
    "scaler = MinMaxScaler()\n",
    "power = PowerTransformer()\n",
    "\n",
    "pipeline = Pipeline([(\"trans\",scaler),('power', power),(\"model\",regr)])\n",
    "\n",
    "cv = RepeatedKFold(n_splits=10, n_repeats=3, random_state=1)\n",
    "scores = cross_val_score(pipeline, X_fs, y, scoring='neg_mean_absolute_error', cv=cv, n_jobs=-1)\n",
    "# convert scores to positive\n",
    "scores = absolute(scores)\n",
    "# summarize the result\n",
    "s_mean = mean(scores)\n",
    "print('Mean MAE: %.3f' % (s_mean))"
   ]
  },
  {
   "cell_type": "markdown",
   "id": "133f4701-2739-4e70-8041-c358c99551f8",
   "metadata": {},
   "source": [
    "Vemos que el modelo empeora enormemente si pierde variables, probemos con un k un poco más alto:"
   ]
  },
  {
   "cell_type": "code",
   "execution_count": 42,
   "id": "ea9b735e-0579-42f4-8dae-4128e3b2fa7c",
   "metadata": {},
   "outputs": [
    {
     "name": "stdout",
     "output_type": "stream",
     "text": [
      "Mean MAE: 2.198\n"
     ]
    }
   ],
   "source": [
    "from numpy import mean\n",
    "from numpy import absolute\n",
    "from sklearn.preprocessing import MinMaxScaler\n",
    "from sklearn.ensemble import RandomForestRegressor\n",
    "from sklearn.model_selection import cross_val_score\n",
    "from sklearn.model_selection import RepeatedKFold\n",
    "from sklearn.preprocessing import PowerTransformer\n",
    "from sklearn.pipeline import Pipeline\n",
    "\n",
    "def select_features(X, y):\n",
    "    fs = SelectKBest(score_func=f_classif, k=12)\n",
    "    fs.fit(X, y)\n",
    "    X_fs = fs.transform(X)\n",
    "    return X_fs, fs\n",
    "\n",
    "X_fs, fs = select_features(X, y)\n",
    "\n",
    "regr = RandomForestRegressor(random_state=0)\n",
    "scaler = MinMaxScaler()\n",
    "power = PowerTransformer()\n",
    "\n",
    "pipeline = Pipeline([(\"trans\",scaler),('power', power),(\"model\",regr)])\n",
    "\n",
    "cv = RepeatedKFold(n_splits=10, n_repeats=3, random_state=1)\n",
    "scores = cross_val_score(pipeline, X_fs, y, scoring='neg_mean_absolute_error', cv=cv, n_jobs=-1)\n",
    "# convert scores to positive\n",
    "scores = absolute(scores)\n",
    "# summarize the result\n",
    "s_mean = mean(scores)\n",
    "print('Mean MAE: %.3f' % (s_mean))"
   ]
  },
  {
   "cell_type": "markdown",
   "id": "7e4375ba-c653-4ec0-b67f-2e1aeff68a45",
   "metadata": {},
   "source": [
    "Vemos que quitando 1 solo el modelo se queda igual, pero hemos de pensar que ahora hemos eliminado una característica que aportaba complejidad al modelo."
   ]
  },
  {
   "cell_type": "markdown",
   "id": "c97f5e30-6d2d-4fca-8f49-0b4e44a6caa6",
   "metadata": {},
   "source": [
    "Vamos a cambiar el score_function:"
   ]
  },
  {
   "cell_type": "code",
   "execution_count": 49,
   "id": "5f298d95-8b4b-4e6f-b181-88645fdae0ec",
   "metadata": {},
   "outputs": [
    {
     "name": "stdout",
     "output_type": "stream",
     "text": [
      "Mean MAE: 2.334\n"
     ]
    }
   ],
   "source": [
    "from numpy import mean\n",
    "from numpy import absolute\n",
    "from sklearn.preprocessing import MinMaxScaler\n",
    "from sklearn.ensemble import RandomForestRegressor\n",
    "from sklearn.model_selection import cross_val_score\n",
    "from sklearn.model_selection import RepeatedKFold\n",
    "from sklearn.preprocessing import PowerTransformer\n",
    "from sklearn.feature_selection import SelectKBest\n",
    "from sklearn.feature_selection import f_regression\n",
    "from sklearn.pipeline import Pipeline\n",
    "\n",
    "def select_features(X, y):\n",
    "    fs = SelectKBest(score_func=f_regression, k=8)\n",
    "    fs.fit(X, y)\n",
    "    X_fs = fs.transform(X)\n",
    "    return X_fs, fs\n",
    "\n",
    "X_fs, fs = select_features(X, y)\n",
    "\n",
    "regr = RandomForestRegressor(random_state=0)\n",
    "scaler = MinMaxScaler()\n",
    "power = PowerTransformer()\n",
    "\n",
    "pipeline = Pipeline([(\"trans\",scaler),('power', power),(\"model\",regr)])\n",
    "\n",
    "cv = RepeatedKFold(n_splits=10, n_repeats=3, random_state=1)\n",
    "scores = cross_val_score(pipeline, X_fs, y, scoring='neg_mean_absolute_error', cv=cv, n_jobs=-1)\n",
    "# convert scores to positive\n",
    "scores = absolute(scores)\n",
    "# summarize the result\n",
    "s_mean = mean(scores)\n",
    "print('Mean MAE: %.3f' % (s_mean))"
   ]
  },
  {
   "cell_type": "code",
   "execution_count": 50,
   "id": "6e4083a0-d052-4100-9e9c-a5644538c60b",
   "metadata": {},
   "outputs": [
    {
     "name": "stdout",
     "output_type": "stream",
     "text": [
      "Mean MAE: 2.198\n"
     ]
    }
   ],
   "source": [
    "from numpy import mean\n",
    "from numpy import absolute\n",
    "from sklearn.preprocessing import MinMaxScaler\n",
    "from sklearn.ensemble import RandomForestRegressor\n",
    "from sklearn.model_selection import cross_val_score\n",
    "from sklearn.model_selection import RepeatedKFold\n",
    "from sklearn.preprocessing import PowerTransformer\n",
    "from sklearn.feature_selection import SelectKBest\n",
    "from sklearn.feature_selection import f_regression\n",
    "from sklearn.pipeline import Pipeline\n",
    "\n",
    "def select_features(X, y):\n",
    "    fs = SelectKBest(score_func=f_regression, k=12)\n",
    "    fs.fit(X, y)\n",
    "    X_fs = fs.transform(X)\n",
    "    return X_fs, fs\n",
    "\n",
    "X_fs, fs = select_features(X, y)\n",
    "\n",
    "regr = RandomForestRegressor(random_state=0)\n",
    "scaler = MinMaxScaler()\n",
    "power = PowerTransformer()\n",
    "\n",
    "pipeline = Pipeline([(\"trans\",scaler),('power', power),(\"model\",regr)])\n",
    "\n",
    "cv = RepeatedKFold(n_splits=10, n_repeats=3, random_state=1)\n",
    "scores = cross_val_score(pipeline, X_fs, y, scoring='neg_mean_absolute_error', cv=cv, n_jobs=-1)\n",
    "# convert scores to positive\n",
    "scores = absolute(scores)\n",
    "# summarize the result\n",
    "s_mean = mean(scores)\n",
    "print('Mean MAE: %.3f' % (s_mean))"
   ]
  },
  {
   "cell_type": "markdown",
   "id": "18ffeaef-d9c7-43ac-bf78-bbaecb620073",
   "metadata": {},
   "source": [
    "Vemos que el resultado es identico al score_function anterior."
   ]
  },
  {
   "cell_type": "code",
   "execution_count": 69,
   "id": "b7cb787d-0fda-42a5-a9c4-d18d73b43508",
   "metadata": {},
   "outputs": [
    {
     "name": "stdout",
     "output_type": "stream",
     "text": [
      "Mean MAE: 2.711\n",
      "Mean MAE: 2.474\n",
      "Mean MAE: 2.711\n",
      "Mean MAE: 2.711\n",
      "Mean MAE: 2.711\n",
      "Mean MAE: 2.711\n",
      "Mean MAE: 2.711\n",
      "Mean MAE: 2.474\n",
      "Mean MAE: 2.711\n",
      "Mean MAE: 2.711\n",
      "Mean MAE: 2.711\n",
      "Mean MAE: 2.711\n",
      "Mean MAE: 2.711\n",
      "Mean MAE: 2.850\n",
      "Mean MAE: 2.711\n",
      "Mean MAE: 2.711\n",
      "Mean MAE: 2.474\n",
      "Mean MAE: 2.711\n",
      "Mean MAE: 2.711\n",
      "Mean MAE: 2.711\n"
     ]
    }
   ],
   "source": [
    "from numpy import mean\n",
    "from numpy import absolute\n",
    "from sklearn.preprocessing import MinMaxScaler\n",
    "from sklearn.ensemble import RandomForestRegressor\n",
    "from sklearn.model_selection import cross_val_score\n",
    "from sklearn.model_selection import RepeatedKFold\n",
    "from sklearn.preprocessing import PowerTransformer\n",
    "from sklearn.feature_selection import SelectKBest\n",
    "from sklearn.feature_selection import mutual_info_regression\n",
    "from sklearn.pipeline import Pipeline\n",
    "\n",
    "for i in range(20):\n",
    "    def select_features(X, y):\n",
    "        fs = SelectKBest(score_func=mutual_info_regression, k=3)\n",
    "        fs.fit(X, y)\n",
    "        X_fs = fs.transform(X)\n",
    "        return X_fs, fs\n",
    "\n",
    "    X_fs, fs = select_features(X, y)\n",
    "\n",
    "    regr = RandomForestRegressor(random_state=0)\n",
    "    scaler = MinMaxScaler()\n",
    "    power = PowerTransformer()\n",
    "\n",
    "    pipeline = Pipeline([(\"trans\",scaler),('power', power),(\"model\",regr)])\n",
    "\n",
    "    cv = RepeatedKFold(n_splits=10, n_repeats=3, random_state=1)\n",
    "    scores = cross_val_score(pipeline, X_fs, y, scoring='neg_mean_absolute_error', cv=cv, n_jobs=-1)\n",
    "    # convert scores to positive\n",
    "    scores = absolute(scores)\n",
    "    # summarize the result\n",
    "    s_mean = mean(scores)\n",
    "    print('Mean MAE: %.3f' % (s_mean))"
   ]
  },
  {
   "cell_type": "markdown",
   "id": "cae3c641-92c0-4a08-9b57-24d4e2414405",
   "metadata": {},
   "source": [
    "Creo que es importante resaltar esto, si ejecuto reiteradas veces vemos que hay veces donde con solo 3 columnas conseguimos un score de 2.474, que comparado con nuestro inicial de 2.202 es un cambio no mucho peor. Eso significa que hay veces que decide no eliminar una columna que aporta mucha información, entiendo que será la primera o la última como comentabamos antes. Pero lo más interesante es que estamos pasando de un problema en dimensión 13 a uno en tres dimensiones, siendo posible mostrarlo y visualizarlo facilmente."
   ]
  },
  {
   "cell_type": "markdown",
   "id": "996db6ae-15f5-4063-ab1c-0a45ad38a789",
   "metadata": {},
   "source": [
    "Este último mutual_info_regression sería el mejor a utilizar en nuestro caso, porque recordemos que tenemos un problema de regresión y esta estrategia es la que más se ajusta en nuestro caso."
   ]
  },
  {
   "cell_type": "markdown",
   "id": "657d1f48-53c0-4fb7-a86e-8fb42a023252",
   "metadata": {},
   "source": [
    "Así que como resumen y escribiendo el bloque de código final tendríamos:"
   ]
  },
  {
   "cell_type": "code",
   "execution_count": 70,
   "id": "d583504a-ddea-4972-8223-e7fc67599c37",
   "metadata": {},
   "outputs": [
    {
     "name": "stdout",
     "output_type": "stream",
     "text": [
      "Mean MAE: 2.198\n"
     ]
    }
   ],
   "source": [
    "from numpy import mean\n",
    "from numpy import absolute\n",
    "from sklearn.preprocessing import MinMaxScaler\n",
    "from sklearn.ensemble import RandomForestRegressor\n",
    "from sklearn.model_selection import cross_val_score\n",
    "from sklearn.model_selection import RepeatedKFold\n",
    "from sklearn.preprocessing import PowerTransformer\n",
    "from sklearn.feature_selection import SelectKBest\n",
    "from sklearn.feature_selection import f_regression\n",
    "from sklearn.pipeline import Pipeline\n",
    "from pandas import read_csv\n",
    "\n",
    "dataframe = read_csv('housing.csv', header=None)\n",
    "last_ix = len(dataframe.columns) - 1\n",
    "X, y = dataframe.drop(last_ix, axis=1), dataframe[last_ix]\n",
    "\n",
    "def select_features(X, y):\n",
    "    fs = SelectKBest(score_func=f_regression, k=12)\n",
    "    fs.fit(X, y)\n",
    "    X_fs = fs.transform(X)\n",
    "    return X_fs, fs\n",
    "\n",
    "X_fs, fs = select_features(X, y)\n",
    "\n",
    "regr = RandomForestRegressor(random_state=0)\n",
    "scaler = MinMaxScaler()\n",
    "power = PowerTransformer()\n",
    "\n",
    "pipeline = Pipeline([(\"trans\",scaler),('power', power),(\"model\",regr)])\n",
    "\n",
    "cv = RepeatedKFold(n_splits=10, n_repeats=3, random_state=1)\n",
    "scores = cross_val_score(pipeline, X_fs, y, scoring='neg_mean_absolute_error', cv=cv, n_jobs=-1)\n",
    "# convert scores to positive\n",
    "scores = absolute(scores)\n",
    "# summarize the result\n",
    "s_mean = mean(scores)\n",
    "print('Mean MAE: %.3f' % (s_mean))"
   ]
  }
 ],
 "metadata": {
  "kernelspec": {
   "display_name": "Python 3 (ipykernel)",
   "language": "python",
   "name": "python3"
  },
  "language_info": {
   "codemirror_mode": {
    "name": "ipython",
    "version": 3
   },
   "file_extension": ".py",
   "mimetype": "text/x-python",
   "name": "python",
   "nbconvert_exporter": "python",
   "pygments_lexer": "ipython3",
   "version": "3.9.13"
  }
 },
 "nbformat": 4,
 "nbformat_minor": 5
}
