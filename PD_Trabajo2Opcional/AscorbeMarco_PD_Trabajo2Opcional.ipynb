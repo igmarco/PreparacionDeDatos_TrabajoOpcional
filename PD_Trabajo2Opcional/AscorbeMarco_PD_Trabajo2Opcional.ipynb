{
 "cells": [
  {
   "cell_type": "markdown",
   "id": "d21f4faf-17db-4fff-b997-bbe979bd0691",
   "metadata": {
    "tags": []
   },
   "source": [
    "# Trabajo 2 Opcional"
   ]
  },
  {
   "cell_type": "markdown",
   "id": "62c27cde-bbac-4c5b-b9d1-19aa70b0957e",
   "metadata": {},
   "source": [
    " - Máster en Ciencia de Datos y Aprendizaje Automático.\n",
    " - Asignatura: Preparación de Datos.\n",
    " - Trabajo realizado por: Pablo Ascorbe e Ignacio Marco.\n",
    " - Fecha: --/01/2023."
   ]
  },
  {
   "cell_type": "markdown",
   "id": "1deb83e0-2a88-4a13-8a33-8b4bdcaae5dd",
   "metadata": {},
   "source": [
    "## 1. Lectura y análisis del dataset"
   ]
  },
  {
   "cell_type": "markdown",
   "id": "f68bdb0c-32b7-4dac-9ff7-a7ba0cc2ec55",
   "metadata": {},
   "source": [
    "En este primer apartado importaremos los datos y haremos un estudio inicial de éstos.\n",
    "Los datos se han conseguido en: https://zenodo.org/record/4265096#.Y7vcdBXMLct\n",
    "<br><br>\n",
    "Es un dataset que cuenta con 52.478 libros y 24 características, y cuyos datos están sacados de la lista de los mejores libros de GoodReads."
   ]
  },
  {
   "cell_type": "markdown",
   "id": "b2db2641-5f32-491c-8aa0-5a171cdeaba6",
   "metadata": {},
   "source": [
    "### 1.1. Importación de datos"
   ]
  },
  {
   "cell_type": "code",
   "execution_count": 979,
   "id": "8f463db3-f6b0-43d4-a890-e874ec6ff9fa",
   "metadata": {},
   "outputs": [
    {
     "name": "stdout",
     "output_type": "stream",
     "text": [
      "(52478, 25)\n"
     ]
    }
   ],
   "source": [
    "import pandas as pd\n",
    "import numpy as np\n",
    "\n",
    "df = pd.read_csv('libros.csv', header=0, dtype=object)\n",
    "print(df.shape)"
   ]
  },
  {
   "cell_type": "code",
   "execution_count": 980,
   "id": "9229849c-8da7-40ff-959a-d8281af60e52",
   "metadata": {},
   "outputs": [
    {
     "name": "stdout",
     "output_type": "stream",
     "text": [
      "<class 'pandas.core.frame.DataFrame'>\n",
      "RangeIndex: 52478 entries, 0 to 52477\n",
      "Data columns (total 25 columns):\n",
      " #   Column            Non-Null Count  Dtype \n",
      "---  ------            --------------  ----- \n",
      " 0   bookId            52478 non-null  object\n",
      " 1   title             52478 non-null  object\n",
      " 2   series            23470 non-null  object\n",
      " 3   author            52478 non-null  object\n",
      " 4   rating            52478 non-null  object\n",
      " 5   description       51140 non-null  object\n",
      " 6   language          48672 non-null  object\n",
      " 7   isbn              52478 non-null  object\n",
      " 8   genres            52478 non-null  object\n",
      " 9   characters        52478 non-null  object\n",
      " 10  bookFormat        51005 non-null  object\n",
      " 11  edition           4955 non-null   object\n",
      " 12  pages             50131 non-null  object\n",
      " 13  publisher         48782 non-null  object\n",
      " 14  publishDate       51598 non-null  object\n",
      " 15  firstPublishDate  31152 non-null  object\n",
      " 16  awards            52478 non-null  object\n",
      " 17  numRatings        52478 non-null  object\n",
      " 18  ratingsByStars    52478 non-null  object\n",
      " 19  likedPercent      51856 non-null  object\n",
      " 20  setting           52478 non-null  object\n",
      " 21  coverImg          51873 non-null  object\n",
      " 22  bbeScore          52478 non-null  object\n",
      " 23  bbeVotes          52478 non-null  object\n",
      " 24  price             38113 non-null  object\n",
      "dtypes: object(25)\n",
      "memory usage: 10.0+ MB\n"
     ]
    }
   ],
   "source": [
    "df.info()"
   ]
  },
  {
   "cell_type": "markdown",
   "id": "3e8ac814-a011-436c-8af7-e2c12a3ff305",
   "metadata": {},
   "source": [
    "Vemos que tenemos demasiadas instancias y que podría estar bien reducir un poco para simplificar, pero de momento vamos a seguir con todos."
   ]
  },
  {
   "cell_type": "code",
   "execution_count": 981,
   "id": "fb57791d-2d3a-4e3d-b998-bb68df89d236",
   "metadata": {},
   "outputs": [
    {
     "data": {
      "text/html": [
       "<div>\n",
       "<style scoped>\n",
       "    .dataframe tbody tr th:only-of-type {\n",
       "        vertical-align: middle;\n",
       "    }\n",
       "\n",
       "    .dataframe tbody tr th {\n",
       "        vertical-align: top;\n",
       "    }\n",
       "\n",
       "    .dataframe thead th {\n",
       "        text-align: right;\n",
       "    }\n",
       "</style>\n",
       "<table border=\"1\" class=\"dataframe\">\n",
       "  <thead>\n",
       "    <tr style=\"text-align: right;\">\n",
       "      <th></th>\n",
       "      <th>bookId</th>\n",
       "      <th>title</th>\n",
       "      <th>series</th>\n",
       "      <th>author</th>\n",
       "      <th>rating</th>\n",
       "      <th>description</th>\n",
       "      <th>language</th>\n",
       "      <th>isbn</th>\n",
       "      <th>genres</th>\n",
       "      <th>characters</th>\n",
       "      <th>...</th>\n",
       "      <th>firstPublishDate</th>\n",
       "      <th>awards</th>\n",
       "      <th>numRatings</th>\n",
       "      <th>ratingsByStars</th>\n",
       "      <th>likedPercent</th>\n",
       "      <th>setting</th>\n",
       "      <th>coverImg</th>\n",
       "      <th>bbeScore</th>\n",
       "      <th>bbeVotes</th>\n",
       "      <th>price</th>\n",
       "    </tr>\n",
       "  </thead>\n",
       "  <tbody>\n",
       "    <tr>\n",
       "      <th>0</th>\n",
       "      <td>2767052-the-hunger-games</td>\n",
       "      <td>The Hunger Games</td>\n",
       "      <td>The Hunger Games #1</td>\n",
       "      <td>Suzanne Collins</td>\n",
       "      <td>4.33</td>\n",
       "      <td>WINNING MEANS FAME AND FORTUNE.LOSING MEANS CE...</td>\n",
       "      <td>English</td>\n",
       "      <td>9780439023481</td>\n",
       "      <td>['Young Adult', 'Fiction', 'Dystopia', 'Fantas...</td>\n",
       "      <td>['Katniss Everdeen', 'Peeta Mellark', 'Cato (H...</td>\n",
       "      <td>...</td>\n",
       "      <td>NaN</td>\n",
       "      <td>['Locus Award Nominee for Best Young Adult Boo...</td>\n",
       "      <td>6376780</td>\n",
       "      <td>['3444695', '1921313', '745221', '171994', '93...</td>\n",
       "      <td>96</td>\n",
       "      <td>['District 12, Panem', 'Capitol, Panem', 'Pane...</td>\n",
       "      <td>https://i.gr-assets.com/images/S/compressed.ph...</td>\n",
       "      <td>2993816</td>\n",
       "      <td>30516</td>\n",
       "      <td>5.09</td>\n",
       "    </tr>\n",
       "    <tr>\n",
       "      <th>1</th>\n",
       "      <td>2.Harry_Potter_and_the_Order_of_the_Phoenix</td>\n",
       "      <td>Harry Potter and the Order of the Phoenix</td>\n",
       "      <td>Harry Potter #5</td>\n",
       "      <td>J.K. Rowling, Mary GrandPré (Illustrator)</td>\n",
       "      <td>4.50</td>\n",
       "      <td>There is a door at the end of a silent corrido...</td>\n",
       "      <td>English</td>\n",
       "      <td>9780439358071</td>\n",
       "      <td>['Fantasy', 'Young Adult', 'Fiction', 'Magic',...</td>\n",
       "      <td>['Sirius Black', 'Draco Malfoy', 'Ron Weasley'...</td>\n",
       "      <td>...</td>\n",
       "      <td>06/21/03</td>\n",
       "      <td>['Bram Stoker Award for Works for Young Reader...</td>\n",
       "      <td>2507623</td>\n",
       "      <td>['1593642', '637516', '222366', '39573', '14526']</td>\n",
       "      <td>98</td>\n",
       "      <td>['Hogwarts School of Witchcraft and Wizardry (...</td>\n",
       "      <td>https://i.gr-assets.com/images/S/compressed.ph...</td>\n",
       "      <td>2632233</td>\n",
       "      <td>26923</td>\n",
       "      <td>7.38</td>\n",
       "    </tr>\n",
       "    <tr>\n",
       "      <th>2</th>\n",
       "      <td>2657.To_Kill_a_Mockingbird</td>\n",
       "      <td>To Kill a Mockingbird</td>\n",
       "      <td>To Kill a Mockingbird</td>\n",
       "      <td>Harper Lee</td>\n",
       "      <td>4.28</td>\n",
       "      <td>The unforgettable novel of a childhood in a sl...</td>\n",
       "      <td>English</td>\n",
       "      <td>9999999999999</td>\n",
       "      <td>['Classics', 'Fiction', 'Historical Fiction', ...</td>\n",
       "      <td>['Scout Finch', 'Atticus Finch', 'Jem Finch', ...</td>\n",
       "      <td>...</td>\n",
       "      <td>07/11/60</td>\n",
       "      <td>['Pulitzer Prize for Fiction (1961)', 'Audie A...</td>\n",
       "      <td>4501075</td>\n",
       "      <td>['2363896', '1333153', '573280', '149952', '80...</td>\n",
       "      <td>95</td>\n",
       "      <td>['Maycomb, Alabama (United States)']</td>\n",
       "      <td>https://i.gr-assets.com/images/S/compressed.ph...</td>\n",
       "      <td>2269402</td>\n",
       "      <td>23328</td>\n",
       "      <td>NaN</td>\n",
       "    </tr>\n",
       "    <tr>\n",
       "      <th>3</th>\n",
       "      <td>1885.Pride_and_Prejudice</td>\n",
       "      <td>Pride and Prejudice</td>\n",
       "      <td>NaN</td>\n",
       "      <td>Jane Austen, Anna Quindlen (Introduction)</td>\n",
       "      <td>4.26</td>\n",
       "      <td>Alternate cover edition of ISBN 9780679783268S...</td>\n",
       "      <td>English</td>\n",
       "      <td>9999999999999</td>\n",
       "      <td>['Classics', 'Fiction', 'Romance', 'Historical...</td>\n",
       "      <td>['Mr. Bennet', 'Mrs. Bennet', 'Jane Bennet', '...</td>\n",
       "      <td>...</td>\n",
       "      <td>01/28/13</td>\n",
       "      <td>[]</td>\n",
       "      <td>2998241</td>\n",
       "      <td>['1617567', '816659', '373311', '113934', '767...</td>\n",
       "      <td>94</td>\n",
       "      <td>['United Kingdom', 'Derbyshire, England (Unite...</td>\n",
       "      <td>https://i.gr-assets.com/images/S/compressed.ph...</td>\n",
       "      <td>1983116</td>\n",
       "      <td>20452</td>\n",
       "      <td>NaN</td>\n",
       "    </tr>\n",
       "    <tr>\n",
       "      <th>4</th>\n",
       "      <td>41865.Twilight</td>\n",
       "      <td>Twilight</td>\n",
       "      <td>The Twilight Saga #1</td>\n",
       "      <td>Stephenie Meyer</td>\n",
       "      <td>3.60</td>\n",
       "      <td>About three things I was absolutely positive.\\...</td>\n",
       "      <td>English</td>\n",
       "      <td>9780316015844</td>\n",
       "      <td>['Young Adult', 'Fantasy', 'Romance', 'Vampire...</td>\n",
       "      <td>['Edward Cullen', 'Jacob Black', 'Laurent', 'R...</td>\n",
       "      <td>...</td>\n",
       "      <td>10/05/05</td>\n",
       "      <td>['Georgia Peach Book Award (2007)', 'Buxtehude...</td>\n",
       "      <td>4964519</td>\n",
       "      <td>['1751460', '1113682', '1008686', '542017', '5...</td>\n",
       "      <td>78</td>\n",
       "      <td>['Forks, Washington (United States)', 'Phoenix...</td>\n",
       "      <td>https://i.gr-assets.com/images/S/compressed.ph...</td>\n",
       "      <td>1459448</td>\n",
       "      <td>14874</td>\n",
       "      <td>2.1</td>\n",
       "    </tr>\n",
       "  </tbody>\n",
       "</table>\n",
       "<p>5 rows × 25 columns</p>\n",
       "</div>"
      ],
      "text/plain": [
       "                                        bookId  \\\n",
       "0                     2767052-the-hunger-games   \n",
       "1  2.Harry_Potter_and_the_Order_of_the_Phoenix   \n",
       "2                   2657.To_Kill_a_Mockingbird   \n",
       "3                     1885.Pride_and_Prejudice   \n",
       "4                               41865.Twilight   \n",
       "\n",
       "                                       title                 series  \\\n",
       "0                           The Hunger Games    The Hunger Games #1   \n",
       "1  Harry Potter and the Order of the Phoenix        Harry Potter #5   \n",
       "2                      To Kill a Mockingbird  To Kill a Mockingbird   \n",
       "3                        Pride and Prejudice                    NaN   \n",
       "4                                   Twilight   The Twilight Saga #1   \n",
       "\n",
       "                                      author rating  \\\n",
       "0                            Suzanne Collins   4.33   \n",
       "1  J.K. Rowling, Mary GrandPré (Illustrator)   4.50   \n",
       "2                                 Harper Lee   4.28   \n",
       "3  Jane Austen, Anna Quindlen (Introduction)   4.26   \n",
       "4                            Stephenie Meyer   3.60   \n",
       "\n",
       "                                         description language           isbn  \\\n",
       "0  WINNING MEANS FAME AND FORTUNE.LOSING MEANS CE...  English  9780439023481   \n",
       "1  There is a door at the end of a silent corrido...  English  9780439358071   \n",
       "2  The unforgettable novel of a childhood in a sl...  English  9999999999999   \n",
       "3  Alternate cover edition of ISBN 9780679783268S...  English  9999999999999   \n",
       "4  About three things I was absolutely positive.\\...  English  9780316015844   \n",
       "\n",
       "                                              genres  \\\n",
       "0  ['Young Adult', 'Fiction', 'Dystopia', 'Fantas...   \n",
       "1  ['Fantasy', 'Young Adult', 'Fiction', 'Magic',...   \n",
       "2  ['Classics', 'Fiction', 'Historical Fiction', ...   \n",
       "3  ['Classics', 'Fiction', 'Romance', 'Historical...   \n",
       "4  ['Young Adult', 'Fantasy', 'Romance', 'Vampire...   \n",
       "\n",
       "                                          characters  ... firstPublishDate  \\\n",
       "0  ['Katniss Everdeen', 'Peeta Mellark', 'Cato (H...  ...              NaN   \n",
       "1  ['Sirius Black', 'Draco Malfoy', 'Ron Weasley'...  ...         06/21/03   \n",
       "2  ['Scout Finch', 'Atticus Finch', 'Jem Finch', ...  ...         07/11/60   \n",
       "3  ['Mr. Bennet', 'Mrs. Bennet', 'Jane Bennet', '...  ...         01/28/13   \n",
       "4  ['Edward Cullen', 'Jacob Black', 'Laurent', 'R...  ...         10/05/05   \n",
       "\n",
       "                                              awards numRatings  \\\n",
       "0  ['Locus Award Nominee for Best Young Adult Boo...    6376780   \n",
       "1  ['Bram Stoker Award for Works for Young Reader...    2507623   \n",
       "2  ['Pulitzer Prize for Fiction (1961)', 'Audie A...    4501075   \n",
       "3                                                 []    2998241   \n",
       "4  ['Georgia Peach Book Award (2007)', 'Buxtehude...    4964519   \n",
       "\n",
       "                                      ratingsByStars likedPercent  \\\n",
       "0  ['3444695', '1921313', '745221', '171994', '93...           96   \n",
       "1  ['1593642', '637516', '222366', '39573', '14526']           98   \n",
       "2  ['2363896', '1333153', '573280', '149952', '80...           95   \n",
       "3  ['1617567', '816659', '373311', '113934', '767...           94   \n",
       "4  ['1751460', '1113682', '1008686', '542017', '5...           78   \n",
       "\n",
       "                                             setting  \\\n",
       "0  ['District 12, Panem', 'Capitol, Panem', 'Pane...   \n",
       "1  ['Hogwarts School of Witchcraft and Wizardry (...   \n",
       "2               ['Maycomb, Alabama (United States)']   \n",
       "3  ['United Kingdom', 'Derbyshire, England (Unite...   \n",
       "4  ['Forks, Washington (United States)', 'Phoenix...   \n",
       "\n",
       "                                            coverImg bbeScore bbeVotes price  \n",
       "0  https://i.gr-assets.com/images/S/compressed.ph...  2993816    30516  5.09  \n",
       "1  https://i.gr-assets.com/images/S/compressed.ph...  2632233    26923  7.38  \n",
       "2  https://i.gr-assets.com/images/S/compressed.ph...  2269402    23328   NaN  \n",
       "3  https://i.gr-assets.com/images/S/compressed.ph...  1983116    20452   NaN  \n",
       "4  https://i.gr-assets.com/images/S/compressed.ph...  1459448    14874   2.1  \n",
       "\n",
       "[5 rows x 25 columns]"
      ]
     },
     "execution_count": 981,
     "metadata": {},
     "output_type": "execute_result"
    }
   ],
   "source": [
    "df.head()"
   ]
  },
  {
   "cell_type": "code",
   "execution_count": 982,
   "id": "f065a7b4-0a46-4482-b8c4-a8ad97efd8e4",
   "metadata": {},
   "outputs": [
    {
     "data": {
      "text/html": [
       "<div>\n",
       "<style scoped>\n",
       "    .dataframe tbody tr th:only-of-type {\n",
       "        vertical-align: middle;\n",
       "    }\n",
       "\n",
       "    .dataframe tbody tr th {\n",
       "        vertical-align: top;\n",
       "    }\n",
       "\n",
       "    .dataframe thead th {\n",
       "        text-align: right;\n",
       "    }\n",
       "</style>\n",
       "<table border=\"1\" class=\"dataframe\">\n",
       "  <thead>\n",
       "    <tr style=\"text-align: right;\">\n",
       "      <th></th>\n",
       "      <th>bookId</th>\n",
       "      <th>title</th>\n",
       "      <th>series</th>\n",
       "      <th>author</th>\n",
       "      <th>rating</th>\n",
       "      <th>description</th>\n",
       "      <th>language</th>\n",
       "      <th>isbn</th>\n",
       "      <th>genres</th>\n",
       "      <th>characters</th>\n",
       "      <th>...</th>\n",
       "      <th>firstPublishDate</th>\n",
       "      <th>awards</th>\n",
       "      <th>numRatings</th>\n",
       "      <th>ratingsByStars</th>\n",
       "      <th>likedPercent</th>\n",
       "      <th>setting</th>\n",
       "      <th>coverImg</th>\n",
       "      <th>bbeScore</th>\n",
       "      <th>bbeVotes</th>\n",
       "      <th>price</th>\n",
       "    </tr>\n",
       "  </thead>\n",
       "  <tbody>\n",
       "    <tr>\n",
       "      <th>52473</th>\n",
       "      <td>11492014-fractured</td>\n",
       "      <td>Fractured</td>\n",
       "      <td>Fateful #2</td>\n",
       "      <td>Cheri Schmidt (Goodreads Author)</td>\n",
       "      <td>4.00</td>\n",
       "      <td>The Fateful Trilogy continues with Fractured. ...</td>\n",
       "      <td>English</td>\n",
       "      <td>2940012616562</td>\n",
       "      <td>['Vampires', 'Paranormal', 'Young Adult', 'Rom...</td>\n",
       "      <td>[]</td>\n",
       "      <td>...</td>\n",
       "      <td>NaN</td>\n",
       "      <td>[]</td>\n",
       "      <td>871</td>\n",
       "      <td>['311', '310', '197', '42', '11']</td>\n",
       "      <td>94</td>\n",
       "      <td>[]</td>\n",
       "      <td>https://i.gr-assets.com/images/S/compressed.ph...</td>\n",
       "      <td>0</td>\n",
       "      <td>1</td>\n",
       "      <td>NaN</td>\n",
       "    </tr>\n",
       "    <tr>\n",
       "      <th>52474</th>\n",
       "      <td>11836711-anasazi</td>\n",
       "      <td>Anasazi</td>\n",
       "      <td>Sense of Truth #2</td>\n",
       "      <td>Emma Michaels</td>\n",
       "      <td>4.19</td>\n",
       "      <td>'Anasazi', sequel to 'The Thirteenth Chime' by...</td>\n",
       "      <td>English</td>\n",
       "      <td>9999999999999</td>\n",
       "      <td>['Mystery', 'Young Adult']</td>\n",
       "      <td>[]</td>\n",
       "      <td>...</td>\n",
       "      <td>August 3rd 2011</td>\n",
       "      <td>[]</td>\n",
       "      <td>37</td>\n",
       "      <td>['16', '14', '5', '2', '0']</td>\n",
       "      <td>95</td>\n",
       "      <td>[]</td>\n",
       "      <td>https://i.gr-assets.com/images/S/compressed.ph...</td>\n",
       "      <td>0</td>\n",
       "      <td>1</td>\n",
       "      <td>NaN</td>\n",
       "    </tr>\n",
       "    <tr>\n",
       "      <th>52475</th>\n",
       "      <td>10815662-marked</td>\n",
       "      <td>Marked</td>\n",
       "      <td>Soul Guardians #1</td>\n",
       "      <td>Kim Richardson (Goodreads Author)</td>\n",
       "      <td>3.70</td>\n",
       "      <td>--READERS FAVORITE AWARDS WINNER 2011--Sixteen...</td>\n",
       "      <td>English</td>\n",
       "      <td>9781461017097</td>\n",
       "      <td>['Fantasy', 'Young Adult', 'Paranormal', 'Ange...</td>\n",
       "      <td>[]</td>\n",
       "      <td>...</td>\n",
       "      <td>March 15th 2011</td>\n",
       "      <td>[\"Readers' Favorite Book Award (2011)\"]</td>\n",
       "      <td>6674</td>\n",
       "      <td>['2109', '1868', '1660', '647', '390']</td>\n",
       "      <td>84</td>\n",
       "      <td>[]</td>\n",
       "      <td>https://i.gr-assets.com/images/S/compressed.ph...</td>\n",
       "      <td>0</td>\n",
       "      <td>1</td>\n",
       "      <td>7.37</td>\n",
       "    </tr>\n",
       "    <tr>\n",
       "      <th>52476</th>\n",
       "      <td>11330278-wayward-son</td>\n",
       "      <td>Wayward Son</td>\n",
       "      <td>NaN</td>\n",
       "      <td>Tom Pollack (Goodreads Author), John Loftus (G...</td>\n",
       "      <td>3.85</td>\n",
       "      <td>A POWERFUL TREMOR UNEARTHS AN ANCIENT SECRETBu...</td>\n",
       "      <td>English</td>\n",
       "      <td>9781450755634</td>\n",
       "      <td>['Fiction', 'Mystery', 'Historical Fiction', '...</td>\n",
       "      <td>[]</td>\n",
       "      <td>...</td>\n",
       "      <td>April 5th 2011</td>\n",
       "      <td>[]</td>\n",
       "      <td>238</td>\n",
       "      <td>['77', '78', '59', '19', '5']</td>\n",
       "      <td>90</td>\n",
       "      <td>[]</td>\n",
       "      <td>https://i.gr-assets.com/images/S/compressed.ph...</td>\n",
       "      <td>0</td>\n",
       "      <td>1</td>\n",
       "      <td>2.86</td>\n",
       "    </tr>\n",
       "    <tr>\n",
       "      <th>52477</th>\n",
       "      <td>10991547-daughter-of-helaman</td>\n",
       "      <td>Daughter of Helaman</td>\n",
       "      <td>Stripling Warrior #1</td>\n",
       "      <td>Misty Moncur (Goodreads Author)</td>\n",
       "      <td>4.02</td>\n",
       "      <td>Fighting in Helaman's army is Keturah's deepes...</td>\n",
       "      <td>English</td>\n",
       "      <td>9781599554976</td>\n",
       "      <td>['Lds Fiction', 'Historical Fiction', 'Young A...</td>\n",
       "      <td>[]</td>\n",
       "      <td>...</td>\n",
       "      <td>NaN</td>\n",
       "      <td>[]</td>\n",
       "      <td>246</td>\n",
       "      <td>['106', '73', '42', '17', '8']</td>\n",
       "      <td>90</td>\n",
       "      <td>[]</td>\n",
       "      <td>https://i.gr-assets.com/images/S/compressed.ph...</td>\n",
       "      <td>0</td>\n",
       "      <td>1</td>\n",
       "      <td>5.20</td>\n",
       "    </tr>\n",
       "  </tbody>\n",
       "</table>\n",
       "<p>5 rows × 25 columns</p>\n",
       "</div>"
      ],
      "text/plain": [
       "                             bookId                title  \\\n",
       "52473            11492014-fractured            Fractured   \n",
       "52474              11836711-anasazi              Anasazi   \n",
       "52475               10815662-marked               Marked   \n",
       "52476          11330278-wayward-son          Wayward Son   \n",
       "52477  10991547-daughter-of-helaman  Daughter of Helaman   \n",
       "\n",
       "                     series  \\\n",
       "52473            Fateful #2   \n",
       "52474     Sense of Truth #2   \n",
       "52475     Soul Guardians #1   \n",
       "52476                   NaN   \n",
       "52477  Stripling Warrior #1   \n",
       "\n",
       "                                                  author rating  \\\n",
       "52473                   Cheri Schmidt (Goodreads Author)   4.00   \n",
       "52474                                      Emma Michaels   4.19   \n",
       "52475                  Kim Richardson (Goodreads Author)   3.70   \n",
       "52476  Tom Pollack (Goodreads Author), John Loftus (G...   3.85   \n",
       "52477                    Misty Moncur (Goodreads Author)   4.02   \n",
       "\n",
       "                                             description language  \\\n",
       "52473  The Fateful Trilogy continues with Fractured. ...  English   \n",
       "52474  'Anasazi', sequel to 'The Thirteenth Chime' by...  English   \n",
       "52475  --READERS FAVORITE AWARDS WINNER 2011--Sixteen...  English   \n",
       "52476  A POWERFUL TREMOR UNEARTHS AN ANCIENT SECRETBu...  English   \n",
       "52477  Fighting in Helaman's army is Keturah's deepes...  English   \n",
       "\n",
       "                isbn                                             genres  \\\n",
       "52473  2940012616562  ['Vampires', 'Paranormal', 'Young Adult', 'Rom...   \n",
       "52474  9999999999999                         ['Mystery', 'Young Adult']   \n",
       "52475  9781461017097  ['Fantasy', 'Young Adult', 'Paranormal', 'Ange...   \n",
       "52476  9781450755634  ['Fiction', 'Mystery', 'Historical Fiction', '...   \n",
       "52477  9781599554976  ['Lds Fiction', 'Historical Fiction', 'Young A...   \n",
       "\n",
       "      characters  ... firstPublishDate  \\\n",
       "52473         []  ...              NaN   \n",
       "52474         []  ...  August 3rd 2011   \n",
       "52475         []  ...  March 15th 2011   \n",
       "52476         []  ...   April 5th 2011   \n",
       "52477         []  ...              NaN   \n",
       "\n",
       "                                        awards numRatings  \\\n",
       "52473                                       []        871   \n",
       "52474                                       []         37   \n",
       "52475  [\"Readers' Favorite Book Award (2011)\"]       6674   \n",
       "52476                                       []        238   \n",
       "52477                                       []        246   \n",
       "\n",
       "                               ratingsByStars likedPercent setting  \\\n",
       "52473       ['311', '310', '197', '42', '11']           94      []   \n",
       "52474             ['16', '14', '5', '2', '0']           95      []   \n",
       "52475  ['2109', '1868', '1660', '647', '390']           84      []   \n",
       "52476           ['77', '78', '59', '19', '5']           90      []   \n",
       "52477          ['106', '73', '42', '17', '8']           90      []   \n",
       "\n",
       "                                                coverImg bbeScore bbeVotes  \\\n",
       "52473  https://i.gr-assets.com/images/S/compressed.ph...        0        1   \n",
       "52474  https://i.gr-assets.com/images/S/compressed.ph...        0        1   \n",
       "52475  https://i.gr-assets.com/images/S/compressed.ph...        0        1   \n",
       "52476  https://i.gr-assets.com/images/S/compressed.ph...        0        1   \n",
       "52477  https://i.gr-assets.com/images/S/compressed.ph...        0        1   \n",
       "\n",
       "      price  \n",
       "52473   NaN  \n",
       "52474   NaN  \n",
       "52475  7.37  \n",
       "52476  2.86  \n",
       "52477  5.20  \n",
       "\n",
       "[5 rows x 25 columns]"
      ]
     },
     "execution_count": 982,
     "metadata": {},
     "output_type": "execute_result"
    }
   ],
   "source": [
    "df.tail()"
   ]
  },
  {
   "cell_type": "markdown",
   "id": "e6b9dbe5-baef-4a61-814d-7b7715feaa1f",
   "metadata": {},
   "source": [
    "Vemos que las últimas instancias del dataframe contienen un formato de fechas distintas a las primeras."
   ]
  },
  {
   "cell_type": "markdown",
   "id": "ffd4389a-4b40-4374-86b0-1fa6edbbed55",
   "metadata": {},
   "source": [
    "Ya con esta primera visualización de los datos vemos que tenemos nulos y que hay columnas que no nos van a interesar para nada, como la imagen de la portada o el ISBN."
   ]
  },
  {
   "cell_type": "markdown",
   "id": "a0af2e74-0761-4077-9cde-d8626e030d8b",
   "metadata": {},
   "source": [
    "Otra duda es, ¿qué variable será la explicada? ¿Cuál usaremos como objetivo? Esto es totalmente libre y puede variar según nuestros intereses; como parece interesante determinar la puntuación de cada libro para poder predecir qué tan valorado será un libro concreto, nos quedaremos con 'rating'. "
   ]
  },
  {
   "cell_type": "code",
   "execution_count": 983,
   "id": "5e01881c-d46a-44ed-94d9-642571296caa",
   "metadata": {},
   "outputs": [
    {
     "name": "stdout",
     "output_type": "stream",
     "text": [
      "(52478, 24) (52478,)\n"
     ]
    }
   ],
   "source": [
    "# Separamos explicativas de explicada\n",
    "\n",
    "X, y = df.drop('rating', axis=1), df.rating\n",
    "print(X.shape, y.shape)"
   ]
  },
  {
   "cell_type": "code",
   "execution_count": 984,
   "id": "f958bf74-db0a-47d5-a557-6376208ee2df",
   "metadata": {},
   "outputs": [
    {
     "data": {
      "text/html": [
       "<div>\n",
       "<style scoped>\n",
       "    .dataframe tbody tr th:only-of-type {\n",
       "        vertical-align: middle;\n",
       "    }\n",
       "\n",
       "    .dataframe tbody tr th {\n",
       "        vertical-align: top;\n",
       "    }\n",
       "\n",
       "    .dataframe thead th {\n",
       "        text-align: right;\n",
       "    }\n",
       "</style>\n",
       "<table border=\"1\" class=\"dataframe\">\n",
       "  <thead>\n",
       "    <tr style=\"text-align: right;\">\n",
       "      <th></th>\n",
       "      <th>bookId</th>\n",
       "      <th>title</th>\n",
       "      <th>series</th>\n",
       "      <th>author</th>\n",
       "      <th>description</th>\n",
       "      <th>language</th>\n",
       "      <th>isbn</th>\n",
       "      <th>genres</th>\n",
       "      <th>characters</th>\n",
       "      <th>bookFormat</th>\n",
       "      <th>...</th>\n",
       "      <th>firstPublishDate</th>\n",
       "      <th>awards</th>\n",
       "      <th>numRatings</th>\n",
       "      <th>ratingsByStars</th>\n",
       "      <th>likedPercent</th>\n",
       "      <th>setting</th>\n",
       "      <th>coverImg</th>\n",
       "      <th>bbeScore</th>\n",
       "      <th>bbeVotes</th>\n",
       "      <th>price</th>\n",
       "    </tr>\n",
       "  </thead>\n",
       "  <tbody>\n",
       "    <tr>\n",
       "      <th>0</th>\n",
       "      <td>2767052-the-hunger-games</td>\n",
       "      <td>The Hunger Games</td>\n",
       "      <td>The Hunger Games #1</td>\n",
       "      <td>Suzanne Collins</td>\n",
       "      <td>WINNING MEANS FAME AND FORTUNE.LOSING MEANS CE...</td>\n",
       "      <td>English</td>\n",
       "      <td>9780439023481</td>\n",
       "      <td>['Young Adult', 'Fiction', 'Dystopia', 'Fantas...</td>\n",
       "      <td>['Katniss Everdeen', 'Peeta Mellark', 'Cato (H...</td>\n",
       "      <td>Hardcover</td>\n",
       "      <td>...</td>\n",
       "      <td>NaN</td>\n",
       "      <td>['Locus Award Nominee for Best Young Adult Boo...</td>\n",
       "      <td>6376780</td>\n",
       "      <td>['3444695', '1921313', '745221', '171994', '93...</td>\n",
       "      <td>96</td>\n",
       "      <td>['District 12, Panem', 'Capitol, Panem', 'Pane...</td>\n",
       "      <td>https://i.gr-assets.com/images/S/compressed.ph...</td>\n",
       "      <td>2993816</td>\n",
       "      <td>30516</td>\n",
       "      <td>5.09</td>\n",
       "    </tr>\n",
       "    <tr>\n",
       "      <th>1</th>\n",
       "      <td>2.Harry_Potter_and_the_Order_of_the_Phoenix</td>\n",
       "      <td>Harry Potter and the Order of the Phoenix</td>\n",
       "      <td>Harry Potter #5</td>\n",
       "      <td>J.K. Rowling, Mary GrandPré (Illustrator)</td>\n",
       "      <td>There is a door at the end of a silent corrido...</td>\n",
       "      <td>English</td>\n",
       "      <td>9780439358071</td>\n",
       "      <td>['Fantasy', 'Young Adult', 'Fiction', 'Magic',...</td>\n",
       "      <td>['Sirius Black', 'Draco Malfoy', 'Ron Weasley'...</td>\n",
       "      <td>Paperback</td>\n",
       "      <td>...</td>\n",
       "      <td>06/21/03</td>\n",
       "      <td>['Bram Stoker Award for Works for Young Reader...</td>\n",
       "      <td>2507623</td>\n",
       "      <td>['1593642', '637516', '222366', '39573', '14526']</td>\n",
       "      <td>98</td>\n",
       "      <td>['Hogwarts School of Witchcraft and Wizardry (...</td>\n",
       "      <td>https://i.gr-assets.com/images/S/compressed.ph...</td>\n",
       "      <td>2632233</td>\n",
       "      <td>26923</td>\n",
       "      <td>7.38</td>\n",
       "    </tr>\n",
       "    <tr>\n",
       "      <th>2</th>\n",
       "      <td>2657.To_Kill_a_Mockingbird</td>\n",
       "      <td>To Kill a Mockingbird</td>\n",
       "      <td>To Kill a Mockingbird</td>\n",
       "      <td>Harper Lee</td>\n",
       "      <td>The unforgettable novel of a childhood in a sl...</td>\n",
       "      <td>English</td>\n",
       "      <td>9999999999999</td>\n",
       "      <td>['Classics', 'Fiction', 'Historical Fiction', ...</td>\n",
       "      <td>['Scout Finch', 'Atticus Finch', 'Jem Finch', ...</td>\n",
       "      <td>Paperback</td>\n",
       "      <td>...</td>\n",
       "      <td>07/11/60</td>\n",
       "      <td>['Pulitzer Prize for Fiction (1961)', 'Audie A...</td>\n",
       "      <td>4501075</td>\n",
       "      <td>['2363896', '1333153', '573280', '149952', '80...</td>\n",
       "      <td>95</td>\n",
       "      <td>['Maycomb, Alabama (United States)']</td>\n",
       "      <td>https://i.gr-assets.com/images/S/compressed.ph...</td>\n",
       "      <td>2269402</td>\n",
       "      <td>23328</td>\n",
       "      <td>NaN</td>\n",
       "    </tr>\n",
       "    <tr>\n",
       "      <th>3</th>\n",
       "      <td>1885.Pride_and_Prejudice</td>\n",
       "      <td>Pride and Prejudice</td>\n",
       "      <td>NaN</td>\n",
       "      <td>Jane Austen, Anna Quindlen (Introduction)</td>\n",
       "      <td>Alternate cover edition of ISBN 9780679783268S...</td>\n",
       "      <td>English</td>\n",
       "      <td>9999999999999</td>\n",
       "      <td>['Classics', 'Fiction', 'Romance', 'Historical...</td>\n",
       "      <td>['Mr. Bennet', 'Mrs. Bennet', 'Jane Bennet', '...</td>\n",
       "      <td>Paperback</td>\n",
       "      <td>...</td>\n",
       "      <td>01/28/13</td>\n",
       "      <td>[]</td>\n",
       "      <td>2998241</td>\n",
       "      <td>['1617567', '816659', '373311', '113934', '767...</td>\n",
       "      <td>94</td>\n",
       "      <td>['United Kingdom', 'Derbyshire, England (Unite...</td>\n",
       "      <td>https://i.gr-assets.com/images/S/compressed.ph...</td>\n",
       "      <td>1983116</td>\n",
       "      <td>20452</td>\n",
       "      <td>NaN</td>\n",
       "    </tr>\n",
       "    <tr>\n",
       "      <th>4</th>\n",
       "      <td>41865.Twilight</td>\n",
       "      <td>Twilight</td>\n",
       "      <td>The Twilight Saga #1</td>\n",
       "      <td>Stephenie Meyer</td>\n",
       "      <td>About three things I was absolutely positive.\\...</td>\n",
       "      <td>English</td>\n",
       "      <td>9780316015844</td>\n",
       "      <td>['Young Adult', 'Fantasy', 'Romance', 'Vampire...</td>\n",
       "      <td>['Edward Cullen', 'Jacob Black', 'Laurent', 'R...</td>\n",
       "      <td>Paperback</td>\n",
       "      <td>...</td>\n",
       "      <td>10/05/05</td>\n",
       "      <td>['Georgia Peach Book Award (2007)', 'Buxtehude...</td>\n",
       "      <td>4964519</td>\n",
       "      <td>['1751460', '1113682', '1008686', '542017', '5...</td>\n",
       "      <td>78</td>\n",
       "      <td>['Forks, Washington (United States)', 'Phoenix...</td>\n",
       "      <td>https://i.gr-assets.com/images/S/compressed.ph...</td>\n",
       "      <td>1459448</td>\n",
       "      <td>14874</td>\n",
       "      <td>2.1</td>\n",
       "    </tr>\n",
       "  </tbody>\n",
       "</table>\n",
       "<p>5 rows × 24 columns</p>\n",
       "</div>"
      ],
      "text/plain": [
       "                                        bookId  \\\n",
       "0                     2767052-the-hunger-games   \n",
       "1  2.Harry_Potter_and_the_Order_of_the_Phoenix   \n",
       "2                   2657.To_Kill_a_Mockingbird   \n",
       "3                     1885.Pride_and_Prejudice   \n",
       "4                               41865.Twilight   \n",
       "\n",
       "                                       title                 series  \\\n",
       "0                           The Hunger Games    The Hunger Games #1   \n",
       "1  Harry Potter and the Order of the Phoenix        Harry Potter #5   \n",
       "2                      To Kill a Mockingbird  To Kill a Mockingbird   \n",
       "3                        Pride and Prejudice                    NaN   \n",
       "4                                   Twilight   The Twilight Saga #1   \n",
       "\n",
       "                                      author  \\\n",
       "0                            Suzanne Collins   \n",
       "1  J.K. Rowling, Mary GrandPré (Illustrator)   \n",
       "2                                 Harper Lee   \n",
       "3  Jane Austen, Anna Quindlen (Introduction)   \n",
       "4                            Stephenie Meyer   \n",
       "\n",
       "                                         description language           isbn  \\\n",
       "0  WINNING MEANS FAME AND FORTUNE.LOSING MEANS CE...  English  9780439023481   \n",
       "1  There is a door at the end of a silent corrido...  English  9780439358071   \n",
       "2  The unforgettable novel of a childhood in a sl...  English  9999999999999   \n",
       "3  Alternate cover edition of ISBN 9780679783268S...  English  9999999999999   \n",
       "4  About three things I was absolutely positive.\\...  English  9780316015844   \n",
       "\n",
       "                                              genres  \\\n",
       "0  ['Young Adult', 'Fiction', 'Dystopia', 'Fantas...   \n",
       "1  ['Fantasy', 'Young Adult', 'Fiction', 'Magic',...   \n",
       "2  ['Classics', 'Fiction', 'Historical Fiction', ...   \n",
       "3  ['Classics', 'Fiction', 'Romance', 'Historical...   \n",
       "4  ['Young Adult', 'Fantasy', 'Romance', 'Vampire...   \n",
       "\n",
       "                                          characters bookFormat  ...  \\\n",
       "0  ['Katniss Everdeen', 'Peeta Mellark', 'Cato (H...  Hardcover  ...   \n",
       "1  ['Sirius Black', 'Draco Malfoy', 'Ron Weasley'...  Paperback  ...   \n",
       "2  ['Scout Finch', 'Atticus Finch', 'Jem Finch', ...  Paperback  ...   \n",
       "3  ['Mr. Bennet', 'Mrs. Bennet', 'Jane Bennet', '...  Paperback  ...   \n",
       "4  ['Edward Cullen', 'Jacob Black', 'Laurent', 'R...  Paperback  ...   \n",
       "\n",
       "  firstPublishDate                                             awards  \\\n",
       "0              NaN  ['Locus Award Nominee for Best Young Adult Boo...   \n",
       "1         06/21/03  ['Bram Stoker Award for Works for Young Reader...   \n",
       "2         07/11/60  ['Pulitzer Prize for Fiction (1961)', 'Audie A...   \n",
       "3         01/28/13                                                 []   \n",
       "4         10/05/05  ['Georgia Peach Book Award (2007)', 'Buxtehude...   \n",
       "\n",
       "  numRatings                                     ratingsByStars likedPercent  \\\n",
       "0    6376780  ['3444695', '1921313', '745221', '171994', '93...           96   \n",
       "1    2507623  ['1593642', '637516', '222366', '39573', '14526']           98   \n",
       "2    4501075  ['2363896', '1333153', '573280', '149952', '80...           95   \n",
       "3    2998241  ['1617567', '816659', '373311', '113934', '767...           94   \n",
       "4    4964519  ['1751460', '1113682', '1008686', '542017', '5...           78   \n",
       "\n",
       "                                             setting  \\\n",
       "0  ['District 12, Panem', 'Capitol, Panem', 'Pane...   \n",
       "1  ['Hogwarts School of Witchcraft and Wizardry (...   \n",
       "2               ['Maycomb, Alabama (United States)']   \n",
       "3  ['United Kingdom', 'Derbyshire, England (Unite...   \n",
       "4  ['Forks, Washington (United States)', 'Phoenix...   \n",
       "\n",
       "                                            coverImg bbeScore bbeVotes price  \n",
       "0  https://i.gr-assets.com/images/S/compressed.ph...  2993816    30516  5.09  \n",
       "1  https://i.gr-assets.com/images/S/compressed.ph...  2632233    26923  7.38  \n",
       "2  https://i.gr-assets.com/images/S/compressed.ph...  2269402    23328   NaN  \n",
       "3  https://i.gr-assets.com/images/S/compressed.ph...  1983116    20452   NaN  \n",
       "4  https://i.gr-assets.com/images/S/compressed.ph...  1459448    14874   2.1  \n",
       "\n",
       "[5 rows x 24 columns]"
      ]
     },
     "execution_count": 984,
     "metadata": {},
     "output_type": "execute_result"
    }
   ],
   "source": [
    "X.head()"
   ]
  },
  {
   "cell_type": "markdown",
   "id": "0fc84e86-270f-4a24-ba7d-1d5fba56851d",
   "metadata": {},
   "source": [
    "### 1.2. Estudio inicial del dataset"
   ]
  },
  {
   "cell_type": "markdown",
   "id": "22d91530-7c2d-40f4-867a-a2b769575161",
   "metadata": {},
   "source": [
    "Como comentabamos, hay una serie de columnas que desde el comienzo no nos interesan; estas son: la URL de la portada, el ISBN, el identificador del libro, su título, la serie de la que viene y la descripción. De momento, eliminamos estas porque además de ser variables únicas, ya que casi todas son identificadores o textos extensos, no nos proporcionan información útil, a menos que podamos usar procesamiento de texto u otras técnicas que se escapan del objetivo del trabajo."
   ]
  },
  {
   "cell_type": "markdown",
   "id": "83773671-4449-4147-b9db-c9e0f85f50f7",
   "metadata": {},
   "source": [
    "Bien es cierto, que podemos usar un identificador de entre los que tenemos para usarlo como índice del dataset, así que usaremos el título como dicho índice."
   ]
  },
  {
   "cell_type": "code",
   "execution_count": 985,
   "id": "02d93b9e-3317-4e03-9954-1b4f244bb603",
   "metadata": {},
   "outputs": [
    {
     "data": {
      "text/html": [
       "<div>\n",
       "<style scoped>\n",
       "    .dataframe tbody tr th:only-of-type {\n",
       "        vertical-align: middle;\n",
       "    }\n",
       "\n",
       "    .dataframe tbody tr th {\n",
       "        vertical-align: top;\n",
       "    }\n",
       "\n",
       "    .dataframe thead th {\n",
       "        text-align: right;\n",
       "    }\n",
       "</style>\n",
       "<table border=\"1\" class=\"dataframe\">\n",
       "  <thead>\n",
       "    <tr style=\"text-align: right;\">\n",
       "      <th></th>\n",
       "      <th>bookId</th>\n",
       "      <th>series</th>\n",
       "      <th>author</th>\n",
       "      <th>description</th>\n",
       "      <th>language</th>\n",
       "      <th>isbn</th>\n",
       "      <th>genres</th>\n",
       "      <th>characters</th>\n",
       "      <th>bookFormat</th>\n",
       "      <th>edition</th>\n",
       "      <th>...</th>\n",
       "      <th>firstPublishDate</th>\n",
       "      <th>awards</th>\n",
       "      <th>numRatings</th>\n",
       "      <th>ratingsByStars</th>\n",
       "      <th>likedPercent</th>\n",
       "      <th>setting</th>\n",
       "      <th>coverImg</th>\n",
       "      <th>bbeScore</th>\n",
       "      <th>bbeVotes</th>\n",
       "      <th>price</th>\n",
       "    </tr>\n",
       "    <tr>\n",
       "      <th>title</th>\n",
       "      <th></th>\n",
       "      <th></th>\n",
       "      <th></th>\n",
       "      <th></th>\n",
       "      <th></th>\n",
       "      <th></th>\n",
       "      <th></th>\n",
       "      <th></th>\n",
       "      <th></th>\n",
       "      <th></th>\n",
       "      <th></th>\n",
       "      <th></th>\n",
       "      <th></th>\n",
       "      <th></th>\n",
       "      <th></th>\n",
       "      <th></th>\n",
       "      <th></th>\n",
       "      <th></th>\n",
       "      <th></th>\n",
       "      <th></th>\n",
       "      <th></th>\n",
       "    </tr>\n",
       "  </thead>\n",
       "  <tbody>\n",
       "    <tr>\n",
       "      <th>The Hunger Games</th>\n",
       "      <td>2767052-the-hunger-games</td>\n",
       "      <td>The Hunger Games #1</td>\n",
       "      <td>Suzanne Collins</td>\n",
       "      <td>WINNING MEANS FAME AND FORTUNE.LOSING MEANS CE...</td>\n",
       "      <td>English</td>\n",
       "      <td>9780439023481</td>\n",
       "      <td>['Young Adult', 'Fiction', 'Dystopia', 'Fantas...</td>\n",
       "      <td>['Katniss Everdeen', 'Peeta Mellark', 'Cato (H...</td>\n",
       "      <td>Hardcover</td>\n",
       "      <td>First Edition</td>\n",
       "      <td>...</td>\n",
       "      <td>NaN</td>\n",
       "      <td>['Locus Award Nominee for Best Young Adult Boo...</td>\n",
       "      <td>6376780</td>\n",
       "      <td>['3444695', '1921313', '745221', '171994', '93...</td>\n",
       "      <td>96</td>\n",
       "      <td>['District 12, Panem', 'Capitol, Panem', 'Pane...</td>\n",
       "      <td>https://i.gr-assets.com/images/S/compressed.ph...</td>\n",
       "      <td>2993816</td>\n",
       "      <td>30516</td>\n",
       "      <td>5.09</td>\n",
       "    </tr>\n",
       "    <tr>\n",
       "      <th>Harry Potter and the Order of the Phoenix</th>\n",
       "      <td>2.Harry_Potter_and_the_Order_of_the_Phoenix</td>\n",
       "      <td>Harry Potter #5</td>\n",
       "      <td>J.K. Rowling, Mary GrandPré (Illustrator)</td>\n",
       "      <td>There is a door at the end of a silent corrido...</td>\n",
       "      <td>English</td>\n",
       "      <td>9780439358071</td>\n",
       "      <td>['Fantasy', 'Young Adult', 'Fiction', 'Magic',...</td>\n",
       "      <td>['Sirius Black', 'Draco Malfoy', 'Ron Weasley'...</td>\n",
       "      <td>Paperback</td>\n",
       "      <td>US Edition</td>\n",
       "      <td>...</td>\n",
       "      <td>06/21/03</td>\n",
       "      <td>['Bram Stoker Award for Works for Young Reader...</td>\n",
       "      <td>2507623</td>\n",
       "      <td>['1593642', '637516', '222366', '39573', '14526']</td>\n",
       "      <td>98</td>\n",
       "      <td>['Hogwarts School of Witchcraft and Wizardry (...</td>\n",
       "      <td>https://i.gr-assets.com/images/S/compressed.ph...</td>\n",
       "      <td>2632233</td>\n",
       "      <td>26923</td>\n",
       "      <td>7.38</td>\n",
       "    </tr>\n",
       "    <tr>\n",
       "      <th>To Kill a Mockingbird</th>\n",
       "      <td>2657.To_Kill_a_Mockingbird</td>\n",
       "      <td>To Kill a Mockingbird</td>\n",
       "      <td>Harper Lee</td>\n",
       "      <td>The unforgettable novel of a childhood in a sl...</td>\n",
       "      <td>English</td>\n",
       "      <td>9999999999999</td>\n",
       "      <td>['Classics', 'Fiction', 'Historical Fiction', ...</td>\n",
       "      <td>['Scout Finch', 'Atticus Finch', 'Jem Finch', ...</td>\n",
       "      <td>Paperback</td>\n",
       "      <td>NaN</td>\n",
       "      <td>...</td>\n",
       "      <td>07/11/60</td>\n",
       "      <td>['Pulitzer Prize for Fiction (1961)', 'Audie A...</td>\n",
       "      <td>4501075</td>\n",
       "      <td>['2363896', '1333153', '573280', '149952', '80...</td>\n",
       "      <td>95</td>\n",
       "      <td>['Maycomb, Alabama (United States)']</td>\n",
       "      <td>https://i.gr-assets.com/images/S/compressed.ph...</td>\n",
       "      <td>2269402</td>\n",
       "      <td>23328</td>\n",
       "      <td>NaN</td>\n",
       "    </tr>\n",
       "    <tr>\n",
       "      <th>Pride and Prejudice</th>\n",
       "      <td>1885.Pride_and_Prejudice</td>\n",
       "      <td>NaN</td>\n",
       "      <td>Jane Austen, Anna Quindlen (Introduction)</td>\n",
       "      <td>Alternate cover edition of ISBN 9780679783268S...</td>\n",
       "      <td>English</td>\n",
       "      <td>9999999999999</td>\n",
       "      <td>['Classics', 'Fiction', 'Romance', 'Historical...</td>\n",
       "      <td>['Mr. Bennet', 'Mrs. Bennet', 'Jane Bennet', '...</td>\n",
       "      <td>Paperback</td>\n",
       "      <td>Modern Library Classics, USA / CAN</td>\n",
       "      <td>...</td>\n",
       "      <td>01/28/13</td>\n",
       "      <td>[]</td>\n",
       "      <td>2998241</td>\n",
       "      <td>['1617567', '816659', '373311', '113934', '767...</td>\n",
       "      <td>94</td>\n",
       "      <td>['United Kingdom', 'Derbyshire, England (Unite...</td>\n",
       "      <td>https://i.gr-assets.com/images/S/compressed.ph...</td>\n",
       "      <td>1983116</td>\n",
       "      <td>20452</td>\n",
       "      <td>NaN</td>\n",
       "    </tr>\n",
       "    <tr>\n",
       "      <th>Twilight</th>\n",
       "      <td>41865.Twilight</td>\n",
       "      <td>The Twilight Saga #1</td>\n",
       "      <td>Stephenie Meyer</td>\n",
       "      <td>About three things I was absolutely positive.\\...</td>\n",
       "      <td>English</td>\n",
       "      <td>9780316015844</td>\n",
       "      <td>['Young Adult', 'Fantasy', 'Romance', 'Vampire...</td>\n",
       "      <td>['Edward Cullen', 'Jacob Black', 'Laurent', 'R...</td>\n",
       "      <td>Paperback</td>\n",
       "      <td>NaN</td>\n",
       "      <td>...</td>\n",
       "      <td>10/05/05</td>\n",
       "      <td>['Georgia Peach Book Award (2007)', 'Buxtehude...</td>\n",
       "      <td>4964519</td>\n",
       "      <td>['1751460', '1113682', '1008686', '542017', '5...</td>\n",
       "      <td>78</td>\n",
       "      <td>['Forks, Washington (United States)', 'Phoenix...</td>\n",
       "      <td>https://i.gr-assets.com/images/S/compressed.ph...</td>\n",
       "      <td>1459448</td>\n",
       "      <td>14874</td>\n",
       "      <td>2.1</td>\n",
       "    </tr>\n",
       "  </tbody>\n",
       "</table>\n",
       "<p>5 rows × 23 columns</p>\n",
       "</div>"
      ],
      "text/plain": [
       "                                                                                bookId  \\\n",
       "title                                                                                    \n",
       "The Hunger Games                                              2767052-the-hunger-games   \n",
       "Harry Potter and the Order of the Phoenix  2.Harry_Potter_and_the_Order_of_the_Phoenix   \n",
       "To Kill a Mockingbird                                       2657.To_Kill_a_Mockingbird   \n",
       "Pride and Prejudice                                           1885.Pride_and_Prejudice   \n",
       "Twilight                                                                41865.Twilight   \n",
       "\n",
       "                                                          series  \\\n",
       "title                                                              \n",
       "The Hunger Games                             The Hunger Games #1   \n",
       "Harry Potter and the Order of the Phoenix        Harry Potter #5   \n",
       "To Kill a Mockingbird                      To Kill a Mockingbird   \n",
       "Pride and Prejudice                                          NaN   \n",
       "Twilight                                    The Twilight Saga #1   \n",
       "\n",
       "                                                                              author  \\\n",
       "title                                                                                  \n",
       "The Hunger Games                                                     Suzanne Collins   \n",
       "Harry Potter and the Order of the Phoenix  J.K. Rowling, Mary GrandPré (Illustrator)   \n",
       "To Kill a Mockingbird                                                     Harper Lee   \n",
       "Pride and Prejudice                        Jane Austen, Anna Quindlen (Introduction)   \n",
       "Twilight                                                             Stephenie Meyer   \n",
       "\n",
       "                                                                                 description  \\\n",
       "title                                                                                          \n",
       "The Hunger Games                           WINNING MEANS FAME AND FORTUNE.LOSING MEANS CE...   \n",
       "Harry Potter and the Order of the Phoenix  There is a door at the end of a silent corrido...   \n",
       "To Kill a Mockingbird                      The unforgettable novel of a childhood in a sl...   \n",
       "Pride and Prejudice                        Alternate cover edition of ISBN 9780679783268S...   \n",
       "Twilight                                   About three things I was absolutely positive.\\...   \n",
       "\n",
       "                                          language           isbn  \\\n",
       "title                                                               \n",
       "The Hunger Games                           English  9780439023481   \n",
       "Harry Potter and the Order of the Phoenix  English  9780439358071   \n",
       "To Kill a Mockingbird                      English  9999999999999   \n",
       "Pride and Prejudice                        English  9999999999999   \n",
       "Twilight                                   English  9780316015844   \n",
       "\n",
       "                                                                                      genres  \\\n",
       "title                                                                                          \n",
       "The Hunger Games                           ['Young Adult', 'Fiction', 'Dystopia', 'Fantas...   \n",
       "Harry Potter and the Order of the Phoenix  ['Fantasy', 'Young Adult', 'Fiction', 'Magic',...   \n",
       "To Kill a Mockingbird                      ['Classics', 'Fiction', 'Historical Fiction', ...   \n",
       "Pride and Prejudice                        ['Classics', 'Fiction', 'Romance', 'Historical...   \n",
       "Twilight                                   ['Young Adult', 'Fantasy', 'Romance', 'Vampire...   \n",
       "\n",
       "                                                                                  characters  \\\n",
       "title                                                                                          \n",
       "The Hunger Games                           ['Katniss Everdeen', 'Peeta Mellark', 'Cato (H...   \n",
       "Harry Potter and the Order of the Phoenix  ['Sirius Black', 'Draco Malfoy', 'Ron Weasley'...   \n",
       "To Kill a Mockingbird                      ['Scout Finch', 'Atticus Finch', 'Jem Finch', ...   \n",
       "Pride and Prejudice                        ['Mr. Bennet', 'Mrs. Bennet', 'Jane Bennet', '...   \n",
       "Twilight                                   ['Edward Cullen', 'Jacob Black', 'Laurent', 'R...   \n",
       "\n",
       "                                          bookFormat  \\\n",
       "title                                                  \n",
       "The Hunger Games                           Hardcover   \n",
       "Harry Potter and the Order of the Phoenix  Paperback   \n",
       "To Kill a Mockingbird                      Paperback   \n",
       "Pride and Prejudice                        Paperback   \n",
       "Twilight                                   Paperback   \n",
       "\n",
       "                                                                      edition  \\\n",
       "title                                                                           \n",
       "The Hunger Games                                                First Edition   \n",
       "Harry Potter and the Order of the Phoenix                          US Edition   \n",
       "To Kill a Mockingbird                                                     NaN   \n",
       "Pride and Prejudice                        Modern Library Classics, USA / CAN   \n",
       "Twilight                                                                  NaN   \n",
       "\n",
       "                                           ... firstPublishDate  \\\n",
       "title                                      ...                    \n",
       "The Hunger Games                           ...              NaN   \n",
       "Harry Potter and the Order of the Phoenix  ...         06/21/03   \n",
       "To Kill a Mockingbird                      ...         07/11/60   \n",
       "Pride and Prejudice                        ...         01/28/13   \n",
       "Twilight                                   ...         10/05/05   \n",
       "\n",
       "                                                                                      awards  \\\n",
       "title                                                                                          \n",
       "The Hunger Games                           ['Locus Award Nominee for Best Young Adult Boo...   \n",
       "Harry Potter and the Order of the Phoenix  ['Bram Stoker Award for Works for Young Reader...   \n",
       "To Kill a Mockingbird                      ['Pulitzer Prize for Fiction (1961)', 'Audie A...   \n",
       "Pride and Prejudice                                                                       []   \n",
       "Twilight                                   ['Georgia Peach Book Award (2007)', 'Buxtehude...   \n",
       "\n",
       "                                          numRatings  \\\n",
       "title                                                  \n",
       "The Hunger Games                             6376780   \n",
       "Harry Potter and the Order of the Phoenix    2507623   \n",
       "To Kill a Mockingbird                        4501075   \n",
       "Pride and Prejudice                          2998241   \n",
       "Twilight                                     4964519   \n",
       "\n",
       "                                                                              ratingsByStars  \\\n",
       "title                                                                                          \n",
       "The Hunger Games                           ['3444695', '1921313', '745221', '171994', '93...   \n",
       "Harry Potter and the Order of the Phoenix  ['1593642', '637516', '222366', '39573', '14526']   \n",
       "To Kill a Mockingbird                      ['2363896', '1333153', '573280', '149952', '80...   \n",
       "Pride and Prejudice                        ['1617567', '816659', '373311', '113934', '767...   \n",
       "Twilight                                   ['1751460', '1113682', '1008686', '542017', '5...   \n",
       "\n",
       "                                          likedPercent  \\\n",
       "title                                                    \n",
       "The Hunger Games                                    96   \n",
       "Harry Potter and the Order of the Phoenix           98   \n",
       "To Kill a Mockingbird                               95   \n",
       "Pride and Prejudice                                 94   \n",
       "Twilight                                            78   \n",
       "\n",
       "                                                                                     setting  \\\n",
       "title                                                                                          \n",
       "The Hunger Games                           ['District 12, Panem', 'Capitol, Panem', 'Pane...   \n",
       "Harry Potter and the Order of the Phoenix  ['Hogwarts School of Witchcraft and Wizardry (...   \n",
       "To Kill a Mockingbird                                   ['Maycomb, Alabama (United States)']   \n",
       "Pride and Prejudice                        ['United Kingdom', 'Derbyshire, England (Unite...   \n",
       "Twilight                                   ['Forks, Washington (United States)', 'Phoenix...   \n",
       "\n",
       "                                                                                    coverImg  \\\n",
       "title                                                                                          \n",
       "The Hunger Games                           https://i.gr-assets.com/images/S/compressed.ph...   \n",
       "Harry Potter and the Order of the Phoenix  https://i.gr-assets.com/images/S/compressed.ph...   \n",
       "To Kill a Mockingbird                      https://i.gr-assets.com/images/S/compressed.ph...   \n",
       "Pride and Prejudice                        https://i.gr-assets.com/images/S/compressed.ph...   \n",
       "Twilight                                   https://i.gr-assets.com/images/S/compressed.ph...   \n",
       "\n",
       "                                          bbeScore bbeVotes price  \n",
       "title                                                              \n",
       "The Hunger Games                           2993816    30516  5.09  \n",
       "Harry Potter and the Order of the Phoenix  2632233    26923  7.38  \n",
       "To Kill a Mockingbird                      2269402    23328   NaN  \n",
       "Pride and Prejudice                        1983116    20452   NaN  \n",
       "Twilight                                   1459448    14874   2.1  \n",
       "\n",
       "[5 rows x 23 columns]"
      ]
     },
     "execution_count": 985,
     "metadata": {},
     "output_type": "execute_result"
    }
   ],
   "source": [
    "X = X.set_index('title')\n",
    "X.head()"
   ]
  },
  {
   "cell_type": "markdown",
   "id": "c13f9f6f-f16e-44b4-b17d-20c33f3647bc",
   "metadata": {},
   "source": [
    "#### 1.2.1. Eliminación de variables irrelevantes"
   ]
  },
  {
   "cell_type": "markdown",
   "id": "034a2453-8c65-4918-a91d-02e882f93a41",
   "metadata": {},
   "source": [
    "Eliminemos las variables que consideramos poco relevante por ser índices o aportar poca información."
   ]
  },
  {
   "cell_type": "code",
   "execution_count": 986,
   "id": "93232411-05d1-41d9-8b80-8477d89938eb",
   "metadata": {},
   "outputs": [
    {
     "data": {
      "text/html": [
       "<div>\n",
       "<style scoped>\n",
       "    .dataframe tbody tr th:only-of-type {\n",
       "        vertical-align: middle;\n",
       "    }\n",
       "\n",
       "    .dataframe tbody tr th {\n",
       "        vertical-align: top;\n",
       "    }\n",
       "\n",
       "    .dataframe thead th {\n",
       "        text-align: right;\n",
       "    }\n",
       "</style>\n",
       "<table border=\"1\" class=\"dataframe\">\n",
       "  <thead>\n",
       "    <tr style=\"text-align: right;\">\n",
       "      <th></th>\n",
       "      <th>language</th>\n",
       "      <th>genres</th>\n",
       "      <th>characters</th>\n",
       "      <th>bookFormat</th>\n",
       "      <th>pages</th>\n",
       "      <th>publishDate</th>\n",
       "      <th>firstPublishDate</th>\n",
       "      <th>awards</th>\n",
       "      <th>numRatings</th>\n",
       "      <th>ratingsByStars</th>\n",
       "      <th>likedPercent</th>\n",
       "      <th>setting</th>\n",
       "      <th>bbeScore</th>\n",
       "      <th>bbeVotes</th>\n",
       "      <th>price</th>\n",
       "    </tr>\n",
       "    <tr>\n",
       "      <th>title</th>\n",
       "      <th></th>\n",
       "      <th></th>\n",
       "      <th></th>\n",
       "      <th></th>\n",
       "      <th></th>\n",
       "      <th></th>\n",
       "      <th></th>\n",
       "      <th></th>\n",
       "      <th></th>\n",
       "      <th></th>\n",
       "      <th></th>\n",
       "      <th></th>\n",
       "      <th></th>\n",
       "      <th></th>\n",
       "      <th></th>\n",
       "    </tr>\n",
       "  </thead>\n",
       "  <tbody>\n",
       "    <tr>\n",
       "      <th>The Hunger Games</th>\n",
       "      <td>English</td>\n",
       "      <td>['Young Adult', 'Fiction', 'Dystopia', 'Fantas...</td>\n",
       "      <td>['Katniss Everdeen', 'Peeta Mellark', 'Cato (H...</td>\n",
       "      <td>Hardcover</td>\n",
       "      <td>374</td>\n",
       "      <td>09/14/08</td>\n",
       "      <td>NaN</td>\n",
       "      <td>['Locus Award Nominee for Best Young Adult Boo...</td>\n",
       "      <td>6376780</td>\n",
       "      <td>['3444695', '1921313', '745221', '171994', '93...</td>\n",
       "      <td>96</td>\n",
       "      <td>['District 12, Panem', 'Capitol, Panem', 'Pane...</td>\n",
       "      <td>2993816</td>\n",
       "      <td>30516</td>\n",
       "      <td>5.09</td>\n",
       "    </tr>\n",
       "    <tr>\n",
       "      <th>Harry Potter and the Order of the Phoenix</th>\n",
       "      <td>English</td>\n",
       "      <td>['Fantasy', 'Young Adult', 'Fiction', 'Magic',...</td>\n",
       "      <td>['Sirius Black', 'Draco Malfoy', 'Ron Weasley'...</td>\n",
       "      <td>Paperback</td>\n",
       "      <td>870</td>\n",
       "      <td>09/28/04</td>\n",
       "      <td>06/21/03</td>\n",
       "      <td>['Bram Stoker Award for Works for Young Reader...</td>\n",
       "      <td>2507623</td>\n",
       "      <td>['1593642', '637516', '222366', '39573', '14526']</td>\n",
       "      <td>98</td>\n",
       "      <td>['Hogwarts School of Witchcraft and Wizardry (...</td>\n",
       "      <td>2632233</td>\n",
       "      <td>26923</td>\n",
       "      <td>7.38</td>\n",
       "    </tr>\n",
       "    <tr>\n",
       "      <th>To Kill a Mockingbird</th>\n",
       "      <td>English</td>\n",
       "      <td>['Classics', 'Fiction', 'Historical Fiction', ...</td>\n",
       "      <td>['Scout Finch', 'Atticus Finch', 'Jem Finch', ...</td>\n",
       "      <td>Paperback</td>\n",
       "      <td>324</td>\n",
       "      <td>05/23/06</td>\n",
       "      <td>07/11/60</td>\n",
       "      <td>['Pulitzer Prize for Fiction (1961)', 'Audie A...</td>\n",
       "      <td>4501075</td>\n",
       "      <td>['2363896', '1333153', '573280', '149952', '80...</td>\n",
       "      <td>95</td>\n",
       "      <td>['Maycomb, Alabama (United States)']</td>\n",
       "      <td>2269402</td>\n",
       "      <td>23328</td>\n",
       "      <td>NaN</td>\n",
       "    </tr>\n",
       "    <tr>\n",
       "      <th>Pride and Prejudice</th>\n",
       "      <td>English</td>\n",
       "      <td>['Classics', 'Fiction', 'Romance', 'Historical...</td>\n",
       "      <td>['Mr. Bennet', 'Mrs. Bennet', 'Jane Bennet', '...</td>\n",
       "      <td>Paperback</td>\n",
       "      <td>279</td>\n",
       "      <td>10/10/00</td>\n",
       "      <td>01/28/13</td>\n",
       "      <td>[]</td>\n",
       "      <td>2998241</td>\n",
       "      <td>['1617567', '816659', '373311', '113934', '767...</td>\n",
       "      <td>94</td>\n",
       "      <td>['United Kingdom', 'Derbyshire, England (Unite...</td>\n",
       "      <td>1983116</td>\n",
       "      <td>20452</td>\n",
       "      <td>NaN</td>\n",
       "    </tr>\n",
       "    <tr>\n",
       "      <th>Twilight</th>\n",
       "      <td>English</td>\n",
       "      <td>['Young Adult', 'Fantasy', 'Romance', 'Vampire...</td>\n",
       "      <td>['Edward Cullen', 'Jacob Black', 'Laurent', 'R...</td>\n",
       "      <td>Paperback</td>\n",
       "      <td>501</td>\n",
       "      <td>09/06/06</td>\n",
       "      <td>10/05/05</td>\n",
       "      <td>['Georgia Peach Book Award (2007)', 'Buxtehude...</td>\n",
       "      <td>4964519</td>\n",
       "      <td>['1751460', '1113682', '1008686', '542017', '5...</td>\n",
       "      <td>78</td>\n",
       "      <td>['Forks, Washington (United States)', 'Phoenix...</td>\n",
       "      <td>1459448</td>\n",
       "      <td>14874</td>\n",
       "      <td>2.1</td>\n",
       "    </tr>\n",
       "  </tbody>\n",
       "</table>\n",
       "</div>"
      ],
      "text/plain": [
       "                                          language  \\\n",
       "title                                                \n",
       "The Hunger Games                           English   \n",
       "Harry Potter and the Order of the Phoenix  English   \n",
       "To Kill a Mockingbird                      English   \n",
       "Pride and Prejudice                        English   \n",
       "Twilight                                   English   \n",
       "\n",
       "                                                                                      genres  \\\n",
       "title                                                                                          \n",
       "The Hunger Games                           ['Young Adult', 'Fiction', 'Dystopia', 'Fantas...   \n",
       "Harry Potter and the Order of the Phoenix  ['Fantasy', 'Young Adult', 'Fiction', 'Magic',...   \n",
       "To Kill a Mockingbird                      ['Classics', 'Fiction', 'Historical Fiction', ...   \n",
       "Pride and Prejudice                        ['Classics', 'Fiction', 'Romance', 'Historical...   \n",
       "Twilight                                   ['Young Adult', 'Fantasy', 'Romance', 'Vampire...   \n",
       "\n",
       "                                                                                  characters  \\\n",
       "title                                                                                          \n",
       "The Hunger Games                           ['Katniss Everdeen', 'Peeta Mellark', 'Cato (H...   \n",
       "Harry Potter and the Order of the Phoenix  ['Sirius Black', 'Draco Malfoy', 'Ron Weasley'...   \n",
       "To Kill a Mockingbird                      ['Scout Finch', 'Atticus Finch', 'Jem Finch', ...   \n",
       "Pride and Prejudice                        ['Mr. Bennet', 'Mrs. Bennet', 'Jane Bennet', '...   \n",
       "Twilight                                   ['Edward Cullen', 'Jacob Black', 'Laurent', 'R...   \n",
       "\n",
       "                                          bookFormat pages publishDate  \\\n",
       "title                                                                    \n",
       "The Hunger Games                           Hardcover   374    09/14/08   \n",
       "Harry Potter and the Order of the Phoenix  Paperback   870    09/28/04   \n",
       "To Kill a Mockingbird                      Paperback   324    05/23/06   \n",
       "Pride and Prejudice                        Paperback   279    10/10/00   \n",
       "Twilight                                   Paperback   501    09/06/06   \n",
       "\n",
       "                                          firstPublishDate  \\\n",
       "title                                                        \n",
       "The Hunger Games                                       NaN   \n",
       "Harry Potter and the Order of the Phoenix         06/21/03   \n",
       "To Kill a Mockingbird                             07/11/60   \n",
       "Pride and Prejudice                               01/28/13   \n",
       "Twilight                                          10/05/05   \n",
       "\n",
       "                                                                                      awards  \\\n",
       "title                                                                                          \n",
       "The Hunger Games                           ['Locus Award Nominee for Best Young Adult Boo...   \n",
       "Harry Potter and the Order of the Phoenix  ['Bram Stoker Award for Works for Young Reader...   \n",
       "To Kill a Mockingbird                      ['Pulitzer Prize for Fiction (1961)', 'Audie A...   \n",
       "Pride and Prejudice                                                                       []   \n",
       "Twilight                                   ['Georgia Peach Book Award (2007)', 'Buxtehude...   \n",
       "\n",
       "                                          numRatings  \\\n",
       "title                                                  \n",
       "The Hunger Games                             6376780   \n",
       "Harry Potter and the Order of the Phoenix    2507623   \n",
       "To Kill a Mockingbird                        4501075   \n",
       "Pride and Prejudice                          2998241   \n",
       "Twilight                                     4964519   \n",
       "\n",
       "                                                                              ratingsByStars  \\\n",
       "title                                                                                          \n",
       "The Hunger Games                           ['3444695', '1921313', '745221', '171994', '93...   \n",
       "Harry Potter and the Order of the Phoenix  ['1593642', '637516', '222366', '39573', '14526']   \n",
       "To Kill a Mockingbird                      ['2363896', '1333153', '573280', '149952', '80...   \n",
       "Pride and Prejudice                        ['1617567', '816659', '373311', '113934', '767...   \n",
       "Twilight                                   ['1751460', '1113682', '1008686', '542017', '5...   \n",
       "\n",
       "                                          likedPercent  \\\n",
       "title                                                    \n",
       "The Hunger Games                                    96   \n",
       "Harry Potter and the Order of the Phoenix           98   \n",
       "To Kill a Mockingbird                               95   \n",
       "Pride and Prejudice                                 94   \n",
       "Twilight                                            78   \n",
       "\n",
       "                                                                                     setting  \\\n",
       "title                                                                                          \n",
       "The Hunger Games                           ['District 12, Panem', 'Capitol, Panem', 'Pane...   \n",
       "Harry Potter and the Order of the Phoenix  ['Hogwarts School of Witchcraft and Wizardry (...   \n",
       "To Kill a Mockingbird                                   ['Maycomb, Alabama (United States)']   \n",
       "Pride and Prejudice                        ['United Kingdom', 'Derbyshire, England (Unite...   \n",
       "Twilight                                   ['Forks, Washington (United States)', 'Phoenix...   \n",
       "\n",
       "                                          bbeScore bbeVotes price  \n",
       "title                                                              \n",
       "The Hunger Games                           2993816    30516  5.09  \n",
       "Harry Potter and the Order of the Phoenix  2632233    26923  7.38  \n",
       "To Kill a Mockingbird                      2269402    23328   NaN  \n",
       "Pride and Prejudice                        1983116    20452   NaN  \n",
       "Twilight                                   1459448    14874   2.1  "
      ]
     },
     "execution_count": 986,
     "metadata": {},
     "output_type": "execute_result"
    }
   ],
   "source": [
    "X = X.drop(['bookId', 'series', 'isbn', 'description', 'coverImg', 'author', 'publisher', 'edition'], axis=1)\n",
    "X.head()"
   ]
  },
  {
   "cell_type": "code",
   "execution_count": 987,
   "id": "daa26b38-cf17-4ad7-bfeb-fed965065fc6",
   "metadata": {},
   "outputs": [
    {
     "name": "stdout",
     "output_type": "stream",
     "text": [
      "<class 'pandas.core.frame.DataFrame'>\n",
      "Index: 52478 entries, The Hunger Games to Daughter of Helaman\n",
      "Data columns (total 15 columns):\n",
      " #   Column            Non-Null Count  Dtype \n",
      "---  ------            --------------  ----- \n",
      " 0   language          48672 non-null  object\n",
      " 1   genres            52478 non-null  object\n",
      " 2   characters        52478 non-null  object\n",
      " 3   bookFormat        51005 non-null  object\n",
      " 4   pages             50131 non-null  object\n",
      " 5   publishDate       51598 non-null  object\n",
      " 6   firstPublishDate  31152 non-null  object\n",
      " 7   awards            52478 non-null  object\n",
      " 8   numRatings        52478 non-null  object\n",
      " 9   ratingsByStars    52478 non-null  object\n",
      " 10  likedPercent      51856 non-null  object\n",
      " 11  setting           52478 non-null  object\n",
      " 12  bbeScore          52478 non-null  object\n",
      " 13  bbeVotes          52478 non-null  object\n",
      " 14  price             38113 non-null  object\n",
      "dtypes: object(15)\n",
      "memory usage: 6.4+ MB\n"
     ]
    }
   ],
   "source": [
    "X.info()"
   ]
  },
  {
   "cell_type": "markdown",
   "id": "dbd5429e-3485-414f-b3e7-3c40d47c67a3",
   "metadata": {},
   "source": [
    "#### 1.2.2. Tratamiento de variables numéricas"
   ]
  },
  {
   "cell_type": "markdown",
   "id": "dd6421e5-49ff-4fa1-b723-d2e9c8bb3200",
   "metadata": {},
   "source": [
    "Vemos que muchas de las columnas tienen nulos y que como hay muchas que son listas, fechas u otro tipo de datos se han importado todas como object, vamos a parsear aquellas que sabemos que representan un número. Además, vemos que una columna, concretamente \"edition\", tiene 5000 valores de 52.500 siendo tan absolutamente pequeño que merecería la pena eliminarlo directamente, pero como eso se valora en otro apartado vamos a ser pacientes."
   ]
  },
  {
   "cell_type": "markdown",
   "id": "d490d45f-604c-4f33-9862-b5752db27120",
   "metadata": {},
   "source": [
    "Vamos a hacer las transformaciones de los enteros primero, pero como no podemos transformar un 'NaN' a entero vamos a poner estos valores faltantes a -5, ya que en ningún caso de nuestras variables pueden darse valores negativos. Y luego, los devolveremos a 'NaN'."
   ]
  },
  {
   "cell_type": "markdown",
   "id": "a90a7f23-5ec8-48bd-b340-33c1fdd1dc5c",
   "metadata": {},
   "source": [
    "Aunque primero mejor comprobarlo:"
   ]
  },
  {
   "cell_type": "code",
   "execution_count": 988,
   "id": "b7df5c47-80cf-482d-b61e-09baa53b8048",
   "metadata": {},
   "outputs": [
    {
     "data": {
      "text/html": [
       "<div>\n",
       "<style scoped>\n",
       "    .dataframe tbody tr th:only-of-type {\n",
       "        vertical-align: middle;\n",
       "    }\n",
       "\n",
       "    .dataframe tbody tr th {\n",
       "        vertical-align: top;\n",
       "    }\n",
       "\n",
       "    .dataframe thead th {\n",
       "        text-align: right;\n",
       "    }\n",
       "</style>\n",
       "<table border=\"1\" class=\"dataframe\">\n",
       "  <thead>\n",
       "    <tr style=\"text-align: right;\">\n",
       "      <th></th>\n",
       "      <th>rating</th>\n",
       "      <th>numRatings</th>\n",
       "      <th>likedPercent</th>\n",
       "      <th>bbeScore</th>\n",
       "      <th>bbeVotes</th>\n",
       "    </tr>\n",
       "  </thead>\n",
       "  <tbody>\n",
       "    <tr>\n",
       "      <th>count</th>\n",
       "      <td>52478.000000</td>\n",
       "      <td>5.247800e+04</td>\n",
       "      <td>51856.000000</td>\n",
       "      <td>5.247800e+04</td>\n",
       "      <td>52478.000000</td>\n",
       "    </tr>\n",
       "    <tr>\n",
       "      <th>mean</th>\n",
       "      <td>4.021878</td>\n",
       "      <td>1.787865e+04</td>\n",
       "      <td>92.231545</td>\n",
       "      <td>1.984023e+03</td>\n",
       "      <td>22.529003</td>\n",
       "    </tr>\n",
       "    <tr>\n",
       "      <th>std</th>\n",
       "      <td>0.367146</td>\n",
       "      <td>1.039448e+05</td>\n",
       "      <td>5.990689</td>\n",
       "      <td>3.515314e+04</td>\n",
       "      <td>369.158541</td>\n",
       "    </tr>\n",
       "    <tr>\n",
       "      <th>min</th>\n",
       "      <td>0.000000</td>\n",
       "      <td>0.000000e+00</td>\n",
       "      <td>0.000000</td>\n",
       "      <td>0.000000e+00</td>\n",
       "      <td>-4.000000</td>\n",
       "    </tr>\n",
       "    <tr>\n",
       "      <th>25%</th>\n",
       "      <td>3.820000</td>\n",
       "      <td>3.410000e+02</td>\n",
       "      <td>90.000000</td>\n",
       "      <td>8.400000e+01</td>\n",
       "      <td>1.000000</td>\n",
       "    </tr>\n",
       "    <tr>\n",
       "      <th>50%</th>\n",
       "      <td>4.030000</td>\n",
       "      <td>2.307000e+03</td>\n",
       "      <td>94.000000</td>\n",
       "      <td>9.700000e+01</td>\n",
       "      <td>1.000000</td>\n",
       "    </tr>\n",
       "    <tr>\n",
       "      <th>75%</th>\n",
       "      <td>4.230000</td>\n",
       "      <td>9.380500e+03</td>\n",
       "      <td>96.000000</td>\n",
       "      <td>1.870000e+02</td>\n",
       "      <td>2.000000</td>\n",
       "    </tr>\n",
       "    <tr>\n",
       "      <th>max</th>\n",
       "      <td>5.000000</td>\n",
       "      <td>7.048471e+06</td>\n",
       "      <td>100.000000</td>\n",
       "      <td>2.993816e+06</td>\n",
       "      <td>30516.000000</td>\n",
       "    </tr>\n",
       "  </tbody>\n",
       "</table>\n",
       "</div>"
      ],
      "text/plain": [
       "             rating    numRatings  likedPercent      bbeScore      bbeVotes\n",
       "count  52478.000000  5.247800e+04  51856.000000  5.247800e+04  52478.000000\n",
       "mean       4.021878  1.787865e+04     92.231545  1.984023e+03     22.529003\n",
       "std        0.367146  1.039448e+05      5.990689  3.515314e+04    369.158541\n",
       "min        0.000000  0.000000e+00      0.000000  0.000000e+00     -4.000000\n",
       "25%        3.820000  3.410000e+02     90.000000  8.400000e+01      1.000000\n",
       "50%        4.030000  2.307000e+03     94.000000  9.700000e+01      1.000000\n",
       "75%        4.230000  9.380500e+03     96.000000  1.870000e+02      2.000000\n",
       "max        5.000000  7.048471e+06    100.000000  2.993816e+06  30516.000000"
      ]
     },
     "execution_count": 988,
     "metadata": {},
     "output_type": "execute_result"
    }
   ],
   "source": [
    "df = pd.read_csv('libros.csv', header=0)\n",
    "df.describe()"
   ]
  },
  {
   "cell_type": "markdown",
   "id": "e3f39427-1d14-4045-89e1-07dea7e0bed8",
   "metadata": {},
   "source": [
    "Vaya, vemos que algunos valores de bbeVotes tienen valores negativos, esto es un espurio o un dato real, como no lo podemos saber vamos a dejarlo. Por eso el -5 y no -1."
   ]
  },
  {
   "cell_type": "code",
   "execution_count": 989,
   "id": "677c6201-5196-40f9-8c79-5942bf0491ff",
   "metadata": {},
   "outputs": [],
   "source": [
    "#X[['pages', 'bbeVotes', 'bbeScore', 'numRatings']] = X[['pages', 'bbeVotes', 'bbeScore', 'numRatings']].fillna(-5).astype(np.int64)"
   ]
  },
  {
   "attachments": {
    "50681563-7382-4b21-9c3b-ca62d05d001b.png": {
     "image/png": "[encoded data removed]"
    }
   },
   "cell_type": "markdown",
   "id": "38b9d8b5-7f9a-4f8f-94e6-81d2f9b37192",
   "metadata": {},
   "source": [
    "![image.png](attachment:50681563-7382-4b21-9c3b-ca62d05d001b.png)"
   ]
  },
  {
   "cell_type": "markdown",
   "id": "5bcd134c-bcbb-44d3-b8bd-8dc46c931827",
   "metadata": {},
   "source": [
    "Hemos decidido dejar este error porque siendo obvio que las páginas son un entero, vemos que uno de los valores que intentamos parsear a enteros es '1 pages'; bienvenidos al magnífico mundo de la ciencia del dato."
   ]
  },
  {
   "cell_type": "code",
   "execution_count": 990,
   "id": "5b78ef06-1e38-40c7-9682-cb3661c50d98",
   "metadata": {},
   "outputs": [],
   "source": [
    "X.pages = X[['pages']].apply(pd.to_numeric, errors='coerce')"
   ]
  },
  {
   "cell_type": "code",
   "execution_count": 991,
   "id": "97f091ec-abc9-4a88-a6f1-460214a3f25a",
   "metadata": {},
   "outputs": [],
   "source": [
    "X[['bbeScore', 'numRatings','bbeVotes']] = X[['bbeScore', 'numRatings','bbeVotes']].fillna(-5).astype(np.int64)"
   ]
  },
  {
   "cell_type": "code",
   "execution_count": 992,
   "id": "4d3b9d84-a00b-4e64-a9db-5780a3935a69",
   "metadata": {},
   "outputs": [
    {
     "name": "stdout",
     "output_type": "stream",
     "text": [
      "<class 'pandas.core.frame.DataFrame'>\n",
      "Index: 52478 entries, The Hunger Games to Daughter of Helaman\n",
      "Data columns (total 15 columns):\n",
      " #   Column            Non-Null Count  Dtype  \n",
      "---  ------            --------------  -----  \n",
      " 0   language          48672 non-null  object \n",
      " 1   genres            52478 non-null  object \n",
      " 2   characters        52478 non-null  object \n",
      " 3   bookFormat        51005 non-null  object \n",
      " 4   pages             50108 non-null  float64\n",
      " 5   publishDate       51598 non-null  object \n",
      " 6   firstPublishDate  31152 non-null  object \n",
      " 7   awards            52478 non-null  object \n",
      " 8   numRatings        52478 non-null  int64  \n",
      " 9   ratingsByStars    52478 non-null  object \n",
      " 10  likedPercent      51856 non-null  object \n",
      " 11  setting           52478 non-null  object \n",
      " 12  bbeScore          52478 non-null  int64  \n",
      " 13  bbeVotes          52478 non-null  int64  \n",
      " 14  price             38113 non-null  object \n",
      "dtypes: float64(1), int64(3), object(11)\n",
      "memory usage: 6.4+ MB\n"
     ]
    }
   ],
   "source": [
    "X.replace(-5,np.NaN).info()"
   ]
  },
  {
   "cell_type": "markdown",
   "id": "c411acd5-4b7b-44a3-8549-165ebaf2d51f",
   "metadata": {},
   "source": [
    "Pages queda al final como float porque han tenido que ser eliminados ciertos datos de tipo cadena."
   ]
  },
  {
   "cell_type": "markdown",
   "id": "b89fcc9c-78bb-40c9-a0e2-b353a044859d",
   "metadata": {},
   "source": [
    "Para terminar con esta parte transformaremos los que son float64 y veremos los estadísticos más útiles:"
   ]
  },
  {
   "cell_type": "code",
   "execution_count": 993,
   "id": "7af0d630-3bf7-45fc-adcb-2fa856491484",
   "metadata": {},
   "outputs": [],
   "source": [
    "#X[['likedPercent', 'price']] = X[['likedPercent', 'price']].astype(np.float64)"
   ]
  },
  {
   "attachments": {
    "21bd350e-bad2-48ab-a29b-ce19801c56e9.png": {
     "image/png": "[encoded data removed]"
    }
   },
   "cell_type": "markdown",
   "id": "44e55b23-deee-44b0-ab78-b3227545ddad",
   "metadata": {},
   "source": [
    "![image.png](attachment:21bd350e-bad2-48ab-a29b-ce19801c56e9.png)"
   ]
  },
  {
   "cell_type": "markdown",
   "id": "9616a630-591b-4f8b-8f08-2c68bc3877c9",
   "metadata": {},
   "source": [
    "Otro error de un cariz parecido al anterior, vemos que en los números de más de tres cifras con decimales se usó el punto en los dos."
   ]
  },
  {
   "cell_type": "code",
   "execution_count": 994,
   "id": "87ec12b2-4830-46ba-abc2-aa75b29f7e21",
   "metadata": {},
   "outputs": [
    {
     "data": {
      "text/plain": [
       "title\n",
       "The Hunger Games                             5.09\n",
       "Harry Potter and the Order of the Phoenix    7.38\n",
       "To Kill a Mockingbird                         NaN\n",
       "Pride and Prejudice                           NaN\n",
       "Twilight                                      2.1\n",
       "                                             ... \n",
       "Fractured                                     NaN\n",
       "Anasazi                                       NaN\n",
       "Marked                                       7.37\n",
       "Wayward Son                                  2.86\n",
       "Daughter of Helaman                          5.20\n",
       "Name: price, Length: 52478, dtype: object"
      ]
     },
     "execution_count": 994,
     "metadata": {},
     "output_type": "execute_result"
    }
   ],
   "source": [
    "res = []\n",
    "for elem in X.price:\n",
    "    partes = str(elem).split('.')\n",
    "    if len(partes) > 2:\n",
    "        aux = [partes[0],partes[1],\".\",partes[2]]\n",
    "        res.append(''.join(aux))\n",
    "    elif len(partes) == 2:\n",
    "        aux = [partes[0],\".\",partes[1]]\n",
    "        res.append(''.join(aux))\n",
    "    else:\n",
    "        if partes[0] != 'nan':\n",
    "            res.append(partes[0])\n",
    "        else:\n",
    "            res.append(np.nan)\n",
    "            \n",
    "X = X.drop('price', axis = 1)\n",
    "\n",
    "X['price'] = res\n",
    "X.price"
   ]
  },
  {
   "cell_type": "code",
   "execution_count": 995,
   "id": "c4be5c6f-b9fd-473d-8222-11eaa39343a2",
   "metadata": {},
   "outputs": [],
   "source": [
    "X[['likedPercent', 'price']] = X[['likedPercent', 'price']].astype(np.float64)"
   ]
  },
  {
   "cell_type": "code",
   "execution_count": 996,
   "id": "8bdb21c5-25af-4be1-96f8-411a085568d9",
   "metadata": {},
   "outputs": [
    {
     "name": "stdout",
     "output_type": "stream",
     "text": [
      "<class 'pandas.core.frame.DataFrame'>\n",
      "Index: 52478 entries, The Hunger Games to Daughter of Helaman\n",
      "Data columns (total 15 columns):\n",
      " #   Column            Non-Null Count  Dtype  \n",
      "---  ------            --------------  -----  \n",
      " 0   language          48672 non-null  object \n",
      " 1   genres            52478 non-null  object \n",
      " 2   characters        52478 non-null  object \n",
      " 3   bookFormat        51005 non-null  object \n",
      " 4   pages             50108 non-null  float64\n",
      " 5   publishDate       51598 non-null  object \n",
      " 6   firstPublishDate  31152 non-null  object \n",
      " 7   awards            52478 non-null  object \n",
      " 8   numRatings        52478 non-null  int64  \n",
      " 9   ratingsByStars    52478 non-null  object \n",
      " 10  likedPercent      51856 non-null  float64\n",
      " 11  setting           52478 non-null  object \n",
      " 12  bbeScore          52478 non-null  int64  \n",
      " 13  bbeVotes          52478 non-null  int64  \n",
      " 14  price             38113 non-null  float64\n",
      "dtypes: float64(3), int64(3), object(9)\n",
      "memory usage: 8.4+ MB\n"
     ]
    }
   ],
   "source": [
    "X.info()"
   ]
  },
  {
   "cell_type": "code",
   "execution_count": 997,
   "id": "d911fee5-631e-47bd-91ea-e80500c77fcf",
   "metadata": {},
   "outputs": [
    {
     "data": {
      "text/html": [
       "<div>\n",
       "<style scoped>\n",
       "    .dataframe tbody tr th:only-of-type {\n",
       "        vertical-align: middle;\n",
       "    }\n",
       "\n",
       "    .dataframe tbody tr th {\n",
       "        vertical-align: top;\n",
       "    }\n",
       "\n",
       "    .dataframe thead th {\n",
       "        text-align: right;\n",
       "    }\n",
       "</style>\n",
       "<table border=\"1\" class=\"dataframe\">\n",
       "  <thead>\n",
       "    <tr style=\"text-align: right;\">\n",
       "      <th></th>\n",
       "      <th>pages</th>\n",
       "      <th>numRatings</th>\n",
       "      <th>likedPercent</th>\n",
       "      <th>bbeScore</th>\n",
       "      <th>bbeVotes</th>\n",
       "      <th>price</th>\n",
       "    </tr>\n",
       "  </thead>\n",
       "  <tbody>\n",
       "    <tr>\n",
       "      <th>count</th>\n",
       "      <td>50108.000000</td>\n",
       "      <td>5.247800e+04</td>\n",
       "      <td>51856.000000</td>\n",
       "      <td>5.247800e+04</td>\n",
       "      <td>52478.000000</td>\n",
       "      <td>38113.000000</td>\n",
       "    </tr>\n",
       "    <tr>\n",
       "      <th>mean</th>\n",
       "      <td>328.664864</td>\n",
       "      <td>1.787865e+04</td>\n",
       "      <td>92.231545</td>\n",
       "      <td>1.984023e+03</td>\n",
       "      <td>22.529003</td>\n",
       "      <td>10.414949</td>\n",
       "    </tr>\n",
       "    <tr>\n",
       "      <th>std</th>\n",
       "      <td>252.178359</td>\n",
       "      <td>1.039448e+05</td>\n",
       "      <td>5.990689</td>\n",
       "      <td>3.515314e+04</td>\n",
       "      <td>369.158541</td>\n",
       "      <td>60.213706</td>\n",
       "    </tr>\n",
       "    <tr>\n",
       "      <th>min</th>\n",
       "      <td>0.000000</td>\n",
       "      <td>0.000000e+00</td>\n",
       "      <td>0.000000</td>\n",
       "      <td>0.000000e+00</td>\n",
       "      <td>-4.000000</td>\n",
       "      <td>0.840000</td>\n",
       "    </tr>\n",
       "    <tr>\n",
       "      <th>25%</th>\n",
       "      <td>210.000000</td>\n",
       "      <td>3.410000e+02</td>\n",
       "      <td>90.000000</td>\n",
       "      <td>8.400000e+01</td>\n",
       "      <td>1.000000</td>\n",
       "      <td>3.240000</td>\n",
       "    </tr>\n",
       "    <tr>\n",
       "      <th>50%</th>\n",
       "      <td>304.000000</td>\n",
       "      <td>2.307000e+03</td>\n",
       "      <td>94.000000</td>\n",
       "      <td>9.700000e+01</td>\n",
       "      <td>1.000000</td>\n",
       "      <td>5.210000</td>\n",
       "    </tr>\n",
       "    <tr>\n",
       "      <th>75%</th>\n",
       "      <td>392.000000</td>\n",
       "      <td>9.380500e+03</td>\n",
       "      <td>96.000000</td>\n",
       "      <td>1.870000e+02</td>\n",
       "      <td>2.000000</td>\n",
       "      <td>8.860000</td>\n",
       "    </tr>\n",
       "    <tr>\n",
       "      <th>max</th>\n",
       "      <td>14777.000000</td>\n",
       "      <td>7.048471e+06</td>\n",
       "      <td>100.000000</td>\n",
       "      <td>2.993816e+06</td>\n",
       "      <td>30516.000000</td>\n",
       "      <td>8715.510000</td>\n",
       "    </tr>\n",
       "  </tbody>\n",
       "</table>\n",
       "</div>"
      ],
      "text/plain": [
       "              pages    numRatings  likedPercent      bbeScore      bbeVotes  \\\n",
       "count  50108.000000  5.247800e+04  51856.000000  5.247800e+04  52478.000000   \n",
       "mean     328.664864  1.787865e+04     92.231545  1.984023e+03     22.529003   \n",
       "std      252.178359  1.039448e+05      5.990689  3.515314e+04    369.158541   \n",
       "min        0.000000  0.000000e+00      0.000000  0.000000e+00     -4.000000   \n",
       "25%      210.000000  3.410000e+02     90.000000  8.400000e+01      1.000000   \n",
       "50%      304.000000  2.307000e+03     94.000000  9.700000e+01      1.000000   \n",
       "75%      392.000000  9.380500e+03     96.000000  1.870000e+02      2.000000   \n",
       "max    14777.000000  7.048471e+06    100.000000  2.993816e+06  30516.000000   \n",
       "\n",
       "              price  \n",
       "count  38113.000000  \n",
       "mean      10.414949  \n",
       "std       60.213706  \n",
       "min        0.840000  \n",
       "25%        3.240000  \n",
       "50%        5.210000  \n",
       "75%        8.860000  \n",
       "max     8715.510000  "
      ]
     },
     "execution_count": 997,
     "metadata": {},
     "output_type": "execute_result"
    }
   ],
   "source": [
    "X.describe()"
   ]
  },
  {
   "cell_type": "markdown",
   "id": "967f0494-21f7-4cad-8253-cdef770c0bf5",
   "metadata": {},
   "source": [
    "Libros con 0 páginas o votos negativos nos dan pistas de que eso son valores espurios, pero será mejor resolverlo en posteriores apartados. Aunque marcaremos los libros sin páginas como valores faltantes:"
   ]
  },
  {
   "cell_type": "code",
   "execution_count": 998,
   "id": "96f16f32-08cf-4794-992f-1104c970298b",
   "metadata": {},
   "outputs": [],
   "source": [
    "X[X.pages < 1] = np.nan"
   ]
  },
  {
   "cell_type": "code",
   "execution_count": 999,
   "id": "b2ebfd9a-4f15-4c4b-a58d-5bc072f1ef43",
   "metadata": {},
   "outputs": [
    {
     "data": {
      "text/html": [
       "<div>\n",
       "<style scoped>\n",
       "    .dataframe tbody tr th:only-of-type {\n",
       "        vertical-align: middle;\n",
       "    }\n",
       "\n",
       "    .dataframe tbody tr th {\n",
       "        vertical-align: top;\n",
       "    }\n",
       "\n",
       "    .dataframe thead th {\n",
       "        text-align: right;\n",
       "    }\n",
       "</style>\n",
       "<table border=\"1\" class=\"dataframe\">\n",
       "  <thead>\n",
       "    <tr style=\"text-align: right;\">\n",
       "      <th></th>\n",
       "      <th>pages</th>\n",
       "      <th>numRatings</th>\n",
       "      <th>likedPercent</th>\n",
       "      <th>bbeScore</th>\n",
       "      <th>bbeVotes</th>\n",
       "      <th>price</th>\n",
       "    </tr>\n",
       "  </thead>\n",
       "  <tbody>\n",
       "    <tr>\n",
       "      <th>count</th>\n",
       "      <td>49944.000000</td>\n",
       "      <td>5.231400e+04</td>\n",
       "      <td>51698.000000</td>\n",
       "      <td>5.231400e+04</td>\n",
       "      <td>52314.000000</td>\n",
       "      <td>38042.000000</td>\n",
       "    </tr>\n",
       "    <tr>\n",
       "      <th>mean</th>\n",
       "      <td>329.744093</td>\n",
       "      <td>1.792728e+04</td>\n",
       "      <td>92.232156</td>\n",
       "      <td>1.989860e+03</td>\n",
       "      <td>22.594602</td>\n",
       "      <td>10.372188</td>\n",
       "    </tr>\n",
       "    <tr>\n",
       "      <th>std</th>\n",
       "      <td>251.886630</td>\n",
       "      <td>1.041035e+05</td>\n",
       "      <td>5.988560</td>\n",
       "      <td>3.520805e+04</td>\n",
       "      <td>369.734813</td>\n",
       "      <td>60.114667</td>\n",
       "    </tr>\n",
       "    <tr>\n",
       "      <th>min</th>\n",
       "      <td>2.000000</td>\n",
       "      <td>0.000000e+00</td>\n",
       "      <td>0.000000</td>\n",
       "      <td>0.000000e+00</td>\n",
       "      <td>-4.000000</td>\n",
       "      <td>0.840000</td>\n",
       "    </tr>\n",
       "    <tr>\n",
       "      <th>25%</th>\n",
       "      <td>212.000000</td>\n",
       "      <td>3.430000e+02</td>\n",
       "      <td>90.000000</td>\n",
       "      <td>8.400000e+01</td>\n",
       "      <td>1.000000</td>\n",
       "      <td>3.240000</td>\n",
       "    </tr>\n",
       "    <tr>\n",
       "      <th>50%</th>\n",
       "      <td>304.000000</td>\n",
       "      <td>2.323500e+03</td>\n",
       "      <td>94.000000</td>\n",
       "      <td>9.700000e+01</td>\n",
       "      <td>1.000000</td>\n",
       "      <td>5.200000</td>\n",
       "    </tr>\n",
       "    <tr>\n",
       "      <th>75%</th>\n",
       "      <td>392.000000</td>\n",
       "      <td>9.408750e+03</td>\n",
       "      <td>96.000000</td>\n",
       "      <td>1.870000e+02</td>\n",
       "      <td>2.000000</td>\n",
       "      <td>8.850000</td>\n",
       "    </tr>\n",
       "    <tr>\n",
       "      <th>max</th>\n",
       "      <td>14777.000000</td>\n",
       "      <td>7.048471e+06</td>\n",
       "      <td>100.000000</td>\n",
       "      <td>2.993816e+06</td>\n",
       "      <td>30516.000000</td>\n",
       "      <td>8715.510000</td>\n",
       "    </tr>\n",
       "  </tbody>\n",
       "</table>\n",
       "</div>"
      ],
      "text/plain": [
       "              pages    numRatings  likedPercent      bbeScore      bbeVotes  \\\n",
       "count  49944.000000  5.231400e+04  51698.000000  5.231400e+04  52314.000000   \n",
       "mean     329.744093  1.792728e+04     92.232156  1.989860e+03     22.594602   \n",
       "std      251.886630  1.041035e+05      5.988560  3.520805e+04    369.734813   \n",
       "min        2.000000  0.000000e+00      0.000000  0.000000e+00     -4.000000   \n",
       "25%      212.000000  3.430000e+02     90.000000  8.400000e+01      1.000000   \n",
       "50%      304.000000  2.323500e+03     94.000000  9.700000e+01      1.000000   \n",
       "75%      392.000000  9.408750e+03     96.000000  1.870000e+02      2.000000   \n",
       "max    14777.000000  7.048471e+06    100.000000  2.993816e+06  30516.000000   \n",
       "\n",
       "              price  \n",
       "count  38042.000000  \n",
       "mean      10.372188  \n",
       "std       60.114667  \n",
       "min        0.840000  \n",
       "25%        3.240000  \n",
       "50%        5.200000  \n",
       "75%        8.850000  \n",
       "max     8715.510000  "
      ]
     },
     "execution_count": 999,
     "metadata": {},
     "output_type": "execute_result"
    }
   ],
   "source": [
    "X.describe()"
   ]
  },
  {
   "cell_type": "code",
   "execution_count": 1000,
   "id": "3806e3d3-9e8a-4b9e-a166-794057686c49",
   "metadata": {},
   "outputs": [
    {
     "name": "stdout",
     "output_type": "stream",
     "text": [
      "<class 'pandas.core.series.Series'>\n",
      "RangeIndex: 52478 entries, 0 to 52477\n",
      "Series name: rating\n",
      "Non-Null Count  Dtype  \n",
      "--------------  -----  \n",
      "52478 non-null  float64\n",
      "dtypes: float64(1)\n",
      "memory usage: 410.1 KB\n"
     ]
    }
   ],
   "source": [
    "y = y.astype(np.float64)\n",
    "y.info()"
   ]
  },
  {
   "cell_type": "code",
   "execution_count": 1001,
   "id": "1326465c-2113-4e9d-abab-0fb432624e60",
   "metadata": {},
   "outputs": [
    {
     "data": {
      "text/plain": [
       "count    52478.000000\n",
       "mean         4.021878\n",
       "std          0.367146\n",
       "min          0.000000\n",
       "25%          3.820000\n",
       "50%          4.030000\n",
       "75%          4.230000\n",
       "max          5.000000\n",
       "Name: rating, dtype: float64"
      ]
     },
     "execution_count": 1001,
     "metadata": {},
     "output_type": "execute_result"
    }
   ],
   "source": [
    "y.describe()"
   ]
  },
  {
   "cell_type": "markdown",
   "id": "0da87307-36ce-4af3-b038-3828c49c07c3",
   "metadata": {},
   "source": [
    "#### 1.2.3. Tratamiento de variables categóricas"
   ]
  },
  {
   "cell_type": "markdown",
   "id": "b38de453-3db7-4879-9e6a-17905b9aedb1",
   "metadata": {},
   "source": [
    "En este apartado trataremos las dos variables categóricas \"language\" y \"bookFormat\"."
   ]
  },
  {
   "cell_type": "markdown",
   "id": "bb262338-08aa-4bb8-ad77-d0b4a6421c17",
   "metadata": {},
   "source": [
    "Primero nos definimos unas funciones auxiliares para facilitar el proceso."
   ]
  },
  {
   "cell_type": "code",
   "execution_count": 1002,
   "id": "8522ee70-f355-4b53-a2dd-1d956de44a6d",
   "metadata": {
    "tags": []
   },
   "outputs": [],
   "source": [
    "def mas_populares(lista, n):\n",
    "    unique_values = pd.unique(lista)\n",
    "    value_counts = pd.value_counts(lista)\n",
    "    unique_values_sorted = value_counts.sort_values(ascending=False).index\n",
    "    return unique_values_sorted[0:n]\n",
    "\n",
    "def mas_populares_df(X, col_name, n):\n",
    "    return mas_populares(X[col_name], n)"
   ]
  },
  {
   "cell_type": "code",
   "execution_count": 1003,
   "id": "348a8bc0-013f-4ecb-968b-6fbae3b5483a",
   "metadata": {},
   "outputs": [
    {
     "name": "stdout",
     "output_type": "stream",
     "text": [
      "Index(['English', 'Arabic', 'Spanish', 'French', 'German', 'Indonesian',\n",
      "       'Portuguese', 'Italian', 'Dutch', 'Turkish', 'Persian', 'Polish',\n",
      "       'Greek, Modern (1453-)', 'Russian', 'Japanese', 'Swedish', 'Romanian',\n",
      "       'Bengali', 'Malay', 'Bulgarian'],\n",
      "      dtype='object')\n",
      "Index(['Paperback', 'Hardcover', 'Kindle Edition', 'Mass Market Paperback',\n",
      "       'ebook', 'Audio CD', 'Nook', 'Unknown Binding', 'Audiobook',\n",
      "       'Trade Paperback'],\n",
      "      dtype='object')\n"
     ]
    }
   ],
   "source": [
    "print(mas_populares_df(X, 'language', 20))\n",
    "print(mas_populares_df(X, 'bookFormat', 10))"
   ]
  },
  {
   "cell_type": "markdown",
   "id": "c85d725e-05e2-4989-86bd-e3cf316851a3",
   "metadata": {},
   "source": [
    "Vemos que entre los idimos más populares está el griego moderno, pero para que no figure en ese fromato lo transformaremos más adelante.\n",
    "<br><br>\n",
    "Entre los formato de libros, vemos que muchos son muy parecidos de una misma categoría; por ello, los agruparemos para no tener muchas columnas."
   ]
  },
  {
   "cell_type": "code",
   "execution_count": 1004,
   "id": "0d8a77a0-70fa-4da7-87b2-a643c1c124ed",
   "metadata": {},
   "outputs": [
    {
     "name": "stdout",
     "output_type": "stream",
     "text": [
      "<class 'pandas.core.frame.DataFrame'>\n",
      "Index: 52478 entries, The Hunger Games to Daughter of Helaman\n",
      "Data columns (total 15 columns):\n",
      " #   Column            Non-Null Count  Dtype  \n",
      "---  ------            --------------  -----  \n",
      " 0   language          48554 non-null  object \n",
      " 1   genres            52314 non-null  object \n",
      " 2   characters        52314 non-null  object \n",
      " 3   bookFormat        50841 non-null  object \n",
      " 4   pages             49944 non-null  float64\n",
      " 5   publishDate       51435 non-null  object \n",
      " 6   firstPublishDate  31037 non-null  object \n",
      " 7   awards            52314 non-null  object \n",
      " 8   numRatings        52314 non-null  float64\n",
      " 9   ratingsByStars    52314 non-null  object \n",
      " 10  likedPercent      51698 non-null  float64\n",
      " 11  setting           52314 non-null  object \n",
      " 12  bbeScore          52314 non-null  float64\n",
      " 13  bbeVotes          52314 non-null  float64\n",
      " 14  price             38042 non-null  float64\n",
      "dtypes: float64(6), object(9)\n",
      "memory usage: 8.4+ MB\n"
     ]
    }
   ],
   "source": [
    "X.info()"
   ]
  },
  {
   "cell_type": "code",
   "execution_count": 1005,
   "id": "67cb3e38-8a24-48cd-a3de-4c5ef91ab870",
   "metadata": {},
   "outputs": [],
   "source": [
    "X['language'] = X['language'].where(X['language'].isin(mas_populares_df(X, 'language', 20)), np.nan)\n",
    "X['bookFormat'] = X['bookFormat'].where(X['bookFormat'].isin(mas_populares_df(X, 'bookFormat', 5)), np.nan)"
   ]
  },
  {
   "cell_type": "code",
   "execution_count": 1006,
   "id": "b791859f-2796-4a93-96bd-8ce555878cd6",
   "metadata": {},
   "outputs": [
    {
     "name": "stdout",
     "output_type": "stream",
     "text": [
      "<class 'pandas.core.frame.DataFrame'>\n",
      "Index: 52478 entries, The Hunger Games to Daughter of Helaman\n",
      "Data columns (total 15 columns):\n",
      " #   Column            Non-Null Count  Dtype  \n",
      "---  ------            --------------  -----  \n",
      " 0   language          47811 non-null  object \n",
      " 1   genres            52314 non-null  object \n",
      " 2   characters        52314 non-null  object \n",
      " 3   bookFormat        49896 non-null  object \n",
      " 4   pages             49944 non-null  float64\n",
      " 5   publishDate       51435 non-null  object \n",
      " 6   firstPublishDate  31037 non-null  object \n",
      " 7   awards            52314 non-null  object \n",
      " 8   numRatings        52314 non-null  float64\n",
      " 9   ratingsByStars    52314 non-null  object \n",
      " 10  likedPercent      51698 non-null  float64\n",
      " 11  setting           52314 non-null  object \n",
      " 12  bbeScore          52314 non-null  float64\n",
      " 13  bbeVotes          52314 non-null  float64\n",
      " 14  price             38042 non-null  float64\n",
      "dtypes: float64(6), object(9)\n",
      "memory usage: 8.4+ MB\n"
     ]
    }
   ],
   "source": [
    "X.info()"
   ]
  },
  {
   "cell_type": "code",
   "execution_count": 1007,
   "id": "bbd604ea-ae42-4fac-84e9-b926969bec59",
   "metadata": {},
   "outputs": [],
   "source": [
    "X['language'] = X['language'].replace('Greek, Modern (1453-)', 'Greek')"
   ]
  },
  {
   "cell_type": "code",
   "execution_count": 1008,
   "id": "0bfc9bb6-5cdf-4c42-ab3f-f659b17ec8e9",
   "metadata": {
    "tags": []
   },
   "outputs": [],
   "source": [
    "X['bookFormat'] = X['bookFormat'].replace('Kindle Edition', 'Digital')\n",
    "X['bookFormat'] = X['bookFormat'].replace('ebook', 'Digital')\n",
    "X['bookFormat'] = X['bookFormat'].replace('Nook', 'Digital')\n",
    "\n",
    "X['bookFormat'] = X['bookFormat'].replace('Mass Market Paperback', 'Paperback')\n",
    "X['bookFormat'] = X['bookFormat'].replace('Trade Paperback', 'Paperback')\n",
    "\n",
    "X['bookFormat'] = X['bookFormat'].replace('Audio CD', 'Audio')\n",
    "X['bookFormat'] = X['bookFormat'].replace('Audiobook', 'Audio')\n",
    "\n",
    "X['bookFormat'] = X['bookFormat'].replace('Unknown Binding', np.nan)"
   ]
  },
  {
   "cell_type": "code",
   "execution_count": 1009,
   "id": "86630041-c3eb-4fbe-b67d-a34f07bd5d1a",
   "metadata": {},
   "outputs": [
    {
     "data": {
      "text/plain": [
       "array(['Hardcover', 'Paperback', 'Digital', nan], dtype=object)"
      ]
     },
     "execution_count": 1009,
     "metadata": {},
     "output_type": "execute_result"
    }
   ],
   "source": [
    "X.bookFormat.unique()"
   ]
  },
  {
   "cell_type": "markdown",
   "id": "65bc230e-c93a-49d8-a4d7-69410bfc6481",
   "metadata": {},
   "source": [
    "Vemos que ya hemos terminado con este apartado, pasemos a las fechas."
   ]
  },
  {
   "cell_type": "markdown",
   "id": "5e0e82dc-616d-43b0-97bc-eae25c442a7d",
   "metadata": {
    "tags": []
   },
   "source": [
    "#### 1.2.4. Tratamiento de fechas\n"
   ]
  },
  {
   "cell_type": "code",
   "execution_count": 1010,
   "id": "2635d2bd-79e5-42fd-bfc6-939b17333968",
   "metadata": {},
   "outputs": [
    {
     "name": "stdout",
     "output_type": "stream",
     "text": [
      "<class 'pandas.core.frame.DataFrame'>\n",
      "Index: 52478 entries, The Hunger Games to Daughter of Helaman\n",
      "Data columns (total 2 columns):\n",
      " #   Column            Non-Null Count  Dtype \n",
      "---  ------            --------------  ----- \n",
      " 0   publishDate       51435 non-null  object\n",
      " 1   firstPublishDate  31037 non-null  object\n",
      "dtypes: object(2)\n",
      "memory usage: 3.2+ MB\n"
     ]
    }
   ],
   "source": [
    "X[['publishDate', 'firstPublishDate']].info()"
   ]
  },
  {
   "cell_type": "code",
   "execution_count": 1011,
   "id": "2220e689-2e1e-42a8-9f9c-2034469bf342",
   "metadata": {},
   "outputs": [],
   "source": [
    "X = X.drop(['firstPublishDate'], axis=1)"
   ]
  },
  {
   "cell_type": "code",
   "execution_count": 1012,
   "id": "e38c132b-dfff-4101-bb0e-85c8e0d731a5",
   "metadata": {},
   "outputs": [
    {
     "data": {
      "text/plain": [
       "title\n",
       "The Hunger Games                                       09/14/08\n",
       "Harry Potter and the Order of the Phoenix              09/28/04\n",
       "To Kill a Mockingbird                                  05/23/06\n",
       "Pride and Prejudice                                    10/10/00\n",
       "Twilight                                               09/06/06\n",
       "                                                    ...        \n",
       "Fractured                                                   NaN\n",
       "Anasazi                                         August 5th 2011\n",
       "Marked                                          March 18th 2011\n",
       "Wayward Son                                  September 1st 2011\n",
       "Daughter of Helaman                                May 8th 2011\n",
       "Name: publishDate, Length: 52478, dtype: object"
      ]
     },
     "execution_count": 1012,
     "metadata": {},
     "output_type": "execute_result"
    }
   ],
   "source": [
    "X['publishDate']"
   ]
  },
  {
   "cell_type": "code",
   "execution_count": 1013,
   "id": "e9e348f9-ea30-420a-9153-30629d9e020b",
   "metadata": {},
   "outputs": [
    {
     "data": {
      "text/plain": [
       "title\n",
       "The Hunger Games                            2008-09-14\n",
       "Harry Potter and the Order of the Phoenix   2004-09-28\n",
       "To Kill a Mockingbird                       2006-05-23\n",
       "Pride and Prejudice                         2000-10-10\n",
       "Twilight                                    2006-09-06\n",
       "                                               ...    \n",
       "Fractured                                          NaT\n",
       "Anasazi                                     2011-08-05\n",
       "Marked                                      2011-03-18\n",
       "Wayward Son                                 2011-09-01\n",
       "Daughter of Helaman                         2011-05-08\n",
       "Name: publishDate, Length: 52478, dtype: datetime64[ns]"
      ]
     },
     "execution_count": 1013,
     "metadata": {},
     "output_type": "execute_result"
    }
   ],
   "source": [
    "X['publishDate'] = pd.to_datetime(X['publishDate'], errors='coerce')\n",
    "X['publishDate']"
   ]
  },
  {
   "cell_type": "code",
   "execution_count": 1014,
   "id": "25ce973e-45cf-4acf-85ec-32942b8dbef5",
   "metadata": {
    "tags": []
   },
   "outputs": [
    {
     "data": {
      "text/html": [
       "<div>\n",
       "<style scoped>\n",
       "    .dataframe tbody tr th:only-of-type {\n",
       "        vertical-align: middle;\n",
       "    }\n",
       "\n",
       "    .dataframe tbody tr th {\n",
       "        vertical-align: top;\n",
       "    }\n",
       "\n",
       "    .dataframe thead th {\n",
       "        text-align: right;\n",
       "    }\n",
       "</style>\n",
       "<table border=\"1\" class=\"dataframe\">\n",
       "  <thead>\n",
       "    <tr style=\"text-align: right;\">\n",
       "      <th></th>\n",
       "      <th>language</th>\n",
       "      <th>genres</th>\n",
       "      <th>characters</th>\n",
       "      <th>bookFormat</th>\n",
       "      <th>pages</th>\n",
       "      <th>awards</th>\n",
       "      <th>numRatings</th>\n",
       "      <th>ratingsByStars</th>\n",
       "      <th>likedPercent</th>\n",
       "      <th>setting</th>\n",
       "      <th>bbeScore</th>\n",
       "      <th>bbeVotes</th>\n",
       "      <th>price</th>\n",
       "      <th>publishYear</th>\n",
       "      <th>publishMonth</th>\n",
       "      <th>publishDay</th>\n",
       "    </tr>\n",
       "    <tr>\n",
       "      <th>title</th>\n",
       "      <th></th>\n",
       "      <th></th>\n",
       "      <th></th>\n",
       "      <th></th>\n",
       "      <th></th>\n",
       "      <th></th>\n",
       "      <th></th>\n",
       "      <th></th>\n",
       "      <th></th>\n",
       "      <th></th>\n",
       "      <th></th>\n",
       "      <th></th>\n",
       "      <th></th>\n",
       "      <th></th>\n",
       "      <th></th>\n",
       "      <th></th>\n",
       "    </tr>\n",
       "  </thead>\n",
       "  <tbody>\n",
       "    <tr>\n",
       "      <th>The Hunger Games</th>\n",
       "      <td>English</td>\n",
       "      <td>['Young Adult', 'Fiction', 'Dystopia', 'Fantas...</td>\n",
       "      <td>['Katniss Everdeen', 'Peeta Mellark', 'Cato (H...</td>\n",
       "      <td>Hardcover</td>\n",
       "      <td>374.0</td>\n",
       "      <td>['Locus Award Nominee for Best Young Adult Boo...</td>\n",
       "      <td>6376780.0</td>\n",
       "      <td>['3444695', '1921313', '745221', '171994', '93...</td>\n",
       "      <td>96.0</td>\n",
       "      <td>['District 12, Panem', 'Capitol, Panem', 'Pane...</td>\n",
       "      <td>2993816.0</td>\n",
       "      <td>30516.0</td>\n",
       "      <td>5.09</td>\n",
       "      <td>2008.0</td>\n",
       "      <td>9.0</td>\n",
       "      <td>14.0</td>\n",
       "    </tr>\n",
       "  </tbody>\n",
       "</table>\n",
       "</div>"
      ],
      "text/plain": [
       "                 language                                             genres  \\\n",
       "title                                                                          \n",
       "The Hunger Games  English  ['Young Adult', 'Fiction', 'Dystopia', 'Fantas...   \n",
       "\n",
       "                                                         characters  \\\n",
       "title                                                                 \n",
       "The Hunger Games  ['Katniss Everdeen', 'Peeta Mellark', 'Cato (H...   \n",
       "\n",
       "                 bookFormat  pages  \\\n",
       "title                                \n",
       "The Hunger Games  Hardcover  374.0   \n",
       "\n",
       "                                                             awards  \\\n",
       "title                                                                 \n",
       "The Hunger Games  ['Locus Award Nominee for Best Young Adult Boo...   \n",
       "\n",
       "                  numRatings  \\\n",
       "title                          \n",
       "The Hunger Games   6376780.0   \n",
       "\n",
       "                                                     ratingsByStars  \\\n",
       "title                                                                 \n",
       "The Hunger Games  ['3444695', '1921313', '745221', '171994', '93...   \n",
       "\n",
       "                  likedPercent  \\\n",
       "title                            \n",
       "The Hunger Games          96.0   \n",
       "\n",
       "                                                            setting  \\\n",
       "title                                                                 \n",
       "The Hunger Games  ['District 12, Panem', 'Capitol, Panem', 'Pane...   \n",
       "\n",
       "                   bbeScore  bbeVotes  price  publishYear  publishMonth  \\\n",
       "title                                                                     \n",
       "The Hunger Games  2993816.0   30516.0   5.09       2008.0           9.0   \n",
       "\n",
       "                  publishDay  \n",
       "title                         \n",
       "The Hunger Games        14.0  "
      ]
     },
     "execution_count": 1014,
     "metadata": {},
     "output_type": "execute_result"
    }
   ],
   "source": [
    "X['publishYear'] = X['publishDate'].dt.year\n",
    "X['publishMonth'] = X['publishDate'].dt.month\n",
    "X['publishDay'] = X['publishDate'].dt.day\n",
    "\n",
    "X = X.drop(['publishDate'], axis=1)\n",
    "\n",
    "X.head(1)"
   ]
  },
  {
   "cell_type": "markdown",
   "id": "b0594521-f675-46ba-83ec-cc5696bf4dcf",
   "metadata": {},
   "source": [
    "#### 1.2.5. Tratamiento de variables con formato lista"
   ]
  },
  {
   "cell_type": "markdown",
   "id": "d3d28197-786b-4c14-ae95-c07817c2630d",
   "metadata": {},
   "source": [
    "Vamos a crear un método que transforme las variables con una cadena semejante a una lista en éstas."
   ]
  },
  {
   "cell_type": "code",
   "execution_count": 1015,
   "id": "527feeb3-203f-4f66-8e89-aa911321445a",
   "metadata": {},
   "outputs": [],
   "source": [
    "import ast\n",
    "\n",
    "def trans_list(nom_col, X):\n",
    "    res = []\n",
    "    for elem in X[nom_col]:\n",
    "        if pd.isna(elem):\n",
    "                res.append(np.nan)\n",
    "        else:\n",
    "            res.append(ast.literal_eval(elem))\n",
    "    return res"
   ]
  },
  {
   "cell_type": "markdown",
   "id": "d0ac3fad-d0f7-42e2-98c1-963a467f2e3a",
   "metadata": {},
   "source": [
    "Primero, vamos a decidir qué variables queremos preprocesar y cuales eliminar porque la información que nos pueden aportar no sea suficiente. Eliminemos estas variables."
   ]
  },
  {
   "cell_type": "code",
   "execution_count": 1016,
   "id": "5b270201-8e5e-40d7-a396-ae88cd0c139f",
   "metadata": {},
   "outputs": [
    {
     "data": {
      "text/html": [
       "<div>\n",
       "<style scoped>\n",
       "    .dataframe tbody tr th:only-of-type {\n",
       "        vertical-align: middle;\n",
       "    }\n",
       "\n",
       "    .dataframe tbody tr th {\n",
       "        vertical-align: top;\n",
       "    }\n",
       "\n",
       "    .dataframe thead th {\n",
       "        text-align: right;\n",
       "    }\n",
       "</style>\n",
       "<table border=\"1\" class=\"dataframe\">\n",
       "  <thead>\n",
       "    <tr style=\"text-align: right;\">\n",
       "      <th></th>\n",
       "      <th>language</th>\n",
       "      <th>genres</th>\n",
       "      <th>bookFormat</th>\n",
       "      <th>pages</th>\n",
       "      <th>awards</th>\n",
       "      <th>numRatings</th>\n",
       "      <th>ratingsByStars</th>\n",
       "      <th>likedPercent</th>\n",
       "      <th>bbeScore</th>\n",
       "      <th>bbeVotes</th>\n",
       "      <th>price</th>\n",
       "      <th>publishYear</th>\n",
       "      <th>publishMonth</th>\n",
       "      <th>publishDay</th>\n",
       "    </tr>\n",
       "    <tr>\n",
       "      <th>title</th>\n",
       "      <th></th>\n",
       "      <th></th>\n",
       "      <th></th>\n",
       "      <th></th>\n",
       "      <th></th>\n",
       "      <th></th>\n",
       "      <th></th>\n",
       "      <th></th>\n",
       "      <th></th>\n",
       "      <th></th>\n",
       "      <th></th>\n",
       "      <th></th>\n",
       "      <th></th>\n",
       "      <th></th>\n",
       "    </tr>\n",
       "  </thead>\n",
       "  <tbody>\n",
       "    <tr>\n",
       "      <th>The Hunger Games</th>\n",
       "      <td>English</td>\n",
       "      <td>['Young Adult', 'Fiction', 'Dystopia', 'Fantas...</td>\n",
       "      <td>Hardcover</td>\n",
       "      <td>374.0</td>\n",
       "      <td>['Locus Award Nominee for Best Young Adult Boo...</td>\n",
       "      <td>6376780.0</td>\n",
       "      <td>['3444695', '1921313', '745221', '171994', '93...</td>\n",
       "      <td>96.0</td>\n",
       "      <td>2993816.0</td>\n",
       "      <td>30516.0</td>\n",
       "      <td>5.09</td>\n",
       "      <td>2008.0</td>\n",
       "      <td>9.0</td>\n",
       "      <td>14.0</td>\n",
       "    </tr>\n",
       "    <tr>\n",
       "      <th>Harry Potter and the Order of the Phoenix</th>\n",
       "      <td>English</td>\n",
       "      <td>['Fantasy', 'Young Adult', 'Fiction', 'Magic',...</td>\n",
       "      <td>Paperback</td>\n",
       "      <td>870.0</td>\n",
       "      <td>['Bram Stoker Award for Works for Young Reader...</td>\n",
       "      <td>2507623.0</td>\n",
       "      <td>['1593642', '637516', '222366', '39573', '14526']</td>\n",
       "      <td>98.0</td>\n",
       "      <td>2632233.0</td>\n",
       "      <td>26923.0</td>\n",
       "      <td>7.38</td>\n",
       "      <td>2004.0</td>\n",
       "      <td>9.0</td>\n",
       "      <td>28.0</td>\n",
       "    </tr>\n",
       "    <tr>\n",
       "      <th>To Kill a Mockingbird</th>\n",
       "      <td>English</td>\n",
       "      <td>['Classics', 'Fiction', 'Historical Fiction', ...</td>\n",
       "      <td>Paperback</td>\n",
       "      <td>324.0</td>\n",
       "      <td>['Pulitzer Prize for Fiction (1961)', 'Audie A...</td>\n",
       "      <td>4501075.0</td>\n",
       "      <td>['2363896', '1333153', '573280', '149952', '80...</td>\n",
       "      <td>95.0</td>\n",
       "      <td>2269402.0</td>\n",
       "      <td>23328.0</td>\n",
       "      <td>NaN</td>\n",
       "      <td>2006.0</td>\n",
       "      <td>5.0</td>\n",
       "      <td>23.0</td>\n",
       "    </tr>\n",
       "    <tr>\n",
       "      <th>Pride and Prejudice</th>\n",
       "      <td>English</td>\n",
       "      <td>['Classics', 'Fiction', 'Romance', 'Historical...</td>\n",
       "      <td>Paperback</td>\n",
       "      <td>279.0</td>\n",
       "      <td>[]</td>\n",
       "      <td>2998241.0</td>\n",
       "      <td>['1617567', '816659', '373311', '113934', '767...</td>\n",
       "      <td>94.0</td>\n",
       "      <td>1983116.0</td>\n",
       "      <td>20452.0</td>\n",
       "      <td>NaN</td>\n",
       "      <td>2000.0</td>\n",
       "      <td>10.0</td>\n",
       "      <td>10.0</td>\n",
       "    </tr>\n",
       "    <tr>\n",
       "      <th>Twilight</th>\n",
       "      <td>English</td>\n",
       "      <td>['Young Adult', 'Fantasy', 'Romance', 'Vampire...</td>\n",
       "      <td>Paperback</td>\n",
       "      <td>501.0</td>\n",
       "      <td>['Georgia Peach Book Award (2007)', 'Buxtehude...</td>\n",
       "      <td>4964519.0</td>\n",
       "      <td>['1751460', '1113682', '1008686', '542017', '5...</td>\n",
       "      <td>78.0</td>\n",
       "      <td>1459448.0</td>\n",
       "      <td>14874.0</td>\n",
       "      <td>2.10</td>\n",
       "      <td>2006.0</td>\n",
       "      <td>9.0</td>\n",
       "      <td>6.0</td>\n",
       "    </tr>\n",
       "  </tbody>\n",
       "</table>\n",
       "</div>"
      ],
      "text/plain": [
       "                                          language  \\\n",
       "title                                                \n",
       "The Hunger Games                           English   \n",
       "Harry Potter and the Order of the Phoenix  English   \n",
       "To Kill a Mockingbird                      English   \n",
       "Pride and Prejudice                        English   \n",
       "Twilight                                   English   \n",
       "\n",
       "                                                                                      genres  \\\n",
       "title                                                                                          \n",
       "The Hunger Games                           ['Young Adult', 'Fiction', 'Dystopia', 'Fantas...   \n",
       "Harry Potter and the Order of the Phoenix  ['Fantasy', 'Young Adult', 'Fiction', 'Magic',...   \n",
       "To Kill a Mockingbird                      ['Classics', 'Fiction', 'Historical Fiction', ...   \n",
       "Pride and Prejudice                        ['Classics', 'Fiction', 'Romance', 'Historical...   \n",
       "Twilight                                   ['Young Adult', 'Fantasy', 'Romance', 'Vampire...   \n",
       "\n",
       "                                          bookFormat  pages  \\\n",
       "title                                                         \n",
       "The Hunger Games                           Hardcover  374.0   \n",
       "Harry Potter and the Order of the Phoenix  Paperback  870.0   \n",
       "To Kill a Mockingbird                      Paperback  324.0   \n",
       "Pride and Prejudice                        Paperback  279.0   \n",
       "Twilight                                   Paperback  501.0   \n",
       "\n",
       "                                                                                      awards  \\\n",
       "title                                                                                          \n",
       "The Hunger Games                           ['Locus Award Nominee for Best Young Adult Boo...   \n",
       "Harry Potter and the Order of the Phoenix  ['Bram Stoker Award for Works for Young Reader...   \n",
       "To Kill a Mockingbird                      ['Pulitzer Prize for Fiction (1961)', 'Audie A...   \n",
       "Pride and Prejudice                                                                       []   \n",
       "Twilight                                   ['Georgia Peach Book Award (2007)', 'Buxtehude...   \n",
       "\n",
       "                                           numRatings  \\\n",
       "title                                                   \n",
       "The Hunger Games                            6376780.0   \n",
       "Harry Potter and the Order of the Phoenix   2507623.0   \n",
       "To Kill a Mockingbird                       4501075.0   \n",
       "Pride and Prejudice                         2998241.0   \n",
       "Twilight                                    4964519.0   \n",
       "\n",
       "                                                                              ratingsByStars  \\\n",
       "title                                                                                          \n",
       "The Hunger Games                           ['3444695', '1921313', '745221', '171994', '93...   \n",
       "Harry Potter and the Order of the Phoenix  ['1593642', '637516', '222366', '39573', '14526']   \n",
       "To Kill a Mockingbird                      ['2363896', '1333153', '573280', '149952', '80...   \n",
       "Pride and Prejudice                        ['1617567', '816659', '373311', '113934', '767...   \n",
       "Twilight                                   ['1751460', '1113682', '1008686', '542017', '5...   \n",
       "\n",
       "                                           likedPercent   bbeScore  bbeVotes  \\\n",
       "title                                                                          \n",
       "The Hunger Games                                   96.0  2993816.0   30516.0   \n",
       "Harry Potter and the Order of the Phoenix          98.0  2632233.0   26923.0   \n",
       "To Kill a Mockingbird                              95.0  2269402.0   23328.0   \n",
       "Pride and Prejudice                                94.0  1983116.0   20452.0   \n",
       "Twilight                                           78.0  1459448.0   14874.0   \n",
       "\n",
       "                                           price  publishYear  publishMonth  \\\n",
       "title                                                                         \n",
       "The Hunger Games                            5.09       2008.0           9.0   \n",
       "Harry Potter and the Order of the Phoenix   7.38       2004.0           9.0   \n",
       "To Kill a Mockingbird                        NaN       2006.0           5.0   \n",
       "Pride and Prejudice                          NaN       2000.0          10.0   \n",
       "Twilight                                    2.10       2006.0           9.0   \n",
       "\n",
       "                                           publishDay  \n",
       "title                                                  \n",
       "The Hunger Games                                 14.0  \n",
       "Harry Potter and the Order of the Phoenix        28.0  \n",
       "To Kill a Mockingbird                            23.0  \n",
       "Pride and Prejudice                              10.0  \n",
       "Twilight                                          6.0  "
      ]
     },
     "execution_count": 1016,
     "metadata": {},
     "output_type": "execute_result"
    }
   ],
   "source": [
    "X = X.drop(['characters', 'setting'], axis=1)\n",
    "X.head()"
   ]
  },
  {
   "cell_type": "markdown",
   "id": "63158691-7395-4dc3-86be-283a5020b487",
   "metadata": {},
   "source": [
    "Y ahora transformemos las que sí que deseamos transformar a listas."
   ]
  },
  {
   "cell_type": "code",
   "execution_count": 1017,
   "id": "b5d75ba0-5ef8-423a-a86c-7af7f272706b",
   "metadata": {},
   "outputs": [],
   "source": [
    "res = trans_list('genres', X)\n",
    "X = X.drop('genres', axis = 1)\n",
    "X['genres'] = res\n",
    "\n",
    "res = trans_list('ratingsByStars', X)\n",
    "X = X.drop('ratingsByStars', axis = 1)\n",
    "X['ratingsByStars'] = res\n",
    "\n",
    "res = trans_list('awards', X)\n",
    "X = X.drop('awards', axis = 1)\n",
    "X['awards'] = res"
   ]
  },
  {
   "cell_type": "code",
   "execution_count": 1018,
   "id": "efb0a047-a603-4e74-b7f4-6b9ab92c5ea4",
   "metadata": {},
   "outputs": [
    {
     "data": {
      "text/plain": [
       "'Young Adult'"
      ]
     },
     "execution_count": 1018,
     "metadata": {},
     "output_type": "execute_result"
    }
   ],
   "source": [
    "X.genres[0][0]"
   ]
  },
  {
   "cell_type": "markdown",
   "id": "89077cf8-3120-4e4b-a6b2-385739587623",
   "metadata": {},
   "source": [
    "Ahora, teniendo ya las listas en su formato correspondiente, vamos a tratar cada una de ellas:\n",
    "   - 'ratingsByStars': Tendría sentido separar cada uno de los cinco elementos en cinco columnas distintas; una para las cinco estrellas, otra para las cuatro y así hasta las valoraciones de una estrella.\n",
    "   - 'awards': vamos a contar el número de premios que tiene, si que estaríamos sesgando ligeramente el resultado porque no valen lo mismo unos premios que otros; pero no teniendo un conocimiento sobre éstos es la mejor solución.\n",
    "   - 'genre': con esta lista, lo mejor sería contar los 20 géneros más populares y dedicar en un oneHot encoding una columna a cada género, aquellos que no tengan género o sus generos no estén en esa lista tendrán todo ceros."
   ]
  },
  {
   "cell_type": "markdown",
   "id": "357a5f30-c21d-4ce1-ad76-85ff2051c495",
   "metadata": {},
   "source": [
    "ratingsByStars:"
   ]
  },
  {
   "cell_type": "code",
   "execution_count": 1019,
   "id": "b9e6dd03-14c6-4d58-827c-1e76e6937ced",
   "metadata": {},
   "outputs": [
    {
     "data": {
      "text/plain": [
       "164"
      ]
     },
     "execution_count": 1019,
     "metadata": {},
     "output_type": "execute_result"
    }
   ],
   "source": [
    "X[\"ratingsByStars\"].isna().sum()"
   ]
  },
  {
   "cell_type": "markdown",
   "id": "b48aff96-59e0-4c6d-9516-d952fc5f5e72",
   "metadata": {},
   "source": [
    "Transformamos los nulos a listas con 0s para que no nos den problemas, esto lo haremos con las tres listas."
   ]
  },
  {
   "cell_type": "code",
   "execution_count": 1020,
   "id": "9d4e1d1a-1e03-4ef9-9652-d9e379c1bb7e",
   "metadata": {},
   "outputs": [],
   "source": [
    "X[\"ratingsByStars\"] = X[\"ratingsByStars\"].apply(lambda x: [0, 0, 0, 0, 0] if pd.isna(np.array(x)).any() or not x else x)"
   ]
  },
  {
   "cell_type": "code",
   "execution_count": 1021,
   "id": "05e79564-47f4-4a27-a034-bc31d01cd6c4",
   "metadata": {},
   "outputs": [
    {
     "data": {
      "text/plain": [
       "0"
      ]
     },
     "execution_count": 1021,
     "metadata": {},
     "output_type": "execute_result"
    }
   ],
   "source": [
    "X[\"ratingsByStars\"].isna().sum()"
   ]
  },
  {
   "cell_type": "code",
   "execution_count": 1022,
   "id": "45e75698-cbb0-4b9b-bf14-57a53655e72c",
   "metadata": {},
   "outputs": [
    {
     "data": {
      "text/html": [
       "<div>\n",
       "<style scoped>\n",
       "    .dataframe tbody tr th:only-of-type {\n",
       "        vertical-align: middle;\n",
       "    }\n",
       "\n",
       "    .dataframe tbody tr th {\n",
       "        vertical-align: top;\n",
       "    }\n",
       "\n",
       "    .dataframe thead th {\n",
       "        text-align: right;\n",
       "    }\n",
       "</style>\n",
       "<table border=\"1\" class=\"dataframe\">\n",
       "  <thead>\n",
       "    <tr style=\"text-align: right;\">\n",
       "      <th></th>\n",
       "      <th>language</th>\n",
       "      <th>bookFormat</th>\n",
       "      <th>pages</th>\n",
       "      <th>numRatings</th>\n",
       "      <th>likedPercent</th>\n",
       "      <th>bbeScore</th>\n",
       "      <th>bbeVotes</th>\n",
       "      <th>price</th>\n",
       "      <th>publishYear</th>\n",
       "      <th>publishMonth</th>\n",
       "      <th>publishDay</th>\n",
       "      <th>genres</th>\n",
       "      <th>awards</th>\n",
       "      <th>5Stars</th>\n",
       "      <th>4Stars</th>\n",
       "      <th>3Stars</th>\n",
       "      <th>2Stars</th>\n",
       "      <th>1Star</th>\n",
       "    </tr>\n",
       "    <tr>\n",
       "      <th>title</th>\n",
       "      <th></th>\n",
       "      <th></th>\n",
       "      <th></th>\n",
       "      <th></th>\n",
       "      <th></th>\n",
       "      <th></th>\n",
       "      <th></th>\n",
       "      <th></th>\n",
       "      <th></th>\n",
       "      <th></th>\n",
       "      <th></th>\n",
       "      <th></th>\n",
       "      <th></th>\n",
       "      <th></th>\n",
       "      <th></th>\n",
       "      <th></th>\n",
       "      <th></th>\n",
       "      <th></th>\n",
       "    </tr>\n",
       "  </thead>\n",
       "  <tbody>\n",
       "    <tr>\n",
       "      <th>The Hunger Games</th>\n",
       "      <td>English</td>\n",
       "      <td>Hardcover</td>\n",
       "      <td>374.0</td>\n",
       "      <td>6376780.0</td>\n",
       "      <td>96.0</td>\n",
       "      <td>2993816.0</td>\n",
       "      <td>30516.0</td>\n",
       "      <td>5.09</td>\n",
       "      <td>2008.0</td>\n",
       "      <td>9.0</td>\n",
       "      <td>14.0</td>\n",
       "      <td>[Young Adult, Fiction, Dystopia, Fantasy, Scie...</td>\n",
       "      <td>[Locus Award Nominee for Best Young Adult Book...</td>\n",
       "      <td>3444695</td>\n",
       "      <td>1921313</td>\n",
       "      <td>745221</td>\n",
       "      <td>171994</td>\n",
       "      <td>93557</td>\n",
       "    </tr>\n",
       "    <tr>\n",
       "      <th>Harry Potter and the Order of the Phoenix</th>\n",
       "      <td>English</td>\n",
       "      <td>Paperback</td>\n",
       "      <td>870.0</td>\n",
       "      <td>2507623.0</td>\n",
       "      <td>98.0</td>\n",
       "      <td>2632233.0</td>\n",
       "      <td>26923.0</td>\n",
       "      <td>7.38</td>\n",
       "      <td>2004.0</td>\n",
       "      <td>9.0</td>\n",
       "      <td>28.0</td>\n",
       "      <td>[Fantasy, Young Adult, Fiction, Magic, Childre...</td>\n",
       "      <td>[Bram Stoker Award for Works for Young Readers...</td>\n",
       "      <td>1593642</td>\n",
       "      <td>637516</td>\n",
       "      <td>222366</td>\n",
       "      <td>39573</td>\n",
       "      <td>14526</td>\n",
       "    </tr>\n",
       "    <tr>\n",
       "      <th>To Kill a Mockingbird</th>\n",
       "      <td>English</td>\n",
       "      <td>Paperback</td>\n",
       "      <td>324.0</td>\n",
       "      <td>4501075.0</td>\n",
       "      <td>95.0</td>\n",
       "      <td>2269402.0</td>\n",
       "      <td>23328.0</td>\n",
       "      <td>NaN</td>\n",
       "      <td>2006.0</td>\n",
       "      <td>5.0</td>\n",
       "      <td>23.0</td>\n",
       "      <td>[Classics, Fiction, Historical Fiction, School...</td>\n",
       "      <td>[Pulitzer Prize for Fiction (1961), Audie Awar...</td>\n",
       "      <td>2363896</td>\n",
       "      <td>1333153</td>\n",
       "      <td>573280</td>\n",
       "      <td>149952</td>\n",
       "      <td>80794</td>\n",
       "    </tr>\n",
       "    <tr>\n",
       "      <th>Pride and Prejudice</th>\n",
       "      <td>English</td>\n",
       "      <td>Paperback</td>\n",
       "      <td>279.0</td>\n",
       "      <td>2998241.0</td>\n",
       "      <td>94.0</td>\n",
       "      <td>1983116.0</td>\n",
       "      <td>20452.0</td>\n",
       "      <td>NaN</td>\n",
       "      <td>2000.0</td>\n",
       "      <td>10.0</td>\n",
       "      <td>10.0</td>\n",
       "      <td>[Classics, Fiction, Romance, Historical Fictio...</td>\n",
       "      <td>[]</td>\n",
       "      <td>1617567</td>\n",
       "      <td>816659</td>\n",
       "      <td>373311</td>\n",
       "      <td>113934</td>\n",
       "      <td>76770</td>\n",
       "    </tr>\n",
       "    <tr>\n",
       "      <th>Twilight</th>\n",
       "      <td>English</td>\n",
       "      <td>Paperback</td>\n",
       "      <td>501.0</td>\n",
       "      <td>4964519.0</td>\n",
       "      <td>78.0</td>\n",
       "      <td>1459448.0</td>\n",
       "      <td>14874.0</td>\n",
       "      <td>2.10</td>\n",
       "      <td>2006.0</td>\n",
       "      <td>9.0</td>\n",
       "      <td>6.0</td>\n",
       "      <td>[Young Adult, Fantasy, Romance, Vampires, Fict...</td>\n",
       "      <td>[Georgia Peach Book Award (2007), Buxtehuder B...</td>\n",
       "      <td>1751460</td>\n",
       "      <td>1113682</td>\n",
       "      <td>1008686</td>\n",
       "      <td>542017</td>\n",
       "      <td>548674</td>\n",
       "    </tr>\n",
       "  </tbody>\n",
       "</table>\n",
       "</div>"
      ],
      "text/plain": [
       "                                          language bookFormat  pages  \\\n",
       "title                                                                  \n",
       "The Hunger Games                           English  Hardcover  374.0   \n",
       "Harry Potter and the Order of the Phoenix  English  Paperback  870.0   \n",
       "To Kill a Mockingbird                      English  Paperback  324.0   \n",
       "Pride and Prejudice                        English  Paperback  279.0   \n",
       "Twilight                                   English  Paperback  501.0   \n",
       "\n",
       "                                           numRatings  likedPercent  \\\n",
       "title                                                                 \n",
       "The Hunger Games                            6376780.0          96.0   \n",
       "Harry Potter and the Order of the Phoenix   2507623.0          98.0   \n",
       "To Kill a Mockingbird                       4501075.0          95.0   \n",
       "Pride and Prejudice                         2998241.0          94.0   \n",
       "Twilight                                    4964519.0          78.0   \n",
       "\n",
       "                                            bbeScore  bbeVotes  price  \\\n",
       "title                                                                   \n",
       "The Hunger Games                           2993816.0   30516.0   5.09   \n",
       "Harry Potter and the Order of the Phoenix  2632233.0   26923.0   7.38   \n",
       "To Kill a Mockingbird                      2269402.0   23328.0    NaN   \n",
       "Pride and Prejudice                        1983116.0   20452.0    NaN   \n",
       "Twilight                                   1459448.0   14874.0   2.10   \n",
       "\n",
       "                                           publishYear  publishMonth  \\\n",
       "title                                                                  \n",
       "The Hunger Games                                2008.0           9.0   \n",
       "Harry Potter and the Order of the Phoenix       2004.0           9.0   \n",
       "To Kill a Mockingbird                           2006.0           5.0   \n",
       "Pride and Prejudice                             2000.0          10.0   \n",
       "Twilight                                        2006.0           9.0   \n",
       "\n",
       "                                           publishDay  \\\n",
       "title                                                   \n",
       "The Hunger Games                                 14.0   \n",
       "Harry Potter and the Order of the Phoenix        28.0   \n",
       "To Kill a Mockingbird                            23.0   \n",
       "Pride and Prejudice                              10.0   \n",
       "Twilight                                          6.0   \n",
       "\n",
       "                                                                                      genres  \\\n",
       "title                                                                                          \n",
       "The Hunger Games                           [Young Adult, Fiction, Dystopia, Fantasy, Scie...   \n",
       "Harry Potter and the Order of the Phoenix  [Fantasy, Young Adult, Fiction, Magic, Childre...   \n",
       "To Kill a Mockingbird                      [Classics, Fiction, Historical Fiction, School...   \n",
       "Pride and Prejudice                        [Classics, Fiction, Romance, Historical Fictio...   \n",
       "Twilight                                   [Young Adult, Fantasy, Romance, Vampires, Fict...   \n",
       "\n",
       "                                                                                      awards  \\\n",
       "title                                                                                          \n",
       "The Hunger Games                           [Locus Award Nominee for Best Young Adult Book...   \n",
       "Harry Potter and the Order of the Phoenix  [Bram Stoker Award for Works for Young Readers...   \n",
       "To Kill a Mockingbird                      [Pulitzer Prize for Fiction (1961), Audie Awar...   \n",
       "Pride and Prejudice                                                                       []   \n",
       "Twilight                                   [Georgia Peach Book Award (2007), Buxtehuder B...   \n",
       "\n",
       "                                            5Stars   4Stars   3Stars  2Stars  \\\n",
       "title                                                                          \n",
       "The Hunger Games                           3444695  1921313   745221  171994   \n",
       "Harry Potter and the Order of the Phoenix  1593642   637516   222366   39573   \n",
       "To Kill a Mockingbird                      2363896  1333153   573280  149952   \n",
       "Pride and Prejudice                        1617567   816659   373311  113934   \n",
       "Twilight                                   1751460  1113682  1008686  542017   \n",
       "\n",
       "                                            1Star  \n",
       "title                                              \n",
       "The Hunger Games                            93557  \n",
       "Harry Potter and the Order of the Phoenix   14526  \n",
       "To Kill a Mockingbird                       80794  \n",
       "Pride and Prejudice                         76770  \n",
       "Twilight                                   548674  "
      ]
     },
     "execution_count": 1022,
     "metadata": {},
     "output_type": "execute_result"
    }
   ],
   "source": [
    "res = pd.DataFrame(X[\"ratingsByStars\"].to_list(), columns=['5Stars', '4Stars', '3Stars', '2Stars', '1Star'], index = X.index)\n",
    "X = X.drop('ratingsByStars', axis = 1)\n",
    "X = pd.concat([X, res], axis = 1)\n",
    "X.head()"
   ]
  },
  {
   "cell_type": "code",
   "execution_count": 1023,
   "id": "edcde58a-9f25-4cb9-809f-1c06ce1b9815",
   "metadata": {},
   "outputs": [
    {
     "name": "stdout",
     "output_type": "stream",
     "text": [
      "<class 'pandas.core.frame.DataFrame'>\n",
      "Index: 52478 entries, The Hunger Games to Daughter of Helaman\n",
      "Data columns (total 18 columns):\n",
      " #   Column        Non-Null Count  Dtype  \n",
      "---  ------        --------------  -----  \n",
      " 0   language      47811 non-null  object \n",
      " 1   bookFormat    49896 non-null  object \n",
      " 2   pages         49944 non-null  float64\n",
      " 3   numRatings    52314 non-null  float64\n",
      " 4   likedPercent  51698 non-null  float64\n",
      " 5   bbeScore      52314 non-null  float64\n",
      " 6   bbeVotes      52314 non-null  float64\n",
      " 7   price         38042 non-null  float64\n",
      " 8   publishYear   50532 non-null  float64\n",
      " 9   publishMonth  50532 non-null  float64\n",
      " 10  publishDay    50532 non-null  float64\n",
      " 11  genres        52314 non-null  object \n",
      " 12  awards        52314 non-null  object \n",
      " 13  5Stars        52478 non-null  object \n",
      " 14  4Stars        52478 non-null  object \n",
      " 15  3Stars        52478 non-null  object \n",
      " 16  2Stars        52478 non-null  object \n",
      " 17  1Star         52478 non-null  object \n",
      "dtypes: float64(9), object(9)\n",
      "memory usage: 9.6+ MB\n"
     ]
    }
   ],
   "source": [
    "X.info()"
   ]
  },
  {
   "cell_type": "markdown",
   "id": "4a0e9df5-34ad-405d-95d5-8da9d7e4217c",
   "metadata": {},
   "source": [
    "awards:"
   ]
  },
  {
   "cell_type": "markdown",
   "id": "714c2767-9a38-4996-a137-490851046ae9",
   "metadata": {},
   "source": [
    "Procedemos con la columna \"awards\", en este vamos a contar cuantos premios tiene y reemplazar ese valor por la lista."
   ]
  },
  {
   "cell_type": "code",
   "execution_count": 1024,
   "id": "18b749e7-a56c-4b74-bd24-dd46f87edb4e",
   "metadata": {},
   "outputs": [],
   "source": [
    "X[\"awards\"] = X[\"awards\"].apply(lambda x: [] if pd.isna(np.array(x)).any() else x)"
   ]
  },
  {
   "cell_type": "code",
   "execution_count": 1025,
   "id": "0b0dd402-8d3f-4a36-9efd-265bbf29dd64",
   "metadata": {},
   "outputs": [],
   "source": [
    "res = [len(x) for x in X.awards]\n",
    "X[\"awards\"] = res"
   ]
  },
  {
   "cell_type": "code",
   "execution_count": 1026,
   "id": "e8b4a32b-03d5-4f44-8659-bab9b3b2e856",
   "metadata": {},
   "outputs": [
    {
     "data": {
      "text/plain": [
       "title\n",
       "The Hunger Games                             41\n",
       "Harry Potter and the Order of the Phoenix     9\n",
       "To Kill a Mockingbird                         4\n",
       "Pride and Prejudice                           0\n",
       "Twilight                                     25\n",
       "                                             ..\n",
       "Fractured                                     0\n",
       "Anasazi                                       0\n",
       "Marked                                        1\n",
       "Wayward Son                                   0\n",
       "Daughter of Helaman                           0\n",
       "Name: awards, Length: 52478, dtype: int64"
      ]
     },
     "execution_count": 1026,
     "metadata": {},
     "output_type": "execute_result"
    }
   ],
   "source": [
    "X.awards"
   ]
  },
  {
   "cell_type": "markdown",
   "id": "d98a88d8-f608-42ca-bda9-3474c50fed6b",
   "metadata": {},
   "source": [
    "genre:"
   ]
  },
  {
   "cell_type": "markdown",
   "id": "42419e1e-ba88-4932-8f58-afa5c5994950",
   "metadata": {},
   "source": [
    "Para el género calculamos las 20 categorias más populares:"
   ]
  },
  {
   "cell_type": "code",
   "execution_count": 1027,
   "id": "3bd7aa24-6681-4100-8ad0-54bcb8a3e0bc",
   "metadata": {},
   "outputs": [],
   "source": [
    "def mas_populares_lista(X, col_name, n):\n",
    "    lista_global = [subelemento for elemento in X[\"genres\"].to_list() if not pd.isna(np.array(elemento)).any() for subelemento in elemento]\n",
    "    return mas_populares(lista_global, n)"
   ]
  },
  {
   "cell_type": "code",
   "execution_count": 1028,
   "id": "6be02d40-f07c-49a6-bf7f-2abc369a74ab",
   "metadata": {},
   "outputs": [
    {
     "name": "stdout",
     "output_type": "stream",
     "text": [
      "Wall time: 546 ms\n"
     ]
    },
    {
     "data": {
      "text/plain": [
       "Index(['Fiction', 'Romance', 'Fantasy', 'Young Adult', 'Contemporary', 'Adult',\n",
       "       'Nonfiction', 'Novels', 'Mystery', 'Historical Fiction', 'Audiobook',\n",
       "       'Classics', 'Adventure', 'Historical', 'Paranormal', 'Literature',\n",
       "       'Science Fiction', 'Childrens', 'Thriller', 'Magic'],\n",
       "      dtype='object')"
      ]
     },
     "execution_count": 1028,
     "metadata": {},
     "output_type": "execute_result"
    }
   ],
   "source": [
    "%%time\n",
    "mas_populares_lista(X, 'genres', 20)"
   ]
  },
  {
   "cell_type": "markdown",
   "id": "d211d7ab-45ac-4f69-8d4c-44104256c3b5",
   "metadata": {},
   "source": [
    "Casi lo tenemos, pero como entre todas ellas hay una que es \"Audiobook\" vamos a buscar 21 y cambiarla por esa."
   ]
  },
  {
   "cell_type": "code",
   "execution_count": 1029,
   "id": "2798f6ec-4ba5-41d0-a106-a182ff227a2d",
   "metadata": {},
   "outputs": [],
   "source": [
    "gen_pop = mas_populares_lista(X, 'genres', 21).delete(10)"
   ]
  },
  {
   "cell_type": "code",
   "execution_count": 1030,
   "id": "be3deefb-b7d7-4152-b5c8-2c1b2e5c72e5",
   "metadata": {},
   "outputs": [],
   "source": [
    "X[\"genres\"] = X[\"genres\"].apply(lambda x: [] if pd.isna(np.array(x)).any() else x)"
   ]
  },
  {
   "cell_type": "code",
   "execution_count": 1031,
   "id": "73e4f62b-6671-4fb7-83a8-801b50c65b98",
   "metadata": {},
   "outputs": [],
   "source": [
    "X[\"genres\"] = X['genres'].apply(lambda x: [elem for elem in x if elem in gen_pop])"
   ]
  },
  {
   "cell_type": "code",
   "execution_count": 1032,
   "id": "e4028f58-234d-4d82-a60f-2ba33ba665bc",
   "metadata": {},
   "outputs": [
    {
     "name": "stdout",
     "output_type": "stream",
     "text": [
      "<class 'pandas.core.frame.DataFrame'>\n",
      "Index: 52478 entries, The Hunger Games to Daughter of Helaman\n",
      "Data columns (total 18 columns):\n",
      " #   Column        Non-Null Count  Dtype  \n",
      "---  ------        --------------  -----  \n",
      " 0   language      47811 non-null  object \n",
      " 1   bookFormat    49896 non-null  object \n",
      " 2   pages         49944 non-null  float64\n",
      " 3   numRatings    52314 non-null  float64\n",
      " 4   likedPercent  51698 non-null  float64\n",
      " 5   bbeScore      52314 non-null  float64\n",
      " 6   bbeVotes      52314 non-null  float64\n",
      " 7   price         38042 non-null  float64\n",
      " 8   publishYear   50532 non-null  float64\n",
      " 9   publishMonth  50532 non-null  float64\n",
      " 10  publishDay    50532 non-null  float64\n",
      " 11  genres        52478 non-null  object \n",
      " 12  awards        52478 non-null  int64  \n",
      " 13  5Stars        52478 non-null  object \n",
      " 14  4Stars        52478 non-null  object \n",
      " 15  3Stars        52478 non-null  object \n",
      " 16  2Stars        52478 non-null  object \n",
      " 17  1Star         52478 non-null  object \n",
      "dtypes: float64(9), int64(1), object(8)\n",
      "memory usage: 9.6+ MB\n"
     ]
    }
   ],
   "source": [
    "X.info()"
   ]
  },
  {
   "cell_type": "markdown",
   "id": "9a92b664-6777-4468-9827-7222d0049cdb",
   "metadata": {},
   "source": [
    "Ya solo nos falta cambiar el formato de las columnas de las estrellas a \"int64\"."
   ]
  },
  {
   "cell_type": "code",
   "execution_count": 1033,
   "id": "06c84697-2bcb-4bfd-bcb6-bf755227ef61",
   "metadata": {},
   "outputs": [],
   "source": [
    "X[['5Stars', '4Stars', '3Stars', '2Stars', '1Star']] = X[['5Stars', '4Stars', '3Stars', '2Stars', '1Star']].astype(np.int64)"
   ]
  },
  {
   "cell_type": "code",
   "execution_count": 1034,
   "id": "8c0092c8-ca27-4f60-9b4e-69a218110961",
   "metadata": {},
   "outputs": [
    {
     "name": "stdout",
     "output_type": "stream",
     "text": [
      "<class 'pandas.core.frame.DataFrame'>\n",
      "Index: 52478 entries, The Hunger Games to Daughter of Helaman\n",
      "Data columns (total 18 columns):\n",
      " #   Column        Non-Null Count  Dtype  \n",
      "---  ------        --------------  -----  \n",
      " 0   language      47811 non-null  object \n",
      " 1   bookFormat    49896 non-null  object \n",
      " 2   pages         49944 non-null  float64\n",
      " 3   numRatings    52314 non-null  float64\n",
      " 4   likedPercent  51698 non-null  float64\n",
      " 5   bbeScore      52314 non-null  float64\n",
      " 6   bbeVotes      52314 non-null  float64\n",
      " 7   price         38042 non-null  float64\n",
      " 8   publishYear   50532 non-null  float64\n",
      " 9   publishMonth  50532 non-null  float64\n",
      " 10  publishDay    50532 non-null  float64\n",
      " 11  genres        52478 non-null  object \n",
      " 12  awards        52478 non-null  int64  \n",
      " 13  5Stars        52478 non-null  int64  \n",
      " 14  4Stars        52478 non-null  int64  \n",
      " 15  3Stars        52478 non-null  int64  \n",
      " 16  2Stars        52478 non-null  int64  \n",
      " 17  1Star         52478 non-null  int64  \n",
      "dtypes: float64(9), int64(6), object(3)\n",
      "memory usage: 9.6+ MB\n"
     ]
    }
   ],
   "source": [
    "X.info()"
   ]
  },
  {
   "cell_type": "markdown",
   "id": "1653b819-3be9-447d-a0fa-dcaf1c3075de",
   "metadata": {},
   "source": [
    "Y con esto habríamos acabado todo el apartado de preprocesado, que vemos que no es poco. Pero antes, para poder realizar los apartados posteriores, vamos a hacer un OneHot encoding sobre los géneros, para tener 20 columnas para cada género y no una lista."
   ]
  },
  {
   "cell_type": "code",
   "execution_count": 1035,
   "id": "4812d14d-a15c-49c3-abda-90f5844583ec",
   "metadata": {},
   "outputs": [
    {
     "data": {
      "text/html": [
       "<div>\n",
       "<style scoped>\n",
       "    .dataframe tbody tr th:only-of-type {\n",
       "        vertical-align: middle;\n",
       "    }\n",
       "\n",
       "    .dataframe tbody tr th {\n",
       "        vertical-align: top;\n",
       "    }\n",
       "\n",
       "    .dataframe thead th {\n",
       "        text-align: right;\n",
       "    }\n",
       "</style>\n",
       "<table border=\"1\" class=\"dataframe\">\n",
       "  <thead>\n",
       "    <tr style=\"text-align: right;\">\n",
       "      <th></th>\n",
       "      <th>Adult</th>\n",
       "      <th>Adventure</th>\n",
       "      <th>Childrens</th>\n",
       "      <th>Classics</th>\n",
       "      <th>Contemporary</th>\n",
       "      <th>Fantasy</th>\n",
       "      <th>Fiction</th>\n",
       "      <th>Historical</th>\n",
       "      <th>Historical Fiction</th>\n",
       "      <th>Humor</th>\n",
       "      <th>Literature</th>\n",
       "      <th>Magic</th>\n",
       "      <th>Mystery</th>\n",
       "      <th>Nonfiction</th>\n",
       "      <th>Novels</th>\n",
       "      <th>Paranormal</th>\n",
       "      <th>Romance</th>\n",
       "      <th>Science Fiction</th>\n",
       "      <th>Thriller</th>\n",
       "      <th>Young Adult</th>\n",
       "    </tr>\n",
       "    <tr>\n",
       "      <th>title</th>\n",
       "      <th></th>\n",
       "      <th></th>\n",
       "      <th></th>\n",
       "      <th></th>\n",
       "      <th></th>\n",
       "      <th></th>\n",
       "      <th></th>\n",
       "      <th></th>\n",
       "      <th></th>\n",
       "      <th></th>\n",
       "      <th></th>\n",
       "      <th></th>\n",
       "      <th></th>\n",
       "      <th></th>\n",
       "      <th></th>\n",
       "      <th></th>\n",
       "      <th></th>\n",
       "      <th></th>\n",
       "      <th></th>\n",
       "      <th></th>\n",
       "    </tr>\n",
       "  </thead>\n",
       "  <tbody>\n",
       "    <tr>\n",
       "      <th>The Hunger Games</th>\n",
       "      <td>0</td>\n",
       "      <td>1</td>\n",
       "      <td>0</td>\n",
       "      <td>0</td>\n",
       "      <td>0</td>\n",
       "      <td>1</td>\n",
       "      <td>1</td>\n",
       "      <td>0</td>\n",
       "      <td>0</td>\n",
       "      <td>0</td>\n",
       "      <td>0</td>\n",
       "      <td>0</td>\n",
       "      <td>0</td>\n",
       "      <td>0</td>\n",
       "      <td>0</td>\n",
       "      <td>0</td>\n",
       "      <td>1</td>\n",
       "      <td>1</td>\n",
       "      <td>0</td>\n",
       "      <td>1</td>\n",
       "    </tr>\n",
       "    <tr>\n",
       "      <th>Harry Potter and the Order of the Phoenix</th>\n",
       "      <td>0</td>\n",
       "      <td>1</td>\n",
       "      <td>1</td>\n",
       "      <td>1</td>\n",
       "      <td>0</td>\n",
       "      <td>1</td>\n",
       "      <td>1</td>\n",
       "      <td>0</td>\n",
       "      <td>0</td>\n",
       "      <td>0</td>\n",
       "      <td>0</td>\n",
       "      <td>1</td>\n",
       "      <td>0</td>\n",
       "      <td>0</td>\n",
       "      <td>0</td>\n",
       "      <td>0</td>\n",
       "      <td>0</td>\n",
       "      <td>0</td>\n",
       "      <td>0</td>\n",
       "      <td>1</td>\n",
       "    </tr>\n",
       "    <tr>\n",
       "      <th>To Kill a Mockingbird</th>\n",
       "      <td>0</td>\n",
       "      <td>0</td>\n",
       "      <td>0</td>\n",
       "      <td>1</td>\n",
       "      <td>0</td>\n",
       "      <td>0</td>\n",
       "      <td>1</td>\n",
       "      <td>1</td>\n",
       "      <td>1</td>\n",
       "      <td>0</td>\n",
       "      <td>1</td>\n",
       "      <td>0</td>\n",
       "      <td>0</td>\n",
       "      <td>0</td>\n",
       "      <td>1</td>\n",
       "      <td>0</td>\n",
       "      <td>0</td>\n",
       "      <td>0</td>\n",
       "      <td>0</td>\n",
       "      <td>1</td>\n",
       "    </tr>\n",
       "    <tr>\n",
       "      <th>Pride and Prejudice</th>\n",
       "      <td>1</td>\n",
       "      <td>0</td>\n",
       "      <td>0</td>\n",
       "      <td>1</td>\n",
       "      <td>0</td>\n",
       "      <td>0</td>\n",
       "      <td>1</td>\n",
       "      <td>1</td>\n",
       "      <td>1</td>\n",
       "      <td>0</td>\n",
       "      <td>1</td>\n",
       "      <td>0</td>\n",
       "      <td>0</td>\n",
       "      <td>0</td>\n",
       "      <td>1</td>\n",
       "      <td>0</td>\n",
       "      <td>1</td>\n",
       "      <td>0</td>\n",
       "      <td>0</td>\n",
       "      <td>0</td>\n",
       "    </tr>\n",
       "    <tr>\n",
       "      <th>Twilight</th>\n",
       "      <td>0</td>\n",
       "      <td>0</td>\n",
       "      <td>0</td>\n",
       "      <td>0</td>\n",
       "      <td>0</td>\n",
       "      <td>1</td>\n",
       "      <td>1</td>\n",
       "      <td>0</td>\n",
       "      <td>0</td>\n",
       "      <td>0</td>\n",
       "      <td>0</td>\n",
       "      <td>0</td>\n",
       "      <td>0</td>\n",
       "      <td>0</td>\n",
       "      <td>0</td>\n",
       "      <td>1</td>\n",
       "      <td>1</td>\n",
       "      <td>0</td>\n",
       "      <td>0</td>\n",
       "      <td>1</td>\n",
       "    </tr>\n",
       "  </tbody>\n",
       "</table>\n",
       "</div>"
      ],
      "text/plain": [
       "                                           Adult  Adventure  Childrens  \\\n",
       "title                                                                    \n",
       "The Hunger Games                               0          1          0   \n",
       "Harry Potter and the Order of the Phoenix      0          1          1   \n",
       "To Kill a Mockingbird                          0          0          0   \n",
       "Pride and Prejudice                            1          0          0   \n",
       "Twilight                                       0          0          0   \n",
       "\n",
       "                                           Classics  Contemporary  Fantasy  \\\n",
       "title                                                                        \n",
       "The Hunger Games                                  0             0        1   \n",
       "Harry Potter and the Order of the Phoenix         1             0        1   \n",
       "To Kill a Mockingbird                             1             0        0   \n",
       "Pride and Prejudice                               1             0        0   \n",
       "Twilight                                          0             0        1   \n",
       "\n",
       "                                           Fiction  Historical  \\\n",
       "title                                                            \n",
       "The Hunger Games                                 1           0   \n",
       "Harry Potter and the Order of the Phoenix        1           0   \n",
       "To Kill a Mockingbird                            1           1   \n",
       "Pride and Prejudice                              1           1   \n",
       "Twilight                                         1           0   \n",
       "\n",
       "                                           Historical Fiction  Humor  \\\n",
       "title                                                                  \n",
       "The Hunger Games                                            0      0   \n",
       "Harry Potter and the Order of the Phoenix                   0      0   \n",
       "To Kill a Mockingbird                                       1      0   \n",
       "Pride and Prejudice                                         1      0   \n",
       "Twilight                                                    0      0   \n",
       "\n",
       "                                           Literature  Magic  Mystery  \\\n",
       "title                                                                   \n",
       "The Hunger Games                                    0      0        0   \n",
       "Harry Potter and the Order of the Phoenix           0      1        0   \n",
       "To Kill a Mockingbird                               1      0        0   \n",
       "Pride and Prejudice                                 1      0        0   \n",
       "Twilight                                            0      0        0   \n",
       "\n",
       "                                           Nonfiction  Novels  Paranormal  \\\n",
       "title                                                                       \n",
       "The Hunger Games                                    0       0           0   \n",
       "Harry Potter and the Order of the Phoenix           0       0           0   \n",
       "To Kill a Mockingbird                               0       1           0   \n",
       "Pride and Prejudice                                 0       1           0   \n",
       "Twilight                                            0       0           1   \n",
       "\n",
       "                                           Romance  Science Fiction  Thriller  \\\n",
       "title                                                                           \n",
       "The Hunger Games                                 1                1         0   \n",
       "Harry Potter and the Order of the Phoenix        0                0         0   \n",
       "To Kill a Mockingbird                            0                0         0   \n",
       "Pride and Prejudice                              1                0         0   \n",
       "Twilight                                         1                0         0   \n",
       "\n",
       "                                           Young Adult  \n",
       "title                                                   \n",
       "The Hunger Games                                     1  \n",
       "Harry Potter and the Order of the Phoenix            1  \n",
       "To Kill a Mockingbird                                1  \n",
       "Pride and Prejudice                                  0  \n",
       "Twilight                                             1  "
      ]
     },
     "execution_count": 1035,
     "metadata": {},
     "output_type": "execute_result"
    }
   ],
   "source": [
    "from sklearn.preprocessing import MultiLabelBinarizer\n",
    "\n",
    "mlb = MultiLabelBinarizer()\n",
    "\n",
    "res = pd.DataFrame(mlb.fit_transform(X.genres),\n",
    "                   columns=mlb.classes_,\n",
    "                   index=X.index)\n",
    "res.head()"
   ]
  },
  {
   "cell_type": "code",
   "execution_count": 1036,
   "id": "f5271f1b-c971-4893-a19c-650b6968241d",
   "metadata": {},
   "outputs": [
    {
     "data": {
      "text/html": [
       "<div>\n",
       "<style scoped>\n",
       "    .dataframe tbody tr th:only-of-type {\n",
       "        vertical-align: middle;\n",
       "    }\n",
       "\n",
       "    .dataframe tbody tr th {\n",
       "        vertical-align: top;\n",
       "    }\n",
       "\n",
       "    .dataframe thead th {\n",
       "        text-align: right;\n",
       "    }\n",
       "</style>\n",
       "<table border=\"1\" class=\"dataframe\">\n",
       "  <thead>\n",
       "    <tr style=\"text-align: right;\">\n",
       "      <th></th>\n",
       "      <th>language</th>\n",
       "      <th>bookFormat</th>\n",
       "      <th>pages</th>\n",
       "      <th>numRatings</th>\n",
       "      <th>likedPercent</th>\n",
       "      <th>bbeScore</th>\n",
       "      <th>bbeVotes</th>\n",
       "      <th>price</th>\n",
       "      <th>publishYear</th>\n",
       "      <th>publishMonth</th>\n",
       "      <th>...</th>\n",
       "      <th>Literature</th>\n",
       "      <th>Magic</th>\n",
       "      <th>Mystery</th>\n",
       "      <th>Nonfiction</th>\n",
       "      <th>Novels</th>\n",
       "      <th>Paranormal</th>\n",
       "      <th>Romance</th>\n",
       "      <th>Science Fiction</th>\n",
       "      <th>Thriller</th>\n",
       "      <th>Young Adult</th>\n",
       "    </tr>\n",
       "    <tr>\n",
       "      <th>title</th>\n",
       "      <th></th>\n",
       "      <th></th>\n",
       "      <th></th>\n",
       "      <th></th>\n",
       "      <th></th>\n",
       "      <th></th>\n",
       "      <th></th>\n",
       "      <th></th>\n",
       "      <th></th>\n",
       "      <th></th>\n",
       "      <th></th>\n",
       "      <th></th>\n",
       "      <th></th>\n",
       "      <th></th>\n",
       "      <th></th>\n",
       "      <th></th>\n",
       "      <th></th>\n",
       "      <th></th>\n",
       "      <th></th>\n",
       "      <th></th>\n",
       "      <th></th>\n",
       "    </tr>\n",
       "  </thead>\n",
       "  <tbody>\n",
       "    <tr>\n",
       "      <th>The Hunger Games</th>\n",
       "      <td>English</td>\n",
       "      <td>Hardcover</td>\n",
       "      <td>374.0</td>\n",
       "      <td>6376780.0</td>\n",
       "      <td>96.0</td>\n",
       "      <td>2993816.0</td>\n",
       "      <td>30516.0</td>\n",
       "      <td>5.09</td>\n",
       "      <td>2008.0</td>\n",
       "      <td>9.0</td>\n",
       "      <td>...</td>\n",
       "      <td>0</td>\n",
       "      <td>0</td>\n",
       "      <td>0</td>\n",
       "      <td>0</td>\n",
       "      <td>0</td>\n",
       "      <td>0</td>\n",
       "      <td>1</td>\n",
       "      <td>1</td>\n",
       "      <td>0</td>\n",
       "      <td>1</td>\n",
       "    </tr>\n",
       "    <tr>\n",
       "      <th>Harry Potter and the Order of the Phoenix</th>\n",
       "      <td>English</td>\n",
       "      <td>Paperback</td>\n",
       "      <td>870.0</td>\n",
       "      <td>2507623.0</td>\n",
       "      <td>98.0</td>\n",
       "      <td>2632233.0</td>\n",
       "      <td>26923.0</td>\n",
       "      <td>7.38</td>\n",
       "      <td>2004.0</td>\n",
       "      <td>9.0</td>\n",
       "      <td>...</td>\n",
       "      <td>0</td>\n",
       "      <td>1</td>\n",
       "      <td>0</td>\n",
       "      <td>0</td>\n",
       "      <td>0</td>\n",
       "      <td>0</td>\n",
       "      <td>0</td>\n",
       "      <td>0</td>\n",
       "      <td>0</td>\n",
       "      <td>1</td>\n",
       "    </tr>\n",
       "    <tr>\n",
       "      <th>To Kill a Mockingbird</th>\n",
       "      <td>English</td>\n",
       "      <td>Paperback</td>\n",
       "      <td>324.0</td>\n",
       "      <td>4501075.0</td>\n",
       "      <td>95.0</td>\n",
       "      <td>2269402.0</td>\n",
       "      <td>23328.0</td>\n",
       "      <td>NaN</td>\n",
       "      <td>2006.0</td>\n",
       "      <td>5.0</td>\n",
       "      <td>...</td>\n",
       "      <td>1</td>\n",
       "      <td>0</td>\n",
       "      <td>0</td>\n",
       "      <td>0</td>\n",
       "      <td>1</td>\n",
       "      <td>0</td>\n",
       "      <td>0</td>\n",
       "      <td>0</td>\n",
       "      <td>0</td>\n",
       "      <td>1</td>\n",
       "    </tr>\n",
       "    <tr>\n",
       "      <th>Pride and Prejudice</th>\n",
       "      <td>English</td>\n",
       "      <td>Paperback</td>\n",
       "      <td>279.0</td>\n",
       "      <td>2998241.0</td>\n",
       "      <td>94.0</td>\n",
       "      <td>1983116.0</td>\n",
       "      <td>20452.0</td>\n",
       "      <td>NaN</td>\n",
       "      <td>2000.0</td>\n",
       "      <td>10.0</td>\n",
       "      <td>...</td>\n",
       "      <td>1</td>\n",
       "      <td>0</td>\n",
       "      <td>0</td>\n",
       "      <td>0</td>\n",
       "      <td>1</td>\n",
       "      <td>0</td>\n",
       "      <td>1</td>\n",
       "      <td>0</td>\n",
       "      <td>0</td>\n",
       "      <td>0</td>\n",
       "    </tr>\n",
       "    <tr>\n",
       "      <th>Twilight</th>\n",
       "      <td>English</td>\n",
       "      <td>Paperback</td>\n",
       "      <td>501.0</td>\n",
       "      <td>4964519.0</td>\n",
       "      <td>78.0</td>\n",
       "      <td>1459448.0</td>\n",
       "      <td>14874.0</td>\n",
       "      <td>2.10</td>\n",
       "      <td>2006.0</td>\n",
       "      <td>9.0</td>\n",
       "      <td>...</td>\n",
       "      <td>0</td>\n",
       "      <td>0</td>\n",
       "      <td>0</td>\n",
       "      <td>0</td>\n",
       "      <td>0</td>\n",
       "      <td>1</td>\n",
       "      <td>1</td>\n",
       "      <td>0</td>\n",
       "      <td>0</td>\n",
       "      <td>1</td>\n",
       "    </tr>\n",
       "  </tbody>\n",
       "</table>\n",
       "<p>5 rows × 37 columns</p>\n",
       "</div>"
      ],
      "text/plain": [
       "                                          language bookFormat  pages  \\\n",
       "title                                                                  \n",
       "The Hunger Games                           English  Hardcover  374.0   \n",
       "Harry Potter and the Order of the Phoenix  English  Paperback  870.0   \n",
       "To Kill a Mockingbird                      English  Paperback  324.0   \n",
       "Pride and Prejudice                        English  Paperback  279.0   \n",
       "Twilight                                   English  Paperback  501.0   \n",
       "\n",
       "                                           numRatings  likedPercent  \\\n",
       "title                                                                 \n",
       "The Hunger Games                            6376780.0          96.0   \n",
       "Harry Potter and the Order of the Phoenix   2507623.0          98.0   \n",
       "To Kill a Mockingbird                       4501075.0          95.0   \n",
       "Pride and Prejudice                         2998241.0          94.0   \n",
       "Twilight                                    4964519.0          78.0   \n",
       "\n",
       "                                            bbeScore  bbeVotes  price  \\\n",
       "title                                                                   \n",
       "The Hunger Games                           2993816.0   30516.0   5.09   \n",
       "Harry Potter and the Order of the Phoenix  2632233.0   26923.0   7.38   \n",
       "To Kill a Mockingbird                      2269402.0   23328.0    NaN   \n",
       "Pride and Prejudice                        1983116.0   20452.0    NaN   \n",
       "Twilight                                   1459448.0   14874.0   2.10   \n",
       "\n",
       "                                           publishYear  publishMonth  ...  \\\n",
       "title                                                                 ...   \n",
       "The Hunger Games                                2008.0           9.0  ...   \n",
       "Harry Potter and the Order of the Phoenix       2004.0           9.0  ...   \n",
       "To Kill a Mockingbird                           2006.0           5.0  ...   \n",
       "Pride and Prejudice                             2000.0          10.0  ...   \n",
       "Twilight                                        2006.0           9.0  ...   \n",
       "\n",
       "                                           Literature  Magic  Mystery  \\\n",
       "title                                                                   \n",
       "The Hunger Games                                    0      0        0   \n",
       "Harry Potter and the Order of the Phoenix           0      1        0   \n",
       "To Kill a Mockingbird                               1      0        0   \n",
       "Pride and Prejudice                                 1      0        0   \n",
       "Twilight                                            0      0        0   \n",
       "\n",
       "                                           Nonfiction  Novels  Paranormal  \\\n",
       "title                                                                       \n",
       "The Hunger Games                                    0       0           0   \n",
       "Harry Potter and the Order of the Phoenix           0       0           0   \n",
       "To Kill a Mockingbird                               0       1           0   \n",
       "Pride and Prejudice                                 0       1           0   \n",
       "Twilight                                            0       0           1   \n",
       "\n",
       "                                           Romance  Science Fiction  Thriller  \\\n",
       "title                                                                           \n",
       "The Hunger Games                                 1                1         0   \n",
       "Harry Potter and the Order of the Phoenix        0                0         0   \n",
       "To Kill a Mockingbird                            0                0         0   \n",
       "Pride and Prejudice                              1                0         0   \n",
       "Twilight                                         1                0         0   \n",
       "\n",
       "                                           Young Adult  \n",
       "title                                                   \n",
       "The Hunger Games                                     1  \n",
       "Harry Potter and the Order of the Phoenix            1  \n",
       "To Kill a Mockingbird                                1  \n",
       "Pride and Prejudice                                  0  \n",
       "Twilight                                             1  \n",
       "\n",
       "[5 rows x 37 columns]"
      ]
     },
     "execution_count": 1036,
     "metadata": {},
     "output_type": "execute_result"
    }
   ],
   "source": [
    "X = X.drop('genres', axis = 1)\n",
    "X = pd.concat([X, res], axis = 1)\n",
    "X.head()"
   ]
  },
  {
   "cell_type": "markdown",
   "id": "ec5495ad-7cb2-4818-8381-a315b3349288",
   "metadata": {},
   "source": [
    "Vamos a exportar el dataset, para poder trabajar a partir de aquí de una mejor manera."
   ]
  },
  {
   "cell_type": "code",
   "execution_count": 1049,
   "id": "73745fff-03c7-458c-90a0-7c68f7a76b4d",
   "metadata": {},
   "outputs": [],
   "source": [
    "X[\"target\"] = y.values\n",
    "X.to_csv('libros_preprocesado.csv')"
   ]
  },
  {
   "cell_type": "code",
   "execution_count": 1051,
   "id": "3db71e65-8d70-4ced-a01a-d24fd5453356",
   "metadata": {},
   "outputs": [
    {
     "name": "stdout",
     "output_type": "stream",
     "text": [
      "(52478, 37) (52478,)\n"
     ]
    }
   ],
   "source": [
    "X, y = X.drop('target', axis=1), X.target\n",
    "print(X.shape, y.shape)"
   ]
  },
  {
   "cell_type": "markdown",
   "id": "36160f42-d6f4-4f50-995d-286f14751d88",
   "metadata": {},
   "source": [
    "## 2. Preprocesado"
   ]
  },
  {
   "cell_type": "markdown",
   "id": "feefe967-52b1-4822-b3c0-16b5c01ea5eb",
   "metadata": {},
   "source": [
    "Primero, vamos a cargar los datos preprocesados, para no tener que ejecutar todo lo anterior."
   ]
  },
  {
   "cell_type": "code",
   "execution_count": 1055,
   "id": "73e0f870-aff2-47e2-9781-dcbd85f33e8c",
   "metadata": {},
   "outputs": [
    {
     "name": "stdout",
     "output_type": "stream",
     "text": [
      "(52478, 38)\n"
     ]
    }
   ],
   "source": [
    "import pandas as pd\n",
    "import numpy as np\n",
    "\n",
    "df = pd.read_csv('libros_preprocesado.csv', header=0).set_index('title')\n",
    "print(df.shape)"
   ]
  },
  {
   "cell_type": "markdown",
   "id": "99249e2a-1dde-431e-b61a-4c845d42367a",
   "metadata": {},
   "source": [
    "Para limpiar los datos, vamos a eliminar las columnas que contengan un único valor y a estudiar aquellas que tengan un bajo número de valores diferentes o una baja varianza. También vamos a eliminar las filas repetidas.También analizaremos tanto los valores nulos, realizando el borrado o las imputaciones correspondientes, como los outliers, aplicando las técnicas estudiadas en clase.\n",
    "<br><br>\n",
    "Después, se aplicarán técnicas en esos datos que implicarán codificar, escalar y transformar su distribución, para terminar aplicando \"features engineering\"."
   ]
  },
  {
   "cell_type": "markdown",
   "id": "26ec9bf3-e453-4127-8435-13c4754f491c",
   "metadata": {},
   "source": [
    "### 2.1. Limpieza básica de datos"
   ]
  },
  {
   "cell_type": "markdown",
   "id": "d596be0c-5694-4e1d-8fd7-672e3cdd8563",
   "metadata": {},
   "source": [
    "#### 2.1.1. Valores únicos"
   ]
  },
  {
   "cell_type": "markdown",
   "id": "e17e0e0d-2a6a-45e2-8e6b-7e30ee1625b1",
   "metadata": {},
   "source": [
    "Primero, para identificar los valores únicos, vamos a comprobar para cada columna cuantos tiene:"
   ]
  },
  {
   "cell_type": "code",
   "execution_count": 1057,
   "id": "b1345830-6200-43f5-aa00-94547b00ab3b",
   "metadata": {},
   "outputs": [
    {
     "data": {
      "text/plain": [
       "language                 20\n",
       "bookFormat                3\n",
       "pages                  1363\n",
       "numRatings            19336\n",
       "likedPercent             66\n",
       "bbeScore               3540\n",
       "bbeVotes                649\n",
       "price                  3649\n",
       "publishYear             126\n",
       "publishMonth             12\n",
       "publishDay               31\n",
       "awards                   27\n",
       "5Stars                12888\n",
       "4Stars                12473\n",
       "3Stars                 9681\n",
       "2Stars                 5002\n",
       "1Star                  3226\n",
       "Adult                     2\n",
       "Adventure                 2\n",
       "Childrens                 2\n",
       "Classics                  2\n",
       "Contemporary              2\n",
       "Fantasy                   2\n",
       "Fiction                   2\n",
       "Historical                2\n",
       "Historical Fiction        2\n",
       "Humor                     2\n",
       "Literature                2\n",
       "Magic                     2\n",
       "Mystery                   2\n",
       "Nonfiction                2\n",
       "Novels                    2\n",
       "Paranormal                2\n",
       "Romance                   2\n",
       "Science Fiction           2\n",
       "Thriller                  2\n",
       "Young Adult               2\n",
       "target                  261\n",
       "dtype: int64"
      ]
     },
     "execution_count": 1057,
     "metadata": {},
     "output_type": "execute_result"
    }
   ],
   "source": [
    "df.nunique()"
   ]
  },
  {
   "cell_type": "markdown",
   "id": "2f546fda-17d2-44bb-89fd-d1f871f7fc84",
   "metadata": {},
   "source": [
    "Ninguna columna tiene suficiente escasez de valores únicos como para que merezca la pena eliminarla. Pero sí que con esto vemos que hay columnas, como por ejemplo \"ratingByStars\" que prácticamente es como si fuesen un identificador, pero como tampoco es muy exagerado no vamos a valorar eliminarlas."
   ]
  },
  {
   "cell_type": "markdown",
   "id": "5d1d85f9-03eb-4833-8e1c-847cbb7bac62",
   "metadata": {},
   "source": [
    "#### 2.1.2. Baja variedad de valores"
   ]
  },
  {
   "cell_type": "markdown",
   "id": "7f1e18ba-57fe-4929-928d-1f76f384ebea",
   "metadata": {},
   "source": [
    "Para llevar a cabo la identificación de las variables que tienen una baja variedad de valores, mostremos para cada una el número de valores únicos que toma y el porcentaje que supone respecto al total de registros."
   ]
  },
  {
   "cell_type": "code",
   "execution_count": null,
   "id": "cfdca244-4925-4949-9e93-568fcca5deb5",
   "metadata": {},
   "outputs": [],
   "source": [
    "for i in range(X.shape[1]+1):\n",
    "    name = ''\n",
    "    if i >= X.shape[1]:\n",
    "        num = len(y.unique())\n",
    "        name = y.name\n",
    "    else:\n",
    "        num = len(X.iloc[:, i].unique())\n",
    "        name = X.columns[i]\n",
    "    percentage = num / X.shape[0] * 100\n",
    "    print('%d \\t %d \\t %.1f%% \\t %s' % (i, num, percentage, name))"
   ]
  },
  {
   "cell_type": "markdown",
   "id": "98c4db2d-3172-45d0-bcf3-522ce858c5df",
   "metadata": {},
   "source": [
    "Vemos que en hay variables que tienen pocos valores distintos, pero esto es porque son varaibles categóricas limitadas a un rango concreto. No parece necesario eliminar estas variables."
   ]
  },
  {
   "cell_type": "markdown",
   "id": "4ac252cc-e82f-40d7-9999-243a39cb1b3e",
   "metadata": {},
   "source": [
    "#### 2.1.3. Valores de baja varianza"
   ]
  },
  {
   "cell_type": "markdown",
   "id": "d83c43c8-68a8-4335-a102-dbac425185aa",
   "metadata": {},
   "source": [
    "Ahora vamos a comprobar qué variables tienen una varianza muy muy pequeña, lo cual implicaría que estuvieran muy cerca de tener un solo valor, y de ser necesario eliminarlas también.\n",
    "\n",
    "Primero, separamos las variables explicativas de la explicada:"
   ]
  },
  {
   "cell_type": "code",
   "execution_count": null,
   "id": "646e7de1-768b-4364-b28d-2f567864d646",
   "metadata": {},
   "outputs": [],
   "source": [
    "X.info()"
   ]
  },
  {
   "cell_type": "code",
   "execution_count": null,
   "id": "d1276794-958b-4ef5-809b-56e229e4cc36",
   "metadata": {},
   "outputs": [],
   "source": [
    "from sklearn.feature_selection import VarianceThreshold\n",
    "\n",
    "#También necesitamos, para este método quedarnos solo con las variables numéricas\n",
    "col_num = X.iloc[:,[3, 7, 8, 9, 10, 11]]\n",
    "\n",
    "thresholds = np.arange(0.0, 0.55, 0.05)\n",
    "\n",
    "results = list()\n",
    "for t in thresholds:\n",
    "    \n",
    "    transform = VarianceThreshold(threshold=t)\n",
    "    \n",
    "    col_num_trans = transform.fit_transform(col_num)\n",
    "    \n",
    "    n_features = col_num_trans.shape[1]\n",
    "    print('>Threshold=%.2f, Features=%d' % (t, n_features))\n",
    "    \n",
    "    results.append(n_features)"
   ]
  },
  {
   "cell_type": "markdown",
   "id": "675f2013-37a6-4654-9069-db216285c3cc",
   "metadata": {},
   "source": [
    "Ninguna de nuestras variables numéricas es candidata a ser eliminada."
   ]
  },
  {
   "cell_type": "markdown",
   "id": "eaab4ed5-0eb9-4f9d-aada-f248ff0b116e",
   "metadata": {},
   "source": [
    "#### 2.1.4. Valores duplicados"
   ]
  },
  {
   "cell_type": "markdown",
   "id": "f48c9dfc-44d1-4ccd-8412-b78bbeb44528",
   "metadata": {},
   "source": [
    "Veamos el número de registros duplicados (contando la variable target) que existen en nuestro dataset."
   ]
  },
  {
   "cell_type": "code",
   "execution_count": null,
   "id": "32aeff5b-d173-443a-8ecf-b8718fb57142",
   "metadata": {},
   "outputs": [],
   "source": [
    "aux = X.copy()\n",
    "aux['target'] = y.values\n",
    "dups = aux.duplicated()\n",
    "print(dups.any())\n",
    "print(aux[dups].shape[0])"
   ]
  },
  {
   "cell_type": "markdown",
   "id": "1f5f3995-2eac-412e-94b5-7a3a30df1966",
   "metadata": {},
   "source": [
    "Vemos que tenemos 50 columnas duplicadas, procedemos a eliminarlas."
   ]
  },
  {
   "cell_type": "code",
   "execution_count": null,
   "id": "f9be17a1-c597-405b-b4dc-0e272649280e",
   "metadata": {},
   "outputs": [],
   "source": [
    "print(\"Con duplicados: \",aux.shape)\n",
    "aux.drop_duplicates(inplace=True)\n",
    "print(\"Sin duplicados: \",aux.shape)"
   ]
  },
  {
   "cell_type": "markdown",
   "id": "31761e07-b0ab-447f-ae7a-b80c1f96b783",
   "metadata": {},
   "source": [
    "Volvemos a separar los datos:"
   ]
  },
  {
   "cell_type": "code",
   "execution_count": null,
   "id": "099140cc-6ed2-42c8-84e1-400096ac86d8",
   "metadata": {},
   "outputs": [],
   "source": [
    "X, y = aux.drop('target', axis=1), aux.target\n",
    "print(X.shape, y.shape)"
   ]
  },
  {
   "cell_type": "markdown",
   "id": "8f8f30fa-cb4a-4544-bae6-603056fcd249",
   "metadata": {},
   "source": [
    "Ya tenemos nuestros datos limpios de duplicados."
   ]
  },
  {
   "cell_type": "markdown",
   "id": "a6e364a6-4555-4f3e-8318-f50969d6ae9a",
   "metadata": {},
   "source": [
    "### 2.2. Identificación de outliers y valores perdidos"
   ]
  },
  {
   "cell_type": "markdown",
   "id": "3bd2d0a1-49ed-464c-8bf3-8d9e043c40c6",
   "metadata": {},
   "source": [
    "En este apartado trataremos de identificar los valores espurios y los faltantes, posteriormente decidiremos si los eliminamos o no."
   ]
  },
  {
   "cell_type": "markdown",
   "id": "b5ad9a2e-b693-4a7b-8f5b-316e35668ec6",
   "metadata": {},
   "source": [
    "#### 2.2.1. Outliers"
   ]
  },
  {
   "cell_type": "markdown",
   "id": "c4e43c54-bb60-4944-89ec-c7adb9cb174c",
   "metadata": {},
   "source": [
    "Comencemos primero con los valores espurios."
   ]
  },
  {
   "cell_type": "markdown",
   "id": "16bf579f-1ac1-4b1a-a223-b84e93338441",
   "metadata": {},
   "source": [
    "##### 2.2.1.1. Borrado de outliers mediante el Standard Deviation Method"
   ]
  },
  {
   "cell_type": "markdown",
   "id": "3fac796c-c4c1-429a-a0ab-00bd9e668a27",
   "metadata": {},
   "source": [
    "Primero vamos a comprobar qué distribución siguen nuestros datos."
   ]
  },
  {
   "cell_type": "code",
   "execution_count": 278,
   "id": "c3db49d7-8acf-4491-8ab5-fce755616abf",
   "metadata": {},
   "outputs": [
    {
     "ename": "AttributeError",
     "evalue": "'list' object has no attribute 'hist'",
     "output_type": "error",
     "traceback": [
      "\u001b[1;31m---------------------------------------------------------------------------\u001b[0m",
      "\u001b[1;31mAttributeError\u001b[0m                            Traceback (most recent call last)",
      "\u001b[1;32m~\\AppData\\Local\\Temp\\ipykernel_7888\\4199361721.py\u001b[0m in \u001b[0;36m<module>\u001b[1;34m\u001b[0m\n\u001b[0;32m      1\u001b[0m \u001b[1;32mimport\u001b[0m \u001b[0mmatplotlib\u001b[0m\u001b[1;33m.\u001b[0m\u001b[0mpyplot\u001b[0m \u001b[1;32mas\u001b[0m \u001b[0mplt\u001b[0m\u001b[1;33m\u001b[0m\u001b[1;33m\u001b[0m\u001b[0m\n\u001b[0;32m      2\u001b[0m \u001b[1;33m\u001b[0m\u001b[0m\n\u001b[1;32m----> 3\u001b[1;33m \u001b[0mfig\u001b[0m \u001b[1;33m=\u001b[0m \u001b[0maux\u001b[0m\u001b[1;33m.\u001b[0m\u001b[0mhist\u001b[0m\u001b[1;33m(\u001b[0m\u001b[0mfigsize\u001b[0m\u001b[1;33m=\u001b[0m\u001b[1;33m[\u001b[0m\u001b[1;36m20\u001b[0m\u001b[1;33m,\u001b[0m\u001b[1;36m15\u001b[0m\u001b[1;33m]\u001b[0m\u001b[1;33m,\u001b[0m \u001b[0mxlabelsize\u001b[0m\u001b[1;33m=\u001b[0m\u001b[1;36m4\u001b[0m\u001b[1;33m,\u001b[0m \u001b[0mylabelsize\u001b[0m\u001b[1;33m=\u001b[0m\u001b[1;36m4\u001b[0m\u001b[1;33m)\u001b[0m\u001b[1;33m\u001b[0m\u001b[1;33m\u001b[0m\u001b[0m\n\u001b[0m\u001b[0;32m      4\u001b[0m \u001b[1;33m\u001b[0m\u001b[0m\n\u001b[0;32m      5\u001b[0m \u001b[0mplt\u001b[0m\u001b[1;33m.\u001b[0m\u001b[0mshow\u001b[0m\u001b[1;33m(\u001b[0m\u001b[1;33m)\u001b[0m\u001b[1;33m\u001b[0m\u001b[1;33m\u001b[0m\u001b[0m\n",
      "\u001b[1;31mAttributeError\u001b[0m: 'list' object has no attribute 'hist'"
     ]
    }
   ],
   "source": [
    "import matplotlib.pyplot as plt\n",
    "\n",
    "fig = aux.hist(figsize=[20,15], xlabelsize=4, ylabelsize=4)\n",
    "\n",
    "plt.show()"
   ]
  },
  {
   "cell_type": "markdown",
   "id": "293a17d1-e2d0-4786-957a-d4e477913723",
   "metadata": {},
   "source": [
    "Viendo estas distribuciones podemos asverar que tenemos espurios. Quizá de todas, la variable likedPercentage sea la única que se salva. Así que eliminemos los espurios en las otras 5 variables:"
   ]
  },
  {
   "cell_type": "code",
   "execution_count": null,
   "id": "d1900ef4-412a-4a77-a354-7593bf2e21e8",
   "metadata": {},
   "outputs": [],
   "source": [
    "col_num_outlier = X.iloc[:, [3, 7, 8, 9, 10, 11]]\n",
    "\n",
    "df_SDM = aux.copy()\n",
    "\n",
    "for elem in col_num_outlier:\n",
    "    data_mean, data_std = np.mean(df_SDM[elem]), np.std(df_SDM[elem])\n",
    "    cut_off = data_std * 3\n",
    "    lower, upper = data_mean - cut_off, data_mean + cut_off\n",
    "    df_SDM = df_SDM[(df_SDM[elem] >= lower) & (df_SDM[elem] <= upper)]\n",
    "    \n",
    "fig = df_SDM.hist(figsize=[20,15], xlabelsize=4, ylabelsize=4)\n",
    "\n",
    "plt.show()"
   ]
  },
  {
   "cell_type": "markdown",
   "id": "c0ab9996-de28-4d2b-b680-49e973d37c27",
   "metadata": {},
   "source": [
    "Vemos que seguimos teniendo distribuciones demasiado influidas por espurios, así que vamos a volver a aplicar el método sobre estas variables."
   ]
  },
  {
   "cell_type": "code",
   "execution_count": null,
   "id": "7779a9b5-60d4-478b-94db-c4c3c1014131",
   "metadata": {},
   "outputs": [],
   "source": [
    "col_num_outlier = X.iloc[:,[7, 9, 10, 11]]\n",
    "\n",
    "df_SDM_v2 = df_SDM.copy()\n",
    "\n",
    "for elem in col_num_outlier:\n",
    "    data_mean, data_std = np.mean(df_SDM_v2[elem]), np.std(df_SDM_v2[elem])\n",
    "    cut_off = data_std * 3\n",
    "    lower, upper = data_mean - cut_off, data_mean + cut_off\n",
    "    df_SDM_v2 = df_SDM_v2[(df_SDM_v2[elem] >= lower) & (df_SDM_v2[elem] <= upper)]\n",
    "    \n",
    "fig = df_SDM_v2.hist(figsize=[20,15], xlabelsize=4, ylabelsize=4)\n",
    "\n",
    "plt.show()"
   ]
  },
  {
   "cell_type": "code",
   "execution_count": null,
   "id": "42721642-e0ac-4580-a960-7af633e4d7dd",
   "metadata": {},
   "outputs": [],
   "source": [
    "df_SDM_v2.describe()"
   ]
  },
  {
   "cell_type": "markdown",
   "id": "61f3aed7-bd5c-479c-956e-5745c0fe35d4",
   "metadata": {},
   "source": [
    "Como podemos ver el valor negativo de bbeVotes está perjudicando a nuestro dataset, así que lo vamos a eliminar."
   ]
  },
  {
   "cell_type": "code",
   "execution_count": null,
   "id": "3d0e5cf4-24bb-48e5-954d-5f40a5720ad1",
   "metadata": {},
   "outputs": [],
   "source": [
    "df_SDM_v2 = df_SDM_v2[(df_SDM_v2['bbeVotes'] > 0)]\n",
    "df_SDM_v2.describe()"
   ]
  },
  {
   "cell_type": "code",
   "execution_count": null,
   "id": "5a00a3b4-e657-45ea-9bba-cfb02941b09b",
   "metadata": {},
   "outputs": [],
   "source": [
    "fig = df_SDM_v2.hist(figsize=[20,15], xlabelsize=4, ylabelsize=4)\n",
    "\n",
    "plt.show()"
   ]
  },
  {
   "cell_type": "code",
   "execution_count": null,
   "id": "83af58b5-2bcc-4fc5-b077-4f824fd8d27b",
   "metadata": {},
   "outputs": [],
   "source": [
    "df_SDM_v2.shape"
   ]
  },
  {
   "cell_type": "markdown",
   "id": "0270709c-1b1d-4cc1-90c3-1711963d1542",
   "metadata": {},
   "source": [
    "Vemos que hemos eliminado muchos datos, pero seguimos teniendo una grandísima cantidad de estos. Además, ahora podemos ver bien las distribuciones de nuestros datos."
   ]
  },
  {
   "cell_type": "markdown",
   "id": "c961f252-583f-49cd-bd5d-543b61454547",
   "metadata": {},
   "source": [
    "##### 2.2.1.2. Identificación de outliers mediante el Interquartile Range Method (IQR)"
   ]
  },
  {
   "cell_type": "code",
   "execution_count": null,
   "id": "f93aedee-b1f2-4f0e-ae20-db45fa037662",
   "metadata": {},
   "outputs": [],
   "source": [
    "df_IQR = aux.copy()\n",
    "\n",
    "for i in df_IQR.iloc[:, [3, 7, 8, 9, 10, 11]]:\n",
    "    print(i)\n",
    "    datos = df_IQR[[i]].values.astype('int64')\n",
    "    \n",
    "    q25, q75 = np.percentile(datos, 25), np.percentile(datos, 75)\n",
    "    iqr = q75 - q25\n",
    "    print('Percentiles: 25th=%.3f, 75th=%.3f, IQR=%.3f' % (q25, q75, iqr))\n",
    "    \n",
    "    cut_off = iqr * 1.5\n",
    "    lower, upper = q25 - cut_off, q75 + cut_off\n",
    "    \n",
    "    outliers = [x for x in datos if x < lower or x > upper]\n",
    "    print('Identified outliers: %d' % len(outliers))\n",
    "    df_IQR = df_IQR[(df_IQR[i] >= lower) & (df_IQR[i] <= upper)]"
   ]
  },
  {
   "cell_type": "code",
   "execution_count": null,
   "id": "e008b669-30ac-49ff-85e3-fdb09f659383",
   "metadata": {},
   "outputs": [],
   "source": [
    "fig = df_IQR.hist(figsize=[20,15], xlabelsize=4, ylabelsize=4)\n",
    "\n",
    "plt.show()"
   ]
  },
  {
   "cell_type": "markdown",
   "id": "6178a018-0949-491a-8fcb-82d8b250f7ad",
   "metadata": {},
   "source": [
    "Vemos que este método no sabe gestionar espurios muy exagerados como los que encontramos en nuestro problema."
   ]
  },
  {
   "cell_type": "markdown",
   "id": "2e1de8ce-95a7-4729-b455-e8181219c2cf",
   "metadata": {
    "tags": []
   },
   "source": [
    "##### 2.2.1.3. Borrado automático de outliers mediante el Local Outlier Factor (LOF)"
   ]
  },
  {
   "cell_type": "code",
   "execution_count": null,
   "id": "b88d000e-81d7-453f-94c4-03bee4bf8b00",
   "metadata": {},
   "outputs": [],
   "source": [
    "from sklearn.neighbors import LocalOutlierFactor\n",
    "\n",
    "X = aux.iloc[:, [3, 7, 8, 9, 10, 11]]\n",
    "y = aux.iloc[:,-1]\n",
    "\n",
    "lof = LocalOutlierFactor()\n",
    "yhat = lof.fit_predict(X)\n",
    "yhat = yhat[yhat == -1]\n",
    "len(yhat)"
   ]
  },
  {
   "cell_type": "markdown",
   "id": "affd1fef-6a7b-4d49-b447-7ad2ad48b0b4",
   "metadata": {},
   "source": [
    "Vemos que no podemos usar este método porque contiene 'NaN' así que vamos a hacer un parón y volver a utilizarlo más adelante, después del apartado 2.3. de imputación de nulos."
   ]
  },
  {
   "cell_type": "markdown",
   "id": "3c3ba64a-7007-4e92-91ce-efd30a015639",
   "metadata": {},
   "source": [
    "#### 2.2.2. Valores perdidos"
   ]
  },
  {
   "cell_type": "markdown",
   "id": "d19628c3-c8f5-437b-b1aa-9cdc44b40b27",
   "metadata": {},
   "source": [
    "##### 2.2.2.1. Identificación de valores perdidos"
   ]
  },
  {
   "cell_type": "code",
   "execution_count": null,
   "id": "845088ee-0e39-40e6-9fc9-3848e52d4580",
   "metadata": {},
   "outputs": [],
   "source": [
    "num_nulls = (aux.isnull()).sum()\n",
    "\n",
    "print(num_nulls)"
   ]
  },
  {
   "cell_type": "code",
   "execution_count": null,
   "id": "72ff6384-c790-4298-9b5f-1b7b6cd59b71",
   "metadata": {},
   "outputs": [],
   "source": [
    "for i in range(aux.shape[1]):\n",
    "    n_miss = aux.iloc[:,i].isnull().sum()\n",
    "    perc = n_miss / aux.shape[0] * 100\n",
    "    print('> %d \\t Missing: %d \\t (%.1f%%) \\t %s' % (i, n_miss, perc, aux.columns[i]))"
   ]
  },
  {
   "cell_type": "markdown",
   "id": "72f47a45-2a53-4817-907d-4232da63cbc3",
   "metadata": {},
   "source": [
    "Vemos que tenemos en muchas columnas un grave problema de valores nulos, así que como viene así estructurado en la asignatura en este apartado simplemente vamos a eliminarlos. Más adelante los imputaremos."
   ]
  },
  {
   "cell_type": "markdown",
   "id": "2e759048-6511-4430-af6a-c8a0cb0a6310",
   "metadata": {},
   "source": [
    "##### 2.2.2.2. Borrado de filas con valores nulos"
   ]
  },
  {
   "cell_type": "code",
   "execution_count": null,
   "id": "ada3caa0-246e-4dbe-afa6-80ab2d12f68b",
   "metadata": {},
   "outputs": [],
   "source": [
    "df_noNulls = aux.copy()\n",
    "df_noNulls.dropna(inplace=True)\n",
    "#Antes\n",
    "print(aux.shape)\n",
    "#Después\n",
    "print(df_noNulls.shape)"
   ]
  },
  {
   "cell_type": "markdown",
   "id": "9a858a7c-8b5c-458e-94a0-08fc5bfe5a94",
   "metadata": {},
   "source": [
    "Acabamos, por arte de magia, de erradicar la base de datos. Vamos por tanto a eliminar directamente las columnas que tienen un porcentaje de nulos muy alto y luego volver a aplicar esta estrategia."
   ]
  },
  {
   "cell_type": "code",
   "execution_count": null,
   "id": "a2631002-eb77-43e5-808f-d14dfcbb49a9",
   "metadata": {},
   "outputs": [],
   "source": [
    "aux = aux.drop(['edition', 'firstPublishDate', 'setting'], axis=1)"
   ]
  },
  {
   "cell_type": "code",
   "execution_count": null,
   "id": "94ae6d5c-2989-45af-a757-f06aae6ed403",
   "metadata": {},
   "outputs": [],
   "source": [
    "df_noNulls = aux.copy()\n",
    "df_noNulls.dropna(inplace=True)\n",
    "#Antes\n",
    "print(aux.shape)\n",
    "#Después\n",
    "print(df_noNulls.shape)"
   ]
  },
  {
   "cell_type": "markdown",
   "id": "96a8b8c7-c122-49a0-aa8e-a69f0149fa63",
   "metadata": {},
   "source": [
    "Ahora ya obtenemos resultados más lógicos."
   ]
  },
  {
   "cell_type": "markdown",
   "id": "fb3a83cc-32a8-45cf-8eef-2d659d578217",
   "metadata": {},
   "source": [
    "### 2.3. Imputación de valores perdidos"
   ]
  },
  {
   "cell_type": "markdown",
   "id": "a9b016d9-e070-4b89-ad96-4703c906ee24",
   "metadata": {},
   "source": [
    "En este apartado vamos un poco a ciegas, porque no podemos comprobar que tan bien funciona cada imputación ya que tenemos variables categóricas de las que aún no hemos podido encargarnos. Así que vamos a crear un dataset para cada técnica y los validaremos más adelante.\n",
    "<br><br>\n",
    "Además, para todas las variables categóricas aplicaremos 'most_frequent' y el resto de técnicas para las númericas."
   ]
  },
  {
   "cell_type": "markdown",
   "id": "dd6e83d9-2a32-4b3f-a0fd-587e9b7b525a",
   "metadata": {},
   "source": [
    "#### 2.3.1. Imputación estadística"
   ]
  },
  {
   "cell_type": "code",
   "execution_count": null,
   "id": "362c5623-bd43-44b4-919e-4e52a58e55af",
   "metadata": {},
   "outputs": [],
   "source": [
    "aux.info()"
   ]
  },
  {
   "cell_type": "code",
   "execution_count": null,
   "id": "df65b399-067d-4a43-a03b-01e33e8859a1",
   "metadata": {},
   "outputs": [],
   "source": [
    "X_cat = aux.iloc[:, [0, 1, 3, 4, 10, 11]]\n",
    "X_num = aux.iloc[:, [2, 5, 6, 7, 8, 9]]\n",
    "y = aux.iloc[:, -1]"
   ]
  },
  {
   "cell_type": "code",
   "execution_count": null,
   "id": "853c54bd-e8a7-44cd-8118-fa2bb786b6e4",
   "metadata": {},
   "outputs": [],
   "source": [
    "X_cat = pd.DataFrame(SimpleImputer(strategy='most_frequent').fit_transform(X_cat), columns = X_cat.columns, index=X_cat.index)"
   ]
  },
  {
   "cell_type": "code",
   "execution_count": null,
   "id": "065edebf-a115-44fe-935a-aa48e984a34b",
   "metadata": {},
   "outputs": [],
   "source": [
    "from sklearn.impute import SimpleImputer\n",
    "\n",
    "strategies = ['mean', 'median', 'most_frequent', 'constant']\n",
    "for s in strategies:\n",
    "    X_num_imputed = pd.DataFrame(SimpleImputer(strategy=s).fit_transform(X_num), columns = X_num.columns, index=X_num.index)\n",
    "    exec(f'df_imputed_{s} = pd.concat([X_num_imputed, X_cat, y], axis=1)')"
   ]
  },
  {
   "cell_type": "code",
   "execution_count": null,
   "id": "6d823a2c-646c-40b6-a541-9fed7ac249a1",
   "metadata": {},
   "outputs": [],
   "source": [
    "#Probamos cada estrategia:\n",
    "for s in strategies:\n",
    "    print(s)\n",
    "    exec(f'print((df_imputed_{s}.isnull()).sum())')"
   ]
  },
  {
   "cell_type": "markdown",
   "id": "c83b8350-a82c-4225-b37c-ce64bf367f2a",
   "metadata": {},
   "source": [
    "Vemos que está todo perfecto y sin nulos."
   ]
  },
  {
   "cell_type": "markdown",
   "id": "f1585a77-c25a-422b-9026-d19416a671de",
   "metadata": {},
   "source": [
    "#### 2.3.2. Imputación por KNN"
   ]
  },
  {
   "cell_type": "markdown",
   "id": "7dad5a90-3e8c-4b5e-90ea-e84dfaeba62c",
   "metadata": {},
   "source": [
    "Hacemos lo mismo con al estrategia de imputación por KNN, vamos a tener un dataframe para cada KNN desde el 2 al 20 contando de dos en dos."
   ]
  },
  {
   "cell_type": "code",
   "execution_count": null,
   "id": "6ab5d45e-aa45-46cd-99b3-46fe30a27162",
   "metadata": {},
   "outputs": [],
   "source": [
    "from sklearn.impute import KNNImputer\n",
    "\n",
    "strategies = [i for i in range(1,22,2)]\n",
    "for s in strategies:\n",
    "    X_num_imputed = pd.DataFrame(KNNImputer(n_neighbors=s).fit_transform(X_num), columns = X_num.columns, index=X_num.index)\n",
    "    exec(f'df_imputed_KNN{s} = pd.concat([X_num_imputed, X_cat, y], axis=1)')"
   ]
  },
  {
   "cell_type": "markdown",
   "id": "9434643c-c416-42c8-897c-3c3dbb5b993a",
   "metadata": {},
   "source": [
    "#### 2.3.3. Outliers con LOF"
   ]
  },
  {
   "cell_type": "markdown",
   "id": "e5ff1d43-e1c9-43ad-8c87-297e6130a911",
   "metadata": {},
   "source": [
    "Ya que en el momento de hacer el eliminado de espurios con el método LOF no hemos podido porque teniamos valores faltantes, lo retomamos en este apartado. Por simplificar las cosas vamos a dar por hecho que el que utiliza la media para imputar los valores faltantes numéricos es el mejor, y es el que vamos a utilizar para eliminar los espurios."
   ]
  },
  {
   "cell_type": "code",
   "execution_count": null,
   "id": "f0b553a0-c013-4afe-94a1-7f8bba1d4f54",
   "metadata": {},
   "outputs": [],
   "source": [
    "from sklearn.neighbors import LocalOutlierFactor\n",
    "\n",
    "X = df_imputed_mean.iloc[:, [0, 1, 2, 3, 4, 5]]\n",
    "y = df_imputed_mean.iloc[:,-1]\n",
    "\n",
    "lof = LocalOutlierFactor()\n",
    "yhat = lof.fit_predict(X)\n",
    "yhat = yhat[yhat == -1]\n",
    "len(yhat)"
   ]
  },
  {
   "cell_type": "code",
   "execution_count": null,
   "id": "6c613329-9e9b-459d-a3b9-1f7031ddf97a",
   "metadata": {},
   "outputs": [],
   "source": [
    "yhat = lof.fit_predict(X)\n",
    "df_fin_3 = df_imputed_mean[yhat == 1]\n",
    "df_fin_3.shape"
   ]
  },
  {
   "cell_type": "code",
   "execution_count": null,
   "id": "9a55652e-0ddf-4770-ba37-d9715c512f7f",
   "metadata": {},
   "outputs": [],
   "source": [
    "df_fin_3.head()"
   ]
  },
  {
   "cell_type": "markdown",
   "id": "aa04c0b4-8fb2-477d-94ed-f9b9e3d770c6",
   "metadata": {},
   "source": [
    "### 2.4. Ordinal Encoding y One Hot Encoding"
   ]
  },
  {
   "cell_type": "markdown",
   "id": "dae989b4-0bc9-4c6f-b049-29203ff92a7b",
   "metadata": {},
   "source": [
    "Para este apartado, vamos a determinar primero qué variables serán transformadas con OrdinalEncoder y cuales con One Hot Encoding.\n",
    "<br><br>\n",
    "Para OneHotEncoder:\n",
    "   - language, \n",
    "   - bookFormat, \n",
    "   - publisher, \n",
    "   - author,\n",
    "   - genres"
   ]
  },
  {
   "cell_type": "markdown",
   "id": "ce8b821c-5467-411a-aa73-0374005097f6",
   "metadata": {},
   "source": [
    "\n",
    "Para OrdinalEncoder:\n",
    "   - publishDate"
   ]
  },
  {
   "cell_type": "code",
   "execution_count": null,
   "id": "0057ba3c-a2df-425e-9e85-99d91ede2382",
   "metadata": {},
   "outputs": [],
   "source": [
    "from sklearn.preprocessing import OneHotEncoder\n",
    "\n",
    "cat_cols = ['language', 'bookFormat', 'publisher', 'author', 'genres']\n",
    "onehot_encoder = OneHotEncoder(sparse=False)\n",
    "feature_arr = onehot_encoder.fit_transform(df_fin_3[cat_cols])\n",
    "feature_labels = onehot_encoder.categories_\n",
    "feature_labels = np.array(feature_labels).ravel()\n",
    "features = pd.DataFrame(feature_arr, columns=feature_labels)\n",
    "\n",
    "df_fin_3.drop(cat_cols, axis=1, inplace=True)\n",
    "df_fin_3 = pd.Concat([df_fin_3,features], axis=1)"
   ]
  },
  {
   "cell_type": "markdown",
   "id": "a8f385c6-e9aa-48f7-8ea4-e99908857b33",
   "metadata": {},
   "source": [
    "Vaya vaya, vemos que tenemos tantísimos valores distintos en nuestros datos categóricos que no podemos hacer esto. Así que haremos un Ordinal encoder para todos y nos curamos en disgustos."
   ]
  },
  {
   "cell_type": "code",
   "execution_count": null,
   "id": "b249f1cd-140d-4329-a123-15902ec22c3b",
   "metadata": {},
   "outputs": [],
   "source": [
    "from sklearn.preprocessing import OrdinalEncoder\n",
    "\n",
    "pd.options.mode.chained_assignment = None \n",
    "cat_cols = ['language', 'bookFormat', 'publisher', 'author', 'genres', 'publishDate']\n",
    "ord_enc = OrdinalEncoder()\n",
    "feature_arr = ord_enc.fit_transform(df_fin_3[cat_cols])\n",
    "features = pd.DataFrame(feature_arr, columns=cat_cols, index=df_fin_3.index)\n",
    "\n",
    "df_fin_3.drop(cat_cols, axis=1, inplace=True)\n",
    "df_fin_3 = pd.concat([df_fin_3,features], axis=1)"
   ]
  },
  {
   "cell_type": "code",
   "execution_count": null,
   "id": "5faecd1b-3e1b-420c-a387-f32358920b75",
   "metadata": {},
   "outputs": [],
   "source": [
    "df_fin_3"
   ]
  },
  {
   "cell_type": "markdown",
   "id": "3936f5c2-c2bf-49bb-a4c2-266586288f96",
   "metadata": {},
   "source": [
    "Por fin tenemos nuestro dataframe limpio, codificado, sin nulos ni espurios. Vamos a ver qué valor nos da un random forest:"
   ]
  },
  {
   "cell_type": "code",
   "execution_count": null,
   "id": "56fb91d9-e55f-4130-9531-1bf98a4720f9",
   "metadata": {},
   "outputs": [],
   "source": [
    "from sklearn.ensemble import RandomForestRegressor\n",
    "from sklearn.model_selection import train_test_split\n",
    "from sklearn.metrics import mean_squared_error\n",
    "\n",
    "data = df_fin_3.values\n",
    "\n",
    "X = data[:, :-1]\n",
    "y = data[:, -1]\n",
    "\n",
    "X_train, X_test, y_train, y_test = train_test_split(X, y, test_size=0.2, random_state=1)\n",
    "\n",
    "regr = RandomForestRegressor(random_state=1)\n",
    "regr.fit(X_train, y_train)\n",
    "\n",
    "yhat = regr.predict(X_test)\n",
    "\n",
    "accuracy = mean_squared_error(y_test, yhat)\n",
    "print('RMSE: %.2f' % (accuracy*100))"
   ]
  },
  {
   "cell_type": "markdown",
   "id": "359dbdf7-ec32-4b27-9460-43cc9e0d17e2",
   "metadata": {},
   "source": [
    "## 3. Conclusiones"
   ]
  },
  {
   "cell_type": "code",
   "execution_count": null,
   "id": "03d91e33-6730-400b-8782-4e13eb4db2a3",
   "metadata": {},
   "outputs": [],
   "source": []
  }
 ],
 "metadata": {
  "kernelspec": {
   "display_name": "Python 3 (ipykernel)",
   "language": "python",
   "name": "python3"
  },
  "language_info": {
   "codemirror_mode": {
    "name": "ipython",
    "version": 3
   },
   "file_extension": ".py",
   "mimetype": "text/x-python",
   "name": "python",
   "nbconvert_exporter": "python",
   "pygments_lexer": "ipython3",
   "version": "3.9.13"
  }
 },
 "nbformat": 4,
 "nbformat_minor": 5
}
