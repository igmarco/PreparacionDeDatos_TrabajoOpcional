{
 "cells": [
  {
   "cell_type": "markdown",
   "id": "d21f4faf-17db-4fff-b997-bbe979bd0691",
   "metadata": {
    "tags": []
   },
   "source": [
    "# Trabajo 2 Opcional"
   ]
  },
  {
   "cell_type": "markdown",
   "id": "62c27cde-bbac-4c5b-b9d1-19aa70b0957e",
   "metadata": {},
   "source": [
    " - Máster en Ciencia de Datos y Aprendizaje Automático.\n",
    " - Asignatura: Preparación de Datos.\n",
    " - Trabajo realizado por: Pablo Ascorbe e Ignacio Marco.\n",
    " - Fecha: --/01/2023."
   ]
  },
  {
   "cell_type": "markdown",
   "id": "1deb83e0-2a88-4a13-8a33-8b4bdcaae5dd",
   "metadata": {},
   "source": [
    "## 1. Lectura y análisis del dataset"
   ]
  },
  {
   "cell_type": "markdown",
   "id": "f68bdb0c-32b7-4dac-9ff7-a7ba0cc2ec55",
   "metadata": {},
   "source": [
    "En este primer apartado importaremos los datos y haremos un estudio inicial de éstos.\n",
    "Los datos se han conseguido en: https://zenodo.org/record/4265096#.Y7vcdBXMLct\n",
    "<br><br>\n",
    "Es un dataset que cuenta con 52.478 libros y 24 características, y cuyos datos están sacados de la lista de los mejores libros de GoodReads."
   ]
  },
  {
   "cell_type": "markdown",
   "id": "b2db2641-5f32-491c-8aa0-5a171cdeaba6",
   "metadata": {},
   "source": [
    "### 1.1. Importación de datos"
   ]
  },
  {
   "cell_type": "code",
   "execution_count": 105,
   "id": "8f463db3-f6b0-43d4-a890-e874ec6ff9fa",
   "metadata": {},
   "outputs": [
    {
     "name": "stdout",
     "output_type": "stream",
     "text": [
      "(52478, 25)\n"
     ]
    }
   ],
   "source": [
    "import pandas as pd\n",
    "import numpy as np\n",
    "\n",
    "df = pd.read_csv('libros.csv', header=0, dtype=object)\n",
    "print(df.shape)"
   ]
  },
  {
   "cell_type": "code",
   "execution_count": 5,
   "id": "9229849c-8da7-40ff-959a-d8281af60e52",
   "metadata": {},
   "outputs": [
    {
     "name": "stdout",
     "output_type": "stream",
     "text": [
      "<class 'pandas.core.frame.DataFrame'>\n",
      "RangeIndex: 52478 entries, 0 to 52477\n",
      "Data columns (total 25 columns):\n",
      " #   Column            Non-Null Count  Dtype \n",
      "---  ------            --------------  ----- \n",
      " 0   bookId            52478 non-null  object\n",
      " 1   title             52478 non-null  object\n",
      " 2   series            23470 non-null  object\n",
      " 3   author            52478 non-null  object\n",
      " 4   rating            52478 non-null  object\n",
      " 5   description       51140 non-null  object\n",
      " 6   language          48672 non-null  object\n",
      " 7   isbn              52478 non-null  object\n",
      " 8   genres            52478 non-null  object\n",
      " 9   characters        52478 non-null  object\n",
      " 10  bookFormat        51005 non-null  object\n",
      " 11  edition           4955 non-null   object\n",
      " 12  pages             50131 non-null  object\n",
      " 13  publisher         48782 non-null  object\n",
      " 14  publishDate       51598 non-null  object\n",
      " 15  firstPublishDate  31152 non-null  object\n",
      " 16  awards            52478 non-null  object\n",
      " 17  numRatings        52478 non-null  object\n",
      " 18  ratingsByStars    52478 non-null  object\n",
      " 19  likedPercent      51856 non-null  object\n",
      " 20  setting           52478 non-null  object\n",
      " 21  coverImg          51873 non-null  object\n",
      " 22  bbeScore          52478 non-null  object\n",
      " 23  bbeVotes          52478 non-null  object\n",
      " 24  price             38113 non-null  object\n",
      "dtypes: object(25)\n",
      "memory usage: 10.0+ MB\n"
     ]
    }
   ],
   "source": [
    "df.info()"
   ]
  },
  {
   "cell_type": "markdown",
   "id": "3e8ac814-a011-436c-8af7-e2c12a3ff305",
   "metadata": {},
   "source": [
    "Vemos que tenemos demasiadas instancias y que podría estar bien reducir un poco para simplificar, pero de momento vamos a seguir con todos."
   ]
  },
  {
   "cell_type": "code",
   "execution_count": 6,
   "id": "fb57791d-2d3a-4e3d-b998-bb68df89d236",
   "metadata": {},
   "outputs": [
    {
     "data": {
      "text/html": [
       "<div>\n",
       "<style scoped>\n",
       "    .dataframe tbody tr th:only-of-type {\n",
       "        vertical-align: middle;\n",
       "    }\n",
       "\n",
       "    .dataframe tbody tr th {\n",
       "        vertical-align: top;\n",
       "    }\n",
       "\n",
       "    .dataframe thead th {\n",
       "        text-align: right;\n",
       "    }\n",
       "</style>\n",
       "<table border=\"1\" class=\"dataframe\">\n",
       "  <thead>\n",
       "    <tr style=\"text-align: right;\">\n",
       "      <th></th>\n",
       "      <th>bookId</th>\n",
       "      <th>title</th>\n",
       "      <th>series</th>\n",
       "      <th>author</th>\n",
       "      <th>rating</th>\n",
       "      <th>description</th>\n",
       "      <th>language</th>\n",
       "      <th>isbn</th>\n",
       "      <th>genres</th>\n",
       "      <th>characters</th>\n",
       "      <th>...</th>\n",
       "      <th>firstPublishDate</th>\n",
       "      <th>awards</th>\n",
       "      <th>numRatings</th>\n",
       "      <th>ratingsByStars</th>\n",
       "      <th>likedPercent</th>\n",
       "      <th>setting</th>\n",
       "      <th>coverImg</th>\n",
       "      <th>bbeScore</th>\n",
       "      <th>bbeVotes</th>\n",
       "      <th>price</th>\n",
       "    </tr>\n",
       "  </thead>\n",
       "  <tbody>\n",
       "    <tr>\n",
       "      <th>0</th>\n",
       "      <td>2767052-the-hunger-games</td>\n",
       "      <td>The Hunger Games</td>\n",
       "      <td>The Hunger Games #1</td>\n",
       "      <td>Suzanne Collins</td>\n",
       "      <td>4.33</td>\n",
       "      <td>WINNING MEANS FAME AND FORTUNE.LOSING MEANS CE...</td>\n",
       "      <td>English</td>\n",
       "      <td>9780439023481</td>\n",
       "      <td>['Young Adult', 'Fiction', 'Dystopia', 'Fantas...</td>\n",
       "      <td>['Katniss Everdeen', 'Peeta Mellark', 'Cato (H...</td>\n",
       "      <td>...</td>\n",
       "      <td>NaN</td>\n",
       "      <td>['Locus Award Nominee for Best Young Adult Boo...</td>\n",
       "      <td>6376780</td>\n",
       "      <td>['3444695', '1921313', '745221', '171994', '93...</td>\n",
       "      <td>96</td>\n",
       "      <td>['District 12, Panem', 'Capitol, Panem', 'Pane...</td>\n",
       "      <td>https://i.gr-assets.com/images/S/compressed.ph...</td>\n",
       "      <td>2993816</td>\n",
       "      <td>30516</td>\n",
       "      <td>5.09</td>\n",
       "    </tr>\n",
       "    <tr>\n",
       "      <th>1</th>\n",
       "      <td>2.Harry_Potter_and_the_Order_of_the_Phoenix</td>\n",
       "      <td>Harry Potter and the Order of the Phoenix</td>\n",
       "      <td>Harry Potter #5</td>\n",
       "      <td>J.K. Rowling, Mary GrandPré (Illustrator)</td>\n",
       "      <td>4.50</td>\n",
       "      <td>There is a door at the end of a silent corrido...</td>\n",
       "      <td>English</td>\n",
       "      <td>9780439358071</td>\n",
       "      <td>['Fantasy', 'Young Adult', 'Fiction', 'Magic',...</td>\n",
       "      <td>['Sirius Black', 'Draco Malfoy', 'Ron Weasley'...</td>\n",
       "      <td>...</td>\n",
       "      <td>06/21/03</td>\n",
       "      <td>['Bram Stoker Award for Works for Young Reader...</td>\n",
       "      <td>2507623</td>\n",
       "      <td>['1593642', '637516', '222366', '39573', '14526']</td>\n",
       "      <td>98</td>\n",
       "      <td>['Hogwarts School of Witchcraft and Wizardry (...</td>\n",
       "      <td>https://i.gr-assets.com/images/S/compressed.ph...</td>\n",
       "      <td>2632233</td>\n",
       "      <td>26923</td>\n",
       "      <td>7.38</td>\n",
       "    </tr>\n",
       "    <tr>\n",
       "      <th>2</th>\n",
       "      <td>2657.To_Kill_a_Mockingbird</td>\n",
       "      <td>To Kill a Mockingbird</td>\n",
       "      <td>To Kill a Mockingbird</td>\n",
       "      <td>Harper Lee</td>\n",
       "      <td>4.28</td>\n",
       "      <td>The unforgettable novel of a childhood in a sl...</td>\n",
       "      <td>English</td>\n",
       "      <td>9999999999999</td>\n",
       "      <td>['Classics', 'Fiction', 'Historical Fiction', ...</td>\n",
       "      <td>['Scout Finch', 'Atticus Finch', 'Jem Finch', ...</td>\n",
       "      <td>...</td>\n",
       "      <td>07/11/60</td>\n",
       "      <td>['Pulitzer Prize for Fiction (1961)', 'Audie A...</td>\n",
       "      <td>4501075</td>\n",
       "      <td>['2363896', '1333153', '573280', '149952', '80...</td>\n",
       "      <td>95</td>\n",
       "      <td>['Maycomb, Alabama (United States)']</td>\n",
       "      <td>https://i.gr-assets.com/images/S/compressed.ph...</td>\n",
       "      <td>2269402</td>\n",
       "      <td>23328</td>\n",
       "      <td>NaN</td>\n",
       "    </tr>\n",
       "    <tr>\n",
       "      <th>3</th>\n",
       "      <td>1885.Pride_and_Prejudice</td>\n",
       "      <td>Pride and Prejudice</td>\n",
       "      <td>NaN</td>\n",
       "      <td>Jane Austen, Anna Quindlen (Introduction)</td>\n",
       "      <td>4.26</td>\n",
       "      <td>Alternate cover edition of ISBN 9780679783268S...</td>\n",
       "      <td>English</td>\n",
       "      <td>9999999999999</td>\n",
       "      <td>['Classics', 'Fiction', 'Romance', 'Historical...</td>\n",
       "      <td>['Mr. Bennet', 'Mrs. Bennet', 'Jane Bennet', '...</td>\n",
       "      <td>...</td>\n",
       "      <td>01/28/13</td>\n",
       "      <td>[]</td>\n",
       "      <td>2998241</td>\n",
       "      <td>['1617567', '816659', '373311', '113934', '767...</td>\n",
       "      <td>94</td>\n",
       "      <td>['United Kingdom', 'Derbyshire, England (Unite...</td>\n",
       "      <td>https://i.gr-assets.com/images/S/compressed.ph...</td>\n",
       "      <td>1983116</td>\n",
       "      <td>20452</td>\n",
       "      <td>NaN</td>\n",
       "    </tr>\n",
       "    <tr>\n",
       "      <th>4</th>\n",
       "      <td>41865.Twilight</td>\n",
       "      <td>Twilight</td>\n",
       "      <td>The Twilight Saga #1</td>\n",
       "      <td>Stephenie Meyer</td>\n",
       "      <td>3.60</td>\n",
       "      <td>About three things I was absolutely positive.\\...</td>\n",
       "      <td>English</td>\n",
       "      <td>9780316015844</td>\n",
       "      <td>['Young Adult', 'Fantasy', 'Romance', 'Vampire...</td>\n",
       "      <td>['Edward Cullen', 'Jacob Black', 'Laurent', 'R...</td>\n",
       "      <td>...</td>\n",
       "      <td>10/05/05</td>\n",
       "      <td>['Georgia Peach Book Award (2007)', 'Buxtehude...</td>\n",
       "      <td>4964519</td>\n",
       "      <td>['1751460', '1113682', '1008686', '542017', '5...</td>\n",
       "      <td>78</td>\n",
       "      <td>['Forks, Washington (United States)', 'Phoenix...</td>\n",
       "      <td>https://i.gr-assets.com/images/S/compressed.ph...</td>\n",
       "      <td>1459448</td>\n",
       "      <td>14874</td>\n",
       "      <td>2.1</td>\n",
       "    </tr>\n",
       "  </tbody>\n",
       "</table>\n",
       "<p>5 rows × 25 columns</p>\n",
       "</div>"
      ],
      "text/plain": [
       "                                        bookId  \\\n",
       "0                     2767052-the-hunger-games   \n",
       "1  2.Harry_Potter_and_the_Order_of_the_Phoenix   \n",
       "2                   2657.To_Kill_a_Mockingbird   \n",
       "3                     1885.Pride_and_Prejudice   \n",
       "4                               41865.Twilight   \n",
       "\n",
       "                                       title                 series  \\\n",
       "0                           The Hunger Games    The Hunger Games #1   \n",
       "1  Harry Potter and the Order of the Phoenix        Harry Potter #5   \n",
       "2                      To Kill a Mockingbird  To Kill a Mockingbird   \n",
       "3                        Pride and Prejudice                    NaN   \n",
       "4                                   Twilight   The Twilight Saga #1   \n",
       "\n",
       "                                      author rating  \\\n",
       "0                            Suzanne Collins   4.33   \n",
       "1  J.K. Rowling, Mary GrandPré (Illustrator)   4.50   \n",
       "2                                 Harper Lee   4.28   \n",
       "3  Jane Austen, Anna Quindlen (Introduction)   4.26   \n",
       "4                            Stephenie Meyer   3.60   \n",
       "\n",
       "                                         description language           isbn  \\\n",
       "0  WINNING MEANS FAME AND FORTUNE.LOSING MEANS CE...  English  9780439023481   \n",
       "1  There is a door at the end of a silent corrido...  English  9780439358071   \n",
       "2  The unforgettable novel of a childhood in a sl...  English  9999999999999   \n",
       "3  Alternate cover edition of ISBN 9780679783268S...  English  9999999999999   \n",
       "4  About three things I was absolutely positive.\\...  English  9780316015844   \n",
       "\n",
       "                                              genres  \\\n",
       "0  ['Young Adult', 'Fiction', 'Dystopia', 'Fantas...   \n",
       "1  ['Fantasy', 'Young Adult', 'Fiction', 'Magic',...   \n",
       "2  ['Classics', 'Fiction', 'Historical Fiction', ...   \n",
       "3  ['Classics', 'Fiction', 'Romance', 'Historical...   \n",
       "4  ['Young Adult', 'Fantasy', 'Romance', 'Vampire...   \n",
       "\n",
       "                                          characters  ... firstPublishDate  \\\n",
       "0  ['Katniss Everdeen', 'Peeta Mellark', 'Cato (H...  ...              NaN   \n",
       "1  ['Sirius Black', 'Draco Malfoy', 'Ron Weasley'...  ...         06/21/03   \n",
       "2  ['Scout Finch', 'Atticus Finch', 'Jem Finch', ...  ...         07/11/60   \n",
       "3  ['Mr. Bennet', 'Mrs. Bennet', 'Jane Bennet', '...  ...         01/28/13   \n",
       "4  ['Edward Cullen', 'Jacob Black', 'Laurent', 'R...  ...         10/05/05   \n",
       "\n",
       "                                              awards numRatings  \\\n",
       "0  ['Locus Award Nominee for Best Young Adult Boo...    6376780   \n",
       "1  ['Bram Stoker Award for Works for Young Reader...    2507623   \n",
       "2  ['Pulitzer Prize for Fiction (1961)', 'Audie A...    4501075   \n",
       "3                                                 []    2998241   \n",
       "4  ['Georgia Peach Book Award (2007)', 'Buxtehude...    4964519   \n",
       "\n",
       "                                      ratingsByStars likedPercent  \\\n",
       "0  ['3444695', '1921313', '745221', '171994', '93...           96   \n",
       "1  ['1593642', '637516', '222366', '39573', '14526']           98   \n",
       "2  ['2363896', '1333153', '573280', '149952', '80...           95   \n",
       "3  ['1617567', '816659', '373311', '113934', '767...           94   \n",
       "4  ['1751460', '1113682', '1008686', '542017', '5...           78   \n",
       "\n",
       "                                             setting  \\\n",
       "0  ['District 12, Panem', 'Capitol, Panem', 'Pane...   \n",
       "1  ['Hogwarts School of Witchcraft and Wizardry (...   \n",
       "2               ['Maycomb, Alabama (United States)']   \n",
       "3  ['United Kingdom', 'Derbyshire, England (Unite...   \n",
       "4  ['Forks, Washington (United States)', 'Phoenix...   \n",
       "\n",
       "                                            coverImg bbeScore bbeVotes price  \n",
       "0  https://i.gr-assets.com/images/S/compressed.ph...  2993816    30516  5.09  \n",
       "1  https://i.gr-assets.com/images/S/compressed.ph...  2632233    26923  7.38  \n",
       "2  https://i.gr-assets.com/images/S/compressed.ph...  2269402    23328   NaN  \n",
       "3  https://i.gr-assets.com/images/S/compressed.ph...  1983116    20452   NaN  \n",
       "4  https://i.gr-assets.com/images/S/compressed.ph...  1459448    14874   2.1  \n",
       "\n",
       "[5 rows x 25 columns]"
      ]
     },
     "execution_count": 6,
     "metadata": {},
     "output_type": "execute_result"
    }
   ],
   "source": [
    "df.head()"
   ]
  },
  {
   "cell_type": "code",
   "execution_count": 7,
   "id": "f065a7b4-0a46-4482-b8c4-a8ad97efd8e4",
   "metadata": {},
   "outputs": [
    {
     "data": {
      "text/html": [
       "<div>\n",
       "<style scoped>\n",
       "    .dataframe tbody tr th:only-of-type {\n",
       "        vertical-align: middle;\n",
       "    }\n",
       "\n",
       "    .dataframe tbody tr th {\n",
       "        vertical-align: top;\n",
       "    }\n",
       "\n",
       "    .dataframe thead th {\n",
       "        text-align: right;\n",
       "    }\n",
       "</style>\n",
       "<table border=\"1\" class=\"dataframe\">\n",
       "  <thead>\n",
       "    <tr style=\"text-align: right;\">\n",
       "      <th></th>\n",
       "      <th>bookId</th>\n",
       "      <th>title</th>\n",
       "      <th>series</th>\n",
       "      <th>author</th>\n",
       "      <th>rating</th>\n",
       "      <th>description</th>\n",
       "      <th>language</th>\n",
       "      <th>isbn</th>\n",
       "      <th>genres</th>\n",
       "      <th>characters</th>\n",
       "      <th>...</th>\n",
       "      <th>firstPublishDate</th>\n",
       "      <th>awards</th>\n",
       "      <th>numRatings</th>\n",
       "      <th>ratingsByStars</th>\n",
       "      <th>likedPercent</th>\n",
       "      <th>setting</th>\n",
       "      <th>coverImg</th>\n",
       "      <th>bbeScore</th>\n",
       "      <th>bbeVotes</th>\n",
       "      <th>price</th>\n",
       "    </tr>\n",
       "  </thead>\n",
       "  <tbody>\n",
       "    <tr>\n",
       "      <th>52473</th>\n",
       "      <td>11492014-fractured</td>\n",
       "      <td>Fractured</td>\n",
       "      <td>Fateful #2</td>\n",
       "      <td>Cheri Schmidt (Goodreads Author)</td>\n",
       "      <td>4.00</td>\n",
       "      <td>The Fateful Trilogy continues with Fractured. ...</td>\n",
       "      <td>English</td>\n",
       "      <td>2940012616562</td>\n",
       "      <td>['Vampires', 'Paranormal', 'Young Adult', 'Rom...</td>\n",
       "      <td>[]</td>\n",
       "      <td>...</td>\n",
       "      <td>NaN</td>\n",
       "      <td>[]</td>\n",
       "      <td>871</td>\n",
       "      <td>['311', '310', '197', '42', '11']</td>\n",
       "      <td>94</td>\n",
       "      <td>[]</td>\n",
       "      <td>https://i.gr-assets.com/images/S/compressed.ph...</td>\n",
       "      <td>0</td>\n",
       "      <td>1</td>\n",
       "      <td>NaN</td>\n",
       "    </tr>\n",
       "    <tr>\n",
       "      <th>52474</th>\n",
       "      <td>11836711-anasazi</td>\n",
       "      <td>Anasazi</td>\n",
       "      <td>Sense of Truth #2</td>\n",
       "      <td>Emma Michaels</td>\n",
       "      <td>4.19</td>\n",
       "      <td>'Anasazi', sequel to 'The Thirteenth Chime' by...</td>\n",
       "      <td>English</td>\n",
       "      <td>9999999999999</td>\n",
       "      <td>['Mystery', 'Young Adult']</td>\n",
       "      <td>[]</td>\n",
       "      <td>...</td>\n",
       "      <td>August 3rd 2011</td>\n",
       "      <td>[]</td>\n",
       "      <td>37</td>\n",
       "      <td>['16', '14', '5', '2', '0']</td>\n",
       "      <td>95</td>\n",
       "      <td>[]</td>\n",
       "      <td>https://i.gr-assets.com/images/S/compressed.ph...</td>\n",
       "      <td>0</td>\n",
       "      <td>1</td>\n",
       "      <td>NaN</td>\n",
       "    </tr>\n",
       "    <tr>\n",
       "      <th>52475</th>\n",
       "      <td>10815662-marked</td>\n",
       "      <td>Marked</td>\n",
       "      <td>Soul Guardians #1</td>\n",
       "      <td>Kim Richardson (Goodreads Author)</td>\n",
       "      <td>3.70</td>\n",
       "      <td>--READERS FAVORITE AWARDS WINNER 2011--Sixteen...</td>\n",
       "      <td>English</td>\n",
       "      <td>9781461017097</td>\n",
       "      <td>['Fantasy', 'Young Adult', 'Paranormal', 'Ange...</td>\n",
       "      <td>[]</td>\n",
       "      <td>...</td>\n",
       "      <td>March 15th 2011</td>\n",
       "      <td>[\"Readers' Favorite Book Award (2011)\"]</td>\n",
       "      <td>6674</td>\n",
       "      <td>['2109', '1868', '1660', '647', '390']</td>\n",
       "      <td>84</td>\n",
       "      <td>[]</td>\n",
       "      <td>https://i.gr-assets.com/images/S/compressed.ph...</td>\n",
       "      <td>0</td>\n",
       "      <td>1</td>\n",
       "      <td>7.37</td>\n",
       "    </tr>\n",
       "    <tr>\n",
       "      <th>52476</th>\n",
       "      <td>11330278-wayward-son</td>\n",
       "      <td>Wayward Son</td>\n",
       "      <td>NaN</td>\n",
       "      <td>Tom Pollack (Goodreads Author), John Loftus (G...</td>\n",
       "      <td>3.85</td>\n",
       "      <td>A POWERFUL TREMOR UNEARTHS AN ANCIENT SECRETBu...</td>\n",
       "      <td>English</td>\n",
       "      <td>9781450755634</td>\n",
       "      <td>['Fiction', 'Mystery', 'Historical Fiction', '...</td>\n",
       "      <td>[]</td>\n",
       "      <td>...</td>\n",
       "      <td>April 5th 2011</td>\n",
       "      <td>[]</td>\n",
       "      <td>238</td>\n",
       "      <td>['77', '78', '59', '19', '5']</td>\n",
       "      <td>90</td>\n",
       "      <td>[]</td>\n",
       "      <td>https://i.gr-assets.com/images/S/compressed.ph...</td>\n",
       "      <td>0</td>\n",
       "      <td>1</td>\n",
       "      <td>2.86</td>\n",
       "    </tr>\n",
       "    <tr>\n",
       "      <th>52477</th>\n",
       "      <td>10991547-daughter-of-helaman</td>\n",
       "      <td>Daughter of Helaman</td>\n",
       "      <td>Stripling Warrior #1</td>\n",
       "      <td>Misty Moncur (Goodreads Author)</td>\n",
       "      <td>4.02</td>\n",
       "      <td>Fighting in Helaman's army is Keturah's deepes...</td>\n",
       "      <td>English</td>\n",
       "      <td>9781599554976</td>\n",
       "      <td>['Lds Fiction', 'Historical Fiction', 'Young A...</td>\n",
       "      <td>[]</td>\n",
       "      <td>...</td>\n",
       "      <td>NaN</td>\n",
       "      <td>[]</td>\n",
       "      <td>246</td>\n",
       "      <td>['106', '73', '42', '17', '8']</td>\n",
       "      <td>90</td>\n",
       "      <td>[]</td>\n",
       "      <td>https://i.gr-assets.com/images/S/compressed.ph...</td>\n",
       "      <td>0</td>\n",
       "      <td>1</td>\n",
       "      <td>5.20</td>\n",
       "    </tr>\n",
       "  </tbody>\n",
       "</table>\n",
       "<p>5 rows × 25 columns</p>\n",
       "</div>"
      ],
      "text/plain": [
       "                             bookId                title  \\\n",
       "52473            11492014-fractured            Fractured   \n",
       "52474              11836711-anasazi              Anasazi   \n",
       "52475               10815662-marked               Marked   \n",
       "52476          11330278-wayward-son          Wayward Son   \n",
       "52477  10991547-daughter-of-helaman  Daughter of Helaman   \n",
       "\n",
       "                     series  \\\n",
       "52473            Fateful #2   \n",
       "52474     Sense of Truth #2   \n",
       "52475     Soul Guardians #1   \n",
       "52476                   NaN   \n",
       "52477  Stripling Warrior #1   \n",
       "\n",
       "                                                  author rating  \\\n",
       "52473                   Cheri Schmidt (Goodreads Author)   4.00   \n",
       "52474                                      Emma Michaels   4.19   \n",
       "52475                  Kim Richardson (Goodreads Author)   3.70   \n",
       "52476  Tom Pollack (Goodreads Author), John Loftus (G...   3.85   \n",
       "52477                    Misty Moncur (Goodreads Author)   4.02   \n",
       "\n",
       "                                             description language  \\\n",
       "52473  The Fateful Trilogy continues with Fractured. ...  English   \n",
       "52474  'Anasazi', sequel to 'The Thirteenth Chime' by...  English   \n",
       "52475  --READERS FAVORITE AWARDS WINNER 2011--Sixteen...  English   \n",
       "52476  A POWERFUL TREMOR UNEARTHS AN ANCIENT SECRETBu...  English   \n",
       "52477  Fighting in Helaman's army is Keturah's deepes...  English   \n",
       "\n",
       "                isbn                                             genres  \\\n",
       "52473  2940012616562  ['Vampires', 'Paranormal', 'Young Adult', 'Rom...   \n",
       "52474  9999999999999                         ['Mystery', 'Young Adult']   \n",
       "52475  9781461017097  ['Fantasy', 'Young Adult', 'Paranormal', 'Ange...   \n",
       "52476  9781450755634  ['Fiction', 'Mystery', 'Historical Fiction', '...   \n",
       "52477  9781599554976  ['Lds Fiction', 'Historical Fiction', 'Young A...   \n",
       "\n",
       "      characters  ... firstPublishDate  \\\n",
       "52473         []  ...              NaN   \n",
       "52474         []  ...  August 3rd 2011   \n",
       "52475         []  ...  March 15th 2011   \n",
       "52476         []  ...   April 5th 2011   \n",
       "52477         []  ...              NaN   \n",
       "\n",
       "                                        awards numRatings  \\\n",
       "52473                                       []        871   \n",
       "52474                                       []         37   \n",
       "52475  [\"Readers' Favorite Book Award (2011)\"]       6674   \n",
       "52476                                       []        238   \n",
       "52477                                       []        246   \n",
       "\n",
       "                               ratingsByStars likedPercent setting  \\\n",
       "52473       ['311', '310', '197', '42', '11']           94      []   \n",
       "52474             ['16', '14', '5', '2', '0']           95      []   \n",
       "52475  ['2109', '1868', '1660', '647', '390']           84      []   \n",
       "52476           ['77', '78', '59', '19', '5']           90      []   \n",
       "52477          ['106', '73', '42', '17', '8']           90      []   \n",
       "\n",
       "                                                coverImg bbeScore bbeVotes  \\\n",
       "52473  https://i.gr-assets.com/images/S/compressed.ph...        0        1   \n",
       "52474  https://i.gr-assets.com/images/S/compressed.ph...        0        1   \n",
       "52475  https://i.gr-assets.com/images/S/compressed.ph...        0        1   \n",
       "52476  https://i.gr-assets.com/images/S/compressed.ph...        0        1   \n",
       "52477  https://i.gr-assets.com/images/S/compressed.ph...        0        1   \n",
       "\n",
       "      price  \n",
       "52473   NaN  \n",
       "52474   NaN  \n",
       "52475  7.37  \n",
       "52476  2.86  \n",
       "52477  5.20  \n",
       "\n",
       "[5 rows x 25 columns]"
      ]
     },
     "execution_count": 7,
     "metadata": {},
     "output_type": "execute_result"
    }
   ],
   "source": [
    "df.tail()"
   ]
  },
  {
   "cell_type": "markdown",
   "id": "e6b9dbe5-baef-4a61-814d-7b7715feaa1f",
   "metadata": {},
   "source": [
    "Vemos que las últimas instancias del dataframe contienen un formato de fechas distintas a las primeras."
   ]
  },
  {
   "cell_type": "markdown",
   "id": "ffd4389a-4b40-4374-86b0-1fa6edbbed55",
   "metadata": {},
   "source": [
    "Ya con esta primera visualización de los datos vemos que tenemos nulos y que hay columnas que no nos van a interesar para nada, como la imagen de la portada o el ISBN."
   ]
  },
  {
   "cell_type": "markdown",
   "id": "a0af2e74-0761-4077-9cde-d8626e030d8b",
   "metadata": {},
   "source": [
    "Otra duda es, ¿qué variable será la explicada? ¿Cuál usaremos como objetivo? Esto es totalmente libre y puede variar según nuestros intereses; como parece interesante determinar la puntuación de cada libro para poder predecir qué tan valorado será un libro concreto, nos quedaremos con 'rating'. "
   ]
  },
  {
   "cell_type": "code",
   "execution_count": 106,
   "id": "5e01881c-d46a-44ed-94d9-642571296caa",
   "metadata": {},
   "outputs": [
    {
     "name": "stdout",
     "output_type": "stream",
     "text": [
      "(52478, 24) (52478,)\n"
     ]
    }
   ],
   "source": [
    "# Separamos explicativas de explicada\n",
    "\n",
    "X, y = df.drop('rating', axis=1), df.rating\n",
    "print(X.shape, y.shape)"
   ]
  },
  {
   "cell_type": "code",
   "execution_count": 9,
   "id": "f958bf74-db0a-47d5-a557-6376208ee2df",
   "metadata": {},
   "outputs": [
    {
     "data": {
      "text/html": [
       "<div>\n",
       "<style scoped>\n",
       "    .dataframe tbody tr th:only-of-type {\n",
       "        vertical-align: middle;\n",
       "    }\n",
       "\n",
       "    .dataframe tbody tr th {\n",
       "        vertical-align: top;\n",
       "    }\n",
       "\n",
       "    .dataframe thead th {\n",
       "        text-align: right;\n",
       "    }\n",
       "</style>\n",
       "<table border=\"1\" class=\"dataframe\">\n",
       "  <thead>\n",
       "    <tr style=\"text-align: right;\">\n",
       "      <th></th>\n",
       "      <th>bookId</th>\n",
       "      <th>title</th>\n",
       "      <th>series</th>\n",
       "      <th>author</th>\n",
       "      <th>description</th>\n",
       "      <th>language</th>\n",
       "      <th>isbn</th>\n",
       "      <th>genres</th>\n",
       "      <th>characters</th>\n",
       "      <th>bookFormat</th>\n",
       "      <th>...</th>\n",
       "      <th>firstPublishDate</th>\n",
       "      <th>awards</th>\n",
       "      <th>numRatings</th>\n",
       "      <th>ratingsByStars</th>\n",
       "      <th>likedPercent</th>\n",
       "      <th>setting</th>\n",
       "      <th>coverImg</th>\n",
       "      <th>bbeScore</th>\n",
       "      <th>bbeVotes</th>\n",
       "      <th>price</th>\n",
       "    </tr>\n",
       "  </thead>\n",
       "  <tbody>\n",
       "    <tr>\n",
       "      <th>0</th>\n",
       "      <td>2767052-the-hunger-games</td>\n",
       "      <td>The Hunger Games</td>\n",
       "      <td>The Hunger Games #1</td>\n",
       "      <td>Suzanne Collins</td>\n",
       "      <td>WINNING MEANS FAME AND FORTUNE.LOSING MEANS CE...</td>\n",
       "      <td>English</td>\n",
       "      <td>9780439023481</td>\n",
       "      <td>['Young Adult', 'Fiction', 'Dystopia', 'Fantas...</td>\n",
       "      <td>['Katniss Everdeen', 'Peeta Mellark', 'Cato (H...</td>\n",
       "      <td>Hardcover</td>\n",
       "      <td>...</td>\n",
       "      <td>NaN</td>\n",
       "      <td>['Locus Award Nominee for Best Young Adult Boo...</td>\n",
       "      <td>6376780</td>\n",
       "      <td>['3444695', '1921313', '745221', '171994', '93...</td>\n",
       "      <td>96</td>\n",
       "      <td>['District 12, Panem', 'Capitol, Panem', 'Pane...</td>\n",
       "      <td>https://i.gr-assets.com/images/S/compressed.ph...</td>\n",
       "      <td>2993816</td>\n",
       "      <td>30516</td>\n",
       "      <td>5.09</td>\n",
       "    </tr>\n",
       "    <tr>\n",
       "      <th>1</th>\n",
       "      <td>2.Harry_Potter_and_the_Order_of_the_Phoenix</td>\n",
       "      <td>Harry Potter and the Order of the Phoenix</td>\n",
       "      <td>Harry Potter #5</td>\n",
       "      <td>J.K. Rowling, Mary GrandPré (Illustrator)</td>\n",
       "      <td>There is a door at the end of a silent corrido...</td>\n",
       "      <td>English</td>\n",
       "      <td>9780439358071</td>\n",
       "      <td>['Fantasy', 'Young Adult', 'Fiction', 'Magic',...</td>\n",
       "      <td>['Sirius Black', 'Draco Malfoy', 'Ron Weasley'...</td>\n",
       "      <td>Paperback</td>\n",
       "      <td>...</td>\n",
       "      <td>06/21/03</td>\n",
       "      <td>['Bram Stoker Award for Works for Young Reader...</td>\n",
       "      <td>2507623</td>\n",
       "      <td>['1593642', '637516', '222366', '39573', '14526']</td>\n",
       "      <td>98</td>\n",
       "      <td>['Hogwarts School of Witchcraft and Wizardry (...</td>\n",
       "      <td>https://i.gr-assets.com/images/S/compressed.ph...</td>\n",
       "      <td>2632233</td>\n",
       "      <td>26923</td>\n",
       "      <td>7.38</td>\n",
       "    </tr>\n",
       "    <tr>\n",
       "      <th>2</th>\n",
       "      <td>2657.To_Kill_a_Mockingbird</td>\n",
       "      <td>To Kill a Mockingbird</td>\n",
       "      <td>To Kill a Mockingbird</td>\n",
       "      <td>Harper Lee</td>\n",
       "      <td>The unforgettable novel of a childhood in a sl...</td>\n",
       "      <td>English</td>\n",
       "      <td>9999999999999</td>\n",
       "      <td>['Classics', 'Fiction', 'Historical Fiction', ...</td>\n",
       "      <td>['Scout Finch', 'Atticus Finch', 'Jem Finch', ...</td>\n",
       "      <td>Paperback</td>\n",
       "      <td>...</td>\n",
       "      <td>07/11/60</td>\n",
       "      <td>['Pulitzer Prize for Fiction (1961)', 'Audie A...</td>\n",
       "      <td>4501075</td>\n",
       "      <td>['2363896', '1333153', '573280', '149952', '80...</td>\n",
       "      <td>95</td>\n",
       "      <td>['Maycomb, Alabama (United States)']</td>\n",
       "      <td>https://i.gr-assets.com/images/S/compressed.ph...</td>\n",
       "      <td>2269402</td>\n",
       "      <td>23328</td>\n",
       "      <td>NaN</td>\n",
       "    </tr>\n",
       "    <tr>\n",
       "      <th>3</th>\n",
       "      <td>1885.Pride_and_Prejudice</td>\n",
       "      <td>Pride and Prejudice</td>\n",
       "      <td>NaN</td>\n",
       "      <td>Jane Austen, Anna Quindlen (Introduction)</td>\n",
       "      <td>Alternate cover edition of ISBN 9780679783268S...</td>\n",
       "      <td>English</td>\n",
       "      <td>9999999999999</td>\n",
       "      <td>['Classics', 'Fiction', 'Romance', 'Historical...</td>\n",
       "      <td>['Mr. Bennet', 'Mrs. Bennet', 'Jane Bennet', '...</td>\n",
       "      <td>Paperback</td>\n",
       "      <td>...</td>\n",
       "      <td>01/28/13</td>\n",
       "      <td>[]</td>\n",
       "      <td>2998241</td>\n",
       "      <td>['1617567', '816659', '373311', '113934', '767...</td>\n",
       "      <td>94</td>\n",
       "      <td>['United Kingdom', 'Derbyshire, England (Unite...</td>\n",
       "      <td>https://i.gr-assets.com/images/S/compressed.ph...</td>\n",
       "      <td>1983116</td>\n",
       "      <td>20452</td>\n",
       "      <td>NaN</td>\n",
       "    </tr>\n",
       "    <tr>\n",
       "      <th>4</th>\n",
       "      <td>41865.Twilight</td>\n",
       "      <td>Twilight</td>\n",
       "      <td>The Twilight Saga #1</td>\n",
       "      <td>Stephenie Meyer</td>\n",
       "      <td>About three things I was absolutely positive.\\...</td>\n",
       "      <td>English</td>\n",
       "      <td>9780316015844</td>\n",
       "      <td>['Young Adult', 'Fantasy', 'Romance', 'Vampire...</td>\n",
       "      <td>['Edward Cullen', 'Jacob Black', 'Laurent', 'R...</td>\n",
       "      <td>Paperback</td>\n",
       "      <td>...</td>\n",
       "      <td>10/05/05</td>\n",
       "      <td>['Georgia Peach Book Award (2007)', 'Buxtehude...</td>\n",
       "      <td>4964519</td>\n",
       "      <td>['1751460', '1113682', '1008686', '542017', '5...</td>\n",
       "      <td>78</td>\n",
       "      <td>['Forks, Washington (United States)', 'Phoenix...</td>\n",
       "      <td>https://i.gr-assets.com/images/S/compressed.ph...</td>\n",
       "      <td>1459448</td>\n",
       "      <td>14874</td>\n",
       "      <td>2.1</td>\n",
       "    </tr>\n",
       "  </tbody>\n",
       "</table>\n",
       "<p>5 rows × 24 columns</p>\n",
       "</div>"
      ],
      "text/plain": [
       "                                        bookId  \\\n",
       "0                     2767052-the-hunger-games   \n",
       "1  2.Harry_Potter_and_the_Order_of_the_Phoenix   \n",
       "2                   2657.To_Kill_a_Mockingbird   \n",
       "3                     1885.Pride_and_Prejudice   \n",
       "4                               41865.Twilight   \n",
       "\n",
       "                                       title                 series  \\\n",
       "0                           The Hunger Games    The Hunger Games #1   \n",
       "1  Harry Potter and the Order of the Phoenix        Harry Potter #5   \n",
       "2                      To Kill a Mockingbird  To Kill a Mockingbird   \n",
       "3                        Pride and Prejudice                    NaN   \n",
       "4                                   Twilight   The Twilight Saga #1   \n",
       "\n",
       "                                      author  \\\n",
       "0                            Suzanne Collins   \n",
       "1  J.K. Rowling, Mary GrandPré (Illustrator)   \n",
       "2                                 Harper Lee   \n",
       "3  Jane Austen, Anna Quindlen (Introduction)   \n",
       "4                            Stephenie Meyer   \n",
       "\n",
       "                                         description language           isbn  \\\n",
       "0  WINNING MEANS FAME AND FORTUNE.LOSING MEANS CE...  English  9780439023481   \n",
       "1  There is a door at the end of a silent corrido...  English  9780439358071   \n",
       "2  The unforgettable novel of a childhood in a sl...  English  9999999999999   \n",
       "3  Alternate cover edition of ISBN 9780679783268S...  English  9999999999999   \n",
       "4  About three things I was absolutely positive.\\...  English  9780316015844   \n",
       "\n",
       "                                              genres  \\\n",
       "0  ['Young Adult', 'Fiction', 'Dystopia', 'Fantas...   \n",
       "1  ['Fantasy', 'Young Adult', 'Fiction', 'Magic',...   \n",
       "2  ['Classics', 'Fiction', 'Historical Fiction', ...   \n",
       "3  ['Classics', 'Fiction', 'Romance', 'Historical...   \n",
       "4  ['Young Adult', 'Fantasy', 'Romance', 'Vampire...   \n",
       "\n",
       "                                          characters bookFormat  ...  \\\n",
       "0  ['Katniss Everdeen', 'Peeta Mellark', 'Cato (H...  Hardcover  ...   \n",
       "1  ['Sirius Black', 'Draco Malfoy', 'Ron Weasley'...  Paperback  ...   \n",
       "2  ['Scout Finch', 'Atticus Finch', 'Jem Finch', ...  Paperback  ...   \n",
       "3  ['Mr. Bennet', 'Mrs. Bennet', 'Jane Bennet', '...  Paperback  ...   \n",
       "4  ['Edward Cullen', 'Jacob Black', 'Laurent', 'R...  Paperback  ...   \n",
       "\n",
       "  firstPublishDate                                             awards  \\\n",
       "0              NaN  ['Locus Award Nominee for Best Young Adult Boo...   \n",
       "1         06/21/03  ['Bram Stoker Award for Works for Young Reader...   \n",
       "2         07/11/60  ['Pulitzer Prize for Fiction (1961)', 'Audie A...   \n",
       "3         01/28/13                                                 []   \n",
       "4         10/05/05  ['Georgia Peach Book Award (2007)', 'Buxtehude...   \n",
       "\n",
       "  numRatings                                     ratingsByStars likedPercent  \\\n",
       "0    6376780  ['3444695', '1921313', '745221', '171994', '93...           96   \n",
       "1    2507623  ['1593642', '637516', '222366', '39573', '14526']           98   \n",
       "2    4501075  ['2363896', '1333153', '573280', '149952', '80...           95   \n",
       "3    2998241  ['1617567', '816659', '373311', '113934', '767...           94   \n",
       "4    4964519  ['1751460', '1113682', '1008686', '542017', '5...           78   \n",
       "\n",
       "                                             setting  \\\n",
       "0  ['District 12, Panem', 'Capitol, Panem', 'Pane...   \n",
       "1  ['Hogwarts School of Witchcraft and Wizardry (...   \n",
       "2               ['Maycomb, Alabama (United States)']   \n",
       "3  ['United Kingdom', 'Derbyshire, England (Unite...   \n",
       "4  ['Forks, Washington (United States)', 'Phoenix...   \n",
       "\n",
       "                                            coverImg bbeScore bbeVotes price  \n",
       "0  https://i.gr-assets.com/images/S/compressed.ph...  2993816    30516  5.09  \n",
       "1  https://i.gr-assets.com/images/S/compressed.ph...  2632233    26923  7.38  \n",
       "2  https://i.gr-assets.com/images/S/compressed.ph...  2269402    23328   NaN  \n",
       "3  https://i.gr-assets.com/images/S/compressed.ph...  1983116    20452   NaN  \n",
       "4  https://i.gr-assets.com/images/S/compressed.ph...  1459448    14874   2.1  \n",
       "\n",
       "[5 rows x 24 columns]"
      ]
     },
     "execution_count": 9,
     "metadata": {},
     "output_type": "execute_result"
    }
   ],
   "source": [
    "X.head()"
   ]
  },
  {
   "cell_type": "markdown",
   "id": "0fc84e86-270f-4a24-ba7d-1d5fba56851d",
   "metadata": {},
   "source": [
    "### 1.2. Estudio inicial del dataset"
   ]
  },
  {
   "cell_type": "markdown",
   "id": "22d91530-7c2d-40f4-867a-a2b769575161",
   "metadata": {},
   "source": [
    "Como comentabamos, hay una serie de columnas que desde el comienzo no nos interesan; estas son: la URL de la portada, el ISBN, el identificador del libro, su título, la serie de la que viene y la descripción. De momento, eliminamos estas porque además de ser variables únicas, ya que casi todas son identificadores o textos extensos, no nos proporcionan información útil, a menos que podamos usar procesamiento de texto u otras técnicas que se escapan del objetivo del trabajo."
   ]
  },
  {
   "cell_type": "markdown",
   "id": "83773671-4449-4147-b9db-c9e0f85f50f7",
   "metadata": {},
   "source": [
    "Bien es cierto, que podemos usar un identificador de entre los que tenemos para usarlo como índice del dataset, así que usaremos el título como dicho índice."
   ]
  },
  {
   "cell_type": "code",
   "execution_count": 107,
   "id": "02d93b9e-3317-4e03-9954-1b4f244bb603",
   "metadata": {},
   "outputs": [
    {
     "data": {
      "text/html": [
       "<div>\n",
       "<style scoped>\n",
       "    .dataframe tbody tr th:only-of-type {\n",
       "        vertical-align: middle;\n",
       "    }\n",
       "\n",
       "    .dataframe tbody tr th {\n",
       "        vertical-align: top;\n",
       "    }\n",
       "\n",
       "    .dataframe thead th {\n",
       "        text-align: right;\n",
       "    }\n",
       "</style>\n",
       "<table border=\"1\" class=\"dataframe\">\n",
       "  <thead>\n",
       "    <tr style=\"text-align: right;\">\n",
       "      <th></th>\n",
       "      <th>bookId</th>\n",
       "      <th>series</th>\n",
       "      <th>author</th>\n",
       "      <th>description</th>\n",
       "      <th>language</th>\n",
       "      <th>isbn</th>\n",
       "      <th>genres</th>\n",
       "      <th>characters</th>\n",
       "      <th>bookFormat</th>\n",
       "      <th>edition</th>\n",
       "      <th>...</th>\n",
       "      <th>firstPublishDate</th>\n",
       "      <th>awards</th>\n",
       "      <th>numRatings</th>\n",
       "      <th>ratingsByStars</th>\n",
       "      <th>likedPercent</th>\n",
       "      <th>setting</th>\n",
       "      <th>coverImg</th>\n",
       "      <th>bbeScore</th>\n",
       "      <th>bbeVotes</th>\n",
       "      <th>price</th>\n",
       "    </tr>\n",
       "    <tr>\n",
       "      <th>title</th>\n",
       "      <th></th>\n",
       "      <th></th>\n",
       "      <th></th>\n",
       "      <th></th>\n",
       "      <th></th>\n",
       "      <th></th>\n",
       "      <th></th>\n",
       "      <th></th>\n",
       "      <th></th>\n",
       "      <th></th>\n",
       "      <th></th>\n",
       "      <th></th>\n",
       "      <th></th>\n",
       "      <th></th>\n",
       "      <th></th>\n",
       "      <th></th>\n",
       "      <th></th>\n",
       "      <th></th>\n",
       "      <th></th>\n",
       "      <th></th>\n",
       "      <th></th>\n",
       "    </tr>\n",
       "  </thead>\n",
       "  <tbody>\n",
       "    <tr>\n",
       "      <th>The Hunger Games</th>\n",
       "      <td>2767052-the-hunger-games</td>\n",
       "      <td>The Hunger Games #1</td>\n",
       "      <td>Suzanne Collins</td>\n",
       "      <td>WINNING MEANS FAME AND FORTUNE.LOSING MEANS CE...</td>\n",
       "      <td>English</td>\n",
       "      <td>9780439023481</td>\n",
       "      <td>['Young Adult', 'Fiction', 'Dystopia', 'Fantas...</td>\n",
       "      <td>['Katniss Everdeen', 'Peeta Mellark', 'Cato (H...</td>\n",
       "      <td>Hardcover</td>\n",
       "      <td>First Edition</td>\n",
       "      <td>...</td>\n",
       "      <td>NaN</td>\n",
       "      <td>['Locus Award Nominee for Best Young Adult Boo...</td>\n",
       "      <td>6376780</td>\n",
       "      <td>['3444695', '1921313', '745221', '171994', '93...</td>\n",
       "      <td>96</td>\n",
       "      <td>['District 12, Panem', 'Capitol, Panem', 'Pane...</td>\n",
       "      <td>https://i.gr-assets.com/images/S/compressed.ph...</td>\n",
       "      <td>2993816</td>\n",
       "      <td>30516</td>\n",
       "      <td>5.09</td>\n",
       "    </tr>\n",
       "    <tr>\n",
       "      <th>Harry Potter and the Order of the Phoenix</th>\n",
       "      <td>2.Harry_Potter_and_the_Order_of_the_Phoenix</td>\n",
       "      <td>Harry Potter #5</td>\n",
       "      <td>J.K. Rowling, Mary GrandPré (Illustrator)</td>\n",
       "      <td>There is a door at the end of a silent corrido...</td>\n",
       "      <td>English</td>\n",
       "      <td>9780439358071</td>\n",
       "      <td>['Fantasy', 'Young Adult', 'Fiction', 'Magic',...</td>\n",
       "      <td>['Sirius Black', 'Draco Malfoy', 'Ron Weasley'...</td>\n",
       "      <td>Paperback</td>\n",
       "      <td>US Edition</td>\n",
       "      <td>...</td>\n",
       "      <td>06/21/03</td>\n",
       "      <td>['Bram Stoker Award for Works for Young Reader...</td>\n",
       "      <td>2507623</td>\n",
       "      <td>['1593642', '637516', '222366', '39573', '14526']</td>\n",
       "      <td>98</td>\n",
       "      <td>['Hogwarts School of Witchcraft and Wizardry (...</td>\n",
       "      <td>https://i.gr-assets.com/images/S/compressed.ph...</td>\n",
       "      <td>2632233</td>\n",
       "      <td>26923</td>\n",
       "      <td>7.38</td>\n",
       "    </tr>\n",
       "    <tr>\n",
       "      <th>To Kill a Mockingbird</th>\n",
       "      <td>2657.To_Kill_a_Mockingbird</td>\n",
       "      <td>To Kill a Mockingbird</td>\n",
       "      <td>Harper Lee</td>\n",
       "      <td>The unforgettable novel of a childhood in a sl...</td>\n",
       "      <td>English</td>\n",
       "      <td>9999999999999</td>\n",
       "      <td>['Classics', 'Fiction', 'Historical Fiction', ...</td>\n",
       "      <td>['Scout Finch', 'Atticus Finch', 'Jem Finch', ...</td>\n",
       "      <td>Paperback</td>\n",
       "      <td>NaN</td>\n",
       "      <td>...</td>\n",
       "      <td>07/11/60</td>\n",
       "      <td>['Pulitzer Prize for Fiction (1961)', 'Audie A...</td>\n",
       "      <td>4501075</td>\n",
       "      <td>['2363896', '1333153', '573280', '149952', '80...</td>\n",
       "      <td>95</td>\n",
       "      <td>['Maycomb, Alabama (United States)']</td>\n",
       "      <td>https://i.gr-assets.com/images/S/compressed.ph...</td>\n",
       "      <td>2269402</td>\n",
       "      <td>23328</td>\n",
       "      <td>NaN</td>\n",
       "    </tr>\n",
       "    <tr>\n",
       "      <th>Pride and Prejudice</th>\n",
       "      <td>1885.Pride_and_Prejudice</td>\n",
       "      <td>NaN</td>\n",
       "      <td>Jane Austen, Anna Quindlen (Introduction)</td>\n",
       "      <td>Alternate cover edition of ISBN 9780679783268S...</td>\n",
       "      <td>English</td>\n",
       "      <td>9999999999999</td>\n",
       "      <td>['Classics', 'Fiction', 'Romance', 'Historical...</td>\n",
       "      <td>['Mr. Bennet', 'Mrs. Bennet', 'Jane Bennet', '...</td>\n",
       "      <td>Paperback</td>\n",
       "      <td>Modern Library Classics, USA / CAN</td>\n",
       "      <td>...</td>\n",
       "      <td>01/28/13</td>\n",
       "      <td>[]</td>\n",
       "      <td>2998241</td>\n",
       "      <td>['1617567', '816659', '373311', '113934', '767...</td>\n",
       "      <td>94</td>\n",
       "      <td>['United Kingdom', 'Derbyshire, England (Unite...</td>\n",
       "      <td>https://i.gr-assets.com/images/S/compressed.ph...</td>\n",
       "      <td>1983116</td>\n",
       "      <td>20452</td>\n",
       "      <td>NaN</td>\n",
       "    </tr>\n",
       "    <tr>\n",
       "      <th>Twilight</th>\n",
       "      <td>41865.Twilight</td>\n",
       "      <td>The Twilight Saga #1</td>\n",
       "      <td>Stephenie Meyer</td>\n",
       "      <td>About three things I was absolutely positive.\\...</td>\n",
       "      <td>English</td>\n",
       "      <td>9780316015844</td>\n",
       "      <td>['Young Adult', 'Fantasy', 'Romance', 'Vampire...</td>\n",
       "      <td>['Edward Cullen', 'Jacob Black', 'Laurent', 'R...</td>\n",
       "      <td>Paperback</td>\n",
       "      <td>NaN</td>\n",
       "      <td>...</td>\n",
       "      <td>10/05/05</td>\n",
       "      <td>['Georgia Peach Book Award (2007)', 'Buxtehude...</td>\n",
       "      <td>4964519</td>\n",
       "      <td>['1751460', '1113682', '1008686', '542017', '5...</td>\n",
       "      <td>78</td>\n",
       "      <td>['Forks, Washington (United States)', 'Phoenix...</td>\n",
       "      <td>https://i.gr-assets.com/images/S/compressed.ph...</td>\n",
       "      <td>1459448</td>\n",
       "      <td>14874</td>\n",
       "      <td>2.1</td>\n",
       "    </tr>\n",
       "  </tbody>\n",
       "</table>\n",
       "<p>5 rows × 23 columns</p>\n",
       "</div>"
      ],
      "text/plain": [
       "                                                                                bookId  \\\n",
       "title                                                                                    \n",
       "The Hunger Games                                              2767052-the-hunger-games   \n",
       "Harry Potter and the Order of the Phoenix  2.Harry_Potter_and_the_Order_of_the_Phoenix   \n",
       "To Kill a Mockingbird                                       2657.To_Kill_a_Mockingbird   \n",
       "Pride and Prejudice                                           1885.Pride_and_Prejudice   \n",
       "Twilight                                                                41865.Twilight   \n",
       "\n",
       "                                                          series  \\\n",
       "title                                                              \n",
       "The Hunger Games                             The Hunger Games #1   \n",
       "Harry Potter and the Order of the Phoenix        Harry Potter #5   \n",
       "To Kill a Mockingbird                      To Kill a Mockingbird   \n",
       "Pride and Prejudice                                          NaN   \n",
       "Twilight                                    The Twilight Saga #1   \n",
       "\n",
       "                                                                              author  \\\n",
       "title                                                                                  \n",
       "The Hunger Games                                                     Suzanne Collins   \n",
       "Harry Potter and the Order of the Phoenix  J.K. Rowling, Mary GrandPré (Illustrator)   \n",
       "To Kill a Mockingbird                                                     Harper Lee   \n",
       "Pride and Prejudice                        Jane Austen, Anna Quindlen (Introduction)   \n",
       "Twilight                                                             Stephenie Meyer   \n",
       "\n",
       "                                                                                 description  \\\n",
       "title                                                                                          \n",
       "The Hunger Games                           WINNING MEANS FAME AND FORTUNE.LOSING MEANS CE...   \n",
       "Harry Potter and the Order of the Phoenix  There is a door at the end of a silent corrido...   \n",
       "To Kill a Mockingbird                      The unforgettable novel of a childhood in a sl...   \n",
       "Pride and Prejudice                        Alternate cover edition of ISBN 9780679783268S...   \n",
       "Twilight                                   About three things I was absolutely positive.\\...   \n",
       "\n",
       "                                          language           isbn  \\\n",
       "title                                                               \n",
       "The Hunger Games                           English  9780439023481   \n",
       "Harry Potter and the Order of the Phoenix  English  9780439358071   \n",
       "To Kill a Mockingbird                      English  9999999999999   \n",
       "Pride and Prejudice                        English  9999999999999   \n",
       "Twilight                                   English  9780316015844   \n",
       "\n",
       "                                                                                      genres  \\\n",
       "title                                                                                          \n",
       "The Hunger Games                           ['Young Adult', 'Fiction', 'Dystopia', 'Fantas...   \n",
       "Harry Potter and the Order of the Phoenix  ['Fantasy', 'Young Adult', 'Fiction', 'Magic',...   \n",
       "To Kill a Mockingbird                      ['Classics', 'Fiction', 'Historical Fiction', ...   \n",
       "Pride and Prejudice                        ['Classics', 'Fiction', 'Romance', 'Historical...   \n",
       "Twilight                                   ['Young Adult', 'Fantasy', 'Romance', 'Vampire...   \n",
       "\n",
       "                                                                                  characters  \\\n",
       "title                                                                                          \n",
       "The Hunger Games                           ['Katniss Everdeen', 'Peeta Mellark', 'Cato (H...   \n",
       "Harry Potter and the Order of the Phoenix  ['Sirius Black', 'Draco Malfoy', 'Ron Weasley'...   \n",
       "To Kill a Mockingbird                      ['Scout Finch', 'Atticus Finch', 'Jem Finch', ...   \n",
       "Pride and Prejudice                        ['Mr. Bennet', 'Mrs. Bennet', 'Jane Bennet', '...   \n",
       "Twilight                                   ['Edward Cullen', 'Jacob Black', 'Laurent', 'R...   \n",
       "\n",
       "                                          bookFormat  \\\n",
       "title                                                  \n",
       "The Hunger Games                           Hardcover   \n",
       "Harry Potter and the Order of the Phoenix  Paperback   \n",
       "To Kill a Mockingbird                      Paperback   \n",
       "Pride and Prejudice                        Paperback   \n",
       "Twilight                                   Paperback   \n",
       "\n",
       "                                                                      edition  \\\n",
       "title                                                                           \n",
       "The Hunger Games                                                First Edition   \n",
       "Harry Potter and the Order of the Phoenix                          US Edition   \n",
       "To Kill a Mockingbird                                                     NaN   \n",
       "Pride and Prejudice                        Modern Library Classics, USA / CAN   \n",
       "Twilight                                                                  NaN   \n",
       "\n",
       "                                           ... firstPublishDate  \\\n",
       "title                                      ...                    \n",
       "The Hunger Games                           ...              NaN   \n",
       "Harry Potter and the Order of the Phoenix  ...         06/21/03   \n",
       "To Kill a Mockingbird                      ...         07/11/60   \n",
       "Pride and Prejudice                        ...         01/28/13   \n",
       "Twilight                                   ...         10/05/05   \n",
       "\n",
       "                                                                                      awards  \\\n",
       "title                                                                                          \n",
       "The Hunger Games                           ['Locus Award Nominee for Best Young Adult Boo...   \n",
       "Harry Potter and the Order of the Phoenix  ['Bram Stoker Award for Works for Young Reader...   \n",
       "To Kill a Mockingbird                      ['Pulitzer Prize for Fiction (1961)', 'Audie A...   \n",
       "Pride and Prejudice                                                                       []   \n",
       "Twilight                                   ['Georgia Peach Book Award (2007)', 'Buxtehude...   \n",
       "\n",
       "                                          numRatings  \\\n",
       "title                                                  \n",
       "The Hunger Games                             6376780   \n",
       "Harry Potter and the Order of the Phoenix    2507623   \n",
       "To Kill a Mockingbird                        4501075   \n",
       "Pride and Prejudice                          2998241   \n",
       "Twilight                                     4964519   \n",
       "\n",
       "                                                                              ratingsByStars  \\\n",
       "title                                                                                          \n",
       "The Hunger Games                           ['3444695', '1921313', '745221', '171994', '93...   \n",
       "Harry Potter and the Order of the Phoenix  ['1593642', '637516', '222366', '39573', '14526']   \n",
       "To Kill a Mockingbird                      ['2363896', '1333153', '573280', '149952', '80...   \n",
       "Pride and Prejudice                        ['1617567', '816659', '373311', '113934', '767...   \n",
       "Twilight                                   ['1751460', '1113682', '1008686', '542017', '5...   \n",
       "\n",
       "                                          likedPercent  \\\n",
       "title                                                    \n",
       "The Hunger Games                                    96   \n",
       "Harry Potter and the Order of the Phoenix           98   \n",
       "To Kill a Mockingbird                               95   \n",
       "Pride and Prejudice                                 94   \n",
       "Twilight                                            78   \n",
       "\n",
       "                                                                                     setting  \\\n",
       "title                                                                                          \n",
       "The Hunger Games                           ['District 12, Panem', 'Capitol, Panem', 'Pane...   \n",
       "Harry Potter and the Order of the Phoenix  ['Hogwarts School of Witchcraft and Wizardry (...   \n",
       "To Kill a Mockingbird                                   ['Maycomb, Alabama (United States)']   \n",
       "Pride and Prejudice                        ['United Kingdom', 'Derbyshire, England (Unite...   \n",
       "Twilight                                   ['Forks, Washington (United States)', 'Phoenix...   \n",
       "\n",
       "                                                                                    coverImg  \\\n",
       "title                                                                                          \n",
       "The Hunger Games                           https://i.gr-assets.com/images/S/compressed.ph...   \n",
       "Harry Potter and the Order of the Phoenix  https://i.gr-assets.com/images/S/compressed.ph...   \n",
       "To Kill a Mockingbird                      https://i.gr-assets.com/images/S/compressed.ph...   \n",
       "Pride and Prejudice                        https://i.gr-assets.com/images/S/compressed.ph...   \n",
       "Twilight                                   https://i.gr-assets.com/images/S/compressed.ph...   \n",
       "\n",
       "                                          bbeScore bbeVotes price  \n",
       "title                                                              \n",
       "The Hunger Games                           2993816    30516  5.09  \n",
       "Harry Potter and the Order of the Phoenix  2632233    26923  7.38  \n",
       "To Kill a Mockingbird                      2269402    23328   NaN  \n",
       "Pride and Prejudice                        1983116    20452   NaN  \n",
       "Twilight                                   1459448    14874   2.1  \n",
       "\n",
       "[5 rows x 23 columns]"
      ]
     },
     "execution_count": 107,
     "metadata": {},
     "output_type": "execute_result"
    }
   ],
   "source": [
    "X = X.set_index('title')\n",
    "X.head()"
   ]
  },
  {
   "cell_type": "markdown",
   "id": "c13f9f6f-f16e-44b4-b17d-20c33f3647bc",
   "metadata": {},
   "source": [
    "#### 1.2.1. Eliminación de variables irrelevantes"
   ]
  },
  {
   "cell_type": "markdown",
   "id": "034a2453-8c65-4918-a91d-02e882f93a41",
   "metadata": {},
   "source": [
    "Eliminemos las variables que consideramos poco relevante por ser índices o aportar poca información."
   ]
  },
  {
   "cell_type": "code",
   "execution_count": 108,
   "id": "93232411-05d1-41d9-8b80-8477d89938eb",
   "metadata": {},
   "outputs": [
    {
     "data": {
      "text/html": [
       "<div>\n",
       "<style scoped>\n",
       "    .dataframe tbody tr th:only-of-type {\n",
       "        vertical-align: middle;\n",
       "    }\n",
       "\n",
       "    .dataframe tbody tr th {\n",
       "        vertical-align: top;\n",
       "    }\n",
       "\n",
       "    .dataframe thead th {\n",
       "        text-align: right;\n",
       "    }\n",
       "</style>\n",
       "<table border=\"1\" class=\"dataframe\">\n",
       "  <thead>\n",
       "    <tr style=\"text-align: right;\">\n",
       "      <th></th>\n",
       "      <th>language</th>\n",
       "      <th>genres</th>\n",
       "      <th>characters</th>\n",
       "      <th>bookFormat</th>\n",
       "      <th>edition</th>\n",
       "      <th>pages</th>\n",
       "      <th>publishDate</th>\n",
       "      <th>firstPublishDate</th>\n",
       "      <th>awards</th>\n",
       "      <th>numRatings</th>\n",
       "      <th>ratingsByStars</th>\n",
       "      <th>likedPercent</th>\n",
       "      <th>setting</th>\n",
       "      <th>bbeScore</th>\n",
       "      <th>bbeVotes</th>\n",
       "      <th>price</th>\n",
       "    </tr>\n",
       "    <tr>\n",
       "      <th>title</th>\n",
       "      <th></th>\n",
       "      <th></th>\n",
       "      <th></th>\n",
       "      <th></th>\n",
       "      <th></th>\n",
       "      <th></th>\n",
       "      <th></th>\n",
       "      <th></th>\n",
       "      <th></th>\n",
       "      <th></th>\n",
       "      <th></th>\n",
       "      <th></th>\n",
       "      <th></th>\n",
       "      <th></th>\n",
       "      <th></th>\n",
       "      <th></th>\n",
       "    </tr>\n",
       "  </thead>\n",
       "  <tbody>\n",
       "    <tr>\n",
       "      <th>The Hunger Games</th>\n",
       "      <td>English</td>\n",
       "      <td>['Young Adult', 'Fiction', 'Dystopia', 'Fantas...</td>\n",
       "      <td>['Katniss Everdeen', 'Peeta Mellark', 'Cato (H...</td>\n",
       "      <td>Hardcover</td>\n",
       "      <td>First Edition</td>\n",
       "      <td>374</td>\n",
       "      <td>09/14/08</td>\n",
       "      <td>NaN</td>\n",
       "      <td>['Locus Award Nominee for Best Young Adult Boo...</td>\n",
       "      <td>6376780</td>\n",
       "      <td>['3444695', '1921313', '745221', '171994', '93...</td>\n",
       "      <td>96</td>\n",
       "      <td>['District 12, Panem', 'Capitol, Panem', 'Pane...</td>\n",
       "      <td>2993816</td>\n",
       "      <td>30516</td>\n",
       "      <td>5.09</td>\n",
       "    </tr>\n",
       "    <tr>\n",
       "      <th>Harry Potter and the Order of the Phoenix</th>\n",
       "      <td>English</td>\n",
       "      <td>['Fantasy', 'Young Adult', 'Fiction', 'Magic',...</td>\n",
       "      <td>['Sirius Black', 'Draco Malfoy', 'Ron Weasley'...</td>\n",
       "      <td>Paperback</td>\n",
       "      <td>US Edition</td>\n",
       "      <td>870</td>\n",
       "      <td>09/28/04</td>\n",
       "      <td>06/21/03</td>\n",
       "      <td>['Bram Stoker Award for Works for Young Reader...</td>\n",
       "      <td>2507623</td>\n",
       "      <td>['1593642', '637516', '222366', '39573', '14526']</td>\n",
       "      <td>98</td>\n",
       "      <td>['Hogwarts School of Witchcraft and Wizardry (...</td>\n",
       "      <td>2632233</td>\n",
       "      <td>26923</td>\n",
       "      <td>7.38</td>\n",
       "    </tr>\n",
       "    <tr>\n",
       "      <th>To Kill a Mockingbird</th>\n",
       "      <td>English</td>\n",
       "      <td>['Classics', 'Fiction', 'Historical Fiction', ...</td>\n",
       "      <td>['Scout Finch', 'Atticus Finch', 'Jem Finch', ...</td>\n",
       "      <td>Paperback</td>\n",
       "      <td>NaN</td>\n",
       "      <td>324</td>\n",
       "      <td>05/23/06</td>\n",
       "      <td>07/11/60</td>\n",
       "      <td>['Pulitzer Prize for Fiction (1961)', 'Audie A...</td>\n",
       "      <td>4501075</td>\n",
       "      <td>['2363896', '1333153', '573280', '149952', '80...</td>\n",
       "      <td>95</td>\n",
       "      <td>['Maycomb, Alabama (United States)']</td>\n",
       "      <td>2269402</td>\n",
       "      <td>23328</td>\n",
       "      <td>NaN</td>\n",
       "    </tr>\n",
       "    <tr>\n",
       "      <th>Pride and Prejudice</th>\n",
       "      <td>English</td>\n",
       "      <td>['Classics', 'Fiction', 'Romance', 'Historical...</td>\n",
       "      <td>['Mr. Bennet', 'Mrs. Bennet', 'Jane Bennet', '...</td>\n",
       "      <td>Paperback</td>\n",
       "      <td>Modern Library Classics, USA / CAN</td>\n",
       "      <td>279</td>\n",
       "      <td>10/10/00</td>\n",
       "      <td>01/28/13</td>\n",
       "      <td>[]</td>\n",
       "      <td>2998241</td>\n",
       "      <td>['1617567', '816659', '373311', '113934', '767...</td>\n",
       "      <td>94</td>\n",
       "      <td>['United Kingdom', 'Derbyshire, England (Unite...</td>\n",
       "      <td>1983116</td>\n",
       "      <td>20452</td>\n",
       "      <td>NaN</td>\n",
       "    </tr>\n",
       "    <tr>\n",
       "      <th>Twilight</th>\n",
       "      <td>English</td>\n",
       "      <td>['Young Adult', 'Fantasy', 'Romance', 'Vampire...</td>\n",
       "      <td>['Edward Cullen', 'Jacob Black', 'Laurent', 'R...</td>\n",
       "      <td>Paperback</td>\n",
       "      <td>NaN</td>\n",
       "      <td>501</td>\n",
       "      <td>09/06/06</td>\n",
       "      <td>10/05/05</td>\n",
       "      <td>['Georgia Peach Book Award (2007)', 'Buxtehude...</td>\n",
       "      <td>4964519</td>\n",
       "      <td>['1751460', '1113682', '1008686', '542017', '5...</td>\n",
       "      <td>78</td>\n",
       "      <td>['Forks, Washington (United States)', 'Phoenix...</td>\n",
       "      <td>1459448</td>\n",
       "      <td>14874</td>\n",
       "      <td>2.1</td>\n",
       "    </tr>\n",
       "  </tbody>\n",
       "</table>\n",
       "</div>"
      ],
      "text/plain": [
       "                                          language  \\\n",
       "title                                                \n",
       "The Hunger Games                           English   \n",
       "Harry Potter and the Order of the Phoenix  English   \n",
       "To Kill a Mockingbird                      English   \n",
       "Pride and Prejudice                        English   \n",
       "Twilight                                   English   \n",
       "\n",
       "                                                                                      genres  \\\n",
       "title                                                                                          \n",
       "The Hunger Games                           ['Young Adult', 'Fiction', 'Dystopia', 'Fantas...   \n",
       "Harry Potter and the Order of the Phoenix  ['Fantasy', 'Young Adult', 'Fiction', 'Magic',...   \n",
       "To Kill a Mockingbird                      ['Classics', 'Fiction', 'Historical Fiction', ...   \n",
       "Pride and Prejudice                        ['Classics', 'Fiction', 'Romance', 'Historical...   \n",
       "Twilight                                   ['Young Adult', 'Fantasy', 'Romance', 'Vampire...   \n",
       "\n",
       "                                                                                  characters  \\\n",
       "title                                                                                          \n",
       "The Hunger Games                           ['Katniss Everdeen', 'Peeta Mellark', 'Cato (H...   \n",
       "Harry Potter and the Order of the Phoenix  ['Sirius Black', 'Draco Malfoy', 'Ron Weasley'...   \n",
       "To Kill a Mockingbird                      ['Scout Finch', 'Atticus Finch', 'Jem Finch', ...   \n",
       "Pride and Prejudice                        ['Mr. Bennet', 'Mrs. Bennet', 'Jane Bennet', '...   \n",
       "Twilight                                   ['Edward Cullen', 'Jacob Black', 'Laurent', 'R...   \n",
       "\n",
       "                                          bookFormat  \\\n",
       "title                                                  \n",
       "The Hunger Games                           Hardcover   \n",
       "Harry Potter and the Order of the Phoenix  Paperback   \n",
       "To Kill a Mockingbird                      Paperback   \n",
       "Pride and Prejudice                        Paperback   \n",
       "Twilight                                   Paperback   \n",
       "\n",
       "                                                                      edition  \\\n",
       "title                                                                           \n",
       "The Hunger Games                                                First Edition   \n",
       "Harry Potter and the Order of the Phoenix                          US Edition   \n",
       "To Kill a Mockingbird                                                     NaN   \n",
       "Pride and Prejudice                        Modern Library Classics, USA / CAN   \n",
       "Twilight                                                                  NaN   \n",
       "\n",
       "                                          pages publishDate firstPublishDate  \\\n",
       "title                                                                          \n",
       "The Hunger Games                            374    09/14/08              NaN   \n",
       "Harry Potter and the Order of the Phoenix   870    09/28/04         06/21/03   \n",
       "To Kill a Mockingbird                       324    05/23/06         07/11/60   \n",
       "Pride and Prejudice                         279    10/10/00         01/28/13   \n",
       "Twilight                                    501    09/06/06         10/05/05   \n",
       "\n",
       "                                                                                      awards  \\\n",
       "title                                                                                          \n",
       "The Hunger Games                           ['Locus Award Nominee for Best Young Adult Boo...   \n",
       "Harry Potter and the Order of the Phoenix  ['Bram Stoker Award for Works for Young Reader...   \n",
       "To Kill a Mockingbird                      ['Pulitzer Prize for Fiction (1961)', 'Audie A...   \n",
       "Pride and Prejudice                                                                       []   \n",
       "Twilight                                   ['Georgia Peach Book Award (2007)', 'Buxtehude...   \n",
       "\n",
       "                                          numRatings  \\\n",
       "title                                                  \n",
       "The Hunger Games                             6376780   \n",
       "Harry Potter and the Order of the Phoenix    2507623   \n",
       "To Kill a Mockingbird                        4501075   \n",
       "Pride and Prejudice                          2998241   \n",
       "Twilight                                     4964519   \n",
       "\n",
       "                                                                              ratingsByStars  \\\n",
       "title                                                                                          \n",
       "The Hunger Games                           ['3444695', '1921313', '745221', '171994', '93...   \n",
       "Harry Potter and the Order of the Phoenix  ['1593642', '637516', '222366', '39573', '14526']   \n",
       "To Kill a Mockingbird                      ['2363896', '1333153', '573280', '149952', '80...   \n",
       "Pride and Prejudice                        ['1617567', '816659', '373311', '113934', '767...   \n",
       "Twilight                                   ['1751460', '1113682', '1008686', '542017', '5...   \n",
       "\n",
       "                                          likedPercent  \\\n",
       "title                                                    \n",
       "The Hunger Games                                    96   \n",
       "Harry Potter and the Order of the Phoenix           98   \n",
       "To Kill a Mockingbird                               95   \n",
       "Pride and Prejudice                                 94   \n",
       "Twilight                                            78   \n",
       "\n",
       "                                                                                     setting  \\\n",
       "title                                                                                          \n",
       "The Hunger Games                           ['District 12, Panem', 'Capitol, Panem', 'Pane...   \n",
       "Harry Potter and the Order of the Phoenix  ['Hogwarts School of Witchcraft and Wizardry (...   \n",
       "To Kill a Mockingbird                                   ['Maycomb, Alabama (United States)']   \n",
       "Pride and Prejudice                        ['United Kingdom', 'Derbyshire, England (Unite...   \n",
       "Twilight                                   ['Forks, Washington (United States)', 'Phoenix...   \n",
       "\n",
       "                                          bbeScore bbeVotes price  \n",
       "title                                                              \n",
       "The Hunger Games                           2993816    30516  5.09  \n",
       "Harry Potter and the Order of the Phoenix  2632233    26923  7.38  \n",
       "To Kill a Mockingbird                      2269402    23328   NaN  \n",
       "Pride and Prejudice                        1983116    20452   NaN  \n",
       "Twilight                                   1459448    14874   2.1  "
      ]
     },
     "execution_count": 108,
     "metadata": {},
     "output_type": "execute_result"
    }
   ],
   "source": [
    "X = X.drop(['bookId', 'series', 'isbn', 'description', 'coverImg', 'author', 'publisher'], axis=1)\n",
    "X.head()"
   ]
  },
  {
   "cell_type": "code",
   "execution_count": 12,
   "id": "daa26b38-cf17-4ad7-bfeb-fed965065fc6",
   "metadata": {},
   "outputs": [
    {
     "name": "stdout",
     "output_type": "stream",
     "text": [
      "<class 'pandas.core.frame.DataFrame'>\n",
      "Index: 52478 entries, The Hunger Games to Daughter of Helaman\n",
      "Data columns (total 16 columns):\n",
      " #   Column            Non-Null Count  Dtype \n",
      "---  ------            --------------  ----- \n",
      " 0   language          48672 non-null  object\n",
      " 1   genres            52478 non-null  object\n",
      " 2   characters        52478 non-null  object\n",
      " 3   bookFormat        51005 non-null  object\n",
      " 4   edition           4955 non-null   object\n",
      " 5   pages             50131 non-null  object\n",
      " 6   publishDate       51598 non-null  object\n",
      " 7   firstPublishDate  31152 non-null  object\n",
      " 8   awards            52478 non-null  object\n",
      " 9   numRatings        52478 non-null  object\n",
      " 10  ratingsByStars    52478 non-null  object\n",
      " 11  likedPercent      51856 non-null  object\n",
      " 12  setting           52478 non-null  object\n",
      " 13  bbeScore          52478 non-null  object\n",
      " 14  bbeVotes          52478 non-null  object\n",
      " 15  price             38113 non-null  object\n",
      "dtypes: object(16)\n",
      "memory usage: 6.8+ MB\n"
     ]
    }
   ],
   "source": [
    "X.info()"
   ]
  },
  {
   "cell_type": "markdown",
   "id": "dbd5429e-3485-414f-b3e7-3c40d47c67a3",
   "metadata": {},
   "source": [
    "#### 1.2.2. Tratamiento de variables numéricas"
   ]
  },
  {
   "cell_type": "markdown",
   "id": "dd6421e5-49ff-4fa1-b723-d2e9c8bb3200",
   "metadata": {},
   "source": [
    "Vemos que muchas de las columnas tienen nulos y que como hay muchas que son listas, fechas u otro tipo de datos se han importado todas como object, vamos a parsear aquellas que sabemos que representan un número. Además, vemos que una columna, concretamente \"edition\", tiene 5000 valores de 52.500 siendo tan absolutamente pequeño que merecería la pena eliminarlo directamente, pero como eso se valora en otro apartado vamos a ser pacientes."
   ]
  },
  {
   "cell_type": "markdown",
   "id": "d490d45f-604c-4f33-9862-b5752db27120",
   "metadata": {},
   "source": [
    "Vamos a hacer las transformaciones de los enteros primero, pero como no podemos transformar un 'NaN' a entero vamos a poner estos valores faltantes a -5, ya que en ningún caso de nuestras variables pueden darse valores negativos. Y luego, los devolveremos a 'NaN'."
   ]
  },
  {
   "cell_type": "markdown",
   "id": "a90a7f23-5ec8-48bd-b340-33c1fdd1dc5c",
   "metadata": {},
   "source": [
    "Aunque primero mejor comprobarlo:"
   ]
  },
  {
   "cell_type": "code",
   "execution_count": 113,
   "id": "b7df5c47-80cf-482d-b61e-09baa53b8048",
   "metadata": {},
   "outputs": [
    {
     "data": {
      "text/html": [
       "<div>\n",
       "<style scoped>\n",
       "    .dataframe tbody tr th:only-of-type {\n",
       "        vertical-align: middle;\n",
       "    }\n",
       "\n",
       "    .dataframe tbody tr th {\n",
       "        vertical-align: top;\n",
       "    }\n",
       "\n",
       "    .dataframe thead th {\n",
       "        text-align: right;\n",
       "    }\n",
       "</style>\n",
       "<table border=\"1\" class=\"dataframe\">\n",
       "  <thead>\n",
       "    <tr style=\"text-align: right;\">\n",
       "      <th></th>\n",
       "      <th>rating</th>\n",
       "      <th>numRatings</th>\n",
       "      <th>likedPercent</th>\n",
       "      <th>bbeScore</th>\n",
       "      <th>bbeVotes</th>\n",
       "    </tr>\n",
       "  </thead>\n",
       "  <tbody>\n",
       "    <tr>\n",
       "      <th>count</th>\n",
       "      <td>52478.000000</td>\n",
       "      <td>5.247800e+04</td>\n",
       "      <td>51856.000000</td>\n",
       "      <td>5.247800e+04</td>\n",
       "      <td>52478.000000</td>\n",
       "    </tr>\n",
       "    <tr>\n",
       "      <th>mean</th>\n",
       "      <td>4.021878</td>\n",
       "      <td>1.787865e+04</td>\n",
       "      <td>92.231545</td>\n",
       "      <td>1.984023e+03</td>\n",
       "      <td>22.529003</td>\n",
       "    </tr>\n",
       "    <tr>\n",
       "      <th>std</th>\n",
       "      <td>0.367146</td>\n",
       "      <td>1.039448e+05</td>\n",
       "      <td>5.990689</td>\n",
       "      <td>3.515314e+04</td>\n",
       "      <td>369.158541</td>\n",
       "    </tr>\n",
       "    <tr>\n",
       "      <th>min</th>\n",
       "      <td>0.000000</td>\n",
       "      <td>0.000000e+00</td>\n",
       "      <td>0.000000</td>\n",
       "      <td>0.000000e+00</td>\n",
       "      <td>-4.000000</td>\n",
       "    </tr>\n",
       "    <tr>\n",
       "      <th>25%</th>\n",
       "      <td>3.820000</td>\n",
       "      <td>3.410000e+02</td>\n",
       "      <td>90.000000</td>\n",
       "      <td>8.400000e+01</td>\n",
       "      <td>1.000000</td>\n",
       "    </tr>\n",
       "    <tr>\n",
       "      <th>50%</th>\n",
       "      <td>4.030000</td>\n",
       "      <td>2.307000e+03</td>\n",
       "      <td>94.000000</td>\n",
       "      <td>9.700000e+01</td>\n",
       "      <td>1.000000</td>\n",
       "    </tr>\n",
       "    <tr>\n",
       "      <th>75%</th>\n",
       "      <td>4.230000</td>\n",
       "      <td>9.380500e+03</td>\n",
       "      <td>96.000000</td>\n",
       "      <td>1.870000e+02</td>\n",
       "      <td>2.000000</td>\n",
       "    </tr>\n",
       "    <tr>\n",
       "      <th>max</th>\n",
       "      <td>5.000000</td>\n",
       "      <td>7.048471e+06</td>\n",
       "      <td>100.000000</td>\n",
       "      <td>2.993816e+06</td>\n",
       "      <td>30516.000000</td>\n",
       "    </tr>\n",
       "  </tbody>\n",
       "</table>\n",
       "</div>"
      ],
      "text/plain": [
       "             rating    numRatings  likedPercent      bbeScore      bbeVotes\n",
       "count  52478.000000  5.247800e+04  51856.000000  5.247800e+04  52478.000000\n",
       "mean       4.021878  1.787865e+04     92.231545  1.984023e+03     22.529003\n",
       "std        0.367146  1.039448e+05      5.990689  3.515314e+04    369.158541\n",
       "min        0.000000  0.000000e+00      0.000000  0.000000e+00     -4.000000\n",
       "25%        3.820000  3.410000e+02     90.000000  8.400000e+01      1.000000\n",
       "50%        4.030000  2.307000e+03     94.000000  9.700000e+01      1.000000\n",
       "75%        4.230000  9.380500e+03     96.000000  1.870000e+02      2.000000\n",
       "max        5.000000  7.048471e+06    100.000000  2.993816e+06  30516.000000"
      ]
     },
     "execution_count": 113,
     "metadata": {},
     "output_type": "execute_result"
    }
   ],
   "source": [
    "df = pd.read_csv('libros.csv', header=0)\n",
    "df.describe()"
   ]
  },
  {
   "cell_type": "markdown",
   "id": "e3f39427-1d14-4045-89e1-07dea7e0bed8",
   "metadata": {},
   "source": [
    "Vaya, vemos que algunos valores de bbeVotes tienen valores negativos, esto es un espurio o un dato real, como no lo podemos saber vamos a dejarlo. Por eso el -5 y no -1."
   ]
  },
  {
   "cell_type": "code",
   "execution_count": 114,
   "id": "677c6201-5196-40f9-8c79-5942bf0491ff",
   "metadata": {},
   "outputs": [
    {
     "ename": "ValueError",
     "evalue": "invalid literal for int() with base 10: '1 page'",
     "output_type": "error",
     "traceback": [
      "\u001b[1;31m---------------------------------------------------------------------------\u001b[0m",
      "\u001b[1;31mValueError\u001b[0m                                Traceback (most recent call last)",
      "\u001b[1;32m~\\AppData\\Local\\Temp\\ipykernel_13580\\1031881191.py\u001b[0m in \u001b[0;36m<module>\u001b[1;34m\u001b[0m\n\u001b[1;32m----> 1\u001b[1;33m \u001b[0mX\u001b[0m\u001b[1;33m[\u001b[0m\u001b[1;33m[\u001b[0m\u001b[1;34m'pages'\u001b[0m\u001b[1;33m,\u001b[0m \u001b[1;34m'bbeVotes'\u001b[0m\u001b[1;33m,\u001b[0m \u001b[1;34m'bbeScore'\u001b[0m\u001b[1;33m,\u001b[0m \u001b[1;34m'numRatings'\u001b[0m\u001b[1;33m]\u001b[0m\u001b[1;33m]\u001b[0m \u001b[1;33m=\u001b[0m \u001b[0mX\u001b[0m\u001b[1;33m[\u001b[0m\u001b[1;33m[\u001b[0m\u001b[1;34m'pages'\u001b[0m\u001b[1;33m,\u001b[0m \u001b[1;34m'bbeVotes'\u001b[0m\u001b[1;33m,\u001b[0m \u001b[1;34m'bbeScore'\u001b[0m\u001b[1;33m,\u001b[0m \u001b[1;34m'numRatings'\u001b[0m\u001b[1;33m]\u001b[0m\u001b[1;33m]\u001b[0m\u001b[1;33m.\u001b[0m\u001b[0mfillna\u001b[0m\u001b[1;33m(\u001b[0m\u001b[1;33m-\u001b[0m\u001b[1;36m5\u001b[0m\u001b[1;33m)\u001b[0m\u001b[1;33m.\u001b[0m\u001b[0mastype\u001b[0m\u001b[1;33m(\u001b[0m\u001b[0mnp\u001b[0m\u001b[1;33m.\u001b[0m\u001b[0mint64\u001b[0m\u001b[1;33m)\u001b[0m\u001b[1;33m\u001b[0m\u001b[1;33m\u001b[0m\u001b[0m\n\u001b[0m",
      "\u001b[1;32m~\\anaconda3\\lib\\site-packages\\pandas\\core\\generic.py\u001b[0m in \u001b[0;36mastype\u001b[1;34m(self, dtype, copy, errors)\u001b[0m\n\u001b[0;32m   5910\u001b[0m         \u001b[1;32melse\u001b[0m\u001b[1;33m:\u001b[0m\u001b[1;33m\u001b[0m\u001b[1;33m\u001b[0m\u001b[0m\n\u001b[0;32m   5911\u001b[0m             \u001b[1;31m# else, only a single dtype is given\u001b[0m\u001b[1;33m\u001b[0m\u001b[1;33m\u001b[0m\u001b[0m\n\u001b[1;32m-> 5912\u001b[1;33m             \u001b[0mnew_data\u001b[0m \u001b[1;33m=\u001b[0m \u001b[0mself\u001b[0m\u001b[1;33m.\u001b[0m\u001b[0m_mgr\u001b[0m\u001b[1;33m.\u001b[0m\u001b[0mastype\u001b[0m\u001b[1;33m(\u001b[0m\u001b[0mdtype\u001b[0m\u001b[1;33m=\u001b[0m\u001b[0mdtype\u001b[0m\u001b[1;33m,\u001b[0m \u001b[0mcopy\u001b[0m\u001b[1;33m=\u001b[0m\u001b[0mcopy\u001b[0m\u001b[1;33m,\u001b[0m \u001b[0merrors\u001b[0m\u001b[1;33m=\u001b[0m\u001b[0merrors\u001b[0m\u001b[1;33m)\u001b[0m\u001b[1;33m\u001b[0m\u001b[1;33m\u001b[0m\u001b[0m\n\u001b[0m\u001b[0;32m   5913\u001b[0m             \u001b[1;32mreturn\u001b[0m \u001b[0mself\u001b[0m\u001b[1;33m.\u001b[0m\u001b[0m_constructor\u001b[0m\u001b[1;33m(\u001b[0m\u001b[0mnew_data\u001b[0m\u001b[1;33m)\u001b[0m\u001b[1;33m.\u001b[0m\u001b[0m__finalize__\u001b[0m\u001b[1;33m(\u001b[0m\u001b[0mself\u001b[0m\u001b[1;33m,\u001b[0m \u001b[0mmethod\u001b[0m\u001b[1;33m=\u001b[0m\u001b[1;34m\"astype\"\u001b[0m\u001b[1;33m)\u001b[0m\u001b[1;33m\u001b[0m\u001b[1;33m\u001b[0m\u001b[0m\n\u001b[0;32m   5914\u001b[0m \u001b[1;33m\u001b[0m\u001b[0m\n",
      "\u001b[1;32m~\\anaconda3\\lib\\site-packages\\pandas\\core\\internals\\managers.py\u001b[0m in \u001b[0;36mastype\u001b[1;34m(self, dtype, copy, errors)\u001b[0m\n\u001b[0;32m    417\u001b[0m \u001b[1;33m\u001b[0m\u001b[0m\n\u001b[0;32m    418\u001b[0m     \u001b[1;32mdef\u001b[0m \u001b[0mastype\u001b[0m\u001b[1;33m(\u001b[0m\u001b[0mself\u001b[0m\u001b[1;33m:\u001b[0m \u001b[0mT\u001b[0m\u001b[1;33m,\u001b[0m \u001b[0mdtype\u001b[0m\u001b[1;33m,\u001b[0m \u001b[0mcopy\u001b[0m\u001b[1;33m:\u001b[0m \u001b[0mbool\u001b[0m \u001b[1;33m=\u001b[0m \u001b[1;32mFalse\u001b[0m\u001b[1;33m,\u001b[0m \u001b[0merrors\u001b[0m\u001b[1;33m:\u001b[0m \u001b[0mstr\u001b[0m \u001b[1;33m=\u001b[0m \u001b[1;34m\"raise\"\u001b[0m\u001b[1;33m)\u001b[0m \u001b[1;33m->\u001b[0m \u001b[0mT\u001b[0m\u001b[1;33m:\u001b[0m\u001b[1;33m\u001b[0m\u001b[1;33m\u001b[0m\u001b[0m\n\u001b[1;32m--> 419\u001b[1;33m         \u001b[1;32mreturn\u001b[0m \u001b[0mself\u001b[0m\u001b[1;33m.\u001b[0m\u001b[0mapply\u001b[0m\u001b[1;33m(\u001b[0m\u001b[1;34m\"astype\"\u001b[0m\u001b[1;33m,\u001b[0m \u001b[0mdtype\u001b[0m\u001b[1;33m=\u001b[0m\u001b[0mdtype\u001b[0m\u001b[1;33m,\u001b[0m \u001b[0mcopy\u001b[0m\u001b[1;33m=\u001b[0m\u001b[0mcopy\u001b[0m\u001b[1;33m,\u001b[0m \u001b[0merrors\u001b[0m\u001b[1;33m=\u001b[0m\u001b[0merrors\u001b[0m\u001b[1;33m)\u001b[0m\u001b[1;33m\u001b[0m\u001b[1;33m\u001b[0m\u001b[0m\n\u001b[0m\u001b[0;32m    420\u001b[0m \u001b[1;33m\u001b[0m\u001b[0m\n\u001b[0;32m    421\u001b[0m     def convert(\n",
      "\u001b[1;32m~\\anaconda3\\lib\\site-packages\\pandas\\core\\internals\\managers.py\u001b[0m in \u001b[0;36mapply\u001b[1;34m(self, f, align_keys, ignore_failures, **kwargs)\u001b[0m\n\u001b[0;32m    302\u001b[0m                     \u001b[0mapplied\u001b[0m \u001b[1;33m=\u001b[0m \u001b[0mb\u001b[0m\u001b[1;33m.\u001b[0m\u001b[0mapply\u001b[0m\u001b[1;33m(\u001b[0m\u001b[0mf\u001b[0m\u001b[1;33m,\u001b[0m \u001b[1;33m**\u001b[0m\u001b[0mkwargs\u001b[0m\u001b[1;33m)\u001b[0m\u001b[1;33m\u001b[0m\u001b[1;33m\u001b[0m\u001b[0m\n\u001b[0;32m    303\u001b[0m                 \u001b[1;32melse\u001b[0m\u001b[1;33m:\u001b[0m\u001b[1;33m\u001b[0m\u001b[1;33m\u001b[0m\u001b[0m\n\u001b[1;32m--> 304\u001b[1;33m                     \u001b[0mapplied\u001b[0m \u001b[1;33m=\u001b[0m \u001b[0mgetattr\u001b[0m\u001b[1;33m(\u001b[0m\u001b[0mb\u001b[0m\u001b[1;33m,\u001b[0m \u001b[0mf\u001b[0m\u001b[1;33m)\u001b[0m\u001b[1;33m(\u001b[0m\u001b[1;33m**\u001b[0m\u001b[0mkwargs\u001b[0m\u001b[1;33m)\u001b[0m\u001b[1;33m\u001b[0m\u001b[1;33m\u001b[0m\u001b[0m\n\u001b[0m\u001b[0;32m    305\u001b[0m             \u001b[1;32mexcept\u001b[0m \u001b[1;33m(\u001b[0m\u001b[0mTypeError\u001b[0m\u001b[1;33m,\u001b[0m \u001b[0mNotImplementedError\u001b[0m\u001b[1;33m)\u001b[0m\u001b[1;33m:\u001b[0m\u001b[1;33m\u001b[0m\u001b[1;33m\u001b[0m\u001b[0m\n\u001b[0;32m    306\u001b[0m                 \u001b[1;32mif\u001b[0m \u001b[1;32mnot\u001b[0m \u001b[0mignore_failures\u001b[0m\u001b[1;33m:\u001b[0m\u001b[1;33m\u001b[0m\u001b[1;33m\u001b[0m\u001b[0m\n",
      "\u001b[1;32m~\\anaconda3\\lib\\site-packages\\pandas\\core\\internals\\blocks.py\u001b[0m in \u001b[0;36mastype\u001b[1;34m(self, dtype, copy, errors)\u001b[0m\n\u001b[0;32m    578\u001b[0m         \u001b[0mvalues\u001b[0m \u001b[1;33m=\u001b[0m \u001b[0mself\u001b[0m\u001b[1;33m.\u001b[0m\u001b[0mvalues\u001b[0m\u001b[1;33m\u001b[0m\u001b[1;33m\u001b[0m\u001b[0m\n\u001b[0;32m    579\u001b[0m \u001b[1;33m\u001b[0m\u001b[0m\n\u001b[1;32m--> 580\u001b[1;33m         \u001b[0mnew_values\u001b[0m \u001b[1;33m=\u001b[0m \u001b[0mastype_array_safe\u001b[0m\u001b[1;33m(\u001b[0m\u001b[0mvalues\u001b[0m\u001b[1;33m,\u001b[0m \u001b[0mdtype\u001b[0m\u001b[1;33m,\u001b[0m \u001b[0mcopy\u001b[0m\u001b[1;33m=\u001b[0m\u001b[0mcopy\u001b[0m\u001b[1;33m,\u001b[0m \u001b[0merrors\u001b[0m\u001b[1;33m=\u001b[0m\u001b[0merrors\u001b[0m\u001b[1;33m)\u001b[0m\u001b[1;33m\u001b[0m\u001b[1;33m\u001b[0m\u001b[0m\n\u001b[0m\u001b[0;32m    581\u001b[0m \u001b[1;33m\u001b[0m\u001b[0m\n\u001b[0;32m    582\u001b[0m         \u001b[0mnew_values\u001b[0m \u001b[1;33m=\u001b[0m \u001b[0mmaybe_coerce_values\u001b[0m\u001b[1;33m(\u001b[0m\u001b[0mnew_values\u001b[0m\u001b[1;33m)\u001b[0m\u001b[1;33m\u001b[0m\u001b[1;33m\u001b[0m\u001b[0m\n",
      "\u001b[1;32m~\\anaconda3\\lib\\site-packages\\pandas\\core\\dtypes\\cast.py\u001b[0m in \u001b[0;36mastype_array_safe\u001b[1;34m(values, dtype, copy, errors)\u001b[0m\n\u001b[0;32m   1290\u001b[0m \u001b[1;33m\u001b[0m\u001b[0m\n\u001b[0;32m   1291\u001b[0m     \u001b[1;32mtry\u001b[0m\u001b[1;33m:\u001b[0m\u001b[1;33m\u001b[0m\u001b[1;33m\u001b[0m\u001b[0m\n\u001b[1;32m-> 1292\u001b[1;33m         \u001b[0mnew_values\u001b[0m \u001b[1;33m=\u001b[0m \u001b[0mastype_array\u001b[0m\u001b[1;33m(\u001b[0m\u001b[0mvalues\u001b[0m\u001b[1;33m,\u001b[0m \u001b[0mdtype\u001b[0m\u001b[1;33m,\u001b[0m \u001b[0mcopy\u001b[0m\u001b[1;33m=\u001b[0m\u001b[0mcopy\u001b[0m\u001b[1;33m)\u001b[0m\u001b[1;33m\u001b[0m\u001b[1;33m\u001b[0m\u001b[0m\n\u001b[0m\u001b[0;32m   1293\u001b[0m     \u001b[1;32mexcept\u001b[0m \u001b[1;33m(\u001b[0m\u001b[0mValueError\u001b[0m\u001b[1;33m,\u001b[0m \u001b[0mTypeError\u001b[0m\u001b[1;33m)\u001b[0m\u001b[1;33m:\u001b[0m\u001b[1;33m\u001b[0m\u001b[1;33m\u001b[0m\u001b[0m\n\u001b[0;32m   1294\u001b[0m         \u001b[1;31m# e.g. astype_nansafe can fail on object-dtype of strings\u001b[0m\u001b[1;33m\u001b[0m\u001b[1;33m\u001b[0m\u001b[0m\n",
      "\u001b[1;32m~\\anaconda3\\lib\\site-packages\\pandas\\core\\dtypes\\cast.py\u001b[0m in \u001b[0;36mastype_array\u001b[1;34m(values, dtype, copy)\u001b[0m\n\u001b[0;32m   1235\u001b[0m \u001b[1;33m\u001b[0m\u001b[0m\n\u001b[0;32m   1236\u001b[0m     \u001b[1;32melse\u001b[0m\u001b[1;33m:\u001b[0m\u001b[1;33m\u001b[0m\u001b[1;33m\u001b[0m\u001b[0m\n\u001b[1;32m-> 1237\u001b[1;33m         \u001b[0mvalues\u001b[0m \u001b[1;33m=\u001b[0m \u001b[0mastype_nansafe\u001b[0m\u001b[1;33m(\u001b[0m\u001b[0mvalues\u001b[0m\u001b[1;33m,\u001b[0m \u001b[0mdtype\u001b[0m\u001b[1;33m,\u001b[0m \u001b[0mcopy\u001b[0m\u001b[1;33m=\u001b[0m\u001b[0mcopy\u001b[0m\u001b[1;33m)\u001b[0m\u001b[1;33m\u001b[0m\u001b[1;33m\u001b[0m\u001b[0m\n\u001b[0m\u001b[0;32m   1238\u001b[0m \u001b[1;33m\u001b[0m\u001b[0m\n\u001b[0;32m   1239\u001b[0m     \u001b[1;31m# in pandas we don't store numpy str dtypes, so convert to object\u001b[0m\u001b[1;33m\u001b[0m\u001b[1;33m\u001b[0m\u001b[0m\n",
      "\u001b[1;32m~\\anaconda3\\lib\\site-packages\\pandas\\core\\dtypes\\cast.py\u001b[0m in \u001b[0;36mastype_nansafe\u001b[1;34m(arr, dtype, copy, skipna)\u001b[0m\n\u001b[0;32m   1096\u001b[0m     \u001b[1;32mif\u001b[0m \u001b[0marr\u001b[0m\u001b[1;33m.\u001b[0m\u001b[0mndim\u001b[0m \u001b[1;33m>\u001b[0m \u001b[1;36m1\u001b[0m\u001b[1;33m:\u001b[0m\u001b[1;33m\u001b[0m\u001b[1;33m\u001b[0m\u001b[0m\n\u001b[0;32m   1097\u001b[0m         \u001b[0mflat\u001b[0m \u001b[1;33m=\u001b[0m \u001b[0marr\u001b[0m\u001b[1;33m.\u001b[0m\u001b[0mravel\u001b[0m\u001b[1;33m(\u001b[0m\u001b[1;33m)\u001b[0m\u001b[1;33m\u001b[0m\u001b[1;33m\u001b[0m\u001b[0m\n\u001b[1;32m-> 1098\u001b[1;33m         \u001b[0mresult\u001b[0m \u001b[1;33m=\u001b[0m \u001b[0mastype_nansafe\u001b[0m\u001b[1;33m(\u001b[0m\u001b[0mflat\u001b[0m\u001b[1;33m,\u001b[0m \u001b[0mdtype\u001b[0m\u001b[1;33m,\u001b[0m \u001b[0mcopy\u001b[0m\u001b[1;33m=\u001b[0m\u001b[0mcopy\u001b[0m\u001b[1;33m,\u001b[0m \u001b[0mskipna\u001b[0m\u001b[1;33m=\u001b[0m\u001b[0mskipna\u001b[0m\u001b[1;33m)\u001b[0m\u001b[1;33m\u001b[0m\u001b[1;33m\u001b[0m\u001b[0m\n\u001b[0m\u001b[0;32m   1099\u001b[0m         \u001b[1;31m# error: Item \"ExtensionArray\" of \"Union[ExtensionArray, ndarray]\" has no\u001b[0m\u001b[1;33m\u001b[0m\u001b[1;33m\u001b[0m\u001b[0m\n\u001b[0;32m   1100\u001b[0m         \u001b[1;31m# attribute \"reshape\"\u001b[0m\u001b[1;33m\u001b[0m\u001b[1;33m\u001b[0m\u001b[0m\n",
      "\u001b[1;32m~\\anaconda3\\lib\\site-packages\\pandas\\core\\dtypes\\cast.py\u001b[0m in \u001b[0;36mastype_nansafe\u001b[1;34m(arr, dtype, copy, skipna)\u001b[0m\n\u001b[0;32m   1152\u001b[0m         \u001b[1;31m# work around NumPy brokenness, #1987\u001b[0m\u001b[1;33m\u001b[0m\u001b[1;33m\u001b[0m\u001b[0m\n\u001b[0;32m   1153\u001b[0m         \u001b[1;32mif\u001b[0m \u001b[0mnp\u001b[0m\u001b[1;33m.\u001b[0m\u001b[0missubdtype\u001b[0m\u001b[1;33m(\u001b[0m\u001b[0mdtype\u001b[0m\u001b[1;33m.\u001b[0m\u001b[0mtype\u001b[0m\u001b[1;33m,\u001b[0m \u001b[0mnp\u001b[0m\u001b[1;33m.\u001b[0m\u001b[0minteger\u001b[0m\u001b[1;33m)\u001b[0m\u001b[1;33m:\u001b[0m\u001b[1;33m\u001b[0m\u001b[1;33m\u001b[0m\u001b[0m\n\u001b[1;32m-> 1154\u001b[1;33m             \u001b[1;32mreturn\u001b[0m \u001b[0mlib\u001b[0m\u001b[1;33m.\u001b[0m\u001b[0mastype_intsafe\u001b[0m\u001b[1;33m(\u001b[0m\u001b[0marr\u001b[0m\u001b[1;33m,\u001b[0m \u001b[0mdtype\u001b[0m\u001b[1;33m)\u001b[0m\u001b[1;33m\u001b[0m\u001b[1;33m\u001b[0m\u001b[0m\n\u001b[0m\u001b[0;32m   1155\u001b[0m \u001b[1;33m\u001b[0m\u001b[0m\n\u001b[0;32m   1156\u001b[0m         \u001b[1;31m# if we have a datetime/timedelta array of objects\u001b[0m\u001b[1;33m\u001b[0m\u001b[1;33m\u001b[0m\u001b[0m\n",
      "\u001b[1;32m~\\anaconda3\\lib\\site-packages\\pandas\\_libs\\lib.pyx\u001b[0m in \u001b[0;36mpandas._libs.lib.astype_intsafe\u001b[1;34m()\u001b[0m\n",
      "\u001b[1;31mValueError\u001b[0m: invalid literal for int() with base 10: '1 page'"
     ]
    }
   ],
   "source": [
    "X[['pages', 'bbeVotes', 'bbeScore', 'numRatings']] = X[['pages', 'bbeVotes', 'bbeScore', 'numRatings']].fillna(-5).astype(np.int64)"
   ]
  },
  {
   "cell_type": "markdown",
   "id": "5bcd134c-bcbb-44d3-b8bd-8dc46c931827",
   "metadata": {},
   "source": [
    "Hemos decidido dejar este error porque siendo obvio que las páginas son un entero, vemos que uno de los valores que intentamos parsear a enteros es '1 pages'; bienvenidos al magnífico mundo de la ciencia del dato."
   ]
  },
  {
   "cell_type": "code",
   "execution_count": 109,
   "id": "5b78ef06-1e38-40c7-9682-cb3661c50d98",
   "metadata": {},
   "outputs": [],
   "source": [
    "X.pages = X[['pages']].apply(pd.to_numeric, errors='coerce')"
   ]
  },
  {
   "cell_type": "code",
   "execution_count": 110,
   "id": "97f091ec-abc9-4a88-a6f1-460214a3f25a",
   "metadata": {},
   "outputs": [],
   "source": [
    "X[['bbeScore', 'numRatings','bbeVotes']] = X[['bbeScore', 'numRatings','bbeVotes']].fillna(-5).astype(np.int64)"
   ]
  },
  {
   "cell_type": "code",
   "execution_count": 111,
   "id": "4d3b9d84-a00b-4e64-a9db-5780a3935a69",
   "metadata": {},
   "outputs": [
    {
     "name": "stdout",
     "output_type": "stream",
     "text": [
      "<class 'pandas.core.frame.DataFrame'>\n",
      "Index: 52478 entries, The Hunger Games to Daughter of Helaman\n",
      "Data columns (total 16 columns):\n",
      " #   Column            Non-Null Count  Dtype  \n",
      "---  ------            --------------  -----  \n",
      " 0   language          48672 non-null  object \n",
      " 1   genres            52478 non-null  object \n",
      " 2   characters        52478 non-null  object \n",
      " 3   bookFormat        51005 non-null  object \n",
      " 4   edition           4955 non-null   object \n",
      " 5   pages             50108 non-null  float64\n",
      " 6   publishDate       51598 non-null  object \n",
      " 7   firstPublishDate  31152 non-null  object \n",
      " 8   awards            52478 non-null  object \n",
      " 9   numRatings        52478 non-null  int64  \n",
      " 10  ratingsByStars    52478 non-null  object \n",
      " 11  likedPercent      51856 non-null  object \n",
      " 12  setting           52478 non-null  object \n",
      " 13  bbeScore          52478 non-null  int64  \n",
      " 14  bbeVotes          52478 non-null  int64  \n",
      " 15  price             38113 non-null  object \n",
      "dtypes: float64(1), int64(3), object(12)\n",
      "memory usage: 6.8+ MB\n"
     ]
    }
   ],
   "source": [
    "X.replace(-5,np.NaN).info()"
   ]
  },
  {
   "cell_type": "markdown",
   "id": "c411acd5-4b7b-44a3-8549-165ebaf2d51f",
   "metadata": {},
   "source": [
    "Pages queda al final como float porque han tenido que ser eliminados ciertos datos de tipo cadena."
   ]
  },
  {
   "cell_type": "markdown",
   "id": "b89fcc9c-78bb-40c9-a0e2-b353a044859d",
   "metadata": {},
   "source": [
    "Para terminar con esta parte transformaremos los que son float64 y veremos los estadísticos más útiles:"
   ]
  },
  {
   "cell_type": "code",
   "execution_count": 77,
   "id": "7af0d630-3bf7-45fc-adcb-2fa856491484",
   "metadata": {},
   "outputs": [
    {
     "ename": "ValueError",
     "evalue": "could not convert string to float: '1.189.88'",
     "output_type": "error",
     "traceback": [
      "\u001b[1;31m---------------------------------------------------------------------------\u001b[0m",
      "\u001b[1;31mValueError\u001b[0m                                Traceback (most recent call last)",
      "\u001b[1;32m~\\AppData\\Local\\Temp\\ipykernel_13580\\1499035344.py\u001b[0m in \u001b[0;36m<module>\u001b[1;34m\u001b[0m\n\u001b[1;32m----> 1\u001b[1;33m \u001b[0mX\u001b[0m\u001b[1;33m[\u001b[0m\u001b[1;33m[\u001b[0m\u001b[1;34m'likedPercent'\u001b[0m\u001b[1;33m,\u001b[0m \u001b[1;34m'price'\u001b[0m\u001b[1;33m]\u001b[0m\u001b[1;33m]\u001b[0m \u001b[1;33m=\u001b[0m \u001b[0mX\u001b[0m\u001b[1;33m[\u001b[0m\u001b[1;33m[\u001b[0m\u001b[1;34m'likedPercent'\u001b[0m\u001b[1;33m,\u001b[0m \u001b[1;34m'price'\u001b[0m\u001b[1;33m]\u001b[0m\u001b[1;33m]\u001b[0m\u001b[1;33m.\u001b[0m\u001b[0mastype\u001b[0m\u001b[1;33m(\u001b[0m\u001b[0mnp\u001b[0m\u001b[1;33m.\u001b[0m\u001b[0mfloat64\u001b[0m\u001b[1;33m)\u001b[0m\u001b[1;33m\u001b[0m\u001b[1;33m\u001b[0m\u001b[0m\n\u001b[0m",
      "\u001b[1;32m~\\anaconda3\\lib\\site-packages\\pandas\\core\\generic.py\u001b[0m in \u001b[0;36mastype\u001b[1;34m(self, dtype, copy, errors)\u001b[0m\n\u001b[0;32m   5910\u001b[0m         \u001b[1;32melse\u001b[0m\u001b[1;33m:\u001b[0m\u001b[1;33m\u001b[0m\u001b[1;33m\u001b[0m\u001b[0m\n\u001b[0;32m   5911\u001b[0m             \u001b[1;31m# else, only a single dtype is given\u001b[0m\u001b[1;33m\u001b[0m\u001b[1;33m\u001b[0m\u001b[0m\n\u001b[1;32m-> 5912\u001b[1;33m             \u001b[0mnew_data\u001b[0m \u001b[1;33m=\u001b[0m \u001b[0mself\u001b[0m\u001b[1;33m.\u001b[0m\u001b[0m_mgr\u001b[0m\u001b[1;33m.\u001b[0m\u001b[0mastype\u001b[0m\u001b[1;33m(\u001b[0m\u001b[0mdtype\u001b[0m\u001b[1;33m=\u001b[0m\u001b[0mdtype\u001b[0m\u001b[1;33m,\u001b[0m \u001b[0mcopy\u001b[0m\u001b[1;33m=\u001b[0m\u001b[0mcopy\u001b[0m\u001b[1;33m,\u001b[0m \u001b[0merrors\u001b[0m\u001b[1;33m=\u001b[0m\u001b[0merrors\u001b[0m\u001b[1;33m)\u001b[0m\u001b[1;33m\u001b[0m\u001b[1;33m\u001b[0m\u001b[0m\n\u001b[0m\u001b[0;32m   5913\u001b[0m             \u001b[1;32mreturn\u001b[0m \u001b[0mself\u001b[0m\u001b[1;33m.\u001b[0m\u001b[0m_constructor\u001b[0m\u001b[1;33m(\u001b[0m\u001b[0mnew_data\u001b[0m\u001b[1;33m)\u001b[0m\u001b[1;33m.\u001b[0m\u001b[0m__finalize__\u001b[0m\u001b[1;33m(\u001b[0m\u001b[0mself\u001b[0m\u001b[1;33m,\u001b[0m \u001b[0mmethod\u001b[0m\u001b[1;33m=\u001b[0m\u001b[1;34m\"astype\"\u001b[0m\u001b[1;33m)\u001b[0m\u001b[1;33m\u001b[0m\u001b[1;33m\u001b[0m\u001b[0m\n\u001b[0;32m   5914\u001b[0m \u001b[1;33m\u001b[0m\u001b[0m\n",
      "\u001b[1;32m~\\anaconda3\\lib\\site-packages\\pandas\\core\\internals\\managers.py\u001b[0m in \u001b[0;36mastype\u001b[1;34m(self, dtype, copy, errors)\u001b[0m\n\u001b[0;32m    417\u001b[0m \u001b[1;33m\u001b[0m\u001b[0m\n\u001b[0;32m    418\u001b[0m     \u001b[1;32mdef\u001b[0m \u001b[0mastype\u001b[0m\u001b[1;33m(\u001b[0m\u001b[0mself\u001b[0m\u001b[1;33m:\u001b[0m \u001b[0mT\u001b[0m\u001b[1;33m,\u001b[0m \u001b[0mdtype\u001b[0m\u001b[1;33m,\u001b[0m \u001b[0mcopy\u001b[0m\u001b[1;33m:\u001b[0m \u001b[0mbool\u001b[0m \u001b[1;33m=\u001b[0m \u001b[1;32mFalse\u001b[0m\u001b[1;33m,\u001b[0m \u001b[0merrors\u001b[0m\u001b[1;33m:\u001b[0m \u001b[0mstr\u001b[0m \u001b[1;33m=\u001b[0m \u001b[1;34m\"raise\"\u001b[0m\u001b[1;33m)\u001b[0m \u001b[1;33m->\u001b[0m \u001b[0mT\u001b[0m\u001b[1;33m:\u001b[0m\u001b[1;33m\u001b[0m\u001b[1;33m\u001b[0m\u001b[0m\n\u001b[1;32m--> 419\u001b[1;33m         \u001b[1;32mreturn\u001b[0m \u001b[0mself\u001b[0m\u001b[1;33m.\u001b[0m\u001b[0mapply\u001b[0m\u001b[1;33m(\u001b[0m\u001b[1;34m\"astype\"\u001b[0m\u001b[1;33m,\u001b[0m \u001b[0mdtype\u001b[0m\u001b[1;33m=\u001b[0m\u001b[0mdtype\u001b[0m\u001b[1;33m,\u001b[0m \u001b[0mcopy\u001b[0m\u001b[1;33m=\u001b[0m\u001b[0mcopy\u001b[0m\u001b[1;33m,\u001b[0m \u001b[0merrors\u001b[0m\u001b[1;33m=\u001b[0m\u001b[0merrors\u001b[0m\u001b[1;33m)\u001b[0m\u001b[1;33m\u001b[0m\u001b[1;33m\u001b[0m\u001b[0m\n\u001b[0m\u001b[0;32m    420\u001b[0m \u001b[1;33m\u001b[0m\u001b[0m\n\u001b[0;32m    421\u001b[0m     def convert(\n",
      "\u001b[1;32m~\\anaconda3\\lib\\site-packages\\pandas\\core\\internals\\managers.py\u001b[0m in \u001b[0;36mapply\u001b[1;34m(self, f, align_keys, ignore_failures, **kwargs)\u001b[0m\n\u001b[0;32m    302\u001b[0m                     \u001b[0mapplied\u001b[0m \u001b[1;33m=\u001b[0m \u001b[0mb\u001b[0m\u001b[1;33m.\u001b[0m\u001b[0mapply\u001b[0m\u001b[1;33m(\u001b[0m\u001b[0mf\u001b[0m\u001b[1;33m,\u001b[0m \u001b[1;33m**\u001b[0m\u001b[0mkwargs\u001b[0m\u001b[1;33m)\u001b[0m\u001b[1;33m\u001b[0m\u001b[1;33m\u001b[0m\u001b[0m\n\u001b[0;32m    303\u001b[0m                 \u001b[1;32melse\u001b[0m\u001b[1;33m:\u001b[0m\u001b[1;33m\u001b[0m\u001b[1;33m\u001b[0m\u001b[0m\n\u001b[1;32m--> 304\u001b[1;33m                     \u001b[0mapplied\u001b[0m \u001b[1;33m=\u001b[0m \u001b[0mgetattr\u001b[0m\u001b[1;33m(\u001b[0m\u001b[0mb\u001b[0m\u001b[1;33m,\u001b[0m \u001b[0mf\u001b[0m\u001b[1;33m)\u001b[0m\u001b[1;33m(\u001b[0m\u001b[1;33m**\u001b[0m\u001b[0mkwargs\u001b[0m\u001b[1;33m)\u001b[0m\u001b[1;33m\u001b[0m\u001b[1;33m\u001b[0m\u001b[0m\n\u001b[0m\u001b[0;32m    305\u001b[0m             \u001b[1;32mexcept\u001b[0m \u001b[1;33m(\u001b[0m\u001b[0mTypeError\u001b[0m\u001b[1;33m,\u001b[0m \u001b[0mNotImplementedError\u001b[0m\u001b[1;33m)\u001b[0m\u001b[1;33m:\u001b[0m\u001b[1;33m\u001b[0m\u001b[1;33m\u001b[0m\u001b[0m\n\u001b[0;32m    306\u001b[0m                 \u001b[1;32mif\u001b[0m \u001b[1;32mnot\u001b[0m \u001b[0mignore_failures\u001b[0m\u001b[1;33m:\u001b[0m\u001b[1;33m\u001b[0m\u001b[1;33m\u001b[0m\u001b[0m\n",
      "\u001b[1;32m~\\anaconda3\\lib\\site-packages\\pandas\\core\\internals\\blocks.py\u001b[0m in \u001b[0;36mastype\u001b[1;34m(self, dtype, copy, errors)\u001b[0m\n\u001b[0;32m    578\u001b[0m         \u001b[0mvalues\u001b[0m \u001b[1;33m=\u001b[0m \u001b[0mself\u001b[0m\u001b[1;33m.\u001b[0m\u001b[0mvalues\u001b[0m\u001b[1;33m\u001b[0m\u001b[1;33m\u001b[0m\u001b[0m\n\u001b[0;32m    579\u001b[0m \u001b[1;33m\u001b[0m\u001b[0m\n\u001b[1;32m--> 580\u001b[1;33m         \u001b[0mnew_values\u001b[0m \u001b[1;33m=\u001b[0m \u001b[0mastype_array_safe\u001b[0m\u001b[1;33m(\u001b[0m\u001b[0mvalues\u001b[0m\u001b[1;33m,\u001b[0m \u001b[0mdtype\u001b[0m\u001b[1;33m,\u001b[0m \u001b[0mcopy\u001b[0m\u001b[1;33m=\u001b[0m\u001b[0mcopy\u001b[0m\u001b[1;33m,\u001b[0m \u001b[0merrors\u001b[0m\u001b[1;33m=\u001b[0m\u001b[0merrors\u001b[0m\u001b[1;33m)\u001b[0m\u001b[1;33m\u001b[0m\u001b[1;33m\u001b[0m\u001b[0m\n\u001b[0m\u001b[0;32m    581\u001b[0m \u001b[1;33m\u001b[0m\u001b[0m\n\u001b[0;32m    582\u001b[0m         \u001b[0mnew_values\u001b[0m \u001b[1;33m=\u001b[0m \u001b[0mmaybe_coerce_values\u001b[0m\u001b[1;33m(\u001b[0m\u001b[0mnew_values\u001b[0m\u001b[1;33m)\u001b[0m\u001b[1;33m\u001b[0m\u001b[1;33m\u001b[0m\u001b[0m\n",
      "\u001b[1;32m~\\anaconda3\\lib\\site-packages\\pandas\\core\\dtypes\\cast.py\u001b[0m in \u001b[0;36mastype_array_safe\u001b[1;34m(values, dtype, copy, errors)\u001b[0m\n\u001b[0;32m   1290\u001b[0m \u001b[1;33m\u001b[0m\u001b[0m\n\u001b[0;32m   1291\u001b[0m     \u001b[1;32mtry\u001b[0m\u001b[1;33m:\u001b[0m\u001b[1;33m\u001b[0m\u001b[1;33m\u001b[0m\u001b[0m\n\u001b[1;32m-> 1292\u001b[1;33m         \u001b[0mnew_values\u001b[0m \u001b[1;33m=\u001b[0m \u001b[0mastype_array\u001b[0m\u001b[1;33m(\u001b[0m\u001b[0mvalues\u001b[0m\u001b[1;33m,\u001b[0m \u001b[0mdtype\u001b[0m\u001b[1;33m,\u001b[0m \u001b[0mcopy\u001b[0m\u001b[1;33m=\u001b[0m\u001b[0mcopy\u001b[0m\u001b[1;33m)\u001b[0m\u001b[1;33m\u001b[0m\u001b[1;33m\u001b[0m\u001b[0m\n\u001b[0m\u001b[0;32m   1293\u001b[0m     \u001b[1;32mexcept\u001b[0m \u001b[1;33m(\u001b[0m\u001b[0mValueError\u001b[0m\u001b[1;33m,\u001b[0m \u001b[0mTypeError\u001b[0m\u001b[1;33m)\u001b[0m\u001b[1;33m:\u001b[0m\u001b[1;33m\u001b[0m\u001b[1;33m\u001b[0m\u001b[0m\n\u001b[0;32m   1294\u001b[0m         \u001b[1;31m# e.g. astype_nansafe can fail on object-dtype of strings\u001b[0m\u001b[1;33m\u001b[0m\u001b[1;33m\u001b[0m\u001b[0m\n",
      "\u001b[1;32m~\\anaconda3\\lib\\site-packages\\pandas\\core\\dtypes\\cast.py\u001b[0m in \u001b[0;36mastype_array\u001b[1;34m(values, dtype, copy)\u001b[0m\n\u001b[0;32m   1235\u001b[0m \u001b[1;33m\u001b[0m\u001b[0m\n\u001b[0;32m   1236\u001b[0m     \u001b[1;32melse\u001b[0m\u001b[1;33m:\u001b[0m\u001b[1;33m\u001b[0m\u001b[1;33m\u001b[0m\u001b[0m\n\u001b[1;32m-> 1237\u001b[1;33m         \u001b[0mvalues\u001b[0m \u001b[1;33m=\u001b[0m \u001b[0mastype_nansafe\u001b[0m\u001b[1;33m(\u001b[0m\u001b[0mvalues\u001b[0m\u001b[1;33m,\u001b[0m \u001b[0mdtype\u001b[0m\u001b[1;33m,\u001b[0m \u001b[0mcopy\u001b[0m\u001b[1;33m=\u001b[0m\u001b[0mcopy\u001b[0m\u001b[1;33m)\u001b[0m\u001b[1;33m\u001b[0m\u001b[1;33m\u001b[0m\u001b[0m\n\u001b[0m\u001b[0;32m   1238\u001b[0m \u001b[1;33m\u001b[0m\u001b[0m\n\u001b[0;32m   1239\u001b[0m     \u001b[1;31m# in pandas we don't store numpy str dtypes, so convert to object\u001b[0m\u001b[1;33m\u001b[0m\u001b[1;33m\u001b[0m\u001b[0m\n",
      "\u001b[1;32m~\\anaconda3\\lib\\site-packages\\pandas\\core\\dtypes\\cast.py\u001b[0m in \u001b[0;36mastype_nansafe\u001b[1;34m(arr, dtype, copy, skipna)\u001b[0m\n\u001b[0;32m   1096\u001b[0m     \u001b[1;32mif\u001b[0m \u001b[0marr\u001b[0m\u001b[1;33m.\u001b[0m\u001b[0mndim\u001b[0m \u001b[1;33m>\u001b[0m \u001b[1;36m1\u001b[0m\u001b[1;33m:\u001b[0m\u001b[1;33m\u001b[0m\u001b[1;33m\u001b[0m\u001b[0m\n\u001b[0;32m   1097\u001b[0m         \u001b[0mflat\u001b[0m \u001b[1;33m=\u001b[0m \u001b[0marr\u001b[0m\u001b[1;33m.\u001b[0m\u001b[0mravel\u001b[0m\u001b[1;33m(\u001b[0m\u001b[1;33m)\u001b[0m\u001b[1;33m\u001b[0m\u001b[1;33m\u001b[0m\u001b[0m\n\u001b[1;32m-> 1098\u001b[1;33m         \u001b[0mresult\u001b[0m \u001b[1;33m=\u001b[0m \u001b[0mastype_nansafe\u001b[0m\u001b[1;33m(\u001b[0m\u001b[0mflat\u001b[0m\u001b[1;33m,\u001b[0m \u001b[0mdtype\u001b[0m\u001b[1;33m,\u001b[0m \u001b[0mcopy\u001b[0m\u001b[1;33m=\u001b[0m\u001b[0mcopy\u001b[0m\u001b[1;33m,\u001b[0m \u001b[0mskipna\u001b[0m\u001b[1;33m=\u001b[0m\u001b[0mskipna\u001b[0m\u001b[1;33m)\u001b[0m\u001b[1;33m\u001b[0m\u001b[1;33m\u001b[0m\u001b[0m\n\u001b[0m\u001b[0;32m   1099\u001b[0m         \u001b[1;31m# error: Item \"ExtensionArray\" of \"Union[ExtensionArray, ndarray]\" has no\u001b[0m\u001b[1;33m\u001b[0m\u001b[1;33m\u001b[0m\u001b[0m\n\u001b[0;32m   1100\u001b[0m         \u001b[1;31m# attribute \"reshape\"\u001b[0m\u001b[1;33m\u001b[0m\u001b[1;33m\u001b[0m\u001b[0m\n",
      "\u001b[1;32m~\\anaconda3\\lib\\site-packages\\pandas\\core\\dtypes\\cast.py\u001b[0m in \u001b[0;36mastype_nansafe\u001b[1;34m(arr, dtype, copy, skipna)\u001b[0m\n\u001b[0;32m   1179\u001b[0m     \u001b[1;32mif\u001b[0m \u001b[0mcopy\u001b[0m \u001b[1;32mor\u001b[0m \u001b[0mis_object_dtype\u001b[0m\u001b[1;33m(\u001b[0m\u001b[0marr\u001b[0m\u001b[1;33m.\u001b[0m\u001b[0mdtype\u001b[0m\u001b[1;33m)\u001b[0m \u001b[1;32mor\u001b[0m \u001b[0mis_object_dtype\u001b[0m\u001b[1;33m(\u001b[0m\u001b[0mdtype\u001b[0m\u001b[1;33m)\u001b[0m\u001b[1;33m:\u001b[0m\u001b[1;33m\u001b[0m\u001b[1;33m\u001b[0m\u001b[0m\n\u001b[0;32m   1180\u001b[0m         \u001b[1;31m# Explicit copy, or required since NumPy can't view from / to object.\u001b[0m\u001b[1;33m\u001b[0m\u001b[1;33m\u001b[0m\u001b[0m\n\u001b[1;32m-> 1181\u001b[1;33m         \u001b[1;32mreturn\u001b[0m \u001b[0marr\u001b[0m\u001b[1;33m.\u001b[0m\u001b[0mastype\u001b[0m\u001b[1;33m(\u001b[0m\u001b[0mdtype\u001b[0m\u001b[1;33m,\u001b[0m \u001b[0mcopy\u001b[0m\u001b[1;33m=\u001b[0m\u001b[1;32mTrue\u001b[0m\u001b[1;33m)\u001b[0m\u001b[1;33m\u001b[0m\u001b[1;33m\u001b[0m\u001b[0m\n\u001b[0m\u001b[0;32m   1182\u001b[0m \u001b[1;33m\u001b[0m\u001b[0m\n\u001b[0;32m   1183\u001b[0m     \u001b[1;32mreturn\u001b[0m \u001b[0marr\u001b[0m\u001b[1;33m.\u001b[0m\u001b[0mastype\u001b[0m\u001b[1;33m(\u001b[0m\u001b[0mdtype\u001b[0m\u001b[1;33m,\u001b[0m \u001b[0mcopy\u001b[0m\u001b[1;33m=\u001b[0m\u001b[0mcopy\u001b[0m\u001b[1;33m)\u001b[0m\u001b[1;33m\u001b[0m\u001b[1;33m\u001b[0m\u001b[0m\n",
      "\u001b[1;31mValueError\u001b[0m: could not convert string to float: '1.189.88'"
     ]
    }
   ],
   "source": [
    "X[['likedPercent', 'price']] = X[['likedPercent', 'price']].astype(np.float64)"
   ]
  },
  {
   "cell_type": "markdown",
   "id": "9616a630-591b-4f8b-8f08-2c68bc3877c9",
   "metadata": {},
   "source": [
    "Otro error precioso, vemos que el lumbreras que queria poner, entiendo, números de más de tres cifras con decimales usó el punto en los dos. A ver como arreglamos esto."
   ]
  },
  {
   "cell_type": "code",
   "execution_count": 112,
   "id": "87ec12b2-4830-46ba-abc2-aa75b29f7e21",
   "metadata": {},
   "outputs": [
    {
     "data": {
      "text/plain": [
       "title\n",
       "The Hunger Games                             5.09\n",
       "Harry Potter and the Order of the Phoenix    7.38\n",
       "To Kill a Mockingbird                         NaN\n",
       "Pride and Prejudice                           NaN\n",
       "Twilight                                      2.1\n",
       "                                             ... \n",
       "Fractured                                     NaN\n",
       "Anasazi                                       NaN\n",
       "Marked                                       7.37\n",
       "Wayward Son                                  2.86\n",
       "Daughter of Helaman                          5.20\n",
       "Name: price, Length: 52478, dtype: object"
      ]
     },
     "execution_count": 112,
     "metadata": {},
     "output_type": "execute_result"
    }
   ],
   "source": [
    "res = []\n",
    "for elem in X.price:\n",
    "    partes = str(elem).split('.')\n",
    "    if len(partes) > 2:\n",
    "        aux = [partes[0],partes[1],\".\",partes[2]]\n",
    "        res.append(''.join(aux))\n",
    "    elif len(partes) == 2:\n",
    "        aux = [partes[0],\".\",partes[1]]\n",
    "        res.append(''.join(aux))\n",
    "    else:\n",
    "        if partes[0] != 'nan':\n",
    "            res.append(partes[0])\n",
    "        else:\n",
    "            res.append(np.nan)\n",
    "            \n",
    "X = X.drop('price', axis = 1)\n",
    "\n",
    "X['price'] = res\n",
    "X.price"
   ]
  },
  {
   "cell_type": "code",
   "execution_count": 113,
   "id": "c4be5c6f-b9fd-473d-8222-11eaa39343a2",
   "metadata": {},
   "outputs": [],
   "source": [
    "X[['likedPercent', 'price']] = X[['likedPercent', 'price']].astype(np.float64)"
   ]
  },
  {
   "cell_type": "code",
   "execution_count": 288,
   "id": "8bdb21c5-25af-4be1-96f8-411a085568d9",
   "metadata": {},
   "outputs": [
    {
     "name": "stdout",
     "output_type": "stream",
     "text": [
      "<class 'pandas.core.frame.DataFrame'>\n",
      "Index: 52478 entries, The Hunger Games to Daughter of Helaman\n",
      "Data columns (total 18 columns):\n",
      " #   Column            Non-Null Count  Dtype  \n",
      "---  ------            --------------  -----  \n",
      " 0   author            52478 non-null  object \n",
      " 1   language          48672 non-null  object \n",
      " 2   genres            52478 non-null  object \n",
      " 3   characters        52478 non-null  object \n",
      " 4   bookFormat        51005 non-null  object \n",
      " 5   edition           4955 non-null   object \n",
      " 6   pages             50108 non-null  float64\n",
      " 7   publisher         48782 non-null  object \n",
      " 8   publishDate       51598 non-null  object \n",
      " 9   firstPublishDate  31152 non-null  object \n",
      " 10  awards            52478 non-null  object \n",
      " 11  numRatings        52478 non-null  int64  \n",
      " 12  ratingsByStars    52478 non-null  object \n",
      " 13  likedPercent      51856 non-null  float64\n",
      " 14  setting           52478 non-null  object \n",
      " 15  bbeScore          52478 non-null  int64  \n",
      " 16  bbeVotes          52478 non-null  int64  \n",
      " 17  price             38113 non-null  float64\n",
      "dtypes: float64(3), int64(3), object(12)\n",
      "memory usage: 9.6+ MB\n"
     ]
    }
   ],
   "source": [
    "X.info()"
   ]
  },
  {
   "cell_type": "code",
   "execution_count": 26,
   "id": "d911fee5-631e-47bd-91ea-e80500c77fcf",
   "metadata": {},
   "outputs": [
    {
     "data": {
      "text/html": [
       "<div>\n",
       "<style scoped>\n",
       "    .dataframe tbody tr th:only-of-type {\n",
       "        vertical-align: middle;\n",
       "    }\n",
       "\n",
       "    .dataframe tbody tr th {\n",
       "        vertical-align: top;\n",
       "    }\n",
       "\n",
       "    .dataframe thead th {\n",
       "        text-align: right;\n",
       "    }\n",
       "</style>\n",
       "<table border=\"1\" class=\"dataframe\">\n",
       "  <thead>\n",
       "    <tr style=\"text-align: right;\">\n",
       "      <th></th>\n",
       "      <th>pages</th>\n",
       "      <th>numRatings</th>\n",
       "      <th>likedPercent</th>\n",
       "      <th>bbeScore</th>\n",
       "      <th>bbeVotes</th>\n",
       "      <th>price</th>\n",
       "    </tr>\n",
       "  </thead>\n",
       "  <tbody>\n",
       "    <tr>\n",
       "      <th>count</th>\n",
       "      <td>50108.000000</td>\n",
       "      <td>5.247800e+04</td>\n",
       "      <td>51856.000000</td>\n",
       "      <td>5.247800e+04</td>\n",
       "      <td>52478.000000</td>\n",
       "      <td>38113.000000</td>\n",
       "    </tr>\n",
       "    <tr>\n",
       "      <th>mean</th>\n",
       "      <td>328.664864</td>\n",
       "      <td>1.787865e+04</td>\n",
       "      <td>92.231545</td>\n",
       "      <td>1.984023e+03</td>\n",
       "      <td>22.529003</td>\n",
       "      <td>10.414949</td>\n",
       "    </tr>\n",
       "    <tr>\n",
       "      <th>std</th>\n",
       "      <td>252.178359</td>\n",
       "      <td>1.039448e+05</td>\n",
       "      <td>5.990689</td>\n",
       "      <td>3.515314e+04</td>\n",
       "      <td>369.158541</td>\n",
       "      <td>60.213706</td>\n",
       "    </tr>\n",
       "    <tr>\n",
       "      <th>min</th>\n",
       "      <td>0.000000</td>\n",
       "      <td>0.000000e+00</td>\n",
       "      <td>0.000000</td>\n",
       "      <td>0.000000e+00</td>\n",
       "      <td>-4.000000</td>\n",
       "      <td>0.840000</td>\n",
       "    </tr>\n",
       "    <tr>\n",
       "      <th>25%</th>\n",
       "      <td>210.000000</td>\n",
       "      <td>3.410000e+02</td>\n",
       "      <td>90.000000</td>\n",
       "      <td>8.400000e+01</td>\n",
       "      <td>1.000000</td>\n",
       "      <td>3.240000</td>\n",
       "    </tr>\n",
       "    <tr>\n",
       "      <th>50%</th>\n",
       "      <td>304.000000</td>\n",
       "      <td>2.307000e+03</td>\n",
       "      <td>94.000000</td>\n",
       "      <td>9.700000e+01</td>\n",
       "      <td>1.000000</td>\n",
       "      <td>5.210000</td>\n",
       "    </tr>\n",
       "    <tr>\n",
       "      <th>75%</th>\n",
       "      <td>392.000000</td>\n",
       "      <td>9.380500e+03</td>\n",
       "      <td>96.000000</td>\n",
       "      <td>1.870000e+02</td>\n",
       "      <td>2.000000</td>\n",
       "      <td>8.860000</td>\n",
       "    </tr>\n",
       "    <tr>\n",
       "      <th>max</th>\n",
       "      <td>14777.000000</td>\n",
       "      <td>7.048471e+06</td>\n",
       "      <td>100.000000</td>\n",
       "      <td>2.993816e+06</td>\n",
       "      <td>30516.000000</td>\n",
       "      <td>8715.510000</td>\n",
       "    </tr>\n",
       "  </tbody>\n",
       "</table>\n",
       "</div>"
      ],
      "text/plain": [
       "              pages    numRatings  likedPercent      bbeScore      bbeVotes  \\\n",
       "count  50108.000000  5.247800e+04  51856.000000  5.247800e+04  52478.000000   \n",
       "mean     328.664864  1.787865e+04     92.231545  1.984023e+03     22.529003   \n",
       "std      252.178359  1.039448e+05      5.990689  3.515314e+04    369.158541   \n",
       "min        0.000000  0.000000e+00      0.000000  0.000000e+00     -4.000000   \n",
       "25%      210.000000  3.410000e+02     90.000000  8.400000e+01      1.000000   \n",
       "50%      304.000000  2.307000e+03     94.000000  9.700000e+01      1.000000   \n",
       "75%      392.000000  9.380500e+03     96.000000  1.870000e+02      2.000000   \n",
       "max    14777.000000  7.048471e+06    100.000000  2.993816e+06  30516.000000   \n",
       "\n",
       "              price  \n",
       "count  38113.000000  \n",
       "mean      10.414949  \n",
       "std       60.213706  \n",
       "min        0.840000  \n",
       "25%        3.240000  \n",
       "50%        5.210000  \n",
       "75%        8.860000  \n",
       "max     8715.510000  "
      ]
     },
     "execution_count": 26,
     "metadata": {},
     "output_type": "execute_result"
    }
   ],
   "source": [
    "X.describe()"
   ]
  },
  {
   "cell_type": "markdown",
   "id": "967f0494-21f7-4cad-8253-cdef770c0bf5",
   "metadata": {},
   "source": [
    "Libros con 0 páginas o votos negativos nos dan pistas de que eso son valores espurios, pero será mejor resolverlo en posteriores apartados. Aunque marcaremos los libros sin páginas como valores faltantes:"
   ]
  },
  {
   "cell_type": "code",
   "execution_count": 114,
   "id": "96f16f32-08cf-4794-992f-1104c970298b",
   "metadata": {},
   "outputs": [],
   "source": [
    "X[X.pages < 1] = np.nan"
   ]
  },
  {
   "cell_type": "code",
   "execution_count": 85,
   "id": "b2ebfd9a-4f15-4c4b-a58d-5bc072f1ef43",
   "metadata": {},
   "outputs": [
    {
     "data": {
      "text/html": [
       "<div>\n",
       "<style scoped>\n",
       "    .dataframe tbody tr th:only-of-type {\n",
       "        vertical-align: middle;\n",
       "    }\n",
       "\n",
       "    .dataframe tbody tr th {\n",
       "        vertical-align: top;\n",
       "    }\n",
       "\n",
       "    .dataframe thead th {\n",
       "        text-align: right;\n",
       "    }\n",
       "</style>\n",
       "<table border=\"1\" class=\"dataframe\">\n",
       "  <thead>\n",
       "    <tr style=\"text-align: right;\">\n",
       "      <th></th>\n",
       "      <th>pages</th>\n",
       "      <th>numRatings</th>\n",
       "      <th>likedPercent</th>\n",
       "      <th>bbeScore</th>\n",
       "      <th>bbeVotes</th>\n",
       "      <th>price</th>\n",
       "    </tr>\n",
       "  </thead>\n",
       "  <tbody>\n",
       "    <tr>\n",
       "      <th>count</th>\n",
       "      <td>49944.000000</td>\n",
       "      <td>5.231400e+04</td>\n",
       "      <td>51698.000000</td>\n",
       "      <td>5.231400e+04</td>\n",
       "      <td>52314.000000</td>\n",
       "      <td>38042.000000</td>\n",
       "    </tr>\n",
       "    <tr>\n",
       "      <th>mean</th>\n",
       "      <td>329.744093</td>\n",
       "      <td>1.792728e+04</td>\n",
       "      <td>92.232156</td>\n",
       "      <td>1.989860e+03</td>\n",
       "      <td>22.594602</td>\n",
       "      <td>10.372188</td>\n",
       "    </tr>\n",
       "    <tr>\n",
       "      <th>std</th>\n",
       "      <td>251.886630</td>\n",
       "      <td>1.041035e+05</td>\n",
       "      <td>5.988560</td>\n",
       "      <td>3.520805e+04</td>\n",
       "      <td>369.734813</td>\n",
       "      <td>60.114667</td>\n",
       "    </tr>\n",
       "    <tr>\n",
       "      <th>min</th>\n",
       "      <td>2.000000</td>\n",
       "      <td>0.000000e+00</td>\n",
       "      <td>0.000000</td>\n",
       "      <td>0.000000e+00</td>\n",
       "      <td>-4.000000</td>\n",
       "      <td>0.840000</td>\n",
       "    </tr>\n",
       "    <tr>\n",
       "      <th>25%</th>\n",
       "      <td>212.000000</td>\n",
       "      <td>3.430000e+02</td>\n",
       "      <td>90.000000</td>\n",
       "      <td>8.400000e+01</td>\n",
       "      <td>1.000000</td>\n",
       "      <td>3.240000</td>\n",
       "    </tr>\n",
       "    <tr>\n",
       "      <th>50%</th>\n",
       "      <td>304.000000</td>\n",
       "      <td>2.323500e+03</td>\n",
       "      <td>94.000000</td>\n",
       "      <td>9.700000e+01</td>\n",
       "      <td>1.000000</td>\n",
       "      <td>5.200000</td>\n",
       "    </tr>\n",
       "    <tr>\n",
       "      <th>75%</th>\n",
       "      <td>392.000000</td>\n",
       "      <td>9.408750e+03</td>\n",
       "      <td>96.000000</td>\n",
       "      <td>1.870000e+02</td>\n",
       "      <td>2.000000</td>\n",
       "      <td>8.850000</td>\n",
       "    </tr>\n",
       "    <tr>\n",
       "      <th>max</th>\n",
       "      <td>14777.000000</td>\n",
       "      <td>7.048471e+06</td>\n",
       "      <td>100.000000</td>\n",
       "      <td>2.993816e+06</td>\n",
       "      <td>30516.000000</td>\n",
       "      <td>8715.510000</td>\n",
       "    </tr>\n",
       "  </tbody>\n",
       "</table>\n",
       "</div>"
      ],
      "text/plain": [
       "              pages    numRatings  likedPercent      bbeScore      bbeVotes  \\\n",
       "count  49944.000000  5.231400e+04  51698.000000  5.231400e+04  52314.000000   \n",
       "mean     329.744093  1.792728e+04     92.232156  1.989860e+03     22.594602   \n",
       "std      251.886630  1.041035e+05      5.988560  3.520805e+04    369.734813   \n",
       "min        2.000000  0.000000e+00      0.000000  0.000000e+00     -4.000000   \n",
       "25%      212.000000  3.430000e+02     90.000000  8.400000e+01      1.000000   \n",
       "50%      304.000000  2.323500e+03     94.000000  9.700000e+01      1.000000   \n",
       "75%      392.000000  9.408750e+03     96.000000  1.870000e+02      2.000000   \n",
       "max    14777.000000  7.048471e+06    100.000000  2.993816e+06  30516.000000   \n",
       "\n",
       "              price  \n",
       "count  38042.000000  \n",
       "mean      10.372188  \n",
       "std       60.114667  \n",
       "min        0.840000  \n",
       "25%        3.240000  \n",
       "50%        5.200000  \n",
       "75%        8.850000  \n",
       "max     8715.510000  "
      ]
     },
     "execution_count": 85,
     "metadata": {},
     "output_type": "execute_result"
    }
   ],
   "source": [
    "X.describe()"
   ]
  },
  {
   "cell_type": "code",
   "execution_count": 115,
   "id": "3806e3d3-9e8a-4b9e-a166-794057686c49",
   "metadata": {},
   "outputs": [
    {
     "name": "stdout",
     "output_type": "stream",
     "text": [
      "<class 'pandas.core.series.Series'>\n",
      "RangeIndex: 52478 entries, 0 to 52477\n",
      "Series name: rating\n",
      "Non-Null Count  Dtype  \n",
      "--------------  -----  \n",
      "52478 non-null  float64\n",
      "dtypes: float64(1)\n",
      "memory usage: 410.1 KB\n"
     ]
    }
   ],
   "source": [
    "y = y.astype(np.float64)\n",
    "y.info()"
   ]
  },
  {
   "cell_type": "code",
   "execution_count": 32,
   "id": "1326465c-2113-4e9d-abab-0fb432624e60",
   "metadata": {},
   "outputs": [
    {
     "data": {
      "text/plain": [
       "count    52478.000000\n",
       "mean         4.021878\n",
       "std          0.367146\n",
       "min          0.000000\n",
       "25%          3.820000\n",
       "50%          4.030000\n",
       "75%          4.230000\n",
       "max          5.000000\n",
       "Name: rating, dtype: float64"
      ]
     },
     "execution_count": 32,
     "metadata": {},
     "output_type": "execute_result"
    }
   ],
   "source": [
    "y.describe()"
   ]
  },
  {
   "cell_type": "markdown",
   "id": "75c6bb40-1a52-43ff-ace2-ebe8145c225a",
   "metadata": {},
   "source": [
    "#### 1.2.3. Tratamiento de variables categóricas"
   ]
  },
  {
   "cell_type": "markdown",
   "id": "8ec0a0af-a486-4e69-8b50-8fa994cc67e5",
   "metadata": {},
   "source": []
  },
  {
   "cell_type": "markdown",
   "id": "5e0e82dc-616d-43b0-97bc-eae25c442a7d",
   "metadata": {},
   "source": [
    "#### 1.2.4. Tratamiento de fechas"
   ]
  },
  {
   "cell_type": "code",
   "execution_count": null,
   "id": "1779b123-d2d4-45bf-86df-d70750e5dd73",
   "metadata": {},
   "outputs": [],
   "source": []
  },
  {
   "cell_type": "markdown",
   "id": "b0594521-f675-46ba-83ec-cc5696bf4dcf",
   "metadata": {},
   "source": [
    "#### 1.2.5. Tratamiento de variables con formato lista"
   ]
  },
  {
   "cell_type": "markdown",
   "id": "d3d28197-786b-4c14-ae95-c07817c2630d",
   "metadata": {},
   "source": [
    "Vamos a crear un método que transforme las variables con una cadena semejante a una lista en éstas."
   ]
  },
  {
   "cell_type": "code",
   "execution_count": 116,
   "id": "527feeb3-203f-4f66-8e89-aa911321445a",
   "metadata": {},
   "outputs": [],
   "source": [
    "import ast\n",
    "\n",
    "def trans_list(nom_col, X):\n",
    "    res = []\n",
    "    for elem in X[nom_col]:\n",
    "        if pd.isna(elem):\n",
    "                res.append(np.nan)\n",
    "        else:\n",
    "            res.append(ast.literal_eval(elem))\n",
    "    return res"
   ]
  },
  {
   "cell_type": "markdown",
   "id": "d0ac3fad-d0f7-42e2-98c1-963a467f2e3a",
   "metadata": {},
   "source": [
    "Primero, vamos a decidir qué variables queremos preprocesar y cuales eliminar porque la información que nos pueden aportar no sea suficiente. Eliminemos estas variables."
   ]
  },
  {
   "cell_type": "code",
   "execution_count": 117,
   "id": "5b270201-8e5e-40d7-a396-ae88cd0c139f",
   "metadata": {},
   "outputs": [
    {
     "data": {
      "text/html": [
       "<div>\n",
       "<style scoped>\n",
       "    .dataframe tbody tr th:only-of-type {\n",
       "        vertical-align: middle;\n",
       "    }\n",
       "\n",
       "    .dataframe tbody tr th {\n",
       "        vertical-align: top;\n",
       "    }\n",
       "\n",
       "    .dataframe thead th {\n",
       "        text-align: right;\n",
       "    }\n",
       "</style>\n",
       "<table border=\"1\" class=\"dataframe\">\n",
       "  <thead>\n",
       "    <tr style=\"text-align: right;\">\n",
       "      <th></th>\n",
       "      <th>language</th>\n",
       "      <th>genres</th>\n",
       "      <th>bookFormat</th>\n",
       "      <th>edition</th>\n",
       "      <th>pages</th>\n",
       "      <th>publishDate</th>\n",
       "      <th>firstPublishDate</th>\n",
       "      <th>awards</th>\n",
       "      <th>numRatings</th>\n",
       "      <th>ratingsByStars</th>\n",
       "      <th>likedPercent</th>\n",
       "      <th>bbeScore</th>\n",
       "      <th>bbeVotes</th>\n",
       "      <th>price</th>\n",
       "    </tr>\n",
       "    <tr>\n",
       "      <th>title</th>\n",
       "      <th></th>\n",
       "      <th></th>\n",
       "      <th></th>\n",
       "      <th></th>\n",
       "      <th></th>\n",
       "      <th></th>\n",
       "      <th></th>\n",
       "      <th></th>\n",
       "      <th></th>\n",
       "      <th></th>\n",
       "      <th></th>\n",
       "      <th></th>\n",
       "      <th></th>\n",
       "      <th></th>\n",
       "    </tr>\n",
       "  </thead>\n",
       "  <tbody>\n",
       "    <tr>\n",
       "      <th>The Hunger Games</th>\n",
       "      <td>English</td>\n",
       "      <td>['Young Adult', 'Fiction', 'Dystopia', 'Fantas...</td>\n",
       "      <td>Hardcover</td>\n",
       "      <td>First Edition</td>\n",
       "      <td>374.0</td>\n",
       "      <td>09/14/08</td>\n",
       "      <td>NaN</td>\n",
       "      <td>['Locus Award Nominee for Best Young Adult Boo...</td>\n",
       "      <td>6376780.0</td>\n",
       "      <td>['3444695', '1921313', '745221', '171994', '93...</td>\n",
       "      <td>96.0</td>\n",
       "      <td>2993816.0</td>\n",
       "      <td>30516.0</td>\n",
       "      <td>5.09</td>\n",
       "    </tr>\n",
       "    <tr>\n",
       "      <th>Harry Potter and the Order of the Phoenix</th>\n",
       "      <td>English</td>\n",
       "      <td>['Fantasy', 'Young Adult', 'Fiction', 'Magic',...</td>\n",
       "      <td>Paperback</td>\n",
       "      <td>US Edition</td>\n",
       "      <td>870.0</td>\n",
       "      <td>09/28/04</td>\n",
       "      <td>06/21/03</td>\n",
       "      <td>['Bram Stoker Award for Works for Young Reader...</td>\n",
       "      <td>2507623.0</td>\n",
       "      <td>['1593642', '637516', '222366', '39573', '14526']</td>\n",
       "      <td>98.0</td>\n",
       "      <td>2632233.0</td>\n",
       "      <td>26923.0</td>\n",
       "      <td>7.38</td>\n",
       "    </tr>\n",
       "    <tr>\n",
       "      <th>To Kill a Mockingbird</th>\n",
       "      <td>English</td>\n",
       "      <td>['Classics', 'Fiction', 'Historical Fiction', ...</td>\n",
       "      <td>Paperback</td>\n",
       "      <td>NaN</td>\n",
       "      <td>324.0</td>\n",
       "      <td>05/23/06</td>\n",
       "      <td>07/11/60</td>\n",
       "      <td>['Pulitzer Prize for Fiction (1961)', 'Audie A...</td>\n",
       "      <td>4501075.0</td>\n",
       "      <td>['2363896', '1333153', '573280', '149952', '80...</td>\n",
       "      <td>95.0</td>\n",
       "      <td>2269402.0</td>\n",
       "      <td>23328.0</td>\n",
       "      <td>NaN</td>\n",
       "    </tr>\n",
       "    <tr>\n",
       "      <th>Pride and Prejudice</th>\n",
       "      <td>English</td>\n",
       "      <td>['Classics', 'Fiction', 'Romance', 'Historical...</td>\n",
       "      <td>Paperback</td>\n",
       "      <td>Modern Library Classics, USA / CAN</td>\n",
       "      <td>279.0</td>\n",
       "      <td>10/10/00</td>\n",
       "      <td>01/28/13</td>\n",
       "      <td>[]</td>\n",
       "      <td>2998241.0</td>\n",
       "      <td>['1617567', '816659', '373311', '113934', '767...</td>\n",
       "      <td>94.0</td>\n",
       "      <td>1983116.0</td>\n",
       "      <td>20452.0</td>\n",
       "      <td>NaN</td>\n",
       "    </tr>\n",
       "    <tr>\n",
       "      <th>Twilight</th>\n",
       "      <td>English</td>\n",
       "      <td>['Young Adult', 'Fantasy', 'Romance', 'Vampire...</td>\n",
       "      <td>Paperback</td>\n",
       "      <td>NaN</td>\n",
       "      <td>501.0</td>\n",
       "      <td>09/06/06</td>\n",
       "      <td>10/05/05</td>\n",
       "      <td>['Georgia Peach Book Award (2007)', 'Buxtehude...</td>\n",
       "      <td>4964519.0</td>\n",
       "      <td>['1751460', '1113682', '1008686', '542017', '5...</td>\n",
       "      <td>78.0</td>\n",
       "      <td>1459448.0</td>\n",
       "      <td>14874.0</td>\n",
       "      <td>2.10</td>\n",
       "    </tr>\n",
       "  </tbody>\n",
       "</table>\n",
       "</div>"
      ],
      "text/plain": [
       "                                          language  \\\n",
       "title                                                \n",
       "The Hunger Games                           English   \n",
       "Harry Potter and the Order of the Phoenix  English   \n",
       "To Kill a Mockingbird                      English   \n",
       "Pride and Prejudice                        English   \n",
       "Twilight                                   English   \n",
       "\n",
       "                                                                                      genres  \\\n",
       "title                                                                                          \n",
       "The Hunger Games                           ['Young Adult', 'Fiction', 'Dystopia', 'Fantas...   \n",
       "Harry Potter and the Order of the Phoenix  ['Fantasy', 'Young Adult', 'Fiction', 'Magic',...   \n",
       "To Kill a Mockingbird                      ['Classics', 'Fiction', 'Historical Fiction', ...   \n",
       "Pride and Prejudice                        ['Classics', 'Fiction', 'Romance', 'Historical...   \n",
       "Twilight                                   ['Young Adult', 'Fantasy', 'Romance', 'Vampire...   \n",
       "\n",
       "                                          bookFormat  \\\n",
       "title                                                  \n",
       "The Hunger Games                           Hardcover   \n",
       "Harry Potter and the Order of the Phoenix  Paperback   \n",
       "To Kill a Mockingbird                      Paperback   \n",
       "Pride and Prejudice                        Paperback   \n",
       "Twilight                                   Paperback   \n",
       "\n",
       "                                                                      edition  \\\n",
       "title                                                                           \n",
       "The Hunger Games                                                First Edition   \n",
       "Harry Potter and the Order of the Phoenix                          US Edition   \n",
       "To Kill a Mockingbird                                                     NaN   \n",
       "Pride and Prejudice                        Modern Library Classics, USA / CAN   \n",
       "Twilight                                                                  NaN   \n",
       "\n",
       "                                           pages publishDate firstPublishDate  \\\n",
       "title                                                                           \n",
       "The Hunger Games                           374.0    09/14/08              NaN   \n",
       "Harry Potter and the Order of the Phoenix  870.0    09/28/04         06/21/03   \n",
       "To Kill a Mockingbird                      324.0    05/23/06         07/11/60   \n",
       "Pride and Prejudice                        279.0    10/10/00         01/28/13   \n",
       "Twilight                                   501.0    09/06/06         10/05/05   \n",
       "\n",
       "                                                                                      awards  \\\n",
       "title                                                                                          \n",
       "The Hunger Games                           ['Locus Award Nominee for Best Young Adult Boo...   \n",
       "Harry Potter and the Order of the Phoenix  ['Bram Stoker Award for Works for Young Reader...   \n",
       "To Kill a Mockingbird                      ['Pulitzer Prize for Fiction (1961)', 'Audie A...   \n",
       "Pride and Prejudice                                                                       []   \n",
       "Twilight                                   ['Georgia Peach Book Award (2007)', 'Buxtehude...   \n",
       "\n",
       "                                           numRatings  \\\n",
       "title                                                   \n",
       "The Hunger Games                            6376780.0   \n",
       "Harry Potter and the Order of the Phoenix   2507623.0   \n",
       "To Kill a Mockingbird                       4501075.0   \n",
       "Pride and Prejudice                         2998241.0   \n",
       "Twilight                                    4964519.0   \n",
       "\n",
       "                                                                              ratingsByStars  \\\n",
       "title                                                                                          \n",
       "The Hunger Games                           ['3444695', '1921313', '745221', '171994', '93...   \n",
       "Harry Potter and the Order of the Phoenix  ['1593642', '637516', '222366', '39573', '14526']   \n",
       "To Kill a Mockingbird                      ['2363896', '1333153', '573280', '149952', '80...   \n",
       "Pride and Prejudice                        ['1617567', '816659', '373311', '113934', '767...   \n",
       "Twilight                                   ['1751460', '1113682', '1008686', '542017', '5...   \n",
       "\n",
       "                                           likedPercent   bbeScore  bbeVotes  \\\n",
       "title                                                                          \n",
       "The Hunger Games                                   96.0  2993816.0   30516.0   \n",
       "Harry Potter and the Order of the Phoenix          98.0  2632233.0   26923.0   \n",
       "To Kill a Mockingbird                              95.0  2269402.0   23328.0   \n",
       "Pride and Prejudice                                94.0  1983116.0   20452.0   \n",
       "Twilight                                           78.0  1459448.0   14874.0   \n",
       "\n",
       "                                           price  \n",
       "title                                             \n",
       "The Hunger Games                            5.09  \n",
       "Harry Potter and the Order of the Phoenix   7.38  \n",
       "To Kill a Mockingbird                        NaN  \n",
       "Pride and Prejudice                          NaN  \n",
       "Twilight                                    2.10  "
      ]
     },
     "execution_count": 117,
     "metadata": {},
     "output_type": "execute_result"
    }
   ],
   "source": [
    "X = X.drop(['characters', 'setting'], axis=1)\n",
    "X.head()"
   ]
  },
  {
   "cell_type": "markdown",
   "id": "63158691-7395-4dc3-86be-283a5020b487",
   "metadata": {},
   "source": [
    "Y ahora transformemos las que sí que deseamos transformar a listas."
   ]
  },
  {
   "cell_type": "code",
   "execution_count": 118,
   "id": "b5d75ba0-5ef8-423a-a86c-7af7f272706b",
   "metadata": {},
   "outputs": [],
   "source": [
    "res = trans_list('genres', X)\n",
    "X = X.drop('genres', axis = 1)\n",
    "X['genres'] = res\n",
    "\n",
    "res = trans_list('ratingsByStars', X)\n",
    "X = X.drop('ratingsByStars', axis = 1)\n",
    "X['ratingsByStars'] = res\n",
    "\n",
    "res = trans_list('awards', X)\n",
    "X = X.drop('awards', axis = 1)\n",
    "X['awards'] = res"
   ]
  },
  {
   "cell_type": "code",
   "execution_count": 119,
   "id": "efb0a047-a603-4e74-b7f4-6b9ab92c5ea4",
   "metadata": {},
   "outputs": [
    {
     "data": {
      "text/plain": [
       "'Young Adult'"
      ]
     },
     "execution_count": 119,
     "metadata": {},
     "output_type": "execute_result"
    }
   ],
   "source": [
    "X.genres[0][0]"
   ]
  },
  {
   "cell_type": "markdown",
   "id": "b7aa561c-56d1-4078-8b18-a2e3ef208a34",
   "metadata": {},
   "source": [
    "##### TODO"
   ]
  },
  {
   "cell_type": "markdown",
   "id": "e31c8d00-3890-4d14-aa6b-b982739462d7",
   "metadata": {},
   "source": [
    "Vamos a entender que todos los elementos de las listas son importantes. Para ello tenemos una increible librería que está deseosa de que la probemos a ver que tal va."
   ]
  },
  {
   "cell_type": "code",
   "execution_count": 307,
   "id": "d558601a-7a71-4c87-a744-f5955e72858f",
   "metadata": {},
   "outputs": [
    {
     "data": {
      "text/plain": [
       "title\n",
       "The Hunger Games                             [Young Adult, Fiction, Dystopia, Fantasy, Scie...\n",
       "Harry Potter and the Order of the Phoenix    [Fantasy, Young Adult, Fiction, Magic, Childre...\n",
       "To Kill a Mockingbird                        [Classics, Fiction, Historical Fiction, School...\n",
       "Pride and Prejudice                          [Classics, Fiction, Romance, Historical Fictio...\n",
       "Twilight                                     [Young Adult, Fantasy, Romance, Vampires, Fict...\n",
       "                                                                   ...                        \n",
       "Fractured                                    [Vampires, Paranormal, Young Adult, Romance, F...\n",
       "Anasazi                                                                 [Mystery, Young Adult]\n",
       "Marked                                       [Fantasy, Young Adult, Paranormal, Angels, Rom...\n",
       "Wayward Son                                  [Fiction, Mystery, Historical Fiction, Adventu...\n",
       "Daughter of Helaman                          [Lds Fiction, Historical Fiction, Young Adult,...\n",
       "Name: genres, Length: 52478, dtype: object"
      ]
     },
     "execution_count": 307,
     "metadata": {},
     "output_type": "execute_result"
    }
   ],
   "source": [
    "import ast\n",
    "\n",
    "res = []\n",
    "for elem in X.genres:\n",
    "    res.append(ast.literal_eval(elem))\n",
    "\n",
    "X = X.drop('genres', axis = 1)\n",
    "\n",
    "X['genres'] = res\n",
    "X.genres"
   ]
  },
  {
   "cell_type": "markdown",
   "id": "dcbe548a-70bb-407a-a4bc-06922322d937",
   "metadata": {},
   "source": [
    "Funciona bastante bien la verdad, vamos a hacerlo con la variable 'settings'."
   ]
  },
  {
   "cell_type": "code",
   "execution_count": 308,
   "id": "0ef6d111-d60d-4218-b48c-bea45eebcb30",
   "metadata": {},
   "outputs": [
    {
     "data": {
      "text/plain": [
       "title\n",
       "The Hunger Games                             [District 12, Panem, Capitol, Panem, Panem (Un...\n",
       "Harry Potter and the Order of the Phoenix    [Hogwarts School of Witchcraft and Wizardry (U...\n",
       "To Kill a Mockingbird                                       [Maycomb, Alabama (United States)]\n",
       "Pride and Prejudice                          [United Kingdom, Derbyshire, England (United K...\n",
       "Twilight                                     [Forks, Washington (United States), Phoenix, A...\n",
       "                                                                   ...                        \n",
       "Fractured                                                                                   []\n",
       "Anasazi                                                                                     []\n",
       "Marked                                                                                      []\n",
       "Wayward Son                                                                                 []\n",
       "Daughter of Helaman                                                                         []\n",
       "Name: setting, Length: 52478, dtype: object"
      ]
     },
     "execution_count": 308,
     "metadata": {},
     "output_type": "execute_result"
    }
   ],
   "source": [
    "res = []\n",
    "for elem in X.setting:\n",
    "    res.append(ast.literal_eval(elem))\n",
    "\n",
    "X = X.drop('setting', axis = 1)\n",
    "\n",
    "X['setting'] = res\n",
    "X.setting"
   ]
  },
  {
   "cell_type": "markdown",
   "id": "f13eb2a3-e874-4a45-931c-dfa00c571e38",
   "metadata": {},
   "source": [
    "Vemos que podemos tener las listas con todos los elementos, pero en las posteriores secciones trabajar con listas nos va a dar problemas tremendos, así que porbablemente lo mejor sea quedarnos con el primer elemento y si está vacía poner un 'NaN'. Esto lo hacemos para simplificar y hacer más asequible el trabajo."
   ]
  },
  {
   "cell_type": "code",
   "execution_count": 318,
   "id": "8c953920-908c-41f6-8089-8f7c391a1a46",
   "metadata": {},
   "outputs": [
    {
     "data": {
      "text/plain": [
       "title\n",
       "The Hunger Games                             Young Adult\n",
       "Harry Potter and the Order of the Phoenix        Fantasy\n",
       "To Kill a Mockingbird                           Classics\n",
       "Pride and Prejudice                             Classics\n",
       "Twilight                                     Young Adult\n",
       "                                                ...     \n",
       "Fractured                                       Vampires\n",
       "Anasazi                                          Mystery\n",
       "Marked                                           Fantasy\n",
       "Wayward Son                                      Fiction\n",
       "Daughter of Helaman                          Lds Fiction\n",
       "Name: genres, Length: 52478, dtype: object"
      ]
     },
     "execution_count": 318,
     "metadata": {},
     "output_type": "execute_result"
    }
   ],
   "source": [
    "res = []\n",
    "for elem in X.genres:\n",
    "    if elem:\n",
    "        res.append(elem[0])\n",
    "    else:\n",
    "        res.append(np.nan)\n",
    "\n",
    "X = X.drop('genres', axis = 1)\n",
    "\n",
    "X['genres'] = res\n",
    "X.genres"
   ]
  },
  {
   "cell_type": "code",
   "execution_count": 321,
   "id": "49f1c3ca-958a-4900-8046-cfde24f0881a",
   "metadata": {},
   "outputs": [
    {
     "data": {
      "text/plain": [
       "title\n",
       "The Hunger Games                                                            District 12, Panem\n",
       "Harry Potter and the Order of the Phoenix    Hogwarts School of Witchcraft and Wizardry (Un...\n",
       "To Kill a Mockingbird                                         Maycomb, Alabama (United States)\n",
       "Pride and Prejudice                                                             United Kingdom\n",
       "Twilight                                                     Forks, Washington (United States)\n",
       "                                                                   ...                        \n",
       "Fractured                                                                                  NaN\n",
       "Anasazi                                                                                    NaN\n",
       "Marked                                                                                     NaN\n",
       "Wayward Son                                                                                NaN\n",
       "Daughter of Helaman                                                                        NaN\n",
       "Name: setting, Length: 52478, dtype: object"
      ]
     },
     "execution_count": 321,
     "metadata": {},
     "output_type": "execute_result"
    }
   ],
   "source": [
    "res = []\n",
    "for elem in X.setting:\n",
    "    if elem:\n",
    "        res.append(elem[0])\n",
    "    else:\n",
    "        res.append(np.nan)\n",
    "\n",
    "X = X.drop('setting', axis = 1)\n",
    "\n",
    "X['setting'] = res\n",
    "X.setting"
   ]
  },
  {
   "cell_type": "code",
   "execution_count": null,
   "id": "6f936848-8fa4-4f25-9f4a-e950c795db5c",
   "metadata": {
    "tags": []
   },
   "outputs": [],
   "source": []
  },
  {
   "cell_type": "markdown",
   "id": "36160f42-d6f4-4f50-995d-286f14751d88",
   "metadata": {},
   "source": [
    "## 2. Preprocesado"
   ]
  },
  {
   "cell_type": "markdown",
   "id": "99249e2a-1dde-431e-b61a-4c845d42367a",
   "metadata": {},
   "source": [
    "Para limpiar los datos, vamos a eliminar las columnas que contengan un único valor y a estudiar aquellas que tengan un bajo número de valores diferentes o una baja varianza. También vamos a eliminar las filas repetidas.También analizaremos tanto los valores nulos, realizando el borrado o las imputaciones correspondientes, como los outliers, aplicando las técnicas estudiadas en clase.\n",
    "<br><br>\n",
    "Después, se aplicarán técnicas en esos datos que implicarán codificar, escalar y transformar su distribución, para terminar aplicando \"features engineering\"."
   ]
  },
  {
   "cell_type": "markdown",
   "id": "26ec9bf3-e453-4127-8435-13c4754f491c",
   "metadata": {},
   "source": [
    "### 2.1. Limpieza básica de datos"
   ]
  },
  {
   "cell_type": "markdown",
   "id": "d596be0c-5694-4e1d-8fd7-672e3cdd8563",
   "metadata": {},
   "source": [
    "#### 2.1.1. Valores únicos"
   ]
  },
  {
   "cell_type": "markdown",
   "id": "e17e0e0d-2a6a-45e2-8e6b-7e30ee1625b1",
   "metadata": {},
   "source": [
    "Primero, para identificar los valores únicos, vamos a comprobar para cada columna cuantos tiene:"
   ]
  },
  {
   "cell_type": "code",
   "execution_count": 323,
   "id": "b1345830-6200-43f5-aa00-94547b00ab3b",
   "metadata": {},
   "outputs": [
    {
     "data": {
      "text/plain": [
       "language               81\n",
       "bookFormat            136\n",
       "edition              1788\n",
       "pages                1364\n",
       "publisher           11110\n",
       "publishDate         10635\n",
       "firstPublishDate     8024\n",
       "numRatings          19347\n",
       "likedPercent           66\n",
       "bbeScore             3541\n",
       "bbeVotes              649\n",
       "price                3658\n",
       "author              23497\n",
       "genres                401\n",
       "setting              2563\n",
       "dtype: int64"
      ]
     },
     "execution_count": 323,
     "metadata": {},
     "output_type": "execute_result"
    }
   ],
   "source": [
    "X.nunique()"
   ]
  },
  {
   "cell_type": "markdown",
   "id": "2f546fda-17d2-44bb-89fd-d1f871f7fc84",
   "metadata": {},
   "source": [
    "Ninguna columna tiene suficiente escasez de valores únicos como para que merezca la pena eliminarla. Pero sí que con esto vemos que hay columnas, como por ejemplo \"ratingByStars\" que prácticamente es como si fuesen un identificador, pero como tampoco es muy exagerado no vamos a valorar eliminarlas."
   ]
  },
  {
   "cell_type": "markdown",
   "id": "5d1d85f9-03eb-4833-8e1c-847cbb7bac62",
   "metadata": {},
   "source": [
    "#### 2.1.2. Baja variedad de valores"
   ]
  },
  {
   "cell_type": "markdown",
   "id": "7f1e18ba-57fe-4929-928d-1f76f384ebea",
   "metadata": {},
   "source": [
    "Para llevar a cabo la identificación de las variables que tienen una baja variedad de valores, mostremos para cada una el número de valores únicos que toma y el porcentaje que supone respecto al total de registros."
   ]
  },
  {
   "cell_type": "code",
   "execution_count": 324,
   "id": "cfdca244-4925-4949-9e93-568fcca5deb5",
   "metadata": {},
   "outputs": [
    {
     "name": "stdout",
     "output_type": "stream",
     "text": [
      "0 \t 82 \t 0.2% \t language\n",
      "1 \t 137 \t 0.3% \t bookFormat\n",
      "2 \t 1789 \t 3.4% \t edition\n",
      "3 \t 1365 \t 2.6% \t pages\n",
      "4 \t 11111 \t 21.2% \t publisher\n",
      "5 \t 10636 \t 20.3% \t publishDate\n",
      "6 \t 8025 \t 15.3% \t firstPublishDate\n",
      "7 \t 19347 \t 36.9% \t numRatings\n",
      "8 \t 67 \t 0.1% \t likedPercent\n",
      "9 \t 3541 \t 6.7% \t bbeScore\n",
      "10 \t 649 \t 1.2% \t bbeVotes\n",
      "11 \t 3659 \t 7.0% \t price\n",
      "12 \t 23497 \t 44.8% \t author\n",
      "13 \t 402 \t 0.8% \t genres\n",
      "14 \t 2564 \t 4.9% \t setting\n",
      "15 \t 261 \t 0.5% \t rating\n"
     ]
    }
   ],
   "source": [
    "for i in range(X.shape[1]+1):\n",
    "    name = ''\n",
    "    if i >= X.shape[1]:\n",
    "        num = len(y.unique())\n",
    "        name = y.name\n",
    "    else:\n",
    "        num = len(X.iloc[:, i].unique())\n",
    "        name = X.columns[i]\n",
    "    percentage = num / X.shape[0] * 100\n",
    "    print('%d \\t %d \\t %.1f%% \\t %s' % (i, num, percentage, name))"
   ]
  },
  {
   "cell_type": "markdown",
   "id": "98c4db2d-3172-45d0-bcf3-522ce858c5df",
   "metadata": {},
   "source": [
    "Vemos que en hay variables que tienen pocos valores distintos, pero esto es porque son varaibles categóricas limitadas a un rango concreto. No parece necesario eliminar estas variables."
   ]
  },
  {
   "cell_type": "markdown",
   "id": "4ac252cc-e82f-40d7-9999-243a39cb1b3e",
   "metadata": {},
   "source": [
    "#### 2.1.3. Valores de baja varianza"
   ]
  },
  {
   "cell_type": "markdown",
   "id": "d83c43c8-68a8-4335-a102-dbac425185aa",
   "metadata": {},
   "source": [
    "Ahora vamos a comprobar qué variables tienen una varianza muy muy pequeña, lo cual implicaría que estuvieran muy cerca de tener un solo valor, y de ser necesario eliminarlas también.\n",
    "\n",
    "Primero, separamos las variables explicativas de la explicada:"
   ]
  },
  {
   "cell_type": "code",
   "execution_count": 326,
   "id": "646e7de1-768b-4364-b28d-2f567864d646",
   "metadata": {},
   "outputs": [
    {
     "name": "stdout",
     "output_type": "stream",
     "text": [
      "<class 'pandas.core.frame.DataFrame'>\n",
      "Index: 52478 entries, The Hunger Games to Daughter of Helaman\n",
      "Data columns (total 15 columns):\n",
      " #   Column            Non-Null Count  Dtype  \n",
      "---  ------            --------------  -----  \n",
      " 0   language          48672 non-null  object \n",
      " 1   bookFormat        51005 non-null  object \n",
      " 2   edition           4955 non-null   object \n",
      " 3   pages             50108 non-null  float64\n",
      " 4   publisher         48782 non-null  object \n",
      " 5   publishDate       51598 non-null  object \n",
      " 6   firstPublishDate  31152 non-null  object \n",
      " 7   numRatings        52478 non-null  int64  \n",
      " 8   likedPercent      51856 non-null  float64\n",
      " 9   bbeScore          52478 non-null  int64  \n",
      " 10  bbeVotes          52478 non-null  int64  \n",
      " 11  price             38113 non-null  float64\n",
      " 12  author            52478 non-null  object \n",
      " 13  genres            47855 non-null  object \n",
      " 14  setting           11578 non-null  object \n",
      "dtypes: float64(3), int64(3), object(9)\n",
      "memory usage: 8.4+ MB\n"
     ]
    }
   ],
   "source": [
    "X.info()"
   ]
  },
  {
   "cell_type": "code",
   "execution_count": 329,
   "id": "d1276794-958b-4ef5-809b-56e229e4cc36",
   "metadata": {},
   "outputs": [
    {
     "name": "stdout",
     "output_type": "stream",
     "text": [
      ">Threshold=0.00, Features=6\n",
      ">Threshold=0.05, Features=6\n",
      ">Threshold=0.10, Features=6\n",
      ">Threshold=0.15, Features=6\n",
      ">Threshold=0.20, Features=6\n",
      ">Threshold=0.25, Features=6\n",
      ">Threshold=0.30, Features=6\n",
      ">Threshold=0.35, Features=6\n",
      ">Threshold=0.40, Features=6\n",
      ">Threshold=0.45, Features=6\n",
      ">Threshold=0.50, Features=6\n"
     ]
    }
   ],
   "source": [
    "from sklearn.feature_selection import VarianceThreshold\n",
    "\n",
    "#También necesitamos, para este método quedarnos solo con las variables numéricas\n",
    "col_num = X.iloc[:,[3, 7, 8, 9, 10, 11]]\n",
    "\n",
    "thresholds = np.arange(0.0, 0.55, 0.05)\n",
    "\n",
    "results = list()\n",
    "for t in thresholds:\n",
    "    \n",
    "    transform = VarianceThreshold(threshold=t)\n",
    "    \n",
    "    col_num_trans = transform.fit_transform(col_num)\n",
    "    \n",
    "    n_features = col_num_trans.shape[1]\n",
    "    print('>Threshold=%.2f, Features=%d' % (t, n_features))\n",
    "    \n",
    "    results.append(n_features)"
   ]
  },
  {
   "cell_type": "markdown",
   "id": "675f2013-37a6-4654-9069-db216285c3cc",
   "metadata": {},
   "source": [
    "Ninguna de nuestras variables numéricas es candidata a ser eliminada."
   ]
  },
  {
   "cell_type": "markdown",
   "id": "eaab4ed5-0eb9-4f9d-aada-f248ff0b116e",
   "metadata": {},
   "source": [
    "#### 2.1.4. Valores duplicados"
   ]
  },
  {
   "cell_type": "markdown",
   "id": "f48c9dfc-44d1-4ccd-8412-b78bbeb44528",
   "metadata": {},
   "source": [
    "Veamos el número de registros duplicados (contando la variable target) que existen en nuestro dataset."
   ]
  },
  {
   "cell_type": "code",
   "execution_count": 330,
   "id": "32aeff5b-d173-443a-8ecf-b8718fb57142",
   "metadata": {},
   "outputs": [
    {
     "name": "stdout",
     "output_type": "stream",
     "text": [
      "True\n",
      "50\n"
     ]
    }
   ],
   "source": [
    "aux = X.copy()\n",
    "aux['target'] = y.values\n",
    "dups = aux.duplicated()\n",
    "print(dups.any())\n",
    "print(aux[dups].shape[0])"
   ]
  },
  {
   "cell_type": "markdown",
   "id": "1f5f3995-2eac-412e-94b5-7a3a30df1966",
   "metadata": {},
   "source": [
    "Vemos que tenemos 50 columnas duplicadas, procedemos a eliminarlas."
   ]
  },
  {
   "cell_type": "code",
   "execution_count": 331,
   "id": "f9be17a1-c597-405b-b4dc-0e272649280e",
   "metadata": {},
   "outputs": [
    {
     "name": "stdout",
     "output_type": "stream",
     "text": [
      "Con duplicados:  (52478, 16)\n",
      "Sin duplicados:  (52428, 16)\n"
     ]
    }
   ],
   "source": [
    "print(\"Con duplicados: \",aux.shape)\n",
    "aux.drop_duplicates(inplace=True)\n",
    "print(\"Sin duplicados: \",aux.shape)"
   ]
  },
  {
   "cell_type": "markdown",
   "id": "31761e07-b0ab-447f-ae7a-b80c1f96b783",
   "metadata": {},
   "source": [
    "Volvemos a separar los datos:"
   ]
  },
  {
   "cell_type": "code",
   "execution_count": 332,
   "id": "099140cc-6ed2-42c8-84e1-400096ac86d8",
   "metadata": {},
   "outputs": [
    {
     "name": "stdout",
     "output_type": "stream",
     "text": [
      "(52428, 15) (52428,)\n"
     ]
    }
   ],
   "source": [
    "X, y = aux.drop('target', axis=1), aux.target\n",
    "print(X.shape, y.shape)"
   ]
  },
  {
   "cell_type": "markdown",
   "id": "8f8f30fa-cb4a-4544-bae6-603056fcd249",
   "metadata": {},
   "source": [
    "Ya tenemos nuestros datos limpios de duplicados."
   ]
  },
  {
   "cell_type": "markdown",
   "id": "a6e364a6-4555-4f3e-8318-f50969d6ae9a",
   "metadata": {},
   "source": [
    "### 2.2. Identificación de outliers y valores perdidos"
   ]
  },
  {
   "cell_type": "markdown",
   "id": "3bd2d0a1-49ed-464c-8bf3-8d9e043c40c6",
   "metadata": {},
   "source": [
    "En este apartado trataremos de identificar los valores espurios y los faltantes, posteriormente decidiremos si los eliminamos o no."
   ]
  },
  {
   "cell_type": "markdown",
   "id": "b5ad9a2e-b693-4a7b-8f5b-316e35668ec6",
   "metadata": {},
   "source": [
    "#### 2.2.1. Outliers"
   ]
  },
  {
   "cell_type": "markdown",
   "id": "c4e43c54-bb60-4944-89ec-c7adb9cb174c",
   "metadata": {},
   "source": [
    "Comencemos primero con los valores espurios."
   ]
  },
  {
   "cell_type": "markdown",
   "id": "16bf579f-1ac1-4b1a-a223-b84e93338441",
   "metadata": {},
   "source": [
    "##### 2.2.1.1. Borrado de outliers mediante el Standard Deviation Method"
   ]
  },
  {
   "cell_type": "markdown",
   "id": "3fac796c-c4c1-429a-a0ab-00bd9e668a27",
   "metadata": {},
   "source": [
    "Primero vamos a comprobar qué distribución siguen nuestros datos."
   ]
  },
  {
   "cell_type": "code",
   "execution_count": 333,
   "id": "c3db49d7-8acf-4491-8ab5-fce755616abf",
   "metadata": {},
   "outputs": [
    {
     "data": {
      "image/png": "[encoded data removed]",
      "text/plain": [
       "<Figure size 2000x1500 with 9 Axes>"
      ]
     },
     "metadata": {},
     "output_type": "display_data"
    }
   ],
   "source": [
    "import matplotlib.pyplot as plt\n",
    "\n",
    "fig = aux.hist(figsize=[20,15], xlabelsize=4, ylabelsize=4)\n",
    "\n",
    "plt.show()"
   ]
  },
  {
   "cell_type": "markdown",
   "id": "293a17d1-e2d0-4786-957a-d4e477913723",
   "metadata": {},
   "source": [
    "Viendo estas distribuciones podemos asverar que tenemos espurios. Quizá de todas, la variable likedPercentage sea la única que se salva. Así que eliminemos los espurios en las otras 5 variables:"
   ]
  },
  {
   "cell_type": "code",
   "execution_count": 334,
   "id": "d1900ef4-412a-4a77-a354-7593bf2e21e8",
   "metadata": {},
   "outputs": [
    {
     "data": {
      "image/png": "[encoded data removed]",
      "text/plain": [
       "<Figure size 2000x1500 with 9 Axes>"
      ]
     },
     "metadata": {},
     "output_type": "display_data"
    }
   ],
   "source": [
    "col_num_outlier = X.iloc[:, [3, 7, 8, 9, 10, 11]]\n",
    "\n",
    "df_SDM = aux.copy()\n",
    "\n",
    "for elem in col_num_outlier:\n",
    "    data_mean, data_std = np.mean(df_SDM[elem]), np.std(df_SDM[elem])\n",
    "    cut_off = data_std * 3\n",
    "    lower, upper = data_mean - cut_off, data_mean + cut_off\n",
    "    df_SDM = df_SDM[(df_SDM[elem] >= lower) & (df_SDM[elem] <= upper)]\n",
    "    \n",
    "fig = df_SDM.hist(figsize=[20,15], xlabelsize=4, ylabelsize=4)\n",
    "\n",
    "plt.show()"
   ]
  },
  {
   "cell_type": "markdown",
   "id": "c0ab9996-de28-4d2b-b680-49e973d37c27",
   "metadata": {},
   "source": [
    "Vemos que seguimos teniendo distribuciones demasiado influidas por espurios, así que vamos a volver a aplicar el método sobre estas variables."
   ]
  },
  {
   "cell_type": "code",
   "execution_count": 335,
   "id": "7779a9b5-60d4-478b-94db-c4c3c1014131",
   "metadata": {},
   "outputs": [
    {
     "data": {
      "image/png": "[encoded data removed]",
      "text/plain": [
       "<Figure size 2000x1500 with 9 Axes>"
      ]
     },
     "metadata": {},
     "output_type": "display_data"
    }
   ],
   "source": [
    "col_num_outlier = X.iloc[:,[7, 9, 10, 11]]\n",
    "\n",
    "df_SDM_v2 = df_SDM.copy()\n",
    "\n",
    "for elem in col_num_outlier:\n",
    "    data_mean, data_std = np.mean(df_SDM_v2[elem]), np.std(df_SDM_v2[elem])\n",
    "    cut_off = data_std * 3\n",
    "    lower, upper = data_mean - cut_off, data_mean + cut_off\n",
    "    df_SDM_v2 = df_SDM_v2[(df_SDM_v2[elem] >= lower) & (df_SDM_v2[elem] <= upper)]\n",
    "    \n",
    "fig = df_SDM_v2.hist(figsize=[20,15], xlabelsize=4, ylabelsize=4)\n",
    "\n",
    "plt.show()"
   ]
  },
  {
   "cell_type": "code",
   "execution_count": 336,
   "id": "42721642-e0ac-4580-a960-7af633e4d7dd",
   "metadata": {},
   "outputs": [
    {
     "data": {
      "text/html": [
       "<div>\n",
       "<style scoped>\n",
       "    .dataframe tbody tr th:only-of-type {\n",
       "        vertical-align: middle;\n",
       "    }\n",
       "\n",
       "    .dataframe tbody tr th {\n",
       "        vertical-align: top;\n",
       "    }\n",
       "\n",
       "    .dataframe thead th {\n",
       "        text-align: right;\n",
       "    }\n",
       "</style>\n",
       "<table border=\"1\" class=\"dataframe\">\n",
       "  <thead>\n",
       "    <tr style=\"text-align: right;\">\n",
       "      <th></th>\n",
       "      <th>pages</th>\n",
       "      <th>numRatings</th>\n",
       "      <th>likedPercent</th>\n",
       "      <th>bbeScore</th>\n",
       "      <th>bbeVotes</th>\n",
       "      <th>price</th>\n",
       "      <th>target</th>\n",
       "    </tr>\n",
       "  </thead>\n",
       "  <tbody>\n",
       "    <tr>\n",
       "      <th>count</th>\n",
       "      <td>31997.000000</td>\n",
       "      <td>31997.000000</td>\n",
       "      <td>31997.000000</td>\n",
       "      <td>31997.000000</td>\n",
       "      <td>31997.000000</td>\n",
       "      <td>31997.000000</td>\n",
       "      <td>31997.000000</td>\n",
       "    </tr>\n",
       "    <tr>\n",
       "      <th>mean</th>\n",
       "      <td>320.641560</td>\n",
       "      <td>6954.399725</td>\n",
       "      <td>92.516361</td>\n",
       "      <td>137.191924</td>\n",
       "      <td>1.737038</td>\n",
       "      <td>7.241371</td>\n",
       "      <td>3.996097</td>\n",
       "    </tr>\n",
       "    <tr>\n",
       "      <th>std</th>\n",
       "      <td>153.003806</td>\n",
       "      <td>10831.793018</td>\n",
       "      <td>4.662656</td>\n",
       "      <td>117.689877</td>\n",
       "      <td>1.427712</td>\n",
       "      <td>6.670252</td>\n",
       "      <td>0.285179</td>\n",
       "    </tr>\n",
       "    <tr>\n",
       "      <th>min</th>\n",
       "      <td>0.000000</td>\n",
       "      <td>1.000000</td>\n",
       "      <td>75.000000</td>\n",
       "      <td>0.000000</td>\n",
       "      <td>-4.000000</td>\n",
       "      <td>0.840000</td>\n",
       "      <td>2.800000</td>\n",
       "    </tr>\n",
       "    <tr>\n",
       "      <th>25%</th>\n",
       "      <td>224.000000</td>\n",
       "      <td>627.000000</td>\n",
       "      <td>90.000000</td>\n",
       "      <td>80.000000</td>\n",
       "      <td>1.000000</td>\n",
       "      <td>3.210000</td>\n",
       "      <td>3.810000</td>\n",
       "    </tr>\n",
       "    <tr>\n",
       "      <th>50%</th>\n",
       "      <td>309.000000</td>\n",
       "      <td>2732.000000</td>\n",
       "      <td>94.000000</td>\n",
       "      <td>96.000000</td>\n",
       "      <td>1.000000</td>\n",
       "      <td>5.200000</td>\n",
       "      <td>4.000000</td>\n",
       "    </tr>\n",
       "    <tr>\n",
       "      <th>75%</th>\n",
       "      <td>390.000000</td>\n",
       "      <td>8340.000000</td>\n",
       "      <td>96.000000</td>\n",
       "      <td>163.000000</td>\n",
       "      <td>2.000000</td>\n",
       "      <td>8.460000</td>\n",
       "      <td>4.180000</td>\n",
       "    </tr>\n",
       "    <tr>\n",
       "      <th>max</th>\n",
       "      <td>1085.000000</td>\n",
       "      <td>77470.000000</td>\n",
       "      <td>100.000000</td>\n",
       "      <td>947.000000</td>\n",
       "      <td>8.000000</td>\n",
       "      <td>49.520000</td>\n",
       "      <td>5.000000</td>\n",
       "    </tr>\n",
       "  </tbody>\n",
       "</table>\n",
       "</div>"
      ],
      "text/plain": [
       "              pages    numRatings  likedPercent      bbeScore      bbeVotes  \\\n",
       "count  31997.000000  31997.000000  31997.000000  31997.000000  31997.000000   \n",
       "mean     320.641560   6954.399725     92.516361    137.191924      1.737038   \n",
       "std      153.003806  10831.793018      4.662656    117.689877      1.427712   \n",
       "min        0.000000      1.000000     75.000000      0.000000     -4.000000   \n",
       "25%      224.000000    627.000000     90.000000     80.000000      1.000000   \n",
       "50%      309.000000   2732.000000     94.000000     96.000000      1.000000   \n",
       "75%      390.000000   8340.000000     96.000000    163.000000      2.000000   \n",
       "max     1085.000000  77470.000000    100.000000    947.000000      8.000000   \n",
       "\n",
       "              price        target  \n",
       "count  31997.000000  31997.000000  \n",
       "mean       7.241371      3.996097  \n",
       "std        6.670252      0.285179  \n",
       "min        0.840000      2.800000  \n",
       "25%        3.210000      3.810000  \n",
       "50%        5.200000      4.000000  \n",
       "75%        8.460000      4.180000  \n",
       "max       49.520000      5.000000  "
      ]
     },
     "execution_count": 336,
     "metadata": {},
     "output_type": "execute_result"
    }
   ],
   "source": [
    "df_SDM_v2.describe()"
   ]
  },
  {
   "cell_type": "markdown",
   "id": "61f3aed7-bd5c-479c-956e-5745c0fe35d4",
   "metadata": {},
   "source": [
    "Como podemos ver el valor negativo de bbeVotes está perjudicando a nuestro dataset, así que lo vamos a eliminar."
   ]
  },
  {
   "cell_type": "code",
   "execution_count": 337,
   "id": "3d0e5cf4-24bb-48e5-954d-5f40a5720ad1",
   "metadata": {},
   "outputs": [
    {
     "data": {
      "text/html": [
       "<div>\n",
       "<style scoped>\n",
       "    .dataframe tbody tr th:only-of-type {\n",
       "        vertical-align: middle;\n",
       "    }\n",
       "\n",
       "    .dataframe tbody tr th {\n",
       "        vertical-align: top;\n",
       "    }\n",
       "\n",
       "    .dataframe thead th {\n",
       "        text-align: right;\n",
       "    }\n",
       "</style>\n",
       "<table border=\"1\" class=\"dataframe\">\n",
       "  <thead>\n",
       "    <tr style=\"text-align: right;\">\n",
       "      <th></th>\n",
       "      <th>pages</th>\n",
       "      <th>numRatings</th>\n",
       "      <th>likedPercent</th>\n",
       "      <th>bbeScore</th>\n",
       "      <th>bbeVotes</th>\n",
       "      <th>price</th>\n",
       "      <th>target</th>\n",
       "    </tr>\n",
       "  </thead>\n",
       "  <tbody>\n",
       "    <tr>\n",
       "      <th>count</th>\n",
       "      <td>31952.000000</td>\n",
       "      <td>31952.000000</td>\n",
       "      <td>31952.000000</td>\n",
       "      <td>31952.000000</td>\n",
       "      <td>31952.000000</td>\n",
       "      <td>31952.000000</td>\n",
       "      <td>31952.000000</td>\n",
       "    </tr>\n",
       "    <tr>\n",
       "      <th>mean</th>\n",
       "      <td>320.648128</td>\n",
       "      <td>6957.298479</td>\n",
       "      <td>92.515210</td>\n",
       "      <td>137.250689</td>\n",
       "      <td>1.741519</td>\n",
       "      <td>7.240826</td>\n",
       "      <td>3.995979</td>\n",
       "    </tr>\n",
       "    <tr>\n",
       "      <th>std</th>\n",
       "      <td>152.974943</td>\n",
       "      <td>10834.566727</td>\n",
       "      <td>4.660697</td>\n",
       "      <td>117.759209</td>\n",
       "      <td>1.423327</td>\n",
       "      <td>6.670671</td>\n",
       "      <td>0.285119</td>\n",
       "    </tr>\n",
       "    <tr>\n",
       "      <th>min</th>\n",
       "      <td>0.000000</td>\n",
       "      <td>1.000000</td>\n",
       "      <td>75.000000</td>\n",
       "      <td>0.000000</td>\n",
       "      <td>1.000000</td>\n",
       "      <td>0.840000</td>\n",
       "      <td>2.800000</td>\n",
       "    </tr>\n",
       "    <tr>\n",
       "      <th>25%</th>\n",
       "      <td>224.000000</td>\n",
       "      <td>627.000000</td>\n",
       "      <td>90.000000</td>\n",
       "      <td>80.000000</td>\n",
       "      <td>1.000000</td>\n",
       "      <td>3.210000</td>\n",
       "      <td>3.810000</td>\n",
       "    </tr>\n",
       "    <tr>\n",
       "      <th>50%</th>\n",
       "      <td>309.000000</td>\n",
       "      <td>2732.500000</td>\n",
       "      <td>94.000000</td>\n",
       "      <td>96.000000</td>\n",
       "      <td>1.000000</td>\n",
       "      <td>5.200000</td>\n",
       "      <td>4.000000</td>\n",
       "    </tr>\n",
       "    <tr>\n",
       "      <th>75%</th>\n",
       "      <td>390.000000</td>\n",
       "      <td>8344.000000</td>\n",
       "      <td>96.000000</td>\n",
       "      <td>163.000000</td>\n",
       "      <td>2.000000</td>\n",
       "      <td>8.460000</td>\n",
       "      <td>4.180000</td>\n",
       "    </tr>\n",
       "    <tr>\n",
       "      <th>max</th>\n",
       "      <td>1085.000000</td>\n",
       "      <td>77470.000000</td>\n",
       "      <td>100.000000</td>\n",
       "      <td>947.000000</td>\n",
       "      <td>8.000000</td>\n",
       "      <td>49.520000</td>\n",
       "      <td>5.000000</td>\n",
       "    </tr>\n",
       "  </tbody>\n",
       "</table>\n",
       "</div>"
      ],
      "text/plain": [
       "              pages    numRatings  likedPercent      bbeScore      bbeVotes  \\\n",
       "count  31952.000000  31952.000000  31952.000000  31952.000000  31952.000000   \n",
       "mean     320.648128   6957.298479     92.515210    137.250689      1.741519   \n",
       "std      152.974943  10834.566727      4.660697    117.759209      1.423327   \n",
       "min        0.000000      1.000000     75.000000      0.000000      1.000000   \n",
       "25%      224.000000    627.000000     90.000000     80.000000      1.000000   \n",
       "50%      309.000000   2732.500000     94.000000     96.000000      1.000000   \n",
       "75%      390.000000   8344.000000     96.000000    163.000000      2.000000   \n",
       "max     1085.000000  77470.000000    100.000000    947.000000      8.000000   \n",
       "\n",
       "              price        target  \n",
       "count  31952.000000  31952.000000  \n",
       "mean       7.240826      3.995979  \n",
       "std        6.670671      0.285119  \n",
       "min        0.840000      2.800000  \n",
       "25%        3.210000      3.810000  \n",
       "50%        5.200000      4.000000  \n",
       "75%        8.460000      4.180000  \n",
       "max       49.520000      5.000000  "
      ]
     },
     "execution_count": 337,
     "metadata": {},
     "output_type": "execute_result"
    }
   ],
   "source": [
    "df_SDM_v2 = df_SDM_v2[(df_SDM_v2['bbeVotes'] > 0)]\n",
    "df_SDM_v2.describe()"
   ]
  },
  {
   "cell_type": "code",
   "execution_count": 338,
   "id": "5a00a3b4-e657-45ea-9bba-cfb02941b09b",
   "metadata": {},
   "outputs": [
    {
     "data": {
      "image/png": "[encoded data removed]",
      "text/plain": [
       "<Figure size 2000x1500 with 9 Axes>"
      ]
     },
     "metadata": {},
     "output_type": "display_data"
    }
   ],
   "source": [
    "fig = df_SDM_v2.hist(figsize=[20,15], xlabelsize=4, ylabelsize=4)\n",
    "\n",
    "plt.show()"
   ]
  },
  {
   "cell_type": "code",
   "execution_count": 339,
   "id": "83af58b5-2bcc-4fc5-b077-4f824fd8d27b",
   "metadata": {},
   "outputs": [
    {
     "data": {
      "text/plain": [
       "(31952, 16)"
      ]
     },
     "execution_count": 339,
     "metadata": {},
     "output_type": "execute_result"
    }
   ],
   "source": [
    "df_SDM_v2.shape"
   ]
  },
  {
   "cell_type": "markdown",
   "id": "0270709c-1b1d-4cc1-90c3-1711963d1542",
   "metadata": {},
   "source": [
    "Vemos que hemos eliminado muchos datos, pero seguimos teniendo una grandísima cantidad de estos. Además, ahora podemos ver bien las distribuciones de nuestros datos."
   ]
  },
  {
   "cell_type": "markdown",
   "id": "c961f252-583f-49cd-bd5d-543b61454547",
   "metadata": {},
   "source": [
    "##### 2.2.1.2. Identificación de outliers mediante el Interquartile Range Method (IQR)"
   ]
  },
  {
   "cell_type": "code",
   "execution_count": 341,
   "id": "f93aedee-b1f2-4f0e-ae20-db45fa037662",
   "metadata": {},
   "outputs": [
    {
     "name": "stdout",
     "output_type": "stream",
     "text": [
      "pages\n",
      "Percentiles: 25th=194.000, 75th=385.000, IQR=191.000\n",
      "Identified outliers: 4566\n",
      "numRatings\n",
      "Percentiles: 25th=402.000, 75th=9972.000, IQR=9570.000\n",
      "Identified outliers: 5994\n",
      "likedPercent\n",
      "Percentiles: 25th=89.000, 75th=96.000, IQR=7.000\n",
      "Identified outliers: 1878\n",
      "bbeScore\n",
      "Percentiles: 25th=81.000, 75th=134.000, IQR=53.000\n",
      "Identified outliers: 5268\n",
      "bbeVotes\n",
      "Percentiles: 25th=1.000, 75th=1.000, IQR=0.000\n",
      "Identified outliers: 6166\n",
      "price\n",
      "Percentiles: 25th=-9223372036854775808.000, 75th=6.000, IQR=9223372036854775808.000\n",
      "Identified outliers: 0\n"
     ]
    }
   ],
   "source": [
    "df_IQR = aux.copy()\n",
    "\n",
    "for i in df_IQR.iloc[:, [3, 7, 8, 9, 10, 11]]:\n",
    "    print(i)\n",
    "    datos = df_IQR[[i]].values.astype('int64')\n",
    "    \n",
    "    q25, q75 = np.percentile(datos, 25), np.percentile(datos, 75)\n",
    "    iqr = q75 - q25\n",
    "    print('Percentiles: 25th=%.3f, 75th=%.3f, IQR=%.3f' % (q25, q75, iqr))\n",
    "    \n",
    "    cut_off = iqr * 1.5\n",
    "    lower, upper = q25 - cut_off, q75 + cut_off\n",
    "    \n",
    "    outliers = [x for x in datos if x < lower or x > upper]\n",
    "    print('Identified outliers: %d' % len(outliers))\n",
    "    df_IQR = df_IQR[(df_IQR[i] >= lower) & (df_IQR[i] <= upper)]"
   ]
  },
  {
   "cell_type": "code",
   "execution_count": 342,
   "id": "e008b669-30ac-49ff-85e3-fdb09f659383",
   "metadata": {},
   "outputs": [
    {
     "data": {
      "image/png": "[encoded data removed]",
      "text/plain": [
       "<Figure size 2000x1500 with 9 Axes>"
      ]
     },
     "metadata": {},
     "output_type": "display_data"
    }
   ],
   "source": [
    "fig = df_IQR.hist(figsize=[20,15], xlabelsize=4, ylabelsize=4)\n",
    "\n",
    "plt.show()"
   ]
  },
  {
   "cell_type": "markdown",
   "id": "6178a018-0949-491a-8fcb-82d8b250f7ad",
   "metadata": {},
   "source": [
    "Vemos que este método no sabe gestionar espurios muy exagerados como los que encontramos en nuestro problema."
   ]
  },
  {
   "cell_type": "markdown",
   "id": "2e1de8ce-95a7-4729-b455-e8181219c2cf",
   "metadata": {
    "tags": []
   },
   "source": [
    "##### 2.2.1.3. Borrado automático de outliers mediante el Local Outlier Factor (LOF)"
   ]
  },
  {
   "cell_type": "code",
   "execution_count": 344,
   "id": "b88d000e-81d7-453f-94c4-03bee4bf8b00",
   "metadata": {},
   "outputs": [
    {
     "ename": "ValueError",
     "evalue": "Input X contains NaN.\nLocalOutlierFactor does not accept missing values encoded as NaN natively. For supervised learning, you might want to consider sklearn.ensemble.HistGradientBoostingClassifier and Regressor which accept missing values encoded as NaNs natively. Alternatively, it is possible to preprocess the data, for instance by using an imputer transformer in a pipeline or drop samples with missing values. See https://scikit-learn.org/stable/modules/impute.html You can find a list of all estimators that handle NaN values at the following page: https://scikit-learn.org/stable/modules/impute.html#estimators-that-handle-nan-values",
     "output_type": "error",
     "traceback": [
      "\u001b[1;31m---------------------------------------------------------------------------\u001b[0m",
      "\u001b[1;31mValueError\u001b[0m                                Traceback (most recent call last)",
      "\u001b[1;32m~\\AppData\\Local\\Temp\\ipykernel_13580\\2982954149.py\u001b[0m in \u001b[0;36m<module>\u001b[1;34m\u001b[0m\n\u001b[0;32m      5\u001b[0m \u001b[1;33m\u001b[0m\u001b[0m\n\u001b[0;32m      6\u001b[0m \u001b[0mlof\u001b[0m \u001b[1;33m=\u001b[0m \u001b[0mLocalOutlierFactor\u001b[0m\u001b[1;33m(\u001b[0m\u001b[1;33m)\u001b[0m\u001b[1;33m\u001b[0m\u001b[1;33m\u001b[0m\u001b[0m\n\u001b[1;32m----> 7\u001b[1;33m \u001b[0myhat\u001b[0m \u001b[1;33m=\u001b[0m \u001b[0mlof\u001b[0m\u001b[1;33m.\u001b[0m\u001b[0mfit_predict\u001b[0m\u001b[1;33m(\u001b[0m\u001b[0mX\u001b[0m\u001b[1;33m)\u001b[0m\u001b[1;33m\u001b[0m\u001b[1;33m\u001b[0m\u001b[0m\n\u001b[0m\u001b[0;32m      8\u001b[0m \u001b[0myhat\u001b[0m \u001b[1;33m=\u001b[0m \u001b[0myhat\u001b[0m\u001b[1;33m[\u001b[0m\u001b[0myhat\u001b[0m \u001b[1;33m==\u001b[0m \u001b[1;33m-\u001b[0m\u001b[1;36m1\u001b[0m\u001b[1;33m]\u001b[0m\u001b[1;33m\u001b[0m\u001b[1;33m\u001b[0m\u001b[0m\n\u001b[0;32m      9\u001b[0m \u001b[0mlen\u001b[0m\u001b[1;33m(\u001b[0m\u001b[0myhat\u001b[0m\u001b[1;33m)\u001b[0m\u001b[1;33m\u001b[0m\u001b[1;33m\u001b[0m\u001b[0m\n",
      "\u001b[1;32m~\\AppData\\Roaming\\Python\\Python39\\site-packages\\sklearn\\neighbors\\_lof.py\u001b[0m in \u001b[0;36mfit_predict\u001b[1;34m(self, X, y)\u001b[0m\n\u001b[0;32m    243\u001b[0m         \u001b[1;31m# only available for outlier detection (novelty=False)\u001b[0m\u001b[1;33m\u001b[0m\u001b[1;33m\u001b[0m\u001b[0m\n\u001b[0;32m    244\u001b[0m \u001b[1;33m\u001b[0m\u001b[0m\n\u001b[1;32m--> 245\u001b[1;33m         \u001b[1;32mreturn\u001b[0m \u001b[0mself\u001b[0m\u001b[1;33m.\u001b[0m\u001b[0mfit\u001b[0m\u001b[1;33m(\u001b[0m\u001b[0mX\u001b[0m\u001b[1;33m)\u001b[0m\u001b[1;33m.\u001b[0m\u001b[0m_predict\u001b[0m\u001b[1;33m(\u001b[0m\u001b[1;33m)\u001b[0m\u001b[1;33m\u001b[0m\u001b[1;33m\u001b[0m\u001b[0m\n\u001b[0m\u001b[0;32m    246\u001b[0m \u001b[1;33m\u001b[0m\u001b[0m\n\u001b[0;32m    247\u001b[0m     \u001b[1;32mdef\u001b[0m \u001b[0mfit\u001b[0m\u001b[1;33m(\u001b[0m\u001b[0mself\u001b[0m\u001b[1;33m,\u001b[0m \u001b[0mX\u001b[0m\u001b[1;33m,\u001b[0m \u001b[0my\u001b[0m\u001b[1;33m=\u001b[0m\u001b[1;32mNone\u001b[0m\u001b[1;33m)\u001b[0m\u001b[1;33m:\u001b[0m\u001b[1;33m\u001b[0m\u001b[1;33m\u001b[0m\u001b[0m\n",
      "\u001b[1;32m~\\AppData\\Roaming\\Python\\Python39\\site-packages\\sklearn\\neighbors\\_lof.py\u001b[0m in \u001b[0;36mfit\u001b[1;34m(self, X, y)\u001b[0m\n\u001b[0;32m    262\u001b[0m             \u001b[0mThe\u001b[0m \u001b[0mfitted\u001b[0m \u001b[0mlocal\u001b[0m \u001b[0moutlier\u001b[0m \u001b[0mfactor\u001b[0m \u001b[0mdetector\u001b[0m\u001b[1;33m.\u001b[0m\u001b[1;33m\u001b[0m\u001b[1;33m\u001b[0m\u001b[0m\n\u001b[0;32m    263\u001b[0m         \"\"\"\n\u001b[1;32m--> 264\u001b[1;33m         \u001b[0mself\u001b[0m\u001b[1;33m.\u001b[0m\u001b[0m_fit\u001b[0m\u001b[1;33m(\u001b[0m\u001b[0mX\u001b[0m\u001b[1;33m)\u001b[0m\u001b[1;33m\u001b[0m\u001b[1;33m\u001b[0m\u001b[0m\n\u001b[0m\u001b[0;32m    265\u001b[0m \u001b[1;33m\u001b[0m\u001b[0m\n\u001b[0;32m    266\u001b[0m         \u001b[1;32mif\u001b[0m \u001b[0mself\u001b[0m\u001b[1;33m.\u001b[0m\u001b[0mcontamination\u001b[0m \u001b[1;33m!=\u001b[0m \u001b[1;34m\"auto\"\u001b[0m\u001b[1;33m:\u001b[0m\u001b[1;33m\u001b[0m\u001b[1;33m\u001b[0m\u001b[0m\n",
      "\u001b[1;32m~\\AppData\\Roaming\\Python\\Python39\\site-packages\\sklearn\\neighbors\\_base.py\u001b[0m in \u001b[0;36m_fit\u001b[1;34m(self, X, y)\u001b[0m\n\u001b[0;32m    442\u001b[0m         \u001b[1;32melse\u001b[0m\u001b[1;33m:\u001b[0m\u001b[1;33m\u001b[0m\u001b[1;33m\u001b[0m\u001b[0m\n\u001b[0;32m    443\u001b[0m             \u001b[1;32mif\u001b[0m \u001b[1;32mnot\u001b[0m \u001b[0misinstance\u001b[0m\u001b[1;33m(\u001b[0m\u001b[0mX\u001b[0m\u001b[1;33m,\u001b[0m \u001b[1;33m(\u001b[0m\u001b[0mKDTree\u001b[0m\u001b[1;33m,\u001b[0m \u001b[0mBallTree\u001b[0m\u001b[1;33m,\u001b[0m \u001b[0mNeighborsBase\u001b[0m\u001b[1;33m)\u001b[0m\u001b[1;33m)\u001b[0m\u001b[1;33m:\u001b[0m\u001b[1;33m\u001b[0m\u001b[1;33m\u001b[0m\u001b[0m\n\u001b[1;32m--> 444\u001b[1;33m                 \u001b[0mX\u001b[0m \u001b[1;33m=\u001b[0m \u001b[0mself\u001b[0m\u001b[1;33m.\u001b[0m\u001b[0m_validate_data\u001b[0m\u001b[1;33m(\u001b[0m\u001b[0mX\u001b[0m\u001b[1;33m,\u001b[0m \u001b[0maccept_sparse\u001b[0m\u001b[1;33m=\u001b[0m\u001b[1;34m\"csr\"\u001b[0m\u001b[1;33m,\u001b[0m \u001b[0morder\u001b[0m\u001b[1;33m=\u001b[0m\u001b[1;34m\"C\"\u001b[0m\u001b[1;33m)\u001b[0m\u001b[1;33m\u001b[0m\u001b[1;33m\u001b[0m\u001b[0m\n\u001b[0m\u001b[0;32m    445\u001b[0m \u001b[1;33m\u001b[0m\u001b[0m\n\u001b[0;32m    446\u001b[0m         \u001b[0mself\u001b[0m\u001b[1;33m.\u001b[0m\u001b[0m_check_algorithm_metric\u001b[0m\u001b[1;33m(\u001b[0m\u001b[1;33m)\u001b[0m\u001b[1;33m\u001b[0m\u001b[1;33m\u001b[0m\u001b[0m\n",
      "\u001b[1;32m~\\AppData\\Roaming\\Python\\Python39\\site-packages\\sklearn\\base.py\u001b[0m in \u001b[0;36m_validate_data\u001b[1;34m(self, X, y, reset, validate_separately, **check_params)\u001b[0m\n\u001b[0;32m    575\u001b[0m             \u001b[1;32mraise\u001b[0m \u001b[0mValueError\u001b[0m\u001b[1;33m(\u001b[0m\u001b[1;34m\"Validation should be done on X, y or both.\"\u001b[0m\u001b[1;33m)\u001b[0m\u001b[1;33m\u001b[0m\u001b[1;33m\u001b[0m\u001b[0m\n\u001b[0;32m    576\u001b[0m         \u001b[1;32melif\u001b[0m \u001b[1;32mnot\u001b[0m \u001b[0mno_val_X\u001b[0m \u001b[1;32mand\u001b[0m \u001b[0mno_val_y\u001b[0m\u001b[1;33m:\u001b[0m\u001b[1;33m\u001b[0m\u001b[1;33m\u001b[0m\u001b[0m\n\u001b[1;32m--> 577\u001b[1;33m             \u001b[0mX\u001b[0m \u001b[1;33m=\u001b[0m \u001b[0mcheck_array\u001b[0m\u001b[1;33m(\u001b[0m\u001b[0mX\u001b[0m\u001b[1;33m,\u001b[0m \u001b[0minput_name\u001b[0m\u001b[1;33m=\u001b[0m\u001b[1;34m\"X\"\u001b[0m\u001b[1;33m,\u001b[0m \u001b[1;33m**\u001b[0m\u001b[0mcheck_params\u001b[0m\u001b[1;33m)\u001b[0m\u001b[1;33m\u001b[0m\u001b[1;33m\u001b[0m\u001b[0m\n\u001b[0m\u001b[0;32m    578\u001b[0m             \u001b[0mout\u001b[0m \u001b[1;33m=\u001b[0m \u001b[0mX\u001b[0m\u001b[1;33m\u001b[0m\u001b[1;33m\u001b[0m\u001b[0m\n\u001b[0;32m    579\u001b[0m         \u001b[1;32melif\u001b[0m \u001b[0mno_val_X\u001b[0m \u001b[1;32mand\u001b[0m \u001b[1;32mnot\u001b[0m \u001b[0mno_val_y\u001b[0m\u001b[1;33m:\u001b[0m\u001b[1;33m\u001b[0m\u001b[1;33m\u001b[0m\u001b[0m\n",
      "\u001b[1;32m~\\AppData\\Roaming\\Python\\Python39\\site-packages\\sklearn\\utils\\validation.py\u001b[0m in \u001b[0;36mcheck_array\u001b[1;34m(array, accept_sparse, accept_large_sparse, dtype, order, copy, force_all_finite, ensure_2d, allow_nd, ensure_min_samples, ensure_min_features, estimator, input_name)\u001b[0m\n\u001b[0;32m    897\u001b[0m \u001b[1;33m\u001b[0m\u001b[0m\n\u001b[0;32m    898\u001b[0m         \u001b[1;32mif\u001b[0m \u001b[0mforce_all_finite\u001b[0m\u001b[1;33m:\u001b[0m\u001b[1;33m\u001b[0m\u001b[1;33m\u001b[0m\u001b[0m\n\u001b[1;32m--> 899\u001b[1;33m             _assert_all_finite(\n\u001b[0m\u001b[0;32m    900\u001b[0m                 \u001b[0marray\u001b[0m\u001b[1;33m,\u001b[0m\u001b[1;33m\u001b[0m\u001b[1;33m\u001b[0m\u001b[0m\n\u001b[0;32m    901\u001b[0m                 \u001b[0minput_name\u001b[0m\u001b[1;33m=\u001b[0m\u001b[0minput_name\u001b[0m\u001b[1;33m,\u001b[0m\u001b[1;33m\u001b[0m\u001b[1;33m\u001b[0m\u001b[0m\n",
      "\u001b[1;32m~\\AppData\\Roaming\\Python\\Python39\\site-packages\\sklearn\\utils\\validation.py\u001b[0m in \u001b[0;36m_assert_all_finite\u001b[1;34m(X, allow_nan, msg_dtype, estimator_name, input_name)\u001b[0m\n\u001b[0;32m    144\u001b[0m                     \u001b[1;34m\"#estimators-that-handle-nan-values\"\u001b[0m\u001b[1;33m\u001b[0m\u001b[1;33m\u001b[0m\u001b[0m\n\u001b[0;32m    145\u001b[0m                 )\n\u001b[1;32m--> 146\u001b[1;33m             \u001b[1;32mraise\u001b[0m \u001b[0mValueError\u001b[0m\u001b[1;33m(\u001b[0m\u001b[0mmsg_err\u001b[0m\u001b[1;33m)\u001b[0m\u001b[1;33m\u001b[0m\u001b[1;33m\u001b[0m\u001b[0m\n\u001b[0m\u001b[0;32m    147\u001b[0m \u001b[1;33m\u001b[0m\u001b[0m\n\u001b[0;32m    148\u001b[0m     \u001b[1;31m# for object dtype data, we only check for NaNs (GH-13254)\u001b[0m\u001b[1;33m\u001b[0m\u001b[1;33m\u001b[0m\u001b[0m\n",
      "\u001b[1;31mValueError\u001b[0m: Input X contains NaN.\nLocalOutlierFactor does not accept missing values encoded as NaN natively. For supervised learning, you might want to consider sklearn.ensemble.HistGradientBoostingClassifier and Regressor which accept missing values encoded as NaNs natively. Alternatively, it is possible to preprocess the data, for instance by using an imputer transformer in a pipeline or drop samples with missing values. See https://scikit-learn.org/stable/modules/impute.html You can find a list of all estimators that handle NaN values at the following page: https://scikit-learn.org/stable/modules/impute.html#estimators-that-handle-nan-values"
     ]
    }
   ],
   "source": [
    "from sklearn.neighbors import LocalOutlierFactor\n",
    "\n",
    "X = aux.iloc[:, [3, 7, 8, 9, 10, 11]]\n",
    "y = aux.iloc[:,-1]\n",
    "\n",
    "lof = LocalOutlierFactor()\n",
    "yhat = lof.fit_predict(X)\n",
    "yhat = yhat[yhat == -1]\n",
    "len(yhat)"
   ]
  },
  {
   "cell_type": "markdown",
   "id": "affd1fef-6a7b-4d49-b447-7ad2ad48b0b4",
   "metadata": {},
   "source": [
    "Vemos que no podemos usar este método porque contiene 'NaN' así que vamos a hacer un parón y volver a utilizarlo más adelante, después del apartado 2.3. de imputación de nulos."
   ]
  },
  {
   "cell_type": "markdown",
   "id": "3c3ba64a-7007-4e92-91ce-efd30a015639",
   "metadata": {},
   "source": [
    "#### 2.2.2. Valores perdidos"
   ]
  },
  {
   "cell_type": "markdown",
   "id": "d19628c3-c8f5-437b-b1aa-9cdc44b40b27",
   "metadata": {},
   "source": [
    "##### 2.2.2.1. Identificación de valores perdidos"
   ]
  },
  {
   "cell_type": "code",
   "execution_count": 345,
   "id": "845088ee-0e39-40e6-9fc9-3848e52d4580",
   "metadata": {},
   "outputs": [
    {
     "name": "stdout",
     "output_type": "stream",
     "text": [
      "language             3801\n",
      "bookFormat           1473\n",
      "edition             47479\n",
      "pages                2366\n",
      "publisher            3692\n",
      "publishDate           879\n",
      "firstPublishDate    21303\n",
      "numRatings              0\n",
      "likedPercent          621\n",
      "bbeScore                0\n",
      "bbeVotes                0\n",
      "price               14344\n",
      "author                  0\n",
      "genres               4620\n",
      "setting             40858\n",
      "target                  0\n",
      "dtype: int64\n"
     ]
    }
   ],
   "source": [
    "num_nulls = (aux.isnull()).sum()\n",
    "\n",
    "print(num_nulls)"
   ]
  },
  {
   "cell_type": "code",
   "execution_count": 346,
   "id": "72ff6384-c790-4298-9b5f-1b7b6cd59b71",
   "metadata": {},
   "outputs": [
    {
     "name": "stdout",
     "output_type": "stream",
     "text": [
      "> 0 \t Missing: 3801 \t (7.2%) \t language\n",
      "> 1 \t Missing: 1473 \t (2.8%) \t bookFormat\n",
      "> 2 \t Missing: 47479 \t (90.6%) \t edition\n",
      "> 3 \t Missing: 2366 \t (4.5%) \t pages\n",
      "> 4 \t Missing: 3692 \t (7.0%) \t publisher\n",
      "> 5 \t Missing: 879 \t (1.7%) \t publishDate\n",
      "> 6 \t Missing: 21303 \t (40.6%) \t firstPublishDate\n",
      "> 7 \t Missing: 0 \t (0.0%) \t numRatings\n",
      "> 8 \t Missing: 621 \t (1.2%) \t likedPercent\n",
      "> 9 \t Missing: 0 \t (0.0%) \t bbeScore\n",
      "> 10 \t Missing: 0 \t (0.0%) \t bbeVotes\n",
      "> 11 \t Missing: 14344 \t (27.4%) \t price\n",
      "> 12 \t Missing: 0 \t (0.0%) \t author\n",
      "> 13 \t Missing: 4620 \t (8.8%) \t genres\n",
      "> 14 \t Missing: 40858 \t (77.9%) \t setting\n",
      "> 15 \t Missing: 0 \t (0.0%) \t target\n"
     ]
    }
   ],
   "source": [
    "for i in range(aux.shape[1]):\n",
    "    n_miss = aux.iloc[:,i].isnull().sum()\n",
    "    perc = n_miss / aux.shape[0] * 100\n",
    "    print('> %d \\t Missing: %d \\t (%.1f%%) \\t %s' % (i, n_miss, perc, aux.columns[i]))"
   ]
  },
  {
   "cell_type": "markdown",
   "id": "72f47a45-2a53-4817-907d-4232da63cbc3",
   "metadata": {},
   "source": [
    "Vemos que tenemos en muchas columnas un grave problema de valores nulos, así que como viene así estructurado en la asignatura en este apartado simplemente vamos a eliminarlos. Más adelante los imputaremos."
   ]
  },
  {
   "cell_type": "markdown",
   "id": "2e759048-6511-4430-af6a-c8a0cb0a6310",
   "metadata": {},
   "source": [
    "##### 2.2.2.2. Borrado de filas con valores nulos"
   ]
  },
  {
   "cell_type": "code",
   "execution_count": 347,
   "id": "ada3caa0-246e-4dbe-afa6-80ab2d12f68b",
   "metadata": {},
   "outputs": [
    {
     "name": "stdout",
     "output_type": "stream",
     "text": [
      "(52428, 16)\n",
      "(642, 16)\n"
     ]
    }
   ],
   "source": [
    "df_noNulls = aux.copy()\n",
    "df_noNulls.dropna(inplace=True)\n",
    "#Antes\n",
    "print(aux.shape)\n",
    "#Después\n",
    "print(df_noNulls.shape)"
   ]
  },
  {
   "cell_type": "markdown",
   "id": "9a858a7c-8b5c-458e-94a0-08fc5bfe5a94",
   "metadata": {},
   "source": [
    "Acabamos, por arte de magia, de erradicar la base de datos. Vamos por tanto a eliminar directamente las columnas que tienen un porcentaje de nulos muy alto y luego volver a aplicar esta estrategia."
   ]
  },
  {
   "cell_type": "code",
   "execution_count": 348,
   "id": "a2631002-eb77-43e5-808f-d14dfcbb49a9",
   "metadata": {},
   "outputs": [],
   "source": [
    "aux = aux.drop(['edition', 'firstPublishDate', 'setting'], axis=1)"
   ]
  },
  {
   "cell_type": "code",
   "execution_count": 349,
   "id": "94ae6d5c-2989-45af-a757-f06aae6ed403",
   "metadata": {},
   "outputs": [
    {
     "name": "stdout",
     "output_type": "stream",
     "text": [
      "(52428, 13)\n",
      "(33848, 13)\n"
     ]
    }
   ],
   "source": [
    "df_noNulls = aux.copy()\n",
    "df_noNulls.dropna(inplace=True)\n",
    "#Antes\n",
    "print(aux.shape)\n",
    "#Después\n",
    "print(df_noNulls.shape)"
   ]
  },
  {
   "cell_type": "markdown",
   "id": "96a8b8c7-c122-49a0-aa8e-a69f0149fa63",
   "metadata": {},
   "source": [
    "Ahora ya obtenemos resultados más lógicos."
   ]
  },
  {
   "cell_type": "markdown",
   "id": "fb3a83cc-32a8-45cf-8eef-2d659d578217",
   "metadata": {},
   "source": [
    "### 2.3. Imputación de valores perdidos"
   ]
  },
  {
   "cell_type": "markdown",
   "id": "a9b016d9-e070-4b89-ad96-4703c906ee24",
   "metadata": {},
   "source": [
    "En este apartado vamos un poco a ciegas, porque no podemos comprobar que tan bien funciona cada imputación ya que tenemos variables categóricas de las que aún no hemos podido encargarnos. Así que vamos a crear un dataset para cada técnica y los validaremos más adelante.\n",
    "<br><br>\n",
    "Además, para todas las variables categóricas aplicaremos 'most_frequent' y el resto de técnicas para las númericas."
   ]
  },
  {
   "cell_type": "markdown",
   "id": "dd6e83d9-2a32-4b3f-a0fd-587e9b7b525a",
   "metadata": {},
   "source": [
    "#### 2.3.1. Imputación estadística"
   ]
  },
  {
   "cell_type": "code",
   "execution_count": 351,
   "id": "362c5623-bd43-44b4-919e-4e52a58e55af",
   "metadata": {},
   "outputs": [
    {
     "name": "stdout",
     "output_type": "stream",
     "text": [
      "<class 'pandas.core.frame.DataFrame'>\n",
      "Index: 52428 entries, The Hunger Games to Daughter of Helaman\n",
      "Data columns (total 13 columns):\n",
      " #   Column        Non-Null Count  Dtype  \n",
      "---  ------        --------------  -----  \n",
      " 0   language      48627 non-null  object \n",
      " 1   bookFormat    50955 non-null  object \n",
      " 2   pages         50062 non-null  float64\n",
      " 3   publisher     48736 non-null  object \n",
      " 4   publishDate   51549 non-null  object \n",
      " 5   numRatings    52428 non-null  int64  \n",
      " 6   likedPercent  51807 non-null  float64\n",
      " 7   bbeScore      52428 non-null  int64  \n",
      " 8   bbeVotes      52428 non-null  int64  \n",
      " 9   price         38084 non-null  float64\n",
      " 10  author        52428 non-null  object \n",
      " 11  genres        47808 non-null  object \n",
      " 12  target        52428 non-null  float64\n",
      "dtypes: float64(4), int64(3), object(6)\n",
      "memory usage: 5.6+ MB\n"
     ]
    }
   ],
   "source": [
    "aux.info()"
   ]
  },
  {
   "cell_type": "code",
   "execution_count": 407,
   "id": "df65b399-067d-4a43-a03b-01e33e8859a1",
   "metadata": {},
   "outputs": [],
   "source": [
    "X_cat = aux.iloc[:, [0, 1, 3, 4, 10, 11]]\n",
    "X_num = aux.iloc[:, [2, 5, 6, 7, 8, 9]]\n",
    "y = aux.iloc[:, -1]"
   ]
  },
  {
   "cell_type": "code",
   "execution_count": 408,
   "id": "853c54bd-e8a7-44cd-8118-fa2bb786b6e4",
   "metadata": {},
   "outputs": [],
   "source": [
    "X_cat = pd.DataFrame(SimpleImputer(strategy='most_frequent').fit_transform(X_cat), columns = X_cat.columns, index=X_cat.index)"
   ]
  },
  {
   "cell_type": "code",
   "execution_count": 413,
   "id": "065edebf-a115-44fe-935a-aa48e984a34b",
   "metadata": {},
   "outputs": [],
   "source": [
    "from sklearn.impute import SimpleImputer\n",
    "\n",
    "strategies = ['mean', 'median', 'most_frequent', 'constant']\n",
    "for s in strategies:\n",
    "    X_num_imputed = pd.DataFrame(SimpleImputer(strategy=s).fit_transform(X_num), columns = X_num.columns, index=X_num.index)\n",
    "    exec(f'df_imputed_{s} = pd.concat([X_num_imputed, X_cat, y], axis=1)')"
   ]
  },
  {
   "cell_type": "code",
   "execution_count": 420,
   "id": "6d823a2c-646c-40b6-a541-9fed7ac249a1",
   "metadata": {},
   "outputs": [
    {
     "name": "stdout",
     "output_type": "stream",
     "text": [
      "mean\n",
      "pages           0\n",
      "numRatings      0\n",
      "likedPercent    0\n",
      "bbeScore        0\n",
      "bbeVotes        0\n",
      "price           0\n",
      "language        0\n",
      "bookFormat      0\n",
      "publisher       0\n",
      "publishDate     0\n",
      "author          0\n",
      "genres          0\n",
      "target          0\n",
      "dtype: int64\n",
      "median\n",
      "pages           0\n",
      "numRatings      0\n",
      "likedPercent    0\n",
      "bbeScore        0\n",
      "bbeVotes        0\n",
      "price           0\n",
      "language        0\n",
      "bookFormat      0\n",
      "publisher       0\n",
      "publishDate     0\n",
      "author          0\n",
      "genres          0\n",
      "target          0\n",
      "dtype: int64\n",
      "most_frequent\n",
      "pages           0\n",
      "numRatings      0\n",
      "likedPercent    0\n",
      "bbeScore        0\n",
      "bbeVotes        0\n",
      "price           0\n",
      "language        0\n",
      "bookFormat      0\n",
      "publisher       0\n",
      "publishDate     0\n",
      "author          0\n",
      "genres          0\n",
      "target          0\n",
      "dtype: int64\n",
      "constant\n",
      "pages           0\n",
      "numRatings      0\n",
      "likedPercent    0\n",
      "bbeScore        0\n",
      "bbeVotes        0\n",
      "price           0\n",
      "language        0\n",
      "bookFormat      0\n",
      "publisher       0\n",
      "publishDate     0\n",
      "author          0\n",
      "genres          0\n",
      "target          0\n",
      "dtype: int64\n"
     ]
    }
   ],
   "source": [
    "#Probamos cada estrategia:\n",
    "for s in strategies:\n",
    "    print(s)\n",
    "    exec(f'print((df_imputed_{s}.isnull()).sum())')"
   ]
  },
  {
   "cell_type": "markdown",
   "id": "c83b8350-a82c-4225-b37c-ce64bf367f2a",
   "metadata": {},
   "source": [
    "Vemos que está todo perfecto y sin nulos."
   ]
  },
  {
   "cell_type": "markdown",
   "id": "f1585a77-c25a-422b-9026-d19416a671de",
   "metadata": {},
   "source": [
    "#### 2.3.2. Imputación por KNN"
   ]
  },
  {
   "cell_type": "markdown",
   "id": "7dad5a90-3e8c-4b5e-90ea-e84dfaeba62c",
   "metadata": {},
   "source": [
    "Hacemos lo mismo con al estrategia de imputación por KNN, vamos a tener un dataframe para cada KNN desde el 2 al 20 contando de dos en dos."
   ]
  },
  {
   "cell_type": "code",
   "execution_count": 422,
   "id": "6ab5d45e-aa45-46cd-99b3-46fe30a27162",
   "metadata": {},
   "outputs": [],
   "source": [
    "from sklearn.impute import KNNImputer\n",
    "\n",
    "strategies = [i for i in range(1,22,2)]\n",
    "for s in strategies:\n",
    "    X_num_imputed = pd.DataFrame(KNNImputer(n_neighbors=s).fit_transform(X_num), columns = X_num.columns, index=X_num.index)\n",
    "    exec(f'df_imputed_KNN{s} = pd.concat([X_num_imputed, X_cat, y], axis=1)')"
   ]
  },
  {
   "cell_type": "markdown",
   "id": "9434643c-c416-42c8-897c-3c3dbb5b993a",
   "metadata": {},
   "source": [
    "#### 2.3.3. Outliers con LOF"
   ]
  },
  {
   "cell_type": "markdown",
   "id": "e5ff1d43-e1c9-43ad-8c87-297e6130a911",
   "metadata": {},
   "source": [
    "Ya que en el momento de hacer el eliminado de espurios con el método LOF no hemos podido porque teniamos valores faltantes, lo retomamos en este apartado. Por simplificar las cosas vamos a dar por hecho que el que utiliza la media para imputar los valores faltantes numéricos es el mejor, y es el que vamos a utilizar para eliminar los espurios."
   ]
  },
  {
   "cell_type": "code",
   "execution_count": 429,
   "id": "f0b553a0-c013-4afe-94a1-7f8bba1d4f54",
   "metadata": {},
   "outputs": [
    {
     "data": {
      "text/plain": [
       "1573"
      ]
     },
     "execution_count": 429,
     "metadata": {},
     "output_type": "execute_result"
    }
   ],
   "source": [
    "from sklearn.neighbors import LocalOutlierFactor\n",
    "\n",
    "X = df_imputed_mean.iloc[:, [0, 1, 2, 3, 4, 5]]\n",
    "y = df_imputed_mean.iloc[:,-1]\n",
    "\n",
    "lof = LocalOutlierFactor()\n",
    "yhat = lof.fit_predict(X)\n",
    "yhat = yhat[yhat == -1]\n",
    "len(yhat)"
   ]
  },
  {
   "cell_type": "code",
   "execution_count": 469,
   "id": "6c613329-9e9b-459d-a3b9-1f7031ddf97a",
   "metadata": {},
   "outputs": [
    {
     "data": {
      "text/plain": [
       "(50855, 13)"
      ]
     },
     "execution_count": 469,
     "metadata": {},
     "output_type": "execute_result"
    }
   ],
   "source": [
    "yhat = lof.fit_predict(X)\n",
    "df_fin_3 = df_imputed_mean[yhat == 1]\n",
    "df_fin_3.shape"
   ]
  },
  {
   "cell_type": "code",
   "execution_count": 451,
   "id": "9a55652e-0ddf-4770-ba37-d9715c512f7f",
   "metadata": {},
   "outputs": [
    {
     "data": {
      "text/html": [
       "<div>\n",
       "<style scoped>\n",
       "    .dataframe tbody tr th:only-of-type {\n",
       "        vertical-align: middle;\n",
       "    }\n",
       "\n",
       "    .dataframe tbody tr th {\n",
       "        vertical-align: top;\n",
       "    }\n",
       "\n",
       "    .dataframe thead th {\n",
       "        text-align: right;\n",
       "    }\n",
       "</style>\n",
       "<table border=\"1\" class=\"dataframe\">\n",
       "  <thead>\n",
       "    <tr style=\"text-align: right;\">\n",
       "      <th></th>\n",
       "      <th>pages</th>\n",
       "      <th>numRatings</th>\n",
       "      <th>likedPercent</th>\n",
       "      <th>bbeScore</th>\n",
       "      <th>bbeVotes</th>\n",
       "      <th>price</th>\n",
       "      <th>language</th>\n",
       "      <th>bookFormat</th>\n",
       "      <th>publisher</th>\n",
       "      <th>publishDate</th>\n",
       "      <th>author</th>\n",
       "      <th>genres</th>\n",
       "      <th>target</th>\n",
       "    </tr>\n",
       "    <tr>\n",
       "      <th>title</th>\n",
       "      <th></th>\n",
       "      <th></th>\n",
       "      <th></th>\n",
       "      <th></th>\n",
       "      <th></th>\n",
       "      <th></th>\n",
       "      <th></th>\n",
       "      <th></th>\n",
       "      <th></th>\n",
       "      <th></th>\n",
       "      <th></th>\n",
       "      <th></th>\n",
       "      <th></th>\n",
       "    </tr>\n",
       "  </thead>\n",
       "  <tbody>\n",
       "    <tr>\n",
       "      <th>The Book Thief</th>\n",
       "      <td>552.0</td>\n",
       "      <td>1834276.0</td>\n",
       "      <td>96.0</td>\n",
       "      <td>1372809.0</td>\n",
       "      <td>14168.0</td>\n",
       "      <td>3.800000</td>\n",
       "      <td>English</td>\n",
       "      <td>Hardcover</td>\n",
       "      <td>Alfred A. Knopf</td>\n",
       "      <td>03/14/06</td>\n",
       "      <td>Markus Zusak (Goodreads Author)</td>\n",
       "      <td>Historical Fiction</td>\n",
       "      <td>4.37</td>\n",
       "    </tr>\n",
       "    <tr>\n",
       "      <th>Animal Farm</th>\n",
       "      <td>141.0</td>\n",
       "      <td>2740713.0</td>\n",
       "      <td>91.0</td>\n",
       "      <td>1276599.0</td>\n",
       "      <td>13264.0</td>\n",
       "      <td>4.420000</td>\n",
       "      <td>English</td>\n",
       "      <td>Mass Market Paperback</td>\n",
       "      <td>Signet Classics</td>\n",
       "      <td>04/28/96</td>\n",
       "      <td>George Orwell</td>\n",
       "      <td>Classics</td>\n",
       "      <td>3.95</td>\n",
       "    </tr>\n",
       "    <tr>\n",
       "      <th>Gone with the Wind</th>\n",
       "      <td>1037.0</td>\n",
       "      <td>1074620.0</td>\n",
       "      <td>94.0</td>\n",
       "      <td>1087732.0</td>\n",
       "      <td>11211.0</td>\n",
       "      <td>5.580000</td>\n",
       "      <td>English</td>\n",
       "      <td>Mass Market Paperback</td>\n",
       "      <td>Warner Books</td>\n",
       "      <td>04/01/99</td>\n",
       "      <td>Margaret Mitchell</td>\n",
       "      <td>Classics</td>\n",
       "      <td>4.30</td>\n",
       "    </tr>\n",
       "    <tr>\n",
       "      <th>The Hitchhiker's Guide to the Galaxy</th>\n",
       "      <td>193.0</td>\n",
       "      <td>1436325.0</td>\n",
       "      <td>94.0</td>\n",
       "      <td>1063601.0</td>\n",
       "      <td>10996.0</td>\n",
       "      <td>10.416236</td>\n",
       "      <td>English</td>\n",
       "      <td>Paperback</td>\n",
       "      <td>Del Rey</td>\n",
       "      <td>06/23/07</td>\n",
       "      <td>Douglas Adams</td>\n",
       "      <td>Science Fiction</td>\n",
       "      <td>4.22</td>\n",
       "    </tr>\n",
       "    <tr>\n",
       "      <th>The Giving Tree</th>\n",
       "      <td>64.0</td>\n",
       "      <td>905731.0</td>\n",
       "      <td>94.0</td>\n",
       "      <td>1021534.0</td>\n",
       "      <td>10594.0</td>\n",
       "      <td>4.870000</td>\n",
       "      <td>English</td>\n",
       "      <td>Hardcover</td>\n",
       "      <td>HarperCollins Publishers</td>\n",
       "      <td>10/07/64</td>\n",
       "      <td>Shel Silverstein</td>\n",
       "      <td>Childrens</td>\n",
       "      <td>4.37</td>\n",
       "    </tr>\n",
       "  </tbody>\n",
       "</table>\n",
       "</div>"
      ],
      "text/plain": [
       "                                       pages  numRatings  likedPercent  \\\n",
       "title                                                                    \n",
       "The Book Thief                         552.0   1834276.0          96.0   \n",
       "Animal Farm                            141.0   2740713.0          91.0   \n",
       "Gone with the Wind                    1037.0   1074620.0          94.0   \n",
       "The Hitchhiker's Guide to the Galaxy   193.0   1436325.0          94.0   \n",
       "The Giving Tree                         64.0    905731.0          94.0   \n",
       "\n",
       "                                       bbeScore  bbeVotes      price language  \\\n",
       "title                                                                           \n",
       "The Book Thief                        1372809.0   14168.0   3.800000  English   \n",
       "Animal Farm                           1276599.0   13264.0   4.420000  English   \n",
       "Gone with the Wind                    1087732.0   11211.0   5.580000  English   \n",
       "The Hitchhiker's Guide to the Galaxy  1063601.0   10996.0  10.416236  English   \n",
       "The Giving Tree                       1021534.0   10594.0   4.870000  English   \n",
       "\n",
       "                                                 bookFormat  \\\n",
       "title                                                         \n",
       "The Book Thief                                    Hardcover   \n",
       "Animal Farm                           Mass Market Paperback   \n",
       "Gone with the Wind                    Mass Market Paperback   \n",
       "The Hitchhiker's Guide to the Galaxy              Paperback   \n",
       "The Giving Tree                                   Hardcover   \n",
       "\n",
       "                                                     publisher publishDate  \\\n",
       "title                                                                        \n",
       "The Book Thief                                 Alfred A. Knopf    03/14/06   \n",
       "Animal Farm                                    Signet Classics    04/28/96   \n",
       "Gone with the Wind                                Warner Books    04/01/99   \n",
       "The Hitchhiker's Guide to the Galaxy                   Del Rey    06/23/07   \n",
       "The Giving Tree                       HarperCollins Publishers    10/07/64   \n",
       "\n",
       "                                                               author  \\\n",
       "title                                                                   \n",
       "The Book Thief                        Markus Zusak (Goodreads Author)   \n",
       "Animal Farm                                             George Orwell   \n",
       "Gone with the Wind                                  Margaret Mitchell   \n",
       "The Hitchhiker's Guide to the Galaxy                    Douglas Adams   \n",
       "The Giving Tree                                      Shel Silverstein   \n",
       "\n",
       "                                                  genres  target  \n",
       "title                                                             \n",
       "The Book Thief                        Historical Fiction    4.37  \n",
       "Animal Farm                                     Classics    3.95  \n",
       "Gone with the Wind                              Classics    4.30  \n",
       "The Hitchhiker's Guide to the Galaxy     Science Fiction    4.22  \n",
       "The Giving Tree                                Childrens    4.37  "
      ]
     },
     "execution_count": 451,
     "metadata": {},
     "output_type": "execute_result"
    }
   ],
   "source": [
    "df_fin_3.head()"
   ]
  },
  {
   "cell_type": "markdown",
   "id": "aa04c0b4-8fb2-477d-94ed-f9b9e3d770c6",
   "metadata": {},
   "source": [
    "### 2.4. Ordinal Encoding y One Hot Encoding"
   ]
  },
  {
   "cell_type": "markdown",
   "id": "dae989b4-0bc9-4c6f-b049-29203ff92a7b",
   "metadata": {},
   "source": [
    "Para este apartado, vamos a determinar primero qué variables serán transformadas con OrdinalEncoder y cuales con One Hot Encoding.\n",
    "<br><br>\n",
    "Para OneHotEncoder:\n",
    "   - language, \n",
    "   - bookFormat, \n",
    "   - publisher, \n",
    "   - author,\n",
    "   - genres"
   ]
  },
  {
   "cell_type": "markdown",
   "id": "ce8b821c-5467-411a-aa73-0374005097f6",
   "metadata": {},
   "source": [
    "\n",
    "Para OrdinalEncoder:\n",
    "   - publishDate"
   ]
  },
  {
   "cell_type": "code",
   "execution_count": 437,
   "id": "0057ba3c-a2df-425e-9e85-99d91ede2382",
   "metadata": {},
   "outputs": [
    {
     "ename": "MemoryError",
     "evalue": "Unable to allocate 13.0 GiB for an array with shape (50855, 34372) and data type float64",
     "output_type": "error",
     "traceback": [
      "\u001b[1;31m---------------------------------------------------------------------------\u001b[0m",
      "\u001b[1;31mMemoryError\u001b[0m                               Traceback (most recent call last)",
      "\u001b[1;32m~\\AppData\\Local\\Temp\\ipykernel_13580\\345260189.py\u001b[0m in \u001b[0;36m<module>\u001b[1;34m\u001b[0m\n\u001b[0;32m      3\u001b[0m \u001b[0mcat_cols\u001b[0m \u001b[1;33m=\u001b[0m \u001b[1;33m[\u001b[0m\u001b[1;34m'language'\u001b[0m\u001b[1;33m,\u001b[0m \u001b[1;34m'bookFormat'\u001b[0m\u001b[1;33m,\u001b[0m \u001b[1;34m'publisher'\u001b[0m\u001b[1;33m,\u001b[0m \u001b[1;34m'author'\u001b[0m\u001b[1;33m,\u001b[0m \u001b[1;34m'genres'\u001b[0m\u001b[1;33m]\u001b[0m\u001b[1;33m\u001b[0m\u001b[1;33m\u001b[0m\u001b[0m\n\u001b[0;32m      4\u001b[0m \u001b[0monehot_encoder\u001b[0m \u001b[1;33m=\u001b[0m \u001b[0mOneHotEncoder\u001b[0m\u001b[1;33m(\u001b[0m\u001b[0msparse\u001b[0m\u001b[1;33m=\u001b[0m\u001b[1;32mFalse\u001b[0m\u001b[1;33m)\u001b[0m\u001b[1;33m\u001b[0m\u001b[1;33m\u001b[0m\u001b[0m\n\u001b[1;32m----> 5\u001b[1;33m \u001b[0mfeature_arr\u001b[0m \u001b[1;33m=\u001b[0m \u001b[0monehot_encoder\u001b[0m\u001b[1;33m.\u001b[0m\u001b[0mfit_transform\u001b[0m\u001b[1;33m(\u001b[0m\u001b[0mdf_fin_3\u001b[0m\u001b[1;33m[\u001b[0m\u001b[0mcat_cols\u001b[0m\u001b[1;33m]\u001b[0m\u001b[1;33m)\u001b[0m\u001b[1;33m\u001b[0m\u001b[1;33m\u001b[0m\u001b[0m\n\u001b[0m\u001b[0;32m      6\u001b[0m \u001b[0mfeature_labels\u001b[0m \u001b[1;33m=\u001b[0m \u001b[0monehot_encoder\u001b[0m\u001b[1;33m.\u001b[0m\u001b[0mcategories_\u001b[0m\u001b[1;33m\u001b[0m\u001b[1;33m\u001b[0m\u001b[0m\n\u001b[0;32m      7\u001b[0m \u001b[0mfeature_labels\u001b[0m \u001b[1;33m=\u001b[0m \u001b[0mnp\u001b[0m\u001b[1;33m.\u001b[0m\u001b[0marray\u001b[0m\u001b[1;33m(\u001b[0m\u001b[0mfeature_labels\u001b[0m\u001b[1;33m)\u001b[0m\u001b[1;33m.\u001b[0m\u001b[0mravel\u001b[0m\u001b[1;33m(\u001b[0m\u001b[1;33m)\u001b[0m\u001b[1;33m\u001b[0m\u001b[1;33m\u001b[0m\u001b[0m\n",
      "\u001b[1;32m~\\AppData\\Roaming\\Python\\Python39\\site-packages\\sklearn\\preprocessing\\_encoders.py\u001b[0m in \u001b[0;36mfit_transform\u001b[1;34m(self, X, y)\u001b[0m\n\u001b[0;32m    853\u001b[0m         \"\"\"\n\u001b[0;32m    854\u001b[0m         \u001b[0mself\u001b[0m\u001b[1;33m.\u001b[0m\u001b[0m_validate_keywords\u001b[0m\u001b[1;33m(\u001b[0m\u001b[1;33m)\u001b[0m\u001b[1;33m\u001b[0m\u001b[1;33m\u001b[0m\u001b[0m\n\u001b[1;32m--> 855\u001b[1;33m         \u001b[1;32mreturn\u001b[0m \u001b[0msuper\u001b[0m\u001b[1;33m(\u001b[0m\u001b[1;33m)\u001b[0m\u001b[1;33m.\u001b[0m\u001b[0mfit_transform\u001b[0m\u001b[1;33m(\u001b[0m\u001b[0mX\u001b[0m\u001b[1;33m,\u001b[0m \u001b[0my\u001b[0m\u001b[1;33m)\u001b[0m\u001b[1;33m\u001b[0m\u001b[1;33m\u001b[0m\u001b[0m\n\u001b[0m\u001b[0;32m    856\u001b[0m \u001b[1;33m\u001b[0m\u001b[0m\n\u001b[0;32m    857\u001b[0m     \u001b[1;32mdef\u001b[0m \u001b[0mtransform\u001b[0m\u001b[1;33m(\u001b[0m\u001b[0mself\u001b[0m\u001b[1;33m,\u001b[0m \u001b[0mX\u001b[0m\u001b[1;33m)\u001b[0m\u001b[1;33m:\u001b[0m\u001b[1;33m\u001b[0m\u001b[1;33m\u001b[0m\u001b[0m\n",
      "\u001b[1;32m~\\AppData\\Roaming\\Python\\Python39\\site-packages\\sklearn\\base.py\u001b[0m in \u001b[0;36mfit_transform\u001b[1;34m(self, X, y, **fit_params)\u001b[0m\n\u001b[0;32m    865\u001b[0m         \u001b[1;32mif\u001b[0m \u001b[0my\u001b[0m \u001b[1;32mis\u001b[0m \u001b[1;32mNone\u001b[0m\u001b[1;33m:\u001b[0m\u001b[1;33m\u001b[0m\u001b[1;33m\u001b[0m\u001b[0m\n\u001b[0;32m    866\u001b[0m             \u001b[1;31m# fit method of arity 1 (unsupervised transformation)\u001b[0m\u001b[1;33m\u001b[0m\u001b[1;33m\u001b[0m\u001b[0m\n\u001b[1;32m--> 867\u001b[1;33m             \u001b[1;32mreturn\u001b[0m \u001b[0mself\u001b[0m\u001b[1;33m.\u001b[0m\u001b[0mfit\u001b[0m\u001b[1;33m(\u001b[0m\u001b[0mX\u001b[0m\u001b[1;33m,\u001b[0m \u001b[1;33m**\u001b[0m\u001b[0mfit_params\u001b[0m\u001b[1;33m)\u001b[0m\u001b[1;33m.\u001b[0m\u001b[0mtransform\u001b[0m\u001b[1;33m(\u001b[0m\u001b[0mX\u001b[0m\u001b[1;33m)\u001b[0m\u001b[1;33m\u001b[0m\u001b[1;33m\u001b[0m\u001b[0m\n\u001b[0m\u001b[0;32m    868\u001b[0m         \u001b[1;32melse\u001b[0m\u001b[1;33m:\u001b[0m\u001b[1;33m\u001b[0m\u001b[1;33m\u001b[0m\u001b[0m\n\u001b[0;32m    869\u001b[0m             \u001b[1;31m# fit method of arity 2 (supervised transformation)\u001b[0m\u001b[1;33m\u001b[0m\u001b[1;33m\u001b[0m\u001b[0m\n",
      "\u001b[1;32m~\\AppData\\Roaming\\Python\\Python39\\site-packages\\sklearn\\preprocessing\\_encoders.py\u001b[0m in \u001b[0;36mtransform\u001b[1;34m(self, X)\u001b[0m\n\u001b[0;32m    921\u001b[0m         )\n\u001b[0;32m    922\u001b[0m         \u001b[1;32mif\u001b[0m \u001b[1;32mnot\u001b[0m \u001b[0mself\u001b[0m\u001b[1;33m.\u001b[0m\u001b[0msparse\u001b[0m\u001b[1;33m:\u001b[0m\u001b[1;33m\u001b[0m\u001b[1;33m\u001b[0m\u001b[0m\n\u001b[1;32m--> 923\u001b[1;33m             \u001b[1;32mreturn\u001b[0m \u001b[0mout\u001b[0m\u001b[1;33m.\u001b[0m\u001b[0mtoarray\u001b[0m\u001b[1;33m(\u001b[0m\u001b[1;33m)\u001b[0m\u001b[1;33m\u001b[0m\u001b[1;33m\u001b[0m\u001b[0m\n\u001b[0m\u001b[0;32m    924\u001b[0m         \u001b[1;32melse\u001b[0m\u001b[1;33m:\u001b[0m\u001b[1;33m\u001b[0m\u001b[1;33m\u001b[0m\u001b[0m\n\u001b[0;32m    925\u001b[0m             \u001b[1;32mreturn\u001b[0m \u001b[0mout\u001b[0m\u001b[1;33m\u001b[0m\u001b[1;33m\u001b[0m\u001b[0m\n",
      "\u001b[1;32m~\\anaconda3\\lib\\site-packages\\scipy\\sparse\\_compressed.py\u001b[0m in \u001b[0;36mtoarray\u001b[1;34m(self, order, out)\u001b[0m\n\u001b[0;32m   1049\u001b[0m         \u001b[1;32mif\u001b[0m \u001b[0mout\u001b[0m \u001b[1;32mis\u001b[0m \u001b[1;32mNone\u001b[0m \u001b[1;32mand\u001b[0m \u001b[0morder\u001b[0m \u001b[1;32mis\u001b[0m \u001b[1;32mNone\u001b[0m\u001b[1;33m:\u001b[0m\u001b[1;33m\u001b[0m\u001b[1;33m\u001b[0m\u001b[0m\n\u001b[0;32m   1050\u001b[0m             \u001b[0morder\u001b[0m \u001b[1;33m=\u001b[0m \u001b[0mself\u001b[0m\u001b[1;33m.\u001b[0m\u001b[0m_swap\u001b[0m\u001b[1;33m(\u001b[0m\u001b[1;34m'cf'\u001b[0m\u001b[1;33m)\u001b[0m\u001b[1;33m[\u001b[0m\u001b[1;36m0\u001b[0m\u001b[1;33m]\u001b[0m\u001b[1;33m\u001b[0m\u001b[1;33m\u001b[0m\u001b[0m\n\u001b[1;32m-> 1051\u001b[1;33m         \u001b[0mout\u001b[0m \u001b[1;33m=\u001b[0m \u001b[0mself\u001b[0m\u001b[1;33m.\u001b[0m\u001b[0m_process_toarray_args\u001b[0m\u001b[1;33m(\u001b[0m\u001b[0morder\u001b[0m\u001b[1;33m,\u001b[0m \u001b[0mout\u001b[0m\u001b[1;33m)\u001b[0m\u001b[1;33m\u001b[0m\u001b[1;33m\u001b[0m\u001b[0m\n\u001b[0m\u001b[0;32m   1052\u001b[0m         \u001b[1;32mif\u001b[0m \u001b[1;32mnot\u001b[0m \u001b[1;33m(\u001b[0m\u001b[0mout\u001b[0m\u001b[1;33m.\u001b[0m\u001b[0mflags\u001b[0m\u001b[1;33m.\u001b[0m\u001b[0mc_contiguous\u001b[0m \u001b[1;32mor\u001b[0m \u001b[0mout\u001b[0m\u001b[1;33m.\u001b[0m\u001b[0mflags\u001b[0m\u001b[1;33m.\u001b[0m\u001b[0mf_contiguous\u001b[0m\u001b[1;33m)\u001b[0m\u001b[1;33m:\u001b[0m\u001b[1;33m\u001b[0m\u001b[1;33m\u001b[0m\u001b[0m\n\u001b[0;32m   1053\u001b[0m             \u001b[1;32mraise\u001b[0m \u001b[0mValueError\u001b[0m\u001b[1;33m(\u001b[0m\u001b[1;34m'Output array must be C or F contiguous'\u001b[0m\u001b[1;33m)\u001b[0m\u001b[1;33m\u001b[0m\u001b[1;33m\u001b[0m\u001b[0m\n",
      "\u001b[1;32m~\\anaconda3\\lib\\site-packages\\scipy\\sparse\\_base.py\u001b[0m in \u001b[0;36m_process_toarray_args\u001b[1;34m(self, order, out)\u001b[0m\n\u001b[0;32m   1296\u001b[0m             \u001b[1;32mreturn\u001b[0m \u001b[0mout\u001b[0m\u001b[1;33m\u001b[0m\u001b[1;33m\u001b[0m\u001b[0m\n\u001b[0;32m   1297\u001b[0m         \u001b[1;32melse\u001b[0m\u001b[1;33m:\u001b[0m\u001b[1;33m\u001b[0m\u001b[1;33m\u001b[0m\u001b[0m\n\u001b[1;32m-> 1298\u001b[1;33m             \u001b[1;32mreturn\u001b[0m \u001b[0mnp\u001b[0m\u001b[1;33m.\u001b[0m\u001b[0mzeros\u001b[0m\u001b[1;33m(\u001b[0m\u001b[0mself\u001b[0m\u001b[1;33m.\u001b[0m\u001b[0mshape\u001b[0m\u001b[1;33m,\u001b[0m \u001b[0mdtype\u001b[0m\u001b[1;33m=\u001b[0m\u001b[0mself\u001b[0m\u001b[1;33m.\u001b[0m\u001b[0mdtype\u001b[0m\u001b[1;33m,\u001b[0m \u001b[0morder\u001b[0m\u001b[1;33m=\u001b[0m\u001b[0morder\u001b[0m\u001b[1;33m)\u001b[0m\u001b[1;33m\u001b[0m\u001b[1;33m\u001b[0m\u001b[0m\n\u001b[0m\u001b[0;32m   1299\u001b[0m \u001b[1;33m\u001b[0m\u001b[0m\n\u001b[0;32m   1300\u001b[0m \u001b[1;33m\u001b[0m\u001b[0m\n",
      "\u001b[1;31mMemoryError\u001b[0m: Unable to allocate 13.0 GiB for an array with shape (50855, 34372) and data type float64"
     ]
    }
   ],
   "source": [
    "from sklearn.preprocessing import OneHotEncoder\n",
    "\n",
    "cat_cols = ['language', 'bookFormat', 'publisher', 'author', 'genres']\n",
    "onehot_encoder = OneHotEncoder(sparse=False)\n",
    "feature_arr = onehot_encoder.fit_transform(df_fin_3[cat_cols])\n",
    "feature_labels = onehot_encoder.categories_\n",
    "feature_labels = np.array(feature_labels).ravel()\n",
    "features = pd.DataFrame(feature_arr, columns=feature_labels)\n",
    "\n",
    "df_fin_3.drop(cat_cols, axis=1, inplace=True)\n",
    "df_fin_3 = pd.Concat([df_fin_3,features], axis=1)"
   ]
  },
  {
   "cell_type": "markdown",
   "id": "a8f385c6-e9aa-48f7-8ea4-e99908857b33",
   "metadata": {},
   "source": [
    "Vaya vaya, vemos que tenemos tantísimos valores distintos en nuestros datos categóricos que no podemos hacer esto. Así que haremos un Ordinal encoder para todos y nos curamos en disgustos."
   ]
  },
  {
   "cell_type": "code",
   "execution_count": 471,
   "id": "b249f1cd-140d-4329-a123-15902ec22c3b",
   "metadata": {},
   "outputs": [],
   "source": [
    "from sklearn.preprocessing import OrdinalEncoder\n",
    "\n",
    "pd.options.mode.chained_assignment = None \n",
    "cat_cols = ['language', 'bookFormat', 'publisher', 'author', 'genres', 'publishDate']\n",
    "ord_enc = OrdinalEncoder()\n",
    "feature_arr = ord_enc.fit_transform(df_fin_3[cat_cols])\n",
    "features = pd.DataFrame(feature_arr, columns=cat_cols, index=df_fin_3.index)\n",
    "\n",
    "df_fin_3.drop(cat_cols, axis=1, inplace=True)\n",
    "df_fin_3 = pd.concat([df_fin_3,features], axis=1)"
   ]
  },
  {
   "cell_type": "code",
   "execution_count": 472,
   "id": "5faecd1b-3e1b-420c-a387-f32358920b75",
   "metadata": {},
   "outputs": [
    {
     "data": {
      "text/html": [
       "<div>\n",
       "<style scoped>\n",
       "    .dataframe tbody tr th:only-of-type {\n",
       "        vertical-align: middle;\n",
       "    }\n",
       "\n",
       "    .dataframe tbody tr th {\n",
       "        vertical-align: top;\n",
       "    }\n",
       "\n",
       "    .dataframe thead th {\n",
       "        text-align: right;\n",
       "    }\n",
       "</style>\n",
       "<table border=\"1\" class=\"dataframe\">\n",
       "  <thead>\n",
       "    <tr style=\"text-align: right;\">\n",
       "      <th></th>\n",
       "      <th>pages</th>\n",
       "      <th>numRatings</th>\n",
       "      <th>likedPercent</th>\n",
       "      <th>bbeScore</th>\n",
       "      <th>bbeVotes</th>\n",
       "      <th>price</th>\n",
       "      <th>target</th>\n",
       "      <th>language</th>\n",
       "      <th>bookFormat</th>\n",
       "      <th>publisher</th>\n",
       "      <th>author</th>\n",
       "      <th>genres</th>\n",
       "      <th>publishDate</th>\n",
       "    </tr>\n",
       "    <tr>\n",
       "      <th>title</th>\n",
       "      <th></th>\n",
       "      <th></th>\n",
       "      <th></th>\n",
       "      <th></th>\n",
       "      <th></th>\n",
       "      <th></th>\n",
       "      <th></th>\n",
       "      <th></th>\n",
       "      <th></th>\n",
       "      <th></th>\n",
       "      <th></th>\n",
       "      <th></th>\n",
       "      <th></th>\n",
       "    </tr>\n",
       "  </thead>\n",
       "  <tbody>\n",
       "    <tr>\n",
       "      <th>The Book Thief</th>\n",
       "      <td>552.0</td>\n",
       "      <td>1834276.0</td>\n",
       "      <td>96.0</td>\n",
       "      <td>1372809.0</td>\n",
       "      <td>14168.0</td>\n",
       "      <td>3.800000</td>\n",
       "      <td>4.37</td>\n",
       "      <td>22.0</td>\n",
       "      <td>41.0</td>\n",
       "      <td>270.0</td>\n",
       "      <td>14195.0</td>\n",
       "      <td>179.0</td>\n",
       "      <td>117.0</td>\n",
       "    </tr>\n",
       "    <tr>\n",
       "      <th>Animal Farm</th>\n",
       "      <td>141.0</td>\n",
       "      <td>2740713.0</td>\n",
       "      <td>91.0</td>\n",
       "      <td>1276599.0</td>\n",
       "      <td>13264.0</td>\n",
       "      <td>4.420000</td>\n",
       "      <td>3.95</td>\n",
       "      <td>22.0</td>\n",
       "      <td>57.0</td>\n",
       "      <td>8087.0</td>\n",
       "      <td>7159.0</td>\n",
       "      <td>76.0</td>\n",
       "      <td>184.0</td>\n",
       "    </tr>\n",
       "    <tr>\n",
       "      <th>Gone with the Wind</th>\n",
       "      <td>1037.0</td>\n",
       "      <td>1074620.0</td>\n",
       "      <td>94.0</td>\n",
       "      <td>1087732.0</td>\n",
       "      <td>11211.0</td>\n",
       "      <td>5.580000</td>\n",
       "      <td>4.30</td>\n",
       "      <td>22.0</td>\n",
       "      <td>57.0</td>\n",
       "      <td>9461.0</td>\n",
       "      <td>13850.0</td>\n",
       "      <td>76.0</td>\n",
       "      <td>147.0</td>\n",
       "    </tr>\n",
       "    <tr>\n",
       "      <th>The Hitchhiker's Guide to the Galaxy</th>\n",
       "      <td>193.0</td>\n",
       "      <td>1436325.0</td>\n",
       "      <td>94.0</td>\n",
       "      <td>1063601.0</td>\n",
       "      <td>10996.0</td>\n",
       "      <td>10.416236</td>\n",
       "      <td>4.22</td>\n",
       "      <td>22.0</td>\n",
       "      <td>72.0</td>\n",
       "      <td>2305.0</td>\n",
       "      <td>5414.0</td>\n",
       "      <td>328.0</td>\n",
       "      <td>275.0</td>\n",
       "    </tr>\n",
       "    <tr>\n",
       "      <th>The Giving Tree</th>\n",
       "      <td>64.0</td>\n",
       "      <td>905731.0</td>\n",
       "      <td>94.0</td>\n",
       "      <td>1021534.0</td>\n",
       "      <td>10594.0</td>\n",
       "      <td>4.870000</td>\n",
       "      <td>4.37</td>\n",
       "      <td>22.0</td>\n",
       "      <td>41.0</td>\n",
       "      <td>4010.0</td>\n",
       "      <td>19429.0</td>\n",
       "      <td>65.0</td>\n",
       "      <td>465.0</td>\n",
       "    </tr>\n",
       "    <tr>\n",
       "      <th>...</th>\n",
       "      <td>...</td>\n",
       "      <td>...</td>\n",
       "      <td>...</td>\n",
       "      <td>...</td>\n",
       "      <td>...</td>\n",
       "      <td>...</td>\n",
       "      <td>...</td>\n",
       "      <td>...</td>\n",
       "      <td>...</td>\n",
       "      <td>...</td>\n",
       "      <td>...</td>\n",
       "      <td>...</td>\n",
       "      <td>...</td>\n",
       "    </tr>\n",
       "    <tr>\n",
       "      <th>Unbelievable</th>\n",
       "      <td>360.0</td>\n",
       "      <td>1028.0</td>\n",
       "      <td>94.0</td>\n",
       "      <td>0.0</td>\n",
       "      <td>1.0</td>\n",
       "      <td>19.180000</td>\n",
       "      <td>4.16</td>\n",
       "      <td>22.0</td>\n",
       "      <td>72.0</td>\n",
       "      <td>9676.0</td>\n",
       "      <td>19467.0</td>\n",
       "      <td>317.0</td>\n",
       "      <td>767.0</td>\n",
       "    </tr>\n",
       "    <tr>\n",
       "      <th>Anasazi</th>\n",
       "      <td>190.0</td>\n",
       "      <td>37.0</td>\n",
       "      <td>95.0</td>\n",
       "      <td>0.0</td>\n",
       "      <td>1.0</td>\n",
       "      <td>10.416236</td>\n",
       "      <td>4.19</td>\n",
       "      <td>22.0</td>\n",
       "      <td>72.0</td>\n",
       "      <td>1280.0</td>\n",
       "      <td>6131.0</td>\n",
       "      <td>259.0</td>\n",
       "      <td>2195.0</td>\n",
       "    </tr>\n",
       "    <tr>\n",
       "      <th>Marked</th>\n",
       "      <td>280.0</td>\n",
       "      <td>6674.0</td>\n",
       "      <td>84.0</td>\n",
       "      <td>0.0</td>\n",
       "      <td>1.0</td>\n",
       "      <td>7.370000</td>\n",
       "      <td>3.70</td>\n",
       "      <td>22.0</td>\n",
       "      <td>72.0</td>\n",
       "      <td>2009.0</td>\n",
       "      <td>12032.0</td>\n",
       "      <td>139.0</td>\n",
       "      <td>6486.0</td>\n",
       "    </tr>\n",
       "    <tr>\n",
       "      <th>Wayward Son</th>\n",
       "      <td>507.0</td>\n",
       "      <td>238.0</td>\n",
       "      <td>90.0</td>\n",
       "      <td>0.0</td>\n",
       "      <td>1.0</td>\n",
       "      <td>2.860000</td>\n",
       "      <td>3.85</td>\n",
       "      <td>22.0</td>\n",
       "      <td>72.0</td>\n",
       "      <td>1647.0</td>\n",
       "      <td>21152.0</td>\n",
       "      <td>143.0</td>\n",
       "      <td>9846.0</td>\n",
       "    </tr>\n",
       "    <tr>\n",
       "      <th>Daughter of Helaman</th>\n",
       "      <td>201.0</td>\n",
       "      <td>246.0</td>\n",
       "      <td>90.0</td>\n",
       "      <td>0.0</td>\n",
       "      <td>1.0</td>\n",
       "      <td>5.200000</td>\n",
       "      <td>4.02</td>\n",
       "      <td>22.0</td>\n",
       "      <td>72.0</td>\n",
       "      <td>1294.0</td>\n",
       "      <td>15319.0</td>\n",
       "      <td>216.0</td>\n",
       "      <td>7865.0</td>\n",
       "    </tr>\n",
       "  </tbody>\n",
       "</table>\n",
       "<p>50855 rows × 13 columns</p>\n",
       "</div>"
      ],
      "text/plain": [
       "                                       pages  numRatings  likedPercent  \\\n",
       "title                                                                    \n",
       "The Book Thief                         552.0   1834276.0          96.0   \n",
       "Animal Farm                            141.0   2740713.0          91.0   \n",
       "Gone with the Wind                    1037.0   1074620.0          94.0   \n",
       "The Hitchhiker's Guide to the Galaxy   193.0   1436325.0          94.0   \n",
       "The Giving Tree                         64.0    905731.0          94.0   \n",
       "...                                      ...         ...           ...   \n",
       "Unbelievable                           360.0      1028.0          94.0   \n",
       "Anasazi                                190.0        37.0          95.0   \n",
       "Marked                                 280.0      6674.0          84.0   \n",
       "Wayward Son                            507.0       238.0          90.0   \n",
       "Daughter of Helaman                    201.0       246.0          90.0   \n",
       "\n",
       "                                       bbeScore  bbeVotes      price  target  \\\n",
       "title                                                                          \n",
       "The Book Thief                        1372809.0   14168.0   3.800000    4.37   \n",
       "Animal Farm                           1276599.0   13264.0   4.420000    3.95   \n",
       "Gone with the Wind                    1087732.0   11211.0   5.580000    4.30   \n",
       "The Hitchhiker's Guide to the Galaxy  1063601.0   10996.0  10.416236    4.22   \n",
       "The Giving Tree                       1021534.0   10594.0   4.870000    4.37   \n",
       "...                                         ...       ...        ...     ...   \n",
       "Unbelievable                                0.0       1.0  19.180000    4.16   \n",
       "Anasazi                                     0.0       1.0  10.416236    4.19   \n",
       "Marked                                      0.0       1.0   7.370000    3.70   \n",
       "Wayward Son                                 0.0       1.0   2.860000    3.85   \n",
       "Daughter of Helaman                         0.0       1.0   5.200000    4.02   \n",
       "\n",
       "                                      language  bookFormat  publisher  \\\n",
       "title                                                                   \n",
       "The Book Thief                            22.0        41.0      270.0   \n",
       "Animal Farm                               22.0        57.0     8087.0   \n",
       "Gone with the Wind                        22.0        57.0     9461.0   \n",
       "The Hitchhiker's Guide to the Galaxy      22.0        72.0     2305.0   \n",
       "The Giving Tree                           22.0        41.0     4010.0   \n",
       "...                                        ...         ...        ...   \n",
       "Unbelievable                              22.0        72.0     9676.0   \n",
       "Anasazi                                   22.0        72.0     1280.0   \n",
       "Marked                                    22.0        72.0     2009.0   \n",
       "Wayward Son                               22.0        72.0     1647.0   \n",
       "Daughter of Helaman                       22.0        72.0     1294.0   \n",
       "\n",
       "                                       author  genres  publishDate  \n",
       "title                                                               \n",
       "The Book Thief                        14195.0   179.0        117.0  \n",
       "Animal Farm                            7159.0    76.0        184.0  \n",
       "Gone with the Wind                    13850.0    76.0        147.0  \n",
       "The Hitchhiker's Guide to the Galaxy   5414.0   328.0        275.0  \n",
       "The Giving Tree                       19429.0    65.0        465.0  \n",
       "...                                       ...     ...          ...  \n",
       "Unbelievable                          19467.0   317.0        767.0  \n",
       "Anasazi                                6131.0   259.0       2195.0  \n",
       "Marked                                12032.0   139.0       6486.0  \n",
       "Wayward Son                           21152.0   143.0       9846.0  \n",
       "Daughter of Helaman                   15319.0   216.0       7865.0  \n",
       "\n",
       "[50855 rows x 13 columns]"
      ]
     },
     "execution_count": 472,
     "metadata": {},
     "output_type": "execute_result"
    }
   ],
   "source": [
    "df_fin_3"
   ]
  },
  {
   "cell_type": "markdown",
   "id": "3936f5c2-c2bf-49bb-a4c2-266586288f96",
   "metadata": {},
   "source": [
    "Por fin tenemos nuestro dataframe limpio, codificado, sin nulos ni espurios. Vamos a ver qué valor nos da un random forest:"
   ]
  },
  {
   "cell_type": "code",
   "execution_count": 474,
   "id": "56fb91d9-e55f-4130-9531-1bf98a4720f9",
   "metadata": {},
   "outputs": [
    {
     "name": "stdout",
     "output_type": "stream",
     "text": [
      "RMSE: 903847444.19\n"
     ]
    }
   ],
   "source": [
    "from sklearn.ensemble import RandomForestRegressor\n",
    "from sklearn.model_selection import train_test_split\n",
    "from sklearn.metrics import mean_squared_error\n",
    "\n",
    "data = df_fin_3.values\n",
    "\n",
    "X = data[:, :-1]\n",
    "y = data[:, -1]\n",
    "\n",
    "X_train, X_test, y_train, y_test = train_test_split(X, y, test_size=0.2, random_state=1)\n",
    "\n",
    "regr = RandomForestRegressor(random_state=1)\n",
    "regr.fit(X_train, y_train)\n",
    "\n",
    "yhat = regr.predict(X_test)\n",
    "\n",
    "accuracy = mean_squared_error(y_test, yhat)\n",
    "print('RMSE: %.2f' % (accuracy*100))"
   ]
  },
  {
   "cell_type": "markdown",
   "id": "359dbdf7-ec32-4b27-9460-43cc9e0d17e2",
   "metadata": {},
   "source": [
    "## 3. Conclusiones"
   ]
  },
  {
   "cell_type": "code",
   "execution_count": null,
   "id": "03d91e33-6730-400b-8782-4e13eb4db2a3",
   "metadata": {},
   "outputs": [],
   "source": []
  }
 ],
 "metadata": {
  "kernelspec": {
   "display_name": "Python 3 (ipykernel)",
   "language": "python",
   "name": "python3"
  },
  "language_info": {
   "codemirror_mode": {
    "name": "ipython",
    "version": 3
   },
   "file_extension": ".py",
   "mimetype": "text/x-python",
   "name": "python",
   "nbconvert_exporter": "python",
   "pygments_lexer": "ipython3",
   "version": "3.9.13"
  }
 },
 "nbformat": 4,
 "nbformat_minor": 5
}
