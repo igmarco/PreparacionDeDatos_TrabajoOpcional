{
 "cells": [
  {
   "cell_type": "markdown",
   "metadata": {
    "tags": []
   },
   "source": [
    "# Práctica entregable: Preparación de datos"
   ]
  },
  {
   "cell_type": "markdown",
   "metadata": {
    "tags": []
   },
   "source": [
    "Base de datos con características sanitarias para tratar de predecir cáncer cervical. El dataset está accesible desde https://archive.ics.uci.edu/ml/datasets/Cervical+cancer+%28Risk+Factors%29.\n",
    "Se trata de un problema de clasificación. La variable objetivo binaria es \"Biopsy\", que indica (0 - False, 1 - True) si ha sufrido cáncer cervical."
   ]
  },
  {
   "cell_type": "markdown",
   "metadata": {},
   "source": [
    "## 0. Importación de paquetes"
   ]
  },
  {
   "cell_type": "markdown",
   "metadata": {},
   "source": [
    "Importamos los paquetes que utilizaremos en el desarrollo de la práctica."
   ]
  },
  {
   "cell_type": "code",
   "execution_count": 1,
   "metadata": {},
   "outputs": [],
   "source": [
    "import numpy as np\n",
    "import pandas as pd"
   ]
  },
  {
   "cell_type": "code",
   "execution_count": 2,
   "metadata": {},
   "outputs": [],
   "source": [
    "from matplotlib import pyplot"
   ]
  },
  {
   "cell_type": "code",
   "execution_count": 3,
   "metadata": {},
   "outputs": [],
   "source": [
    "from sklearn.pipeline import Pipeline\n",
    "from sklearn.base import BaseEstimator, ClassifierMixin, clone"
   ]
  },
  {
   "cell_type": "code",
   "execution_count": 4,
   "metadata": {},
   "outputs": [],
   "source": [
    "from sklearn.feature_selection import VarianceThreshold"
   ]
  },
  {
   "cell_type": "code",
   "execution_count": 5,
   "metadata": {},
   "outputs": [],
   "source": [
    "from sklearn.impute import SimpleImputer\n",
    "from sklearn.experimental import enable_iterative_imputer\n",
    "from sklearn import linear_model\n",
    "from sklearn.impute import IterativeImputer\n",
    "from sklearn.impute import KNNImputer "
   ]
  },
  {
   "cell_type": "code",
   "execution_count": 6,
   "metadata": {},
   "outputs": [],
   "source": [
    "from sklearn.neighbors import LocalOutlierFactor"
   ]
  },
  {
   "cell_type": "code",
   "execution_count": 7,
   "metadata": {},
   "outputs": [],
   "source": [
    "from sklearn.model_selection import KFold\n",
    "from sklearn.model_selection import RepeatedStratifiedKFold\n",
    "from sklearn.model_selection import cross_val_score\n",
    "from sklearn.model_selection import train_test_split"
   ]
  },
  {
   "cell_type": "code",
   "execution_count": 8,
   "metadata": {},
   "outputs": [],
   "source": [
    "from sklearn.discriminant_analysis import LinearDiscriminantAnalysis\n",
    "from sklearn.ensemble import RandomForestClassifier\n",
    "from sklearn.linear_model import LogisticRegression"
   ]
  },
  {
   "cell_type": "code",
   "execution_count": 9,
   "metadata": {},
   "outputs": [],
   "source": [
    "from sklearn.metrics import accuracy_score"
   ]
  },
  {
   "cell_type": "markdown",
   "metadata": {},
   "source": [
    "## 1. Lectura y análisis del dataset"
   ]
  },
  {
   "cell_type": "markdown",
   "metadata": {},
   "source": [
    "### 1.1. Importación de datos"
   ]
  },
  {
   "cell_type": "markdown",
   "metadata": {},
   "source": [
    "Realizamos la importación de los datos. Estudiando el archivo csv vemos que los valores nulos vienen representados mediante el caracter '?', así que lo indicamos en el momento de la importación para que se identifiquen automáticamente."
   ]
  },
  {
   "cell_type": "code",
   "execution_count": 10,
   "metadata": {},
   "outputs": [],
   "source": [
    "df = pd.read_csv('risk_factors_cervical_cancer.csv', delimiter=',', na_values='?') #leer dataset"
   ]
  },
  {
   "cell_type": "markdown",
   "metadata": {},
   "source": [
    "### 1.2. Estudio inicial del dataset"
   ]
  },
  {
   "cell_type": "markdown",
   "metadata": {},
   "source": [
    "Vemos que el dataset se compone de un total de 858 registros con 36 variables. En los pasos posteriores seleccionaremos algunas de estas columnas y eliminaremos algunas de las filas."
   ]
  },
  {
   "cell_type": "code",
   "execution_count": 11,
   "metadata": {},
   "outputs": [
    {
     "name": "stdout",
     "output_type": "stream",
     "text": [
      "(858, 36)\n"
     ]
    }
   ],
   "source": [
    "print(df.shape) "
   ]
  },
  {
   "cell_type": "markdown",
   "metadata": {},
   "source": [
    "Comenzamos estudiando los primeros registros del dataset, lo que nos da una idea inicial de cómo son sus datos. Podemos intuir a priori que el dataset no está balanceado (las cuatro columnas target tienen *0* o *False* como valor en los 5 registros) y que las columnas STDs tienen gran cantidad de nulos."
   ]
  },
  {
   "cell_type": "code",
   "execution_count": 12,
   "metadata": {},
   "outputs": [
    {
     "data": {
      "text/html": [
       "<div>\n",
       "<style scoped>\n",
       "    .dataframe tbody tr th:only-of-type {\n",
       "        vertical-align: middle;\n",
       "    }\n",
       "\n",
       "    .dataframe tbody tr th {\n",
       "        vertical-align: top;\n",
       "    }\n",
       "\n",
       "    .dataframe thead th {\n",
       "        text-align: right;\n",
       "    }\n",
       "</style>\n",
       "<table border=\"1\" class=\"dataframe\">\n",
       "  <thead>\n",
       "    <tr style=\"text-align: right;\">\n",
       "      <th></th>\n",
       "      <th>Age</th>\n",
       "      <th>Number of sexual partners</th>\n",
       "      <th>First sexual intercourse</th>\n",
       "      <th>Num of pregnancies</th>\n",
       "      <th>Smokes</th>\n",
       "      <th>Smokes (years)</th>\n",
       "      <th>Smokes (packs/year)</th>\n",
       "      <th>Hormonal Contraceptives</th>\n",
       "      <th>Hormonal Contraceptives (years)</th>\n",
       "      <th>IUD</th>\n",
       "      <th>...</th>\n",
       "      <th>STDs: Time since first diagnosis</th>\n",
       "      <th>STDs: Time since last diagnosis</th>\n",
       "      <th>Dx:Cancer</th>\n",
       "      <th>Dx:CIN</th>\n",
       "      <th>Dx:HPV</th>\n",
       "      <th>Dx</th>\n",
       "      <th>Hinselmann</th>\n",
       "      <th>Schiller</th>\n",
       "      <th>Citology</th>\n",
       "      <th>Biopsy</th>\n",
       "    </tr>\n",
       "  </thead>\n",
       "  <tbody>\n",
       "    <tr>\n",
       "      <th>0</th>\n",
       "      <td>18</td>\n",
       "      <td>4.0</td>\n",
       "      <td>15.0</td>\n",
       "      <td>1.0</td>\n",
       "      <td>0.0</td>\n",
       "      <td>0.0</td>\n",
       "      <td>0.0</td>\n",
       "      <td>0.0</td>\n",
       "      <td>0.0</td>\n",
       "      <td>0.0</td>\n",
       "      <td>...</td>\n",
       "      <td>NaN</td>\n",
       "      <td>NaN</td>\n",
       "      <td>0</td>\n",
       "      <td>0</td>\n",
       "      <td>0</td>\n",
       "      <td>0</td>\n",
       "      <td>0</td>\n",
       "      <td>0</td>\n",
       "      <td>0</td>\n",
       "      <td>0</td>\n",
       "    </tr>\n",
       "    <tr>\n",
       "      <th>1</th>\n",
       "      <td>15</td>\n",
       "      <td>1.0</td>\n",
       "      <td>14.0</td>\n",
       "      <td>1.0</td>\n",
       "      <td>0.0</td>\n",
       "      <td>0.0</td>\n",
       "      <td>0.0</td>\n",
       "      <td>0.0</td>\n",
       "      <td>0.0</td>\n",
       "      <td>0.0</td>\n",
       "      <td>...</td>\n",
       "      <td>NaN</td>\n",
       "      <td>NaN</td>\n",
       "      <td>0</td>\n",
       "      <td>0</td>\n",
       "      <td>0</td>\n",
       "      <td>0</td>\n",
       "      <td>0</td>\n",
       "      <td>0</td>\n",
       "      <td>0</td>\n",
       "      <td>0</td>\n",
       "    </tr>\n",
       "    <tr>\n",
       "      <th>2</th>\n",
       "      <td>34</td>\n",
       "      <td>1.0</td>\n",
       "      <td>NaN</td>\n",
       "      <td>1.0</td>\n",
       "      <td>0.0</td>\n",
       "      <td>0.0</td>\n",
       "      <td>0.0</td>\n",
       "      <td>0.0</td>\n",
       "      <td>0.0</td>\n",
       "      <td>0.0</td>\n",
       "      <td>...</td>\n",
       "      <td>NaN</td>\n",
       "      <td>NaN</td>\n",
       "      <td>0</td>\n",
       "      <td>0</td>\n",
       "      <td>0</td>\n",
       "      <td>0</td>\n",
       "      <td>0</td>\n",
       "      <td>0</td>\n",
       "      <td>0</td>\n",
       "      <td>0</td>\n",
       "    </tr>\n",
       "    <tr>\n",
       "      <th>3</th>\n",
       "      <td>52</td>\n",
       "      <td>5.0</td>\n",
       "      <td>16.0</td>\n",
       "      <td>4.0</td>\n",
       "      <td>1.0</td>\n",
       "      <td>37.0</td>\n",
       "      <td>37.0</td>\n",
       "      <td>1.0</td>\n",
       "      <td>3.0</td>\n",
       "      <td>0.0</td>\n",
       "      <td>...</td>\n",
       "      <td>NaN</td>\n",
       "      <td>NaN</td>\n",
       "      <td>1</td>\n",
       "      <td>0</td>\n",
       "      <td>1</td>\n",
       "      <td>0</td>\n",
       "      <td>0</td>\n",
       "      <td>0</td>\n",
       "      <td>0</td>\n",
       "      <td>0</td>\n",
       "    </tr>\n",
       "    <tr>\n",
       "      <th>4</th>\n",
       "      <td>46</td>\n",
       "      <td>3.0</td>\n",
       "      <td>21.0</td>\n",
       "      <td>4.0</td>\n",
       "      <td>0.0</td>\n",
       "      <td>0.0</td>\n",
       "      <td>0.0</td>\n",
       "      <td>1.0</td>\n",
       "      <td>15.0</td>\n",
       "      <td>0.0</td>\n",
       "      <td>...</td>\n",
       "      <td>NaN</td>\n",
       "      <td>NaN</td>\n",
       "      <td>0</td>\n",
       "      <td>0</td>\n",
       "      <td>0</td>\n",
       "      <td>0</td>\n",
       "      <td>0</td>\n",
       "      <td>0</td>\n",
       "      <td>0</td>\n",
       "      <td>0</td>\n",
       "    </tr>\n",
       "  </tbody>\n",
       "</table>\n",
       "<p>5 rows × 36 columns</p>\n",
       "</div>"
      ],
      "text/plain": [
       "   Age  Number of sexual partners  First sexual intercourse  \\\n",
       "0   18                        4.0                      15.0   \n",
       "1   15                        1.0                      14.0   \n",
       "2   34                        1.0                       NaN   \n",
       "3   52                        5.0                      16.0   \n",
       "4   46                        3.0                      21.0   \n",
       "\n",
       "   Num of pregnancies  Smokes  Smokes (years)  Smokes (packs/year)  \\\n",
       "0                 1.0     0.0             0.0                  0.0   \n",
       "1                 1.0     0.0             0.0                  0.0   \n",
       "2                 1.0     0.0             0.0                  0.0   \n",
       "3                 4.0     1.0            37.0                 37.0   \n",
       "4                 4.0     0.0             0.0                  0.0   \n",
       "\n",
       "   Hormonal Contraceptives  Hormonal Contraceptives (years)  IUD  ...  \\\n",
       "0                      0.0                              0.0  0.0  ...   \n",
       "1                      0.0                              0.0  0.0  ...   \n",
       "2                      0.0                              0.0  0.0  ...   \n",
       "3                      1.0                              3.0  0.0  ...   \n",
       "4                      1.0                             15.0  0.0  ...   \n",
       "\n",
       "   STDs: Time since first diagnosis  STDs: Time since last diagnosis  \\\n",
       "0                               NaN                              NaN   \n",
       "1                               NaN                              NaN   \n",
       "2                               NaN                              NaN   \n",
       "3                               NaN                              NaN   \n",
       "4                               NaN                              NaN   \n",
       "\n",
       "   Dx:Cancer  Dx:CIN  Dx:HPV  Dx  Hinselmann  Schiller  Citology  Biopsy  \n",
       "0          0       0       0   0           0         0         0       0  \n",
       "1          0       0       0   0           0         0         0       0  \n",
       "2          0       0       0   0           0         0         0       0  \n",
       "3          1       0       1   0           0         0         0       0  \n",
       "4          0       0       0   0           0         0         0       0  \n",
       "\n",
       "[5 rows x 36 columns]"
      ]
     },
     "execution_count": 12,
     "metadata": {},
     "output_type": "execute_result"
    }
   ],
   "source": [
    "df.head()"
   ]
  },
  {
   "cell_type": "markdown",
   "metadata": {},
   "source": [
    "Extraigamos algo más de información sobre cada columna. Como vemos, todas son numéricas, lo que nos facilitará el estudio al no tener que trabajar con variables categóricas. No obstante, tenemos que tener en cuenta que muchas de ellas son booleanas, algunas codificadas como enteras y otras como reales."
   ]
  },
  {
   "cell_type": "code",
   "execution_count": 13,
   "metadata": {},
   "outputs": [
    {
     "name": "stdout",
     "output_type": "stream",
     "text": [
      "<class 'pandas.core.frame.DataFrame'>\n",
      "RangeIndex: 858 entries, 0 to 857\n",
      "Data columns (total 36 columns):\n",
      " #   Column                              Non-Null Count  Dtype  \n",
      "---  ------                              --------------  -----  \n",
      " 0   Age                                 858 non-null    int64  \n",
      " 1   Number of sexual partners           832 non-null    float64\n",
      " 2   First sexual intercourse            851 non-null    float64\n",
      " 3   Num of pregnancies                  802 non-null    float64\n",
      " 4   Smokes                              845 non-null    float64\n",
      " 5   Smokes (years)                      845 non-null    float64\n",
      " 6   Smokes (packs/year)                 845 non-null    float64\n",
      " 7   Hormonal Contraceptives             750 non-null    float64\n",
      " 8   Hormonal Contraceptives (years)     750 non-null    float64\n",
      " 9   IUD                                 741 non-null    float64\n",
      " 10  IUD (years)                         741 non-null    float64\n",
      " 11  STDs                                753 non-null    float64\n",
      " 12  STDs (number)                       753 non-null    float64\n",
      " 13  STDs:condylomatosis                 753 non-null    float64\n",
      " 14  STDs:cervical condylomatosis        753 non-null    float64\n",
      " 15  STDs:vaginal condylomatosis         753 non-null    float64\n",
      " 16  STDs:vulvo-perineal condylomatosis  753 non-null    float64\n",
      " 17  STDs:syphilis                       753 non-null    float64\n",
      " 18  STDs:pelvic inflammatory disease    753 non-null    float64\n",
      " 19  STDs:genital herpes                 753 non-null    float64\n",
      " 20  STDs:molluscum contagiosum          753 non-null    float64\n",
      " 21  STDs:AIDS                           753 non-null    float64\n",
      " 22  STDs:HIV                            753 non-null    float64\n",
      " 23  STDs:Hepatitis B                    753 non-null    float64\n",
      " 24  STDs:HPV                            753 non-null    float64\n",
      " 25  STDs: Number of diagnosis           858 non-null    int64  \n",
      " 26  STDs: Time since first diagnosis    71 non-null     float64\n",
      " 27  STDs: Time since last diagnosis     71 non-null     float64\n",
      " 28  Dx:Cancer                           858 non-null    int64  \n",
      " 29  Dx:CIN                              858 non-null    int64  \n",
      " 30  Dx:HPV                              858 non-null    int64  \n",
      " 31  Dx                                  858 non-null    int64  \n",
      " 32  Hinselmann                          858 non-null    int64  \n",
      " 33  Schiller                            858 non-null    int64  \n",
      " 34  Citology                            858 non-null    int64  \n",
      " 35  Biopsy                              858 non-null    int64  \n",
      "dtypes: float64(26), int64(10)\n",
      "memory usage: 241.4 KB\n"
     ]
    }
   ],
   "source": [
    "df.info()"
   ]
  },
  {
   "cell_type": "markdown",
   "metadata": {},
   "source": [
    "Pasemos a estudiar en más profundidad las variables. Estudiando los percentiles junto a la media podemos hacernos una idea del rango, la normalidad y la asimetría de las variables numéricas. Con la desviación típica podemos ver las variaciones entre los valores de cada columna, especialmente en las booleanas."
   ]
  },
  {
   "cell_type": "code",
   "execution_count": 14,
   "metadata": {},
   "outputs": [
    {
     "data": {
      "text/html": [
       "<div>\n",
       "<style scoped>\n",
       "    .dataframe tbody tr th:only-of-type {\n",
       "        vertical-align: middle;\n",
       "    }\n",
       "\n",
       "    .dataframe tbody tr th {\n",
       "        vertical-align: top;\n",
       "    }\n",
       "\n",
       "    .dataframe thead th {\n",
       "        text-align: right;\n",
       "    }\n",
       "</style>\n",
       "<table border=\"1\" class=\"dataframe\">\n",
       "  <thead>\n",
       "    <tr style=\"text-align: right;\">\n",
       "      <th></th>\n",
       "      <th>Age</th>\n",
       "      <th>Number of sexual partners</th>\n",
       "      <th>First sexual intercourse</th>\n",
       "      <th>Num of pregnancies</th>\n",
       "      <th>Smokes</th>\n",
       "      <th>Smokes (years)</th>\n",
       "      <th>Smokes (packs/year)</th>\n",
       "      <th>Hormonal Contraceptives</th>\n",
       "      <th>Hormonal Contraceptives (years)</th>\n",
       "      <th>IUD</th>\n",
       "      <th>...</th>\n",
       "      <th>STDs: Time since first diagnosis</th>\n",
       "      <th>STDs: Time since last diagnosis</th>\n",
       "      <th>Dx:Cancer</th>\n",
       "      <th>Dx:CIN</th>\n",
       "      <th>Dx:HPV</th>\n",
       "      <th>Dx</th>\n",
       "      <th>Hinselmann</th>\n",
       "      <th>Schiller</th>\n",
       "      <th>Citology</th>\n",
       "      <th>Biopsy</th>\n",
       "    </tr>\n",
       "  </thead>\n",
       "  <tbody>\n",
       "    <tr>\n",
       "      <th>count</th>\n",
       "      <td>858.000000</td>\n",
       "      <td>832.000000</td>\n",
       "      <td>851.000000</td>\n",
       "      <td>802.000000</td>\n",
       "      <td>845.000000</td>\n",
       "      <td>845.000000</td>\n",
       "      <td>845.000000</td>\n",
       "      <td>750.000000</td>\n",
       "      <td>750.000000</td>\n",
       "      <td>741.000000</td>\n",
       "      <td>...</td>\n",
       "      <td>71.000000</td>\n",
       "      <td>71.000000</td>\n",
       "      <td>858.000000</td>\n",
       "      <td>858.000000</td>\n",
       "      <td>858.000000</td>\n",
       "      <td>858.000000</td>\n",
       "      <td>858.000000</td>\n",
       "      <td>858.000000</td>\n",
       "      <td>858.000000</td>\n",
       "      <td>858.000000</td>\n",
       "    </tr>\n",
       "    <tr>\n",
       "      <th>mean</th>\n",
       "      <td>26.820513</td>\n",
       "      <td>2.527644</td>\n",
       "      <td>16.995300</td>\n",
       "      <td>2.275561</td>\n",
       "      <td>0.145562</td>\n",
       "      <td>1.219721</td>\n",
       "      <td>0.453144</td>\n",
       "      <td>0.641333</td>\n",
       "      <td>2.256419</td>\n",
       "      <td>0.112011</td>\n",
       "      <td>...</td>\n",
       "      <td>6.140845</td>\n",
       "      <td>5.816901</td>\n",
       "      <td>0.020979</td>\n",
       "      <td>0.010490</td>\n",
       "      <td>0.020979</td>\n",
       "      <td>0.027972</td>\n",
       "      <td>0.040793</td>\n",
       "      <td>0.086247</td>\n",
       "      <td>0.051282</td>\n",
       "      <td>0.064103</td>\n",
       "    </tr>\n",
       "    <tr>\n",
       "      <th>std</th>\n",
       "      <td>8.497948</td>\n",
       "      <td>1.667760</td>\n",
       "      <td>2.803355</td>\n",
       "      <td>1.447414</td>\n",
       "      <td>0.352876</td>\n",
       "      <td>4.089017</td>\n",
       "      <td>2.226610</td>\n",
       "      <td>0.479929</td>\n",
       "      <td>3.764254</td>\n",
       "      <td>0.315593</td>\n",
       "      <td>...</td>\n",
       "      <td>5.895024</td>\n",
       "      <td>5.755271</td>\n",
       "      <td>0.143398</td>\n",
       "      <td>0.101939</td>\n",
       "      <td>0.143398</td>\n",
       "      <td>0.164989</td>\n",
       "      <td>0.197925</td>\n",
       "      <td>0.280892</td>\n",
       "      <td>0.220701</td>\n",
       "      <td>0.245078</td>\n",
       "    </tr>\n",
       "    <tr>\n",
       "      <th>min</th>\n",
       "      <td>13.000000</td>\n",
       "      <td>1.000000</td>\n",
       "      <td>10.000000</td>\n",
       "      <td>0.000000</td>\n",
       "      <td>0.000000</td>\n",
       "      <td>0.000000</td>\n",
       "      <td>0.000000</td>\n",
       "      <td>0.000000</td>\n",
       "      <td>0.000000</td>\n",
       "      <td>0.000000</td>\n",
       "      <td>...</td>\n",
       "      <td>1.000000</td>\n",
       "      <td>1.000000</td>\n",
       "      <td>0.000000</td>\n",
       "      <td>0.000000</td>\n",
       "      <td>0.000000</td>\n",
       "      <td>0.000000</td>\n",
       "      <td>0.000000</td>\n",
       "      <td>0.000000</td>\n",
       "      <td>0.000000</td>\n",
       "      <td>0.000000</td>\n",
       "    </tr>\n",
       "    <tr>\n",
       "      <th>25%</th>\n",
       "      <td>20.000000</td>\n",
       "      <td>2.000000</td>\n",
       "      <td>15.000000</td>\n",
       "      <td>1.000000</td>\n",
       "      <td>0.000000</td>\n",
       "      <td>0.000000</td>\n",
       "      <td>0.000000</td>\n",
       "      <td>0.000000</td>\n",
       "      <td>0.000000</td>\n",
       "      <td>0.000000</td>\n",
       "      <td>...</td>\n",
       "      <td>2.000000</td>\n",
       "      <td>2.000000</td>\n",
       "      <td>0.000000</td>\n",
       "      <td>0.000000</td>\n",
       "      <td>0.000000</td>\n",
       "      <td>0.000000</td>\n",
       "      <td>0.000000</td>\n",
       "      <td>0.000000</td>\n",
       "      <td>0.000000</td>\n",
       "      <td>0.000000</td>\n",
       "    </tr>\n",
       "    <tr>\n",
       "      <th>50%</th>\n",
       "      <td>25.000000</td>\n",
       "      <td>2.000000</td>\n",
       "      <td>17.000000</td>\n",
       "      <td>2.000000</td>\n",
       "      <td>0.000000</td>\n",
       "      <td>0.000000</td>\n",
       "      <td>0.000000</td>\n",
       "      <td>1.000000</td>\n",
       "      <td>0.500000</td>\n",
       "      <td>0.000000</td>\n",
       "      <td>...</td>\n",
       "      <td>4.000000</td>\n",
       "      <td>3.000000</td>\n",
       "      <td>0.000000</td>\n",
       "      <td>0.000000</td>\n",
       "      <td>0.000000</td>\n",
       "      <td>0.000000</td>\n",
       "      <td>0.000000</td>\n",
       "      <td>0.000000</td>\n",
       "      <td>0.000000</td>\n",
       "      <td>0.000000</td>\n",
       "    </tr>\n",
       "    <tr>\n",
       "      <th>75%</th>\n",
       "      <td>32.000000</td>\n",
       "      <td>3.000000</td>\n",
       "      <td>18.000000</td>\n",
       "      <td>3.000000</td>\n",
       "      <td>0.000000</td>\n",
       "      <td>0.000000</td>\n",
       "      <td>0.000000</td>\n",
       "      <td>1.000000</td>\n",
       "      <td>3.000000</td>\n",
       "      <td>0.000000</td>\n",
       "      <td>...</td>\n",
       "      <td>8.000000</td>\n",
       "      <td>7.500000</td>\n",
       "      <td>0.000000</td>\n",
       "      <td>0.000000</td>\n",
       "      <td>0.000000</td>\n",
       "      <td>0.000000</td>\n",
       "      <td>0.000000</td>\n",
       "      <td>0.000000</td>\n",
       "      <td>0.000000</td>\n",
       "      <td>0.000000</td>\n",
       "    </tr>\n",
       "    <tr>\n",
       "      <th>max</th>\n",
       "      <td>84.000000</td>\n",
       "      <td>28.000000</td>\n",
       "      <td>32.000000</td>\n",
       "      <td>11.000000</td>\n",
       "      <td>1.000000</td>\n",
       "      <td>37.000000</td>\n",
       "      <td>37.000000</td>\n",
       "      <td>1.000000</td>\n",
       "      <td>30.000000</td>\n",
       "      <td>1.000000</td>\n",
       "      <td>...</td>\n",
       "      <td>22.000000</td>\n",
       "      <td>22.000000</td>\n",
       "      <td>1.000000</td>\n",
       "      <td>1.000000</td>\n",
       "      <td>1.000000</td>\n",
       "      <td>1.000000</td>\n",
       "      <td>1.000000</td>\n",
       "      <td>1.000000</td>\n",
       "      <td>1.000000</td>\n",
       "      <td>1.000000</td>\n",
       "    </tr>\n",
       "  </tbody>\n",
       "</table>\n",
       "<p>8 rows × 36 columns</p>\n",
       "</div>"
      ],
      "text/plain": [
       "              Age  Number of sexual partners  First sexual intercourse  \\\n",
       "count  858.000000                 832.000000                851.000000   \n",
       "mean    26.820513                   2.527644                 16.995300   \n",
       "std      8.497948                   1.667760                  2.803355   \n",
       "min     13.000000                   1.000000                 10.000000   \n",
       "25%     20.000000                   2.000000                 15.000000   \n",
       "50%     25.000000                   2.000000                 17.000000   \n",
       "75%     32.000000                   3.000000                 18.000000   \n",
       "max     84.000000                  28.000000                 32.000000   \n",
       "\n",
       "       Num of pregnancies      Smokes  Smokes (years)  Smokes (packs/year)  \\\n",
       "count          802.000000  845.000000      845.000000           845.000000   \n",
       "mean             2.275561    0.145562        1.219721             0.453144   \n",
       "std              1.447414    0.352876        4.089017             2.226610   \n",
       "min              0.000000    0.000000        0.000000             0.000000   \n",
       "25%              1.000000    0.000000        0.000000             0.000000   \n",
       "50%              2.000000    0.000000        0.000000             0.000000   \n",
       "75%              3.000000    0.000000        0.000000             0.000000   \n",
       "max             11.000000    1.000000       37.000000            37.000000   \n",
       "\n",
       "       Hormonal Contraceptives  Hormonal Contraceptives (years)         IUD  \\\n",
       "count               750.000000                       750.000000  741.000000   \n",
       "mean                  0.641333                         2.256419    0.112011   \n",
       "std                   0.479929                         3.764254    0.315593   \n",
       "min                   0.000000                         0.000000    0.000000   \n",
       "25%                   0.000000                         0.000000    0.000000   \n",
       "50%                   1.000000                         0.500000    0.000000   \n",
       "75%                   1.000000                         3.000000    0.000000   \n",
       "max                   1.000000                        30.000000    1.000000   \n",
       "\n",
       "       ...  STDs: Time since first diagnosis  STDs: Time since last diagnosis  \\\n",
       "count  ...                         71.000000                        71.000000   \n",
       "mean   ...                          6.140845                         5.816901   \n",
       "std    ...                          5.895024                         5.755271   \n",
       "min    ...                          1.000000                         1.000000   \n",
       "25%    ...                          2.000000                         2.000000   \n",
       "50%    ...                          4.000000                         3.000000   \n",
       "75%    ...                          8.000000                         7.500000   \n",
       "max    ...                         22.000000                        22.000000   \n",
       "\n",
       "        Dx:Cancer      Dx:CIN      Dx:HPV          Dx  Hinselmann    Schiller  \\\n",
       "count  858.000000  858.000000  858.000000  858.000000  858.000000  858.000000   \n",
       "mean     0.020979    0.010490    0.020979    0.027972    0.040793    0.086247   \n",
       "std      0.143398    0.101939    0.143398    0.164989    0.197925    0.280892   \n",
       "min      0.000000    0.000000    0.000000    0.000000    0.000000    0.000000   \n",
       "25%      0.000000    0.000000    0.000000    0.000000    0.000000    0.000000   \n",
       "50%      0.000000    0.000000    0.000000    0.000000    0.000000    0.000000   \n",
       "75%      0.000000    0.000000    0.000000    0.000000    0.000000    0.000000   \n",
       "max      1.000000    1.000000    1.000000    1.000000    1.000000    1.000000   \n",
       "\n",
       "         Citology      Biopsy  \n",
       "count  858.000000  858.000000  \n",
       "mean     0.051282    0.064103  \n",
       "std      0.220701    0.245078  \n",
       "min      0.000000    0.000000  \n",
       "25%      0.000000    0.000000  \n",
       "50%      0.000000    0.000000  \n",
       "75%      0.000000    0.000000  \n",
       "max      1.000000    1.000000  \n",
       "\n",
       "[8 rows x 36 columns]"
      ]
     },
     "execution_count": 14,
     "metadata": {},
     "output_type": "execute_result"
    }
   ],
   "source": [
    "df.describe()"
   ]
  },
  {
   "cell_type": "markdown",
   "metadata": {},
   "source": [
    "Aunque las últimas 4 variables son targets según la descripción del dataset, para nuestro trabajo trataremos de predecir la última: \"Biopsy\", que indica el resultado de la biopsia para el cáncer cervical. En función de la infomración que dispongamos para realizar las predicciones futuras, habría que realizar el estudio con o sin las otras 3 variables. Para nuestro caso, asumiremos que no disponemos de esta información."
   ]
  },
  {
   "cell_type": "code",
   "execution_count": 15,
   "metadata": {},
   "outputs": [
    {
     "data": {
      "text/html": [
       "<div>\n",
       "<style scoped>\n",
       "    .dataframe tbody tr th:only-of-type {\n",
       "        vertical-align: middle;\n",
       "    }\n",
       "\n",
       "    .dataframe tbody tr th {\n",
       "        vertical-align: top;\n",
       "    }\n",
       "\n",
       "    .dataframe thead th {\n",
       "        text-align: right;\n",
       "    }\n",
       "</style>\n",
       "<table border=\"1\" class=\"dataframe\">\n",
       "  <thead>\n",
       "    <tr style=\"text-align: right;\">\n",
       "      <th></th>\n",
       "      <th>Hinselmann</th>\n",
       "      <th>Schiller</th>\n",
       "      <th>Citology</th>\n",
       "      <th>Biopsy</th>\n",
       "    </tr>\n",
       "  </thead>\n",
       "  <tbody>\n",
       "    <tr>\n",
       "      <th>0</th>\n",
       "      <td>0</td>\n",
       "      <td>0</td>\n",
       "      <td>0</td>\n",
       "      <td>0</td>\n",
       "    </tr>\n",
       "    <tr>\n",
       "      <th>1</th>\n",
       "      <td>0</td>\n",
       "      <td>0</td>\n",
       "      <td>0</td>\n",
       "      <td>0</td>\n",
       "    </tr>\n",
       "    <tr>\n",
       "      <th>2</th>\n",
       "      <td>0</td>\n",
       "      <td>0</td>\n",
       "      <td>0</td>\n",
       "      <td>0</td>\n",
       "    </tr>\n",
       "    <tr>\n",
       "      <th>3</th>\n",
       "      <td>0</td>\n",
       "      <td>0</td>\n",
       "      <td>0</td>\n",
       "      <td>0</td>\n",
       "    </tr>\n",
       "    <tr>\n",
       "      <th>4</th>\n",
       "      <td>0</td>\n",
       "      <td>0</td>\n",
       "      <td>0</td>\n",
       "      <td>0</td>\n",
       "    </tr>\n",
       "    <tr>\n",
       "      <th>5</th>\n",
       "      <td>0</td>\n",
       "      <td>0</td>\n",
       "      <td>0</td>\n",
       "      <td>0</td>\n",
       "    </tr>\n",
       "    <tr>\n",
       "      <th>6</th>\n",
       "      <td>1</td>\n",
       "      <td>1</td>\n",
       "      <td>0</td>\n",
       "      <td>1</td>\n",
       "    </tr>\n",
       "    <tr>\n",
       "      <th>7</th>\n",
       "      <td>0</td>\n",
       "      <td>0</td>\n",
       "      <td>0</td>\n",
       "      <td>0</td>\n",
       "    </tr>\n",
       "    <tr>\n",
       "      <th>8</th>\n",
       "      <td>0</td>\n",
       "      <td>0</td>\n",
       "      <td>0</td>\n",
       "      <td>0</td>\n",
       "    </tr>\n",
       "    <tr>\n",
       "      <th>9</th>\n",
       "      <td>0</td>\n",
       "      <td>0</td>\n",
       "      <td>0</td>\n",
       "      <td>0</td>\n",
       "    </tr>\n",
       "  </tbody>\n",
       "</table>\n",
       "</div>"
      ],
      "text/plain": [
       "   Hinselmann  Schiller  Citology  Biopsy\n",
       "0           0         0         0       0\n",
       "1           0         0         0       0\n",
       "2           0         0         0       0\n",
       "3           0         0         0       0\n",
       "4           0         0         0       0\n",
       "5           0         0         0       0\n",
       "6           1         1         0       1\n",
       "7           0         0         0       0\n",
       "8           0         0         0       0\n",
       "9           0         0         0       0"
      ]
     },
     "execution_count": 15,
     "metadata": {},
     "output_type": "execute_result"
    }
   ],
   "source": [
    "df.iloc[:,[-4,-3,-2,-1]].head(10)"
   ]
  },
  {
   "cell_type": "markdown",
   "metadata": {},
   "source": [
    "Como es evidente, ambas variables están positivamente correlacionadas por parejas."
   ]
  },
  {
   "cell_type": "code",
   "execution_count": 16,
   "metadata": {},
   "outputs": [
    {
     "data": {
      "text/html": [
       "<div>\n",
       "<style scoped>\n",
       "    .dataframe tbody tr th:only-of-type {\n",
       "        vertical-align: middle;\n",
       "    }\n",
       "\n",
       "    .dataframe tbody tr th {\n",
       "        vertical-align: top;\n",
       "    }\n",
       "\n",
       "    .dataframe thead th {\n",
       "        text-align: right;\n",
       "    }\n",
       "</style>\n",
       "<table border=\"1\" class=\"dataframe\">\n",
       "  <thead>\n",
       "    <tr style=\"text-align: right;\">\n",
       "      <th></th>\n",
       "      <th>Hinselmann</th>\n",
       "      <th>Schiller</th>\n",
       "      <th>Citology</th>\n",
       "      <th>Biopsy</th>\n",
       "    </tr>\n",
       "  </thead>\n",
       "  <tbody>\n",
       "    <tr>\n",
       "      <th>Hinselmann</th>\n",
       "      <td>1.000000</td>\n",
       "      <td>0.650249</td>\n",
       "      <td>0.192467</td>\n",
       "      <td>0.547417</td>\n",
       "    </tr>\n",
       "    <tr>\n",
       "      <th>Schiller</th>\n",
       "      <td>0.650249</td>\n",
       "      <td>1.000000</td>\n",
       "      <td>0.361486</td>\n",
       "      <td>0.733204</td>\n",
       "    </tr>\n",
       "    <tr>\n",
       "      <th>Citology</th>\n",
       "      <td>0.192467</td>\n",
       "      <td>0.361486</td>\n",
       "      <td>1.000000</td>\n",
       "      <td>0.327466</td>\n",
       "    </tr>\n",
       "    <tr>\n",
       "      <th>Biopsy</th>\n",
       "      <td>0.547417</td>\n",
       "      <td>0.733204</td>\n",
       "      <td>0.327466</td>\n",
       "      <td>1.000000</td>\n",
       "    </tr>\n",
       "  </tbody>\n",
       "</table>\n",
       "</div>"
      ],
      "text/plain": [
       "            Hinselmann  Schiller  Citology    Biopsy\n",
       "Hinselmann    1.000000  0.650249  0.192467  0.547417\n",
       "Schiller      0.650249  1.000000  0.361486  0.733204\n",
       "Citology      0.192467  0.361486  1.000000  0.327466\n",
       "Biopsy        0.547417  0.733204  0.327466  1.000000"
      ]
     },
     "execution_count": 16,
     "metadata": {},
     "output_type": "execute_result"
    }
   ],
   "source": [
    "df.iloc[:,[-4,-3,-2,-1]].corr()"
   ]
  },
  {
   "cell_type": "code",
   "execution_count": 17,
   "metadata": {},
   "outputs": [
    {
     "data": {
      "text/plain": [
       "Index(['Age', 'Number of sexual partners', 'First sexual intercourse',\n",
       "       'Num of pregnancies', 'Smokes', 'Smokes (years)', 'Smokes (packs/year)',\n",
       "       'Hormonal Contraceptives', 'Hormonal Contraceptives (years)', 'IUD',\n",
       "       'IUD (years)', 'STDs', 'STDs (number)', 'STDs:condylomatosis',\n",
       "       'STDs:cervical condylomatosis', 'STDs:vaginal condylomatosis',\n",
       "       'STDs:vulvo-perineal condylomatosis', 'STDs:syphilis',\n",
       "       'STDs:pelvic inflammatory disease', 'STDs:genital herpes',\n",
       "       'STDs:molluscum contagiosum', 'STDs:AIDS', 'STDs:HIV',\n",
       "       'STDs:Hepatitis B', 'STDs:HPV', 'STDs: Number of diagnosis',\n",
       "       'STDs: Time since first diagnosis', 'STDs: Time since last diagnosis',\n",
       "       'Dx:Cancer', 'Dx:CIN', 'Dx:HPV', 'Dx', 'Biopsy'],\n",
       "      dtype='object')"
      ]
     },
     "execution_count": 17,
     "metadata": {},
     "output_type": "execute_result"
    }
   ],
   "source": [
    "df.drop([\"Hinselmann\", \"Schiller\", \"Citology\"], axis=1, inplace=True)\n",
    "df.columns"
   ]
  },
  {
   "cell_type": "markdown",
   "metadata": {},
   "source": [
    "## 2. Preprocesado"
   ]
  },
  {
   "cell_type": "markdown",
   "metadata": {},
   "source": [
    "### 2.1. Limpieza básica de datos"
   ]
  },
  {
   "cell_type": "markdown",
   "metadata": {},
   "source": [
    "Para limpiar los datos, vamos a eliminar las columnas que contengan un único valor y a estudiar aquellas que tengan un bajo número de valores diferentes o una baja varianza. También vamos a eliminar las filas repetidas. Por último, estudiaremos tanto los valores nulos, realizando el borrado o las imputaciones correspondientes, como los outliers, aplicando las técnicas estudiadas en clase."
   ]
  },
  {
   "cell_type": "markdown",
   "metadata": {},
   "source": [
    "#### 2.1.1. Valores únicos"
   ]
  },
  {
   "cell_type": "markdown",
   "metadata": {},
   "source": [
    "##### 2.1.1.1. Identificación de columnas con valores únicos"
   ]
  },
  {
   "cell_type": "markdown",
   "metadata": {},
   "source": [
    "Lo primero que se comprueba es si alguna de las columnas númericas tiene un único valor, puesto que en ese caso la columna no aporta información."
   ]
  },
  {
   "cell_type": "code",
   "execution_count": 18,
   "metadata": {},
   "outputs": [
    {
     "data": {
      "text/plain": [
       "Age                                   44\n",
       "Number of sexual partners             12\n",
       "First sexual intercourse              21\n",
       "Num of pregnancies                    11\n",
       "Smokes                                 2\n",
       "Smokes (years)                        30\n",
       "Smokes (packs/year)                   62\n",
       "Hormonal Contraceptives                2\n",
       "Hormonal Contraceptives (years)       40\n",
       "IUD                                    2\n",
       "IUD (years)                           26\n",
       "STDs                                   2\n",
       "STDs (number)                          5\n",
       "STDs:condylomatosis                    2\n",
       "STDs:cervical condylomatosis           1\n",
       "STDs:vaginal condylomatosis            2\n",
       "STDs:vulvo-perineal condylomatosis     2\n",
       "STDs:syphilis                          2\n",
       "STDs:pelvic inflammatory disease       2\n",
       "STDs:genital herpes                    2\n",
       "STDs:molluscum contagiosum             2\n",
       "STDs:AIDS                              1\n",
       "STDs:HIV                               2\n",
       "STDs:Hepatitis B                       2\n",
       "STDs:HPV                               2\n",
       "STDs: Number of diagnosis              4\n",
       "STDs: Time since first diagnosis      18\n",
       "STDs: Time since last diagnosis       18\n",
       "Dx:Cancer                              2\n",
       "Dx:CIN                                 2\n",
       "Dx:HPV                                 2\n",
       "Dx                                     2\n",
       "Biopsy                                 2\n",
       "dtype: int64"
      ]
     },
     "execution_count": 18,
     "metadata": {},
     "output_type": "execute_result"
    }
   ],
   "source": [
    "import numpy as np\n",
    "df.nunique()"
   ]
  },
  {
   "cell_type": "markdown",
   "metadata": {},
   "source": [
    "Vemos que existen columnas con un único valor. Identifiquémoslas todas."
   ]
  },
  {
   "cell_type": "code",
   "execution_count": 19,
   "metadata": {},
   "outputs": [
    {
     "data": {
      "text/plain": [
       "STDs:cervical condylomatosis    1\n",
       "STDs:AIDS                       1\n",
       "dtype: int64"
      ]
     },
     "execution_count": 19,
     "metadata": {},
     "output_type": "execute_result"
    }
   ],
   "source": [
    "df.nunique()[df.nunique().array == 1]"
   ]
  },
  {
   "cell_type": "markdown",
   "metadata": {},
   "source": [
    "##### 2.1.1.2. Borrado de columnas con valores únicos"
   ]
  },
  {
   "cell_type": "markdown",
   "metadata": {},
   "source": [
    "Eliminemos estas dos columnas de forma automática."
   ]
  },
  {
   "cell_type": "code",
   "execution_count": 20,
   "metadata": {},
   "outputs": [
    {
     "name": "stdout",
     "output_type": "stream",
     "text": [
      "(858, 33)\n",
      "(858, 31)\n"
     ]
    }
   ],
   "source": [
    "print(df.shape)\n",
    "to_del = df.nunique()[df.nunique().array == 1].index\n",
    "df.drop(to_del, axis=1, inplace=True)\n",
    "print(df.shape)"
   ]
  },
  {
   "cell_type": "markdown",
   "metadata": {},
   "source": [
    "Una vez eliminadas estas variables, pasemos a mostrar de nuevo un resumen de las columnas."
   ]
  },
  {
   "cell_type": "code",
   "execution_count": 21,
   "metadata": {},
   "outputs": [
    {
     "name": "stdout",
     "output_type": "stream",
     "text": [
      "<class 'pandas.core.frame.DataFrame'>\n",
      "RangeIndex: 858 entries, 0 to 857\n",
      "Data columns (total 31 columns):\n",
      " #   Column                              Non-Null Count  Dtype  \n",
      "---  ------                              --------------  -----  \n",
      " 0   Age                                 858 non-null    int64  \n",
      " 1   Number of sexual partners           832 non-null    float64\n",
      " 2   First sexual intercourse            851 non-null    float64\n",
      " 3   Num of pregnancies                  802 non-null    float64\n",
      " 4   Smokes                              845 non-null    float64\n",
      " 5   Smokes (years)                      845 non-null    float64\n",
      " 6   Smokes (packs/year)                 845 non-null    float64\n",
      " 7   Hormonal Contraceptives             750 non-null    float64\n",
      " 8   Hormonal Contraceptives (years)     750 non-null    float64\n",
      " 9   IUD                                 741 non-null    float64\n",
      " 10  IUD (years)                         741 non-null    float64\n",
      " 11  STDs                                753 non-null    float64\n",
      " 12  STDs (number)                       753 non-null    float64\n",
      " 13  STDs:condylomatosis                 753 non-null    float64\n",
      " 14  STDs:vaginal condylomatosis         753 non-null    float64\n",
      " 15  STDs:vulvo-perineal condylomatosis  753 non-null    float64\n",
      " 16  STDs:syphilis                       753 non-null    float64\n",
      " 17  STDs:pelvic inflammatory disease    753 non-null    float64\n",
      " 18  STDs:genital herpes                 753 non-null    float64\n",
      " 19  STDs:molluscum contagiosum          753 non-null    float64\n",
      " 20  STDs:HIV                            753 non-null    float64\n",
      " 21  STDs:Hepatitis B                    753 non-null    float64\n",
      " 22  STDs:HPV                            753 non-null    float64\n",
      " 23  STDs: Number of diagnosis           858 non-null    int64  \n",
      " 24  STDs: Time since first diagnosis    71 non-null     float64\n",
      " 25  STDs: Time since last diagnosis     71 non-null     float64\n",
      " 26  Dx:Cancer                           858 non-null    int64  \n",
      " 27  Dx:CIN                              858 non-null    int64  \n",
      " 28  Dx:HPV                              858 non-null    int64  \n",
      " 29  Dx                                  858 non-null    int64  \n",
      " 30  Biopsy                              858 non-null    int64  \n",
      "dtypes: float64(24), int64(7)\n",
      "memory usage: 207.9 KB\n"
     ]
    }
   ],
   "source": [
    "df.info()"
   ]
  },
  {
   "cell_type": "markdown",
   "metadata": {},
   "source": [
    "#### 2.1.2. Baja variedad de valores"
   ]
  },
  {
   "cell_type": "markdown",
   "metadata": {},
   "source": [
    "##### 2.1.2.1. Identificación de columnas con baja variedad de valores"
   ]
  },
  {
   "cell_type": "markdown",
   "metadata": {},
   "source": [
    "Para llevar a cabo la identificación de las variables que tienen una baja variedad de valores, mostremos para cada una el número de valores únicos que toma y el porcentaje que supone respecto al total de registros."
   ]
  },
  {
   "cell_type": "code",
   "execution_count": 22,
   "metadata": {},
   "outputs": [
    {
     "name": "stdout",
     "output_type": "stream",
     "text": [
      "0 \t 44 \t 5.1% \t Age\n",
      "1 \t 13 \t 1.5% \t Number of sexual partners\n",
      "2 \t 22 \t 2.6% \t First sexual intercourse\n",
      "3 \t 12 \t 1.4% \t Num of pregnancies\n",
      "4 \t 3 \t 0.3% \t Smokes\n",
      "5 \t 31 \t 3.6% \t Smokes (years)\n",
      "6 \t 63 \t 7.3% \t Smokes (packs/year)\n",
      "7 \t 3 \t 0.3% \t Hormonal Contraceptives\n",
      "8 \t 41 \t 4.8% \t Hormonal Contraceptives (years)\n",
      "9 \t 3 \t 0.3% \t IUD\n",
      "10 \t 27 \t 3.1% \t IUD (years)\n",
      "11 \t 3 \t 0.3% \t STDs\n",
      "12 \t 6 \t 0.7% \t STDs (number)\n",
      "13 \t 3 \t 0.3% \t STDs:condylomatosis\n",
      "14 \t 3 \t 0.3% \t STDs:vaginal condylomatosis\n",
      "15 \t 3 \t 0.3% \t STDs:vulvo-perineal condylomatosis\n",
      "16 \t 3 \t 0.3% \t STDs:syphilis\n",
      "17 \t 3 \t 0.3% \t STDs:pelvic inflammatory disease\n",
      "18 \t 3 \t 0.3% \t STDs:genital herpes\n",
      "19 \t 3 \t 0.3% \t STDs:molluscum contagiosum\n",
      "20 \t 3 \t 0.3% \t STDs:HIV\n",
      "21 \t 3 \t 0.3% \t STDs:Hepatitis B\n",
      "22 \t 3 \t 0.3% \t STDs:HPV\n",
      "23 \t 4 \t 0.5% \t STDs: Number of diagnosis\n",
      "24 \t 19 \t 2.2% \t STDs: Time since first diagnosis\n",
      "25 \t 19 \t 2.2% \t STDs: Time since last diagnosis\n",
      "26 \t 2 \t 0.2% \t Dx:Cancer\n",
      "27 \t 2 \t 0.2% \t Dx:CIN\n",
      "28 \t 2 \t 0.2% \t Dx:HPV\n",
      "29 \t 2 \t 0.2% \t Dx\n",
      "30 \t 2 \t 0.2% \t Biopsy\n"
     ]
    }
   ],
   "source": [
    "# summarize the number of unique values in each column\n",
    "for i in range(df.shape[1]):\n",
    "    num = len(np.unique(df.iloc[:, i]))\n",
    "    percentage = num / df.shape[0] * 100\n",
    "    print('%d \\t %d \\t %.1f%% \\t %s' % (i, num, percentage, df.columns[i]))"
   ]
  },
  {
   "cell_type": "markdown",
   "metadata": {},
   "source": [
    "Vemos que hay un alto número de columnas con poca variedad de valores. Esto es debido a dos motivos principales: el alto número de variables booleanas que contiene el dataset y desbalanceo de datos (99.8-0.2% en la columna target).\n",
    "\n",
    "Mostremos aquellas variables que presenten un porcentaje inferior a 0.8% en la variedad de valores. Vemos que se corresponden mayoritariamente con las variables booleanas."
   ]
  },
  {
   "cell_type": "code",
   "execution_count": 23,
   "metadata": {},
   "outputs": [
    {
     "name": "stdout",
     "output_type": "stream",
     "text": [
      "4 \t 3 \t 0.3% \t Smokes\n",
      "7 \t 3 \t 0.3% \t Hormonal Contraceptives\n",
      "9 \t 3 \t 0.3% \t IUD\n",
      "11 \t 3 \t 0.3% \t STDs\n",
      "13 \t 3 \t 0.3% \t STDs:condylomatosis\n",
      "14 \t 3 \t 0.3% \t STDs:vaginal condylomatosis\n",
      "15 \t 3 \t 0.3% \t STDs:vulvo-perineal condylomatosis\n",
      "16 \t 3 \t 0.3% \t STDs:syphilis\n",
      "17 \t 3 \t 0.3% \t STDs:pelvic inflammatory disease\n",
      "18 \t 3 \t 0.3% \t STDs:genital herpes\n",
      "19 \t 3 \t 0.3% \t STDs:molluscum contagiosum\n",
      "20 \t 3 \t 0.3% \t STDs:HIV\n",
      "21 \t 3 \t 0.3% \t STDs:Hepatitis B\n",
      "22 \t 3 \t 0.3% \t STDs:HPV\n",
      "23 \t 4 \t 0.5% \t STDs: Number of diagnosis\n",
      "26 \t 2 \t 0.2% \t Dx:Cancer\n",
      "27 \t 2 \t 0.2% \t Dx:CIN\n",
      "28 \t 2 \t 0.2% \t Dx:HPV\n",
      "29 \t 2 \t 0.2% \t Dx\n",
      "30 \t 2 \t 0.2% \t Biopsy\n"
     ]
    }
   ],
   "source": [
    "# summarize the number of unique values in each column\n",
    "for i in range(df.shape[1]):\n",
    "    num = len(np.unique(df.iloc[:, i]))\n",
    "    percentage = float(num) / df.shape[0] * 100\n",
    "    if percentage < 0.5:\n",
    "        print('%d \\t %d \\t %.1f%% \\t %s' % (i, num, percentage, df.columns[i]))"
   ]
  },
  {
   "cell_type": "code",
   "execution_count": 24,
   "metadata": {},
   "outputs": [
    {
     "name": "stdout",
     "output_type": "stream",
     "text": [
      "Un 67.74 de las columnas <1%, y un 64.52 de las columnas <0.5%.\n"
     ]
    }
   ],
   "source": [
    "perLEQ01 = [df.columns[i] for i in range(df.shape[1]) if float(len(np.unique(df.iloc[:, i]))) / df.shape[0] * 100 < 1] # Columnas con menos de un 1%\n",
    "perLEQ005 = [df.columns[i] for i in range(df.shape[1]) if float(len(np.unique(df.iloc[:, i]))) / df.shape[0] * 100 < 0.5] # Columnas con menos de un 0.5%\n",
    "print(\"Un %.2f de las columnas <1%%, y un %.2f de las columnas <0.5%%.\" % (len(perLEQ01) / df.shape[1] * 100, len(perLEQ005) / df.shape[1] * 100))"
   ]
  },
  {
   "cell_type": "markdown",
   "metadata": {},
   "source": [
    "Probemos a analizar, para cada porcentaje máximo de entre 0% y 1% a intervalos del 0.05%, cuántas variables nos quedarían en el dataset si eliminásemos todas aquellas con un porcentaje menor."
   ]
  },
  {
   "cell_type": "code",
   "execution_count": 25,
   "metadata": {},
   "outputs": [],
   "source": [
    "# get number of unique values for each column\n",
    "counts = df.iloc[:,:-1].nunique()    #counts = df.iloc[:,:-1]"
   ]
  },
  {
   "cell_type": "code",
   "execution_count": 26,
   "metadata": {},
   "outputs": [
    {
     "name": "stdout",
     "output_type": "stream",
     "text": [
      "> Rate=0.00, Features=31\n",
      "> Rate=0.05, Features=31\n",
      "> Rate=0.10, Features=31\n",
      "> Rate=0.15, Features=31\n",
      "> Rate=0.20, Features=31\n",
      "> Rate=0.25, Features=13\n",
      "> Rate=0.30, Features=13\n",
      "> Rate=0.35, Features=13\n",
      "> Rate=0.40, Features=13\n",
      "> Rate=0.45, Features=13\n",
      "> Rate=0.50, Features=12\n",
      "> Rate=0.55, Features=12\n",
      "> Rate=0.60, Features=11\n",
      "> Rate=0.65, Features=11\n",
      "> Rate=0.70, Features=11\n",
      "> Rate=0.75, Features=11\n",
      "> Rate=0.80, Features=11\n",
      "> Rate=0.85, Features=11\n",
      "> Rate=0.90, Features=11\n",
      "> Rate=0.95, Features=11\n"
     ]
    }
   ],
   "source": [
    "# define rates to check\n",
    "rates = np.arange(0., 1., 0.05)\n",
    "# apply filter with each percentage\n",
    "for per in rates:\n",
    "    to_del = [df.columns[i] for i,v in enumerate(counts) if v/df.shape[0]*100 < per]\n",
    "    print('> Rate=%.2f, Features=%d' % (per, df.shape[1]-len(to_del)))"
   ]
  },
  {
   "cell_type": "markdown",
   "metadata": {},
   "source": [
    "##### 2.1.2.2. Borrado de columnas con baja variedad de valores"
   ]
  },
  {
   "cell_type": "markdown",
   "metadata": {},
   "source": [
    "El hecho de que las variables con baja variedad de datos sean las booleanas nos hace ver que podría ser un error eliminarlas. Para comprobarlo, vamos a quedarnos con las 13 columnas restantes a partir del 0.25% en un dataset aparte, con el objetivo de estudiarlo más a fondo después."
   ]
  },
  {
   "cell_type": "code",
   "execution_count": 27,
   "metadata": {},
   "outputs": [
    {
     "name": "stdout",
     "output_type": "stream",
     "text": [
      "['Smokes', 'Hormonal Contraceptives', 'IUD', 'STDs', 'STDs:condylomatosis', 'STDs:vaginal condylomatosis', 'STDs:vulvo-perineal condylomatosis', 'STDs:syphilis', 'STDs:pelvic inflammatory disease', 'STDs:genital herpes', 'STDs:molluscum contagiosum', 'STDs:HIV', 'STDs:Hepatitis B', 'STDs:HPV', 'Dx:Cancer', 'Dx:CIN', 'Dx:HPV', 'Dx']\n"
     ]
    }
   ],
   "source": [
    "# record columns to delete\n",
    "to_del = [df.columns[i] for i,v in enumerate(counts) if v/df.shape[0]*100 < 0.25]\n",
    "print(to_del)"
   ]
  },
  {
   "cell_type": "code",
   "execution_count": 28,
   "metadata": {},
   "outputs": [
    {
     "name": "stdout",
     "output_type": "stream",
     "text": [
      "(858, 31)\n",
      "(858, 13)\n"
     ]
    }
   ],
   "source": [
    "# drop useless columns\n",
    "df_noFewValuesColumns = df.copy()\n",
    "print(df_noFewValuesColumns.shape)\n",
    "df_noFewValuesColumns.drop(to_del, axis=1, inplace=True)\n",
    "print(df_noFewValuesColumns.shape)"
   ]
  },
  {
   "cell_type": "markdown",
   "metadata": {},
   "source": [
    "#### 2.1.2. Valores de baja varianza"
   ]
  },
  {
   "cell_type": "markdown",
   "metadata": {},
   "source": [
    "Pasemos a estudiar las variables con baja varianza. Para ello, extraemos primero la variable objetivo."
   ]
  },
  {
   "cell_type": "code",
   "execution_count": 29,
   "metadata": {},
   "outputs": [
    {
     "name": "stdout",
     "output_type": "stream",
     "text": [
      "(858, 30) (858,)\n"
     ]
    }
   ],
   "source": [
    "# split data into inputs and outputs\n",
    "data = df.values\n",
    "X = data[:, :-1]\n",
    "y = data[:, -1]\n",
    "print(X.shape, y.shape)"
   ]
  },
  {
   "cell_type": "markdown",
   "metadata": {},
   "source": [
    "Aplicamos un transformador Variance Treshold a la *X* para extraer las columnas con una varianza máxima concreta. Con *treshold=0.0* obtendríamos el mismo resultado que el que obtuvimos al eliminar las columnas de valores únicos."
   ]
  },
  {
   "cell_type": "code",
   "execution_count": 30,
   "metadata": {},
   "outputs": [
    {
     "name": "stdout",
     "output_type": "stream",
     "text": [
      "(858, 30)\n"
     ]
    }
   ],
   "source": [
    "# define the transform\n",
    "transform = VarianceThreshold()\n",
    "# transform the input data\n",
    "X_sel = transform.fit_transform(X)  #remove all columns with a variance of 0.0.\n",
    "print(X_sel.shape)"
   ]
  },
  {
   "cell_type": "markdown",
   "metadata": {},
   "source": [
    "Vayamos eliminando progresivamente variables a medida que aumentamos el treshold de varianza y analicemos el comportamiento."
   ]
  },
  {
   "cell_type": "code",
   "execution_count": 31,
   "metadata": {},
   "outputs": [
    {
     "name": "stdout",
     "output_type": "stream",
     "text": [
      ">Threshold=0.00, Features=30\n",
      ">Threshold=0.05, Features=18\n",
      ">Threshold=0.10, Features=13\n",
      ">Threshold=0.15, Features=12\n",
      ">Threshold=0.20, Features=12\n",
      ">Threshold=0.25, Features=11\n",
      ">Threshold=0.30, Features=11\n",
      ">Threshold=0.35, Features=10\n",
      ">Threshold=0.40, Features=10\n",
      ">Threshold=0.45, Features=10\n",
      ">Threshold=0.50, Features=10\n"
     ]
    }
   ],
   "source": [
    "# define thresholds to check\n",
    "thresholds = np.arange(0.0, 0.55, 0.05)\n",
    "# apply transform with each threshold\n",
    "results = list()\n",
    "for t in thresholds:\n",
    "    # define the transform\n",
    "    transform = VarianceThreshold(threshold=t)\n",
    "    # transform the input data\n",
    "    X_sel = transform.fit_transform(X)\n",
    "    # determine the number of input features\n",
    "    n_features = X_sel.shape[1]\n",
    "    print('>Threshold=%.2f, Features=%d' % (t, n_features))\n",
    "    # store the result\n",
    "    results.append(n_features)"
   ]
  },
  {
   "cell_type": "markdown",
   "metadata": {},
   "source": [
    "Representando los valores en una gráfica veremos que un punto que parece ser bueno para \"cortar\" la eliminación de variables es el 0.15, con lo que obtenemos 13 restantes (contando con la target)."
   ]
  },
  {
   "cell_type": "code",
   "execution_count": 32,
   "metadata": {},
   "outputs": [
    {
     "data": {
      "image/png": "[encoded data removed]",
      "text/plain": [
       "<Figure size 432x288 with 1 Axes>"
      ]
     },
     "metadata": {
      "needs_background": "light"
     },
     "output_type": "display_data"
    }
   ],
   "source": [
    "# plot the threshold vs the number of selected features\n",
    "pyplot.plot(thresholds, results)\n",
    "pyplot.show()"
   ]
  },
  {
   "cell_type": "code",
   "execution_count": 33,
   "metadata": {},
   "outputs": [
    {
     "data": {
      "text/plain": [
       "(858, 12)"
      ]
     },
     "execution_count": 33,
     "metadata": {},
     "output_type": "execute_result"
    }
   ],
   "source": [
    "# define the transform\n",
    "transform = VarianceThreshold(threshold=0.15)\n",
    "# transform the input data\n",
    "X_noLowVarianceColumns = transform.fit_transform(X)\n",
    "X_noLowVarianceColumns.shape"
   ]
  },
  {
   "cell_type": "markdown",
   "metadata": {},
   "source": [
    "Si analizamos el dataset que habíamos generado eliminando columnas con baja variedad de valores, observamos algo interesante."
   ]
  },
  {
   "cell_type": "code",
   "execution_count": 34,
   "metadata": {},
   "outputs": [
    {
     "name": "stdout",
     "output_type": "stream",
     "text": [
      "> Threshold=0.00, Features=12\n",
      "> Threshold=0.05, Features=12\n",
      "> Threshold=0.10, Features=11\n",
      "> Threshold=0.15, Features=11\n",
      "> Threshold=0.20, Features=11\n",
      "> Threshold=0.25, Features=11\n",
      "> Threshold=0.30, Features=11\n",
      "> Threshold=0.35, Features=10\n",
      "> Threshold=0.40, Features=10\n",
      "> Threshold=0.45, Features=10\n",
      "> Threshold=0.50, Features=10\n",
      "\n"
     ]
    },
    {
     "data": {
      "image/png": "[encoded data removed]",
      "text/plain": [
       "<Figure size 432x288 with 1 Axes>"
      ]
     },
     "metadata": {
      "needs_background": "light"
     },
     "output_type": "display_data"
    }
   ],
   "source": [
    "# split data into inputs and outputs\n",
    "data_noFewValuesColumns = df_noFewValuesColumns.values\n",
    "X_noFewValuesColumns = data_noFewValuesColumns[:, :-1]\n",
    "\n",
    "# define thresholds to check\n",
    "thresholds = np.arange(0.0, 0.55, 0.05)\n",
    "# apply transform with each threshold\n",
    "results = list()\n",
    "for t in thresholds:\n",
    "    # define the transform\n",
    "    transform = VarianceThreshold(threshold=t)\n",
    "    # transform the input data\n",
    "    X_noFewValuesColumns_sel = transform.fit_transform(X_noFewValuesColumns)\n",
    "    # determine the number of input features\n",
    "    n_features = X_noFewValuesColumns_sel.shape[1]\n",
    "    print('> Threshold=%.2f, Features=%d' % (t, n_features))\n",
    "    # store the result\n",
    "    results.append(n_features)\n",
    "print()\n",
    "\n",
    "# plot the threshold vs the number of selected features\n",
    "pyplot.plot(thresholds, results)\n",
    "pyplot.show()"
   ]
  },
  {
   "cell_type": "markdown",
   "metadata": {},
   "source": [
    "Podemos observar que las 13 columnas que restaban al hacer el filtrado por baja variedad de valores coinciden precisamente con aquellas con más baja varianza, así que, de ahora en adelante tendremos en cuenta tanto el dataset \"base\" como el dataset al que se le ha aplicado una reducción de columnas por baja variedad de valores (de menos de un 0.3%), que coincide con el dataset al que se le aplica una reducción de columnas por baja varianza en los valores si tenemos en cuenta un treshold de 0.15."
   ]
  },
  {
   "cell_type": "markdown",
   "metadata": {},
   "source": [
    "### 2.2. Valores duplicados"
   ]
  },
  {
   "cell_type": "markdown",
   "metadata": {},
   "source": [
    "#### 2.2.1. Identificación de filas con valores duplicados"
   ]
  },
  {
   "cell_type": "markdown",
   "metadata": {},
   "source": [
    "Veamos el número de registros duplicados (contando la variable target) que existen en nuestro dataset."
   ]
  },
  {
   "cell_type": "code",
   "execution_count": 35,
   "metadata": {},
   "outputs": [
    {
     "name": "stdout",
     "output_type": "stream",
     "text": [
      "True\n",
      "26\n"
     ]
    }
   ],
   "source": [
    "# locate rows of duplicate data\n",
    "# All rows are marked as either False to indicate that it is not a duplicate or True to indicate that it is a duplicate.\n",
    "dups = df.duplicated()\n",
    "# report if there are any duplicates\n",
    "print(dups.any())\n",
    "# list all duplicate rows\n",
    "print(df[dups].shape[0])"
   ]
  },
  {
   "cell_type": "markdown",
   "metadata": {},
   "source": [
    "#### 2.2.2. Borrado de filas con valores duplicados"
   ]
  },
  {
   "cell_type": "markdown",
   "metadata": {},
   "source": [
    "Eliminamos estos registros, tanto del dataset base como del generado al eliminar las variables de bajo número de valores (o baja varianza).\n",
    "\n",
    "El número total de registros con los que trabajaremos a partir de ahora serán 832."
   ]
  },
  {
   "cell_type": "code",
   "execution_count": 36,
   "metadata": {},
   "outputs": [
    {
     "name": "stdout",
     "output_type": "stream",
     "text": [
      "(858, 31)\n",
      "(832, 31)\n"
     ]
    }
   ],
   "source": [
    "# delete rows of duplicate data from the dataset\n",
    "print(df.shape)\n",
    "df.drop_duplicates(inplace=True)\n",
    "print(df.shape)"
   ]
  },
  {
   "cell_type": "code",
   "execution_count": 37,
   "metadata": {},
   "outputs": [
    {
     "name": "stdout",
     "output_type": "stream",
     "text": [
      "(858, 13)\n",
      "(832, 13)\n"
     ]
    }
   ],
   "source": [
    "# delete rows of duplicate data from the dataset\n",
    "print(df_noFewValuesColumns.shape)\n",
    "df_noFewValuesColumns.drop_duplicates(inplace=True)\n",
    "print(df_noFewValuesColumns.shape)"
   ]
  },
  {
   "cell_type": "markdown",
   "metadata": {},
   "source": [
    "### 2.3. Valores nulos"
   ]
  },
  {
   "cell_type": "markdown",
   "metadata": {},
   "source": [
    "#### 2.3.1. Identificación de valores nulos"
   ]
  },
  {
   "cell_type": "markdown",
   "metadata": {},
   "source": [
    "Mostremos primeramente la cantidad de nulos que existen en cada columna del dataset."
   ]
  },
  {
   "cell_type": "code",
   "execution_count": 38,
   "metadata": {},
   "outputs": [
    {
     "name": "stdout",
     "output_type": "stream",
     "text": [
      "Age                                     0\n",
      "Number of sexual partners              25\n",
      "First sexual intercourse                7\n",
      "Num of pregnancies                     56\n",
      "Smokes                                 13\n",
      "Smokes (years)                         13\n",
      "Smokes (packs/year)                    13\n",
      "Hormonal Contraceptives               103\n",
      "Hormonal Contraceptives (years)       103\n",
      "IUD                                   112\n",
      "IUD (years)                           112\n",
      "STDs                                  100\n",
      "STDs (number)                         100\n",
      "STDs:condylomatosis                   100\n",
      "STDs:vaginal condylomatosis           100\n",
      "STDs:vulvo-perineal condylomatosis    100\n",
      "STDs:syphilis                         100\n",
      "STDs:pelvic inflammatory disease      100\n",
      "STDs:genital herpes                   100\n",
      "STDs:molluscum contagiosum            100\n",
      "STDs:HIV                              100\n",
      "STDs:Hepatitis B                      100\n",
      "STDs:HPV                              100\n",
      "STDs: Number of diagnosis               0\n",
      "STDs: Time since first diagnosis      761\n",
      "STDs: Time since last diagnosis       761\n",
      "Dx:Cancer                               0\n",
      "Dx:CIN                                  0\n",
      "Dx:HPV                                  0\n",
      "Dx                                      0\n",
      "Biopsy                                  0\n",
      "dtype: int64\n"
     ]
    }
   ],
   "source": [
    "# count the number of zero values for each column\n",
    "num_nulls = (df.isnull()).sum()\n",
    "# report the results\n",
    "print(num_nulls)"
   ]
  },
  {
   "cell_type": "markdown",
   "metadata": {},
   "source": [
    "Podemos ver una gran cantidad de valores nulos en algunas variables, concretamente en las STDs. Esto es algo que ya podíamos intuir a partir del estudio de resúmenes iniciales.\n",
    "\n",
    "Mostremos el porcentaje de nulos de cada columna."
   ]
  },
  {
   "cell_type": "code",
   "execution_count": 39,
   "metadata": {},
   "outputs": [
    {
     "name": "stdout",
     "output_type": "stream",
     "text": [
      "> 0 \t Missing: 0 \t (0.0%) \t Agetr\n",
      "> 1 \t Missing: 25 \t (3.0%) \t Number of sexual partnerstr\n",
      "> 2 \t Missing: 7 \t (0.8%) \t First sexual intercoursetr\n",
      "> 3 \t Missing: 56 \t (6.7%) \t Num of pregnanciestr\n",
      "> 4 \t Missing: 13 \t (1.6%) \t Smokestr\n",
      "> 5 \t Missing: 13 \t (1.6%) \t Smokes (years)tr\n",
      "> 6 \t Missing: 13 \t (1.6%) \t Smokes (packs/year)tr\n",
      "> 7 \t Missing: 103 \t (12.4%) \t Hormonal Contraceptivestr\n",
      "> 8 \t Missing: 103 \t (12.4%) \t Hormonal Contraceptives (years)tr\n",
      "> 9 \t Missing: 112 \t (13.5%) \t IUDtr\n",
      "> 10 \t Missing: 112 \t (13.5%) \t IUD (years)tr\n",
      "> 11 \t Missing: 100 \t (12.0%) \t STDstr\n",
      "> 12 \t Missing: 100 \t (12.0%) \t STDs (number)tr\n",
      "> 13 \t Missing: 100 \t (12.0%) \t STDs:condylomatosistr\n",
      "> 14 \t Missing: 100 \t (12.0%) \t STDs:vaginal condylomatosistr\n",
      "> 15 \t Missing: 100 \t (12.0%) \t STDs:vulvo-perineal condylomatosistr\n",
      "> 16 \t Missing: 100 \t (12.0%) \t STDs:syphilistr\n",
      "> 17 \t Missing: 100 \t (12.0%) \t STDs:pelvic inflammatory diseasetr\n",
      "> 18 \t Missing: 100 \t (12.0%) \t STDs:genital herpestr\n",
      "> 19 \t Missing: 100 \t (12.0%) \t STDs:molluscum contagiosumtr\n",
      "> 20 \t Missing: 100 \t (12.0%) \t STDs:HIVtr\n",
      "> 21 \t Missing: 100 \t (12.0%) \t STDs:Hepatitis Btr\n",
      "> 22 \t Missing: 100 \t (12.0%) \t STDs:HPVtr\n",
      "> 23 \t Missing: 0 \t (0.0%) \t STDs: Number of diagnosistr\n",
      "> 24 \t Missing: 761 \t (91.5%) \t STDs: Time since first diagnosistr\n",
      "> 25 \t Missing: 761 \t (91.5%) \t STDs: Time since last diagnosistr\n",
      "> 26 \t Missing: 0 \t (0.0%) \t Dx:Cancertr\n",
      "> 27 \t Missing: 0 \t (0.0%) \t Dx:CINtr\n",
      "> 28 \t Missing: 0 \t (0.0%) \t Dx:HPVtr\n",
      "> 29 \t Missing: 0 \t (0.0%) \t Dxtr\n",
      "> 30 \t Missing: 0 \t (0.0%) \t Biopsytr\n"
     ]
    }
   ],
   "source": [
    "# summarize the number of rows with missing values for each column\n",
    "for i in range(df.shape[1]):\n",
    "    # count number of rows with missing values\n",
    "    n_miss = df.iloc[:,i].isnull().sum()\n",
    "    perc = n_miss / df.shape[0] * 100\n",
    "    print('> %d \\t Missing: %d \\t (%.1f%%) \\t %str' % (i, n_miss, perc, df.columns[i]))"
   ]
  },
  {
   "cell_type": "markdown",
   "metadata": {},
   "source": [
    "Aunque sabemos que los nulos del archivo CSV original estaban codificados mediante '?', conviene estudiar el número de ceros de cada variable, ya que podríamos encontrar comportamientos anómalos respecto de la definición de cada una."
   ]
  },
  {
   "cell_type": "code",
   "execution_count": 40,
   "metadata": {},
   "outputs": [
    {
     "name": "stdout",
     "output_type": "stream",
     "text": [
      "Age                                     0\n",
      "Number of sexual partners               0\n",
      "First sexual intercourse                0\n",
      "Num of pregnancies                     16\n",
      "Smokes                                696\n",
      "Smokes (years)                        696\n",
      "Smokes (packs/year)                   696\n",
      "Hormonal Contraceptives               252\n",
      "Hormonal Contraceptives (years)       252\n",
      "IUD                                   637\n",
      "IUD (years)                           637\n",
      "STDs                                  653\n",
      "STDs (number)                         653\n",
      "STDs:condylomatosis                   688\n",
      "STDs:vaginal condylomatosis           728\n",
      "STDs:vulvo-perineal condylomatosis    689\n",
      "STDs:syphilis                         714\n",
      "STDs:pelvic inflammatory disease      731\n",
      "STDs:genital herpes                   731\n",
      "STDs:molluscum contagiosum            731\n",
      "STDs:HIV                              714\n",
      "STDs:Hepatitis B                      731\n",
      "STDs:HPV                              730\n",
      "STDs: Number of diagnosis             761\n",
      "STDs: Time since first diagnosis        0\n",
      "STDs: Time since last diagnosis         0\n",
      "Dx:Cancer                             814\n",
      "Dx:CIN                                823\n",
      "Dx:HPV                                814\n",
      "Dx                                    808\n",
      "Biopsy                                778\n",
      "dtype: int64\n"
     ]
    }
   ],
   "source": [
    "# count the number of zero values for each column\n",
    "num_zeros = (df[:] == 0).sum()\n",
    "# report the results\n",
    "print(num_zeros)"
   ]
  },
  {
   "cell_type": "markdown",
   "metadata": {},
   "source": [
    "Es importante que nos fijemos en que, en las variables cuyo nombre tiene la estructura \"----- (years)\", aparece un cero en caso de se trate de algo que no haya ocurrido nunca. Esto tiene sentido, pero nos indica una clara redundancia en los datos, ya que las correspondientes columnas \"-----\" contienen información ya existente en las otras.\n",
    "\n",
    "Creemos un último dataset que deje de considerar estas columnas."
   ]
  },
  {
   "cell_type": "code",
   "execution_count": 41,
   "metadata": {},
   "outputs": [
    {
     "name": "stdout",
     "output_type": "stream",
     "text": [
      "(832, 31)\n",
      "(832, 26)\n"
     ]
    }
   ],
   "source": [
    "# drop useless columns\n",
    "df_noBooleanRedundantColumns = df.copy()\n",
    "print(df_noBooleanRedundantColumns.shape)\n",
    "df_noBooleanRedundantColumns.drop([\"Smokes\", \"Hormonal Contraceptives\", \"IUD\", \"STDs\", \"STDs (number)\"], axis=1, inplace=True)\n",
    "print(df_noBooleanRedundantColumns.shape)"
   ]
  },
  {
   "cell_type": "code",
   "execution_count": 42,
   "metadata": {},
   "outputs": [
    {
     "name": "stdout",
     "output_type": "stream",
     "text": [
      "Age                                     0\n",
      "Number of sexual partners               0\n",
      "First sexual intercourse                0\n",
      "Num of pregnancies                     16\n",
      "Smokes (years)                        696\n",
      "Smokes (packs/year)                   696\n",
      "Hormonal Contraceptives (years)       252\n",
      "IUD (years)                           637\n",
      "STDs:condylomatosis                   688\n",
      "STDs:vaginal condylomatosis           728\n",
      "STDs:vulvo-perineal condylomatosis    689\n",
      "STDs:syphilis                         714\n",
      "STDs:pelvic inflammatory disease      731\n",
      "STDs:genital herpes                   731\n",
      "STDs:molluscum contagiosum            731\n",
      "STDs:HIV                              714\n",
      "STDs:Hepatitis B                      731\n",
      "STDs:HPV                              730\n",
      "STDs: Number of diagnosis             761\n",
      "STDs: Time since first diagnosis        0\n",
      "STDs: Time since last diagnosis         0\n",
      "Dx:Cancer                             814\n",
      "Dx:CIN                                823\n",
      "Dx:HPV                                814\n",
      "Dx                                    808\n",
      "Biopsy                                778\n",
      "dtype: int64\n"
     ]
    }
   ],
   "source": [
    "# count the number of zero values for each column\n",
    "num_zeros = (df_noBooleanRedundantColumns[:] == 0).sum()\n",
    "# report the results\n",
    "print(num_zeros)"
   ]
  },
  {
   "cell_type": "markdown",
   "metadata": {},
   "source": [
    "Si analizamos el dataset sin las columnas con baja variedad de valores (o con baja varianza), podemos observar que esta redundancia ya está corregida, al eliminar las columnas booleanas."
   ]
  },
  {
   "cell_type": "code",
   "execution_count": 43,
   "metadata": {},
   "outputs": [
    {
     "name": "stdout",
     "output_type": "stream",
     "text": [
      "Age                                   0\n",
      "Number of sexual partners             0\n",
      "First sexual intercourse              0\n",
      "Num of pregnancies                   16\n",
      "Smokes (years)                      696\n",
      "Smokes (packs/year)                 696\n",
      "Hormonal Contraceptives (years)     252\n",
      "IUD (years)                         637\n",
      "STDs (number)                       653\n",
      "STDs: Number of diagnosis           761\n",
      "STDs: Time since first diagnosis      0\n",
      "STDs: Time since last diagnosis       0\n",
      "Biopsy                              778\n",
      "dtype: int64\n"
     ]
    }
   ],
   "source": [
    "# count the number of zero values for each column\n",
    "num_zeros = (df_noFewValuesColumns[:] == 0).sum()\n",
    "# report the results\n",
    "print(num_zeros)"
   ]
  },
  {
   "cell_type": "markdown",
   "metadata": {},
   "source": [
    "#### 2.3.2. Comprobación de los problemas causados por valores nulos"
   ]
  },
  {
   "cell_type": "markdown",
   "metadata": {},
   "source": [
    "Descomentando la siguiente celda podemos ver que, sin tratar los nulos, no podemos trabajar con nuestros datos."
   ]
  },
  {
   "cell_type": "code",
   "execution_count": 44,
   "metadata": {},
   "outputs": [],
   "source": [
    "# # define the model\n",
    "# model = LinearDiscriminantAnalysis()\n",
    "# # define the model evaluation procedure\n",
    "# cv = KFold(n_splits=3, shuffle=True, random_state=1)\n",
    "# # evaluate the model\n",
    "# result = cross_val_score(model, X, y, cv=cv, scoring='accuracy')\n",
    "# # report the mean performance\n",
    "# print('Accuracy: %.3f' % result.mean())"
   ]
  },
  {
   "cell_type": "markdown",
   "metadata": {},
   "source": [
    "#### 2.3.3. Soluciones al problema de valores nulos"
   ]
  },
  {
   "cell_type": "markdown",
   "metadata": {},
   "source": [
    "Declaramos inicialmente los modelos con los que vamos a probar nuestros preprocesados. Para nuestras pruebas, trabajaremos con clasificadores Random Forest, Regresión Logística y Análisis Discriminante Lineal."
   ]
  },
  {
   "cell_type": "code",
   "execution_count": 45,
   "metadata": {},
   "outputs": [],
   "source": [
    "models = [RandomForestClassifier(random_state=123),\n",
    "         LinearDiscriminantAnalysis(),\n",
    "         LogisticRegression()]\n",
    "names =  [\"Random Forest Classifier\",\n",
    "         \"Linear Discriminant Analysis\",\n",
    "         \"Logistic Regression\"]"
   ]
  },
  {
   "cell_type": "markdown",
   "metadata": {},
   "source": [
    "A continuación, dividimos en *X* e *y* los tres dataframes de partida que hemos configurado en los apartados anteriores."
   ]
  },
  {
   "cell_type": "code",
   "execution_count": 46,
   "metadata": {},
   "outputs": [
    {
     "name": "stdout",
     "output_type": "stream",
     "text": [
      "(832, 30) (832,)\n",
      "(832, 12) (832,)\n",
      "(832, 25) (832,)\n"
     ]
    }
   ],
   "source": [
    "# split data into inputs and outputs\n",
    "data = df.values\n",
    "data_noFewValuesColumns = df_noFewValuesColumns.values\n",
    "data_noBooleanRedundantColumns = df_noBooleanRedundantColumns.values\n",
    "X = data[:, :-1]\n",
    "X_noFewValuesColumns = data_noFewValuesColumns[:, :-1]\n",
    "X_noBooleanRedundantColumns = data_noBooleanRedundantColumns[:, :-1]\n",
    "y = data[:, -1]\n",
    "print(X.shape, y.shape)\n",
    "print(X_noFewValuesColumns.shape, y.shape)\n",
    "print(X_noBooleanRedundantColumns.shape, y.shape)"
   ]
  },
  {
   "cell_type": "markdown",
   "metadata": {},
   "source": [
    "##### 2.3.3.1. Borrado de filas con valores nulos"
   ]
  },
  {
   "cell_type": "markdown",
   "metadata": {},
   "source": [
    "Si eliminamos directamente todos los registros que contengan nulos evitaremos los problemas anteriormente mostrados, pero hay que tener en cuenta que el número de nulos en ciertas columnas (especialmente las STDs, que se conservan en los tres datasets) reduce mucho el volumen de datos con los que trabajamos.\n",
    "\n",
    "Aun así, obtengamos los resultados para los 3 datasets."
   ]
  },
  {
   "cell_type": "code",
   "execution_count": 47,
   "metadata": {},
   "outputs": [
    {
     "name": "stdout",
     "output_type": "stream",
     "text": [
      "(832, 31)\n",
      "(832, 13)\n",
      "(832, 26)\n",
      "(59, 31)\n",
      "(59, 13)\n",
      "(59, 26)\n"
     ]
    }
   ],
   "source": [
    "# drop rows with missing values\n",
    "df_noNulls = df.copy()\n",
    "df_noFewValuesColumns_noNulls = df_noFewValuesColumns.copy()\n",
    "df_noBooleanRedundantColumns_noNulls = df_noBooleanRedundantColumns.copy()\n",
    "df_noNulls.dropna(inplace=True)\n",
    "df_noFewValuesColumns_noNulls.dropna(inplace=True)\n",
    "df_noBooleanRedundantColumns_noNulls.dropna(inplace=True)\n",
    "#Before\n",
    "print(df.shape)\n",
    "print(df_noFewValuesColumns.shape)\n",
    "print(df_noBooleanRedundantColumns.shape)\n",
    "#After\n",
    "print(df_noNulls.shape)\n",
    "print(df_noFewValuesColumns_noNulls.shape)\n",
    "print(df_noBooleanRedundantColumns_noNulls.shape)"
   ]
  },
  {
   "cell_type": "code",
   "execution_count": 48,
   "metadata": {},
   "outputs": [
    {
     "name": "stdout",
     "output_type": "stream",
     "text": [
      "(59, 30) (832,)\n",
      "(59, 12) (59,)\n",
      "(59, 25) (59,)\n"
     ]
    }
   ],
   "source": [
    "# split data into inputs and outputs\n",
    "data_noNulls = df_noNulls.values\n",
    "data_noFewValuesColumns_noNulls = df_noFewValuesColumns_noNulls.values\n",
    "data_noBooleanRedundantColumns_noNulls = df_noBooleanRedundantColumns_noNulls.values\n",
    "X_noNulls = data_noNulls[:, :-1]\n",
    "X_noFewValuesColumns_noNulls = data_noFewValuesColumns_noNulls[:, :-1]\n",
    "X_noBooleanRedundantColumns_noNulls = data_noBooleanRedundantColumns_noNulls[:, :-1]\n",
    "y_noNulls = data_noNulls[:, -1]\n",
    "print(X_noNulls.shape, y.shape)\n",
    "print(X_noFewValuesColumns_noNulls.shape, y_noNulls.shape)\n",
    "print(X_noBooleanRedundantColumns_noNulls.shape, y_noNulls.shape)"
   ]
  },
  {
   "cell_type": "markdown",
   "metadata": {},
   "source": [
    "Para obtener la colección de resultados, creamos un dataframe que contenga características de los modelos, dataframes de partida e imputaciones de nulos junto con la media y la SD de las accuracys."
   ]
  },
  {
   "cell_type": "code",
   "execution_count": 49,
   "metadata": {},
   "outputs": [],
   "source": [
    "results = pd.DataFrame(columns=['Dataset', 'Model', 'Imputation', 'Strategy', 'Scores (Mean)', 'Scores (SD)'])"
   ]
  },
  {
   "cell_type": "markdown",
   "metadata": {},
   "source": [
    "En este caso, el Cross Validation no puede tener muchos splits, ya que tenemos muy pocas columnas."
   ]
  },
  {
   "cell_type": "code",
   "execution_count": 50,
   "metadata": {},
   "outputs": [
    {
     "name": "stdout",
     "output_type": "stream",
     "text": [
      ">Random Forest Classifier 0.847 (0.004)\n",
      ">Linear Discriminant Analysis 0.745 (0.078)\n",
      ">Logistic Regression 0.807 (0.071)\n"
     ]
    }
   ],
   "source": [
    "# evaluate the strategy on base dataset without null rows\n",
    "for i, model in enumerate(models):\n",
    "    # evaluate the model\n",
    "    cv = RepeatedStratifiedKFold(n_splits=3, n_repeats=3, random_state=1)\n",
    "    scores = cross_val_score(model, X_noNulls, y_noNulls, scoring='accuracy', cv=cv, n_jobs=-1)  #array\n",
    "    # store results\n",
    "    results.loc[len(results.index)] = {'Dataset': \"Base\", \n",
    "                    'Model': names[i], \n",
    "                    'Imputation': \"Deleting null rows\", \n",
    "                    'Strategy': np.NaN, \n",
    "                    'Scores (Mean)': np.mean(scores), \n",
    "                    'Scores (SD)': np.std(scores)}\n",
    "    print('>%s %.3f (%.3f)' % (names[i], np.mean(scores), np.std(scores)))"
   ]
  },
  {
   "cell_type": "code",
   "execution_count": 51,
   "metadata": {},
   "outputs": [
    {
     "name": "stdout",
     "output_type": "stream",
     "text": [
      ">Random Forest Classifier 0.836 (0.022)\n",
      ">Linear Discriminant Analysis 0.813 (0.035)\n",
      ">Logistic Regression 0.790 (0.061)\n"
     ]
    }
   ],
   "source": [
    "# evaluate the strategy on \"no-few-values-columns\" dataset without null rows\n",
    "for i, model in enumerate(models):\n",
    "    # evaluate the model\n",
    "    cv = RepeatedStratifiedKFold(n_splits=3, n_repeats=3, random_state=1)\n",
    "    scores = cross_val_score(model, X_noFewValuesColumns_noNulls, y_noNulls, scoring='accuracy', cv=cv, n_jobs=-1)  #array\n",
    "    # store results\n",
    "    results.loc[len(results.index)] = {'Dataset': \"No-few-values-columns\", \n",
    "                    'Model': names[i], \n",
    "                    'Imputation': \"Deleting null rows\", \n",
    "                    'Strategy': np.NaN, \n",
    "                    'Scores (Mean)': np.mean(scores), \n",
    "                    'Scores (SD)': np.std(scores)}\n",
    "    print('>%s %.3f (%.3f)' % (names[i], np.mean(scores), np.std(scores)))"
   ]
  },
  {
   "cell_type": "code",
   "execution_count": 52,
   "metadata": {},
   "outputs": [
    {
     "name": "stdout",
     "output_type": "stream",
     "text": [
      ">Random Forest Classifier 0.842 (0.019)\n",
      ">Linear Discriminant Analysis 0.751 (0.069)\n",
      ">Logistic Regression 0.779 (0.063)\n"
     ]
    }
   ],
   "source": [
    "# evaluate the strategy on \"no-boolean-redundant-columns\" dataset without null rows\n",
    "for i, model in enumerate(models):\n",
    "    # evaluate the model\n",
    "    cv = RepeatedStratifiedKFold(n_splits=3, n_repeats=3, random_state=1)\n",
    "    scores = cross_val_score(model, X_noBooleanRedundantColumns_noNulls, y_noNulls, scoring='accuracy', cv=cv, n_jobs=-1)  #array\n",
    "    # store results\n",
    "    results.loc[len(results.index)] = {'Dataset': \"No-boolean-redundant-columns\", \n",
    "                    'Model': names[i], \n",
    "                    'Imputation': \"Deleting null rows\", \n",
    "                    'Strategy': np.NaN, \n",
    "                    'Scores (Mean)': np.mean(scores), \n",
    "                    'Scores (SD)': np.std(scores)}\n",
    "    print('>%s %.3f (%.3f)' % (names[i], np.mean(scores), np.std(scores)))"
   ]
  },
  {
   "cell_type": "markdown",
   "metadata": {},
   "source": [
    "Aunque la precisión (de hasta prácticamente un 0.85 en algunos casos) no es particularmente baja, veremos que utilizando otras técnicas de imputación obtenemos resultados mucho mejores."
   ]
  },
  {
   "cell_type": "markdown",
   "metadata": {},
   "source": [
    "##### 2.3.3.2. Imputación estadística"
   ]
  },
  {
   "cell_type": "markdown",
   "metadata": {},
   "source": [
    "Probemos ahora otros tipos de imputaciones: las estadísticas, la iterativa y por KNN. Obtenemos del mismo modo los resultados para los tres datasets con estos métodos.\n",
    "\n",
    "Primero, probamos la imputación estadística utilizando la media, la mediana, la moda y una constante."
   ]
  },
  {
   "cell_type": "code",
   "execution_count": 53,
   "metadata": {},
   "outputs": [
    {
     "name": "stdout",
     "output_type": "stream",
     "text": [
      ">Random Forest Classifier, mean 0.931 (0.011)\n",
      ">Random Forest Classifier, median 0.930 (0.010)\n",
      ">Random Forest Classifier, most_frequent 0.930 (0.009)\n",
      ">Random Forest Classifier, constant 0.932 (0.008)\n",
      "\n",
      ">Linear Discriminant Analysis, mean 0.911 (0.024)\n",
      ">Linear Discriminant Analysis, median 0.910 (0.024)\n",
      ">Linear Discriminant Analysis, most_frequent 0.910 (0.024)\n",
      ">Linear Discriminant Analysis, constant 0.910 (0.023)\n",
      "\n",
      ">Logistic Regression, mean 0.933 (0.008)\n",
      ">Logistic Regression, median 0.934 (0.007)\n",
      ">Logistic Regression, most_frequent 0.933 (0.009)\n",
      ">Logistic Regression, constant 0.931 (0.012)\n",
      "\n"
     ]
    }
   ],
   "source": [
    "# evaluate each strategy on base dataset\n",
    "strategies = ['mean', 'median', 'most_frequent', 'constant']  \n",
    "for i, model in enumerate(models):\n",
    "    for s in strategies:\n",
    "        # create the modeling pipeline\n",
    "        pipeline = Pipeline(steps=[('i', SimpleImputer(strategy=s)), ('m', model)])\n",
    "        # evaluate the model\n",
    "        cv = RepeatedStratifiedKFold(n_splits=10, n_repeats=3, random_state=1)\n",
    "        scores = cross_val_score(pipeline, X, y, scoring='accuracy', cv=cv, n_jobs=-1)  #array\n",
    "        # store results\n",
    "        results.loc[len(results.index)] = {'Dataset': \"Base\", \n",
    "                        'Model': names[i], \n",
    "                        'Imputation': \"Simple Imputation\", \n",
    "                        'Strategy': s, \n",
    "                        'Scores (Mean)': np.mean(scores), \n",
    "                        'Scores (SD)': np.std(scores)}\n",
    "        print('>%s, %s %.3f (%.3f)' % (names[i], s, np.mean(scores), np.std(scores)))\n",
    "    print()"
   ]
  },
  {
   "cell_type": "code",
   "execution_count": 54,
   "metadata": {},
   "outputs": [
    {
     "name": "stdout",
     "output_type": "stream",
     "text": [
      ">Random Forest Classifier, mean 0.930 (0.010)\n",
      ">Random Forest Classifier, median 0.934 (0.011)\n",
      ">Random Forest Classifier, most_frequent 0.931 (0.010)\n",
      ">Random Forest Classifier, constant 0.933 (0.008)\n",
      "\n",
      ">Linear Discriminant Analysis, mean 0.931 (0.008)\n",
      ">Linear Discriminant Analysis, median 0.927 (0.012)\n",
      ">Linear Discriminant Analysis, most_frequent 0.927 (0.012)\n",
      ">Linear Discriminant Analysis, constant 0.927 (0.012)\n",
      "\n",
      ">Logistic Regression, mean 0.935 (0.006)\n",
      ">Logistic Regression, median 0.935 (0.006)\n",
      ">Logistic Regression, most_frequent 0.934 (0.006)\n",
      ">Logistic Regression, constant 0.934 (0.006)\n",
      "\n"
     ]
    }
   ],
   "source": [
    "# evaluate each strategy on \"no-few-values-columns\" dataset\n",
    "strategies = ['mean', 'median', 'most_frequent', 'constant']  \n",
    "for i, model in enumerate(models):\n",
    "    for s in strategies:\n",
    "        # create the modeling pipeline\n",
    "        pipeline = Pipeline(steps=[('i', SimpleImputer(strategy=s)), ('m', model)])\n",
    "        # evaluate the model\n",
    "        cv = RepeatedStratifiedKFold(n_splits=10, n_repeats=3, random_state=1)\n",
    "        scores = cross_val_score(pipeline, X_noFewValuesColumns, y, scoring='accuracy', cv=cv, n_jobs=-1)  #array\n",
    "        # store results\n",
    "        results.loc[len(results.index)] = {'Dataset': \"No-few-values-columns\", \n",
    "                        'Model': names[i], \n",
    "                        'Imputation': \"Simple Imputation\", \n",
    "                        'Strategy': s, \n",
    "                        'Scores (Mean)': np.mean(scores), \n",
    "                        'Scores (SD)': np.std(scores)}\n",
    "        print('>%s, %s %.3f (%.3f)' % (names[i], s, np.mean(scores), np.std(scores)))\n",
    "    print()"
   ]
  },
  {
   "cell_type": "code",
   "execution_count": 55,
   "metadata": {},
   "outputs": [
    {
     "name": "stdout",
     "output_type": "stream",
     "text": [
      ">Random Forest Classifier, mean 0.930 (0.009)\n",
      ">Random Forest Classifier, median 0.930 (0.010)\n",
      ">Random Forest Classifier, most_frequent 0.929 (0.009)\n",
      ">Random Forest Classifier, constant 0.931 (0.009)\n",
      "\n",
      ">Linear Discriminant Analysis, mean 0.913 (0.023)\n",
      ">Linear Discriminant Analysis, median 0.911 (0.023)\n",
      ">Linear Discriminant Analysis, most_frequent 0.911 (0.024)\n",
      ">Linear Discriminant Analysis, constant 0.911 (0.024)\n",
      "\n",
      ">Logistic Regression, mean 0.934 (0.007)\n",
      ">Logistic Regression, median 0.934 (0.007)\n",
      ">Logistic Regression, most_frequent 0.933 (0.008)\n",
      ">Logistic Regression, constant 0.932 (0.010)\n",
      "\n"
     ]
    }
   ],
   "source": [
    "# evaluate each strategy on \"no-boolean-redundant-columns\" dataset\n",
    "strategies = ['mean', 'median', 'most_frequent', 'constant']  \n",
    "for i, model in enumerate(models):\n",
    "    for s in strategies:\n",
    "        # create the modeling pipeline\n",
    "        pipeline = Pipeline(steps=[('i', SimpleImputer(strategy=s)), ('m', model)])\n",
    "        # evaluate the model\n",
    "        cv = RepeatedStratifiedKFold(n_splits=10, n_repeats=3, random_state=1)\n",
    "        scores = cross_val_score(pipeline, X_noBooleanRedundantColumns, y, scoring='accuracy', cv=cv, n_jobs=-1)  #array\n",
    "        # store results\n",
    "        results.loc[len(results.index)] = {'Dataset': \"No-boolean-redundant-columns\", \n",
    "                        'Model': names[i], \n",
    "                        'Imputation': \"Simple Imputation\", \n",
    "                        'Strategy': s, \n",
    "                        'Scores (Mean)': np.mean(scores), \n",
    "                        'Scores (SD)': np.std(scores)}\n",
    "        print('>%s, %s %.3f (%.3f)' % (names[i], s, np.mean(scores), np.std(scores)))\n",
    "    print()"
   ]
  },
  {
   "cell_type": "markdown",
   "metadata": {},
   "source": [
    "##### 2.3.3.3. Imputación iterativa"
   ]
  },
  {
   "cell_type": "markdown",
   "metadata": {},
   "source": [
    "Ahora, probamos a emplear una Iterative Imputation mediante las estrategias ascendente, descendente, por orden romano, por orden arábigo o aleatoriamente."
   ]
  },
  {
   "cell_type": "code",
   "execution_count": 56,
   "metadata": {},
   "outputs": [
    {
     "name": "stdout",
     "output_type": "stream",
     "text": [
      ">Random Forest Classifier, Iterative Imputer (Lasso Estimator) ascending 0.933 (0.009)\n",
      ">Random Forest Classifier, Iterative Imputer (LassoLars Estimator) ascending 0.931 (0.011)\n",
      ">Random Forest Classifier, Iterative Imputer (BayesianRidge Estimator) ascending 0.932 (0.011)\n",
      "\n",
      ">Random Forest Classifier, Iterative Imputer (Lasso Estimator) descending 0.934 (0.010)\n",
      ">Random Forest Classifier, Iterative Imputer (LassoLars Estimator) descending 0.931 (0.011)\n",
      ">Random Forest Classifier, Iterative Imputer (BayesianRidge Estimator) descending 0.934 (0.008)\n",
      "\n",
      ">Random Forest Classifier, Iterative Imputer (Lasso Estimator) roman 0.933 (0.010)\n",
      ">Random Forest Classifier, Iterative Imputer (LassoLars Estimator) roman 0.931 (0.011)\n",
      ">Random Forest Classifier, Iterative Imputer (BayesianRidge Estimator) roman 0.933 (0.011)\n",
      "\n",
      ">Random Forest Classifier, Iterative Imputer (Lasso Estimator) arabic 0.934 (0.010)\n",
      ">Random Forest Classifier, Iterative Imputer (LassoLars Estimator) arabic 0.931 (0.011)\n",
      ">Random Forest Classifier, Iterative Imputer (BayesianRidge Estimator) arabic 0.934 (0.008)\n",
      "\n",
      ">Random Forest Classifier, Iterative Imputer (Lasso Estimator) random 0.934 (0.012)\n",
      ">Random Forest Classifier, Iterative Imputer (LassoLars Estimator) random 0.931 (0.011)\n",
      ">Random Forest Classifier, Iterative Imputer (BayesianRidge Estimator) random 0.933 (0.009)\n",
      "\n",
      "--------------------------------------------------------------------\n",
      "\n",
      ">Linear Discriminant Analysis, Iterative Imputer (Lasso Estimator) ascending 0.913 (0.019)\n",
      ">Linear Discriminant Analysis, Iterative Imputer (LassoLars Estimator) ascending 0.911 (0.024)\n",
      ">Linear Discriminant Analysis, Iterative Imputer (BayesianRidge Estimator) ascending 0.913 (0.020)\n",
      "\n",
      ">Linear Discriminant Analysis, Iterative Imputer (Lasso Estimator) descending 0.908 (0.023)\n",
      ">Linear Discriminant Analysis, Iterative Imputer (LassoLars Estimator) descending 0.911 (0.024)\n",
      ">Linear Discriminant Analysis, Iterative Imputer (BayesianRidge Estimator) descending 0.911 (0.021)\n",
      "\n",
      ">Linear Discriminant Analysis, Iterative Imputer (Lasso Estimator) roman 0.913 (0.019)\n",
      ">Linear Discriminant Analysis, Iterative Imputer (LassoLars Estimator) roman 0.911 (0.024)\n",
      ">Linear Discriminant Analysis, Iterative Imputer (BayesianRidge Estimator) roman 0.913 (0.020)\n",
      "\n",
      ">Linear Discriminant Analysis, Iterative Imputer (Lasso Estimator) arabic 0.908 (0.023)\n",
      ">Linear Discriminant Analysis, Iterative Imputer (LassoLars Estimator) arabic 0.911 (0.024)\n",
      ">Linear Discriminant Analysis, Iterative Imputer (BayesianRidge Estimator) arabic 0.911 (0.021)\n",
      "\n",
      ">Linear Discriminant Analysis, Iterative Imputer (Lasso Estimator) random 0.911 (0.023)\n",
      ">Linear Discriminant Analysis, Iterative Imputer (LassoLars Estimator) random 0.911 (0.024)\n",
      ">Linear Discriminant Analysis, Iterative Imputer (BayesianRidge Estimator) random 0.911 (0.020)\n",
      "\n",
      "--------------------------------------------------------------------\n",
      "\n",
      ">Logistic Regression, Iterative Imputer (Lasso Estimator) ascending 0.933 (0.010)\n",
      ">Logistic Regression, Iterative Imputer (LassoLars Estimator) ascending 0.933 (0.008)\n",
      ">Logistic Regression, Iterative Imputer (BayesianRidge Estimator) ascending 0.932 (0.008)\n",
      "\n",
      ">Logistic Regression, Iterative Imputer (Lasso Estimator) descending 0.933 (0.007)\n",
      ">Logistic Regression, Iterative Imputer (LassoLars Estimator) descending 0.933 (0.008)\n",
      ">Logistic Regression, Iterative Imputer (BayesianRidge Estimator) descending 0.933 (0.009)\n",
      "\n",
      ">Logistic Regression, Iterative Imputer (Lasso Estimator) roman 0.933 (0.010)\n",
      ">Logistic Regression, Iterative Imputer (LassoLars Estimator) roman 0.933 (0.008)\n",
      ">Logistic Regression, Iterative Imputer (BayesianRidge Estimator) roman 0.933 (0.007)\n",
      "\n",
      ">Logistic Regression, Iterative Imputer (Lasso Estimator) arabic 0.931 (0.010)\n",
      ">Logistic Regression, Iterative Imputer (LassoLars Estimator) arabic 0.933 (0.008)\n",
      ">Logistic Regression, Iterative Imputer (BayesianRidge Estimator) arabic 0.933 (0.008)\n",
      "\n",
      ">Logistic Regression, Iterative Imputer (Lasso Estimator) random 0.932 (0.010)\n",
      ">Logistic Regression, Iterative Imputer (LassoLars Estimator) random 0.933 (0.008)\n",
      ">Logistic Regression, Iterative Imputer (BayesianRidge Estimator) random 0.933 (0.007)\n",
      "\n",
      "--------------------------------------------------------------------\n",
      "\n"
     ]
    }
   ],
   "source": [
    "# evaluate each strategy on base dataset\n",
    "strategies = ['ascending', 'descending', 'roman', 'arabic', 'random']\n",
    "for i, model in enumerate(models):\n",
    "    for s in strategies:\n",
    "        imputers = [IterativeImputer(estimator=linear_model.Lasso(alpha=0.1), n_nearest_features=None,imputation_order=s),\n",
    "                    IterativeImputer(estimator=linear_model.LassoLars(), n_nearest_features=None,imputation_order=s),\n",
    "                    IterativeImputer(estimator=linear_model.BayesianRidge(), n_nearest_features=None,imputation_order=s)]\n",
    "        imputersnames = [\"Iterative Imputer (Lasso Estimator)\",\n",
    "                         \"Iterative Imputer (LassoLars Estimator)\",\n",
    "                         \"Iterative Imputer (BayesianRidge Estimator)\"]\n",
    "        for ii, iimputers in enumerate(imputers):\n",
    "            # create the modeling pipeline\n",
    "            pipeline = Pipeline(steps=[('i', iimputers), ('m', model)])\n",
    "            # evaluate the model\n",
    "            cv = RepeatedStratifiedKFold(n_splits=10, n_repeats=3, random_state=1)\n",
    "            scores = cross_val_score(pipeline, X, y, scoring='accuracy', cv=cv, n_jobs=-1)\n",
    "            # store results\n",
    "            results.loc[len(results.index)] = {'Dataset': \"Base\", \n",
    "                            'Model': names[i], \n",
    "                            'Imputation': imputersnames[ii], \n",
    "                            'Strategy': s, \n",
    "                            'Scores (Mean)': np.mean(scores), \n",
    "                            'Scores (SD)': np.std(scores)}\n",
    "            print('>%s, %s %s %.3f (%.3f)' % (names[i], imputersnames[ii], s, np.mean(scores), np.std(scores)))\n",
    "        print()\n",
    "    print(\"--------------------------------------------------------------------\")\n",
    "    print()"
   ]
  },
  {
   "cell_type": "code",
   "execution_count": 57,
   "metadata": {},
   "outputs": [
    {
     "name": "stdout",
     "output_type": "stream",
     "text": [
      ">Random Forest Classifier, Iterative Imputer (Lasso Estimator) ascending 0.931 (0.011)\n",
      ">Random Forest Classifier, Iterative Imputer (LassoLars Estimator) ascending 0.930 (0.010)\n",
      ">Random Forest Classifier, Iterative Imputer (BayesianRidge Estimator) ascending 0.932 (0.009)\n",
      "\n",
      ">Random Forest Classifier, Iterative Imputer (Lasso Estimator) descending 0.931 (0.010)\n",
      ">Random Forest Classifier, Iterative Imputer (LassoLars Estimator) descending 0.930 (0.010)\n",
      ">Random Forest Classifier, Iterative Imputer (BayesianRidge Estimator) descending 0.930 (0.010)\n",
      "\n",
      ">Random Forest Classifier, Iterative Imputer (Lasso Estimator) roman 0.931 (0.010)\n",
      ">Random Forest Classifier, Iterative Imputer (LassoLars Estimator) roman 0.930 (0.010)\n",
      ">Random Forest Classifier, Iterative Imputer (BayesianRidge Estimator) roman 0.932 (0.009)\n",
      "\n",
      ">Random Forest Classifier, Iterative Imputer (Lasso Estimator) arabic 0.931 (0.010)\n",
      ">Random Forest Classifier, Iterative Imputer (LassoLars Estimator) arabic 0.930 (0.010)\n",
      ">Random Forest Classifier, Iterative Imputer (BayesianRidge Estimator) arabic 0.931 (0.009)\n",
      "\n",
      ">Random Forest Classifier, Iterative Imputer (Lasso Estimator) random 0.931 (0.010)\n",
      ">Random Forest Classifier, Iterative Imputer (LassoLars Estimator) random 0.930 (0.010)\n",
      ">Random Forest Classifier, Iterative Imputer (BayesianRidge Estimator) random 0.931 (0.009)\n",
      "\n",
      "--------------------------------------------------------------------\n",
      "\n",
      ">Linear Discriminant Analysis, Iterative Imputer (Lasso Estimator) ascending 0.929 (0.009)\n",
      ">Linear Discriminant Analysis, Iterative Imputer (LassoLars Estimator) ascending 0.931 (0.008)\n",
      ">Linear Discriminant Analysis, Iterative Imputer (BayesianRidge Estimator) ascending 0.927 (0.012)\n",
      "\n",
      ">Linear Discriminant Analysis, Iterative Imputer (Lasso Estimator) descending 0.926 (0.013)\n",
      ">Linear Discriminant Analysis, Iterative Imputer (LassoLars Estimator) descending 0.931 (0.008)\n",
      ">Linear Discriminant Analysis, Iterative Imputer (BayesianRidge Estimator) descending 0.929 (0.010)\n",
      "\n",
      ">Linear Discriminant Analysis, Iterative Imputer (Lasso Estimator) roman 0.929 (0.009)\n",
      ">Linear Discriminant Analysis, Iterative Imputer (LassoLars Estimator) roman 0.931 (0.008)\n",
      ">Linear Discriminant Analysis, Iterative Imputer (BayesianRidge Estimator) roman 0.927 (0.012)\n",
      "\n",
      ">Linear Discriminant Analysis, Iterative Imputer (Lasso Estimator) arabic 0.926 (0.013)\n",
      ">Linear Discriminant Analysis, Iterative Imputer (LassoLars Estimator) arabic 0.931 (0.008)\n",
      ">Linear Discriminant Analysis, Iterative Imputer (BayesianRidge Estimator) arabic 0.930 (0.010)\n",
      "\n",
      ">Linear Discriminant Analysis, Iterative Imputer (Lasso Estimator) random 0.925 (0.014)\n",
      ">Linear Discriminant Analysis, Iterative Imputer (LassoLars Estimator) random 0.931 (0.008)\n",
      ">Linear Discriminant Analysis, Iterative Imputer (BayesianRidge Estimator) random 0.929 (0.010)\n",
      "\n",
      "--------------------------------------------------------------------\n",
      "\n",
      ">Logistic Regression, Iterative Imputer (Lasso Estimator) ascending 0.934 (0.006)\n",
      ">Logistic Regression, Iterative Imputer (LassoLars Estimator) ascending 0.935 (0.006)\n",
      ">Logistic Regression, Iterative Imputer (BayesianRidge Estimator) ascending 0.934 (0.007)\n",
      "\n",
      ">Logistic Regression, Iterative Imputer (Lasso Estimator) descending 0.934 (0.006)\n",
      ">Logistic Regression, Iterative Imputer (LassoLars Estimator) descending 0.935 (0.006)\n",
      ">Logistic Regression, Iterative Imputer (BayesianRidge Estimator) descending 0.934 (0.007)\n",
      "\n",
      ">Logistic Regression, Iterative Imputer (Lasso Estimator) roman 0.934 (0.006)\n",
      ">Logistic Regression, Iterative Imputer (LassoLars Estimator) roman 0.935 (0.006)\n",
      ">Logistic Regression, Iterative Imputer (BayesianRidge Estimator) roman 0.934 (0.007)\n",
      "\n",
      ">Logistic Regression, Iterative Imputer (Lasso Estimator) arabic 0.934 (0.006)\n",
      ">Logistic Regression, Iterative Imputer (LassoLars Estimator) arabic 0.935 (0.006)\n",
      ">Logistic Regression, Iterative Imputer (BayesianRidge Estimator) arabic 0.934 (0.007)\n",
      "\n",
      ">Logistic Regression, Iterative Imputer (Lasso Estimator) random 0.934 (0.007)\n",
      ">Logistic Regression, Iterative Imputer (LassoLars Estimator) random 0.935 (0.006)\n",
      ">Logistic Regression, Iterative Imputer (BayesianRidge Estimator) random 0.933 (0.008)\n",
      "\n",
      "--------------------------------------------------------------------\n",
      "\n"
     ]
    }
   ],
   "source": [
    "# evaluate each strategy on \"no-few-values-columns\" dataset\n",
    "strategies = ['ascending', 'descending', 'roman', 'arabic', 'random']\n",
    "for i, model in enumerate(models):\n",
    "    for s in strategies:\n",
    "        imputers = [IterativeImputer(estimator=linear_model.Lasso(alpha=0.1), n_nearest_features=None,imputation_order=s),\n",
    "                    IterativeImputer(estimator=linear_model.LassoLars(), n_nearest_features=None,imputation_order=s),\n",
    "                    IterativeImputer(estimator=linear_model.BayesianRidge(), n_nearest_features=None,imputation_order=s)]\n",
    "        imputersnames = [\"Iterative Imputer (Lasso Estimator)\",\n",
    "                         \"Iterative Imputer (LassoLars Estimator)\",\n",
    "                         \"Iterative Imputer (BayesianRidge Estimator)\"]\n",
    "        for ii, iimputers in enumerate(imputers):\n",
    "            # create the modeling pipeline\n",
    "            pipeline = Pipeline(steps=[('i', iimputers), ('m', model)])\n",
    "            # evaluate the model\n",
    "            cv = RepeatedStratifiedKFold(n_splits=10, n_repeats=3, random_state=1)\n",
    "            scores = cross_val_score(pipeline, X_noFewValuesColumns, y, scoring='accuracy', cv=cv, n_jobs=-1)\n",
    "            # store results\n",
    "            results.loc[len(results.index)] = {'Dataset': \"No-few-values-columns\", \n",
    "                            'Model': names[i], \n",
    "                            'Imputation': imputersnames[ii], \n",
    "                            'Strategy': s, \n",
    "                            'Scores (Mean)': np.mean(scores), \n",
    "                            'Scores (SD)': np.std(scores)}\n",
    "            print('>%s, %s %s %.3f (%.3f)' % (names[i], imputersnames[ii], s, np.mean(scores), np.std(scores)))\n",
    "        print()\n",
    "    print(\"--------------------------------------------------------------------\")\n",
    "    print()"
   ]
  },
  {
   "cell_type": "code",
   "execution_count": 58,
   "metadata": {},
   "outputs": [
    {
     "name": "stdout",
     "output_type": "stream",
     "text": [
      ">Random Forest Classifier, Iterative Imputer (Lasso Estimator) ascending 0.934 (0.010)\n",
      ">Random Forest Classifier, Iterative Imputer (LassoLars Estimator) ascending 0.930 (0.009)\n",
      ">Random Forest Classifier, Iterative Imputer (BayesianRidge Estimator) ascending 0.934 (0.009)\n",
      "\n",
      ">Random Forest Classifier, Iterative Imputer (Lasso Estimator) descending 0.933 (0.010)\n",
      ">Random Forest Classifier, Iterative Imputer (LassoLars Estimator) descending 0.930 (0.009)\n",
      ">Random Forest Classifier, Iterative Imputer (BayesianRidge Estimator) descending 0.934 (0.010)\n",
      "\n",
      ">Random Forest Classifier, Iterative Imputer (Lasso Estimator) roman 0.935 (0.010)\n",
      ">Random Forest Classifier, Iterative Imputer (LassoLars Estimator) roman 0.930 (0.009)\n",
      ">Random Forest Classifier, Iterative Imputer (BayesianRidge Estimator) roman 0.934 (0.009)\n",
      "\n",
      ">Random Forest Classifier, Iterative Imputer (Lasso Estimator) arabic 0.933 (0.010)\n",
      ">Random Forest Classifier, Iterative Imputer (LassoLars Estimator) arabic 0.930 (0.009)\n",
      ">Random Forest Classifier, Iterative Imputer (BayesianRidge Estimator) arabic 0.934 (0.009)\n",
      "\n",
      ">Random Forest Classifier, Iterative Imputer (Lasso Estimator) random 0.934 (0.011)\n",
      ">Random Forest Classifier, Iterative Imputer (LassoLars Estimator) random 0.930 (0.009)\n",
      ">Random Forest Classifier, Iterative Imputer (BayesianRidge Estimator) random 0.932 (0.009)\n",
      "\n",
      "--------------------------------------------------------------------\n",
      "\n",
      ">Linear Discriminant Analysis, Iterative Imputer (Lasso Estimator) ascending 0.917 (0.022)\n",
      ">Linear Discriminant Analysis, Iterative Imputer (LassoLars Estimator) ascending 0.913 (0.023)\n",
      ">Linear Discriminant Analysis, Iterative Imputer (BayesianRidge Estimator) ascending 0.917 (0.022)\n",
      "\n",
      ">Linear Discriminant Analysis, Iterative Imputer (Lasso Estimator) descending 0.914 (0.024)\n",
      ">Linear Discriminant Analysis, Iterative Imputer (LassoLars Estimator) descending 0.913 (0.023)\n",
      ">Linear Discriminant Analysis, Iterative Imputer (BayesianRidge Estimator) descending 0.916 (0.023)\n",
      "\n",
      ">Linear Discriminant Analysis, Iterative Imputer (Lasso Estimator) roman 0.917 (0.022)\n",
      ">Linear Discriminant Analysis, Iterative Imputer (LassoLars Estimator) roman 0.913 (0.023)\n",
      ">Linear Discriminant Analysis, Iterative Imputer (BayesianRidge Estimator) roman 0.917 (0.022)\n",
      "\n",
      ">Linear Discriminant Analysis, Iterative Imputer (Lasso Estimator) arabic 0.914 (0.024)\n",
      ">Linear Discriminant Analysis, Iterative Imputer (LassoLars Estimator) arabic 0.913 (0.023)\n",
      ">Linear Discriminant Analysis, Iterative Imputer (BayesianRidge Estimator) arabic 0.916 (0.024)\n",
      "\n",
      ">Linear Discriminant Analysis, Iterative Imputer (Lasso Estimator) random 0.914 (0.024)\n",
      ">Linear Discriminant Analysis, Iterative Imputer (LassoLars Estimator) random 0.913 (0.023)\n",
      ">Linear Discriminant Analysis, Iterative Imputer (BayesianRidge Estimator) random 0.915 (0.022)\n",
      "\n",
      "--------------------------------------------------------------------\n",
      "\n",
      ">Logistic Regression, Iterative Imputer (Lasso Estimator) ascending 0.934 (0.008)\n",
      ">Logistic Regression, Iterative Imputer (LassoLars Estimator) ascending 0.934 (0.007)\n",
      ">Logistic Regression, Iterative Imputer (BayesianRidge Estimator) ascending 0.931 (0.010)\n",
      "\n",
      ">Logistic Regression, Iterative Imputer (Lasso Estimator) descending 0.934 (0.007)\n",
      ">Logistic Regression, Iterative Imputer (LassoLars Estimator) descending 0.934 (0.007)\n",
      ">Logistic Regression, Iterative Imputer (BayesianRidge Estimator) descending 0.931 (0.010)\n",
      "\n",
      ">Logistic Regression, Iterative Imputer (Lasso Estimator) roman 0.933 (0.009)\n",
      ">Logistic Regression, Iterative Imputer (LassoLars Estimator) roman 0.934 (0.007)\n",
      ">Logistic Regression, Iterative Imputer (BayesianRidge Estimator) roman 0.931 (0.010)\n",
      "\n",
      ">Logistic Regression, Iterative Imputer (Lasso Estimator) arabic 0.934 (0.007)\n",
      ">Logistic Regression, Iterative Imputer (LassoLars Estimator) arabic 0.934 (0.007)\n",
      ">Logistic Regression, Iterative Imputer (BayesianRidge Estimator) arabic 0.931 (0.009)\n",
      "\n",
      ">Logistic Regression, Iterative Imputer (Lasso Estimator) random 0.933 (0.009)\n",
      ">Logistic Regression, Iterative Imputer (LassoLars Estimator) random 0.934 (0.007)\n",
      ">Logistic Regression, Iterative Imputer (BayesianRidge Estimator) random 0.932 (0.010)\n",
      "\n",
      "--------------------------------------------------------------------\n",
      "\n"
     ]
    }
   ],
   "source": [
    "# evaluate each strategy on \"no-boolean-redundant-columns\" dataset\n",
    "strategies = ['ascending', 'descending', 'roman', 'arabic', 'random']\n",
    "for i, model in enumerate(models):\n",
    "    for s in strategies:\n",
    "        imputers = [IterativeImputer(estimator=linear_model.Lasso(alpha=0.1), n_nearest_features=None,imputation_order=s),\n",
    "                    IterativeImputer(estimator=linear_model.LassoLars(), n_nearest_features=None,imputation_order=s),\n",
    "                    IterativeImputer(estimator=linear_model.BayesianRidge(), n_nearest_features=None,imputation_order=s)]\n",
    "        imputersnames = [\"Iterative Imputer (Lasso Estimator)\",\n",
    "                         \"Iterative Imputer (LassoLars Estimator)\",\n",
    "                         \"Iterative Imputer (BayesianRidge Estimator)\"]\n",
    "        for ii, iimputers in enumerate(imputers):\n",
    "            # create the modeling pipeline\n",
    "            pipeline = Pipeline(steps=[('i', iimputers), ('m', model)])\n",
    "            # evaluate the model\n",
    "            cv = RepeatedStratifiedKFold(n_splits=10, n_repeats=3, random_state=1)\n",
    "            scores = cross_val_score(pipeline, X_noBooleanRedundantColumns, y, scoring='accuracy', cv=cv, n_jobs=-1)\n",
    "            # store results\n",
    "            results.loc[len(results.index)] = {'Dataset': \"No-boolean-redundant-columns\", \n",
    "                            'Model': names[i], \n",
    "                            'Imputation': imputersnames[ii], \n",
    "                            'Strategy': s, \n",
    "                            'Scores (Mean)': np.mean(scores), \n",
    "                            'Scores (SD)': np.std(scores)}\n",
    "            print('>%s, %s %s %.3f (%.3f)' % (names[i], imputersnames[ii], s, np.mean(scores), np.std(scores)))\n",
    "        print()\n",
    "    print(\"--------------------------------------------------------------------\")\n",
    "    print()"
   ]
  },
  {
   "cell_type": "markdown",
   "metadata": {},
   "source": [
    "##### 2.3.3.4. Imputación por KNN"
   ]
  },
  {
   "cell_type": "markdown",
   "metadata": {},
   "source": [
    "Para llevar a cabo la imputación por KNN, utilizamos enteros entre el 1 y el 21 (por cuestiones de rapidez lo probaremos con saltos de 2) como parámetro *N*."
   ]
  },
  {
   "cell_type": "code",
   "execution_count": 59,
   "metadata": {},
   "outputs": [
    {
     "name": "stdout",
     "output_type": "stream",
     "text": [
      ">Random Forest Classifier, 1 0.929 (0.011)\n",
      ">Random Forest Classifier, 3 0.931 (0.010)\n",
      ">Random Forest Classifier, 5 0.931 (0.010)\n",
      ">Random Forest Classifier, 7 0.933 (0.010)\n",
      ">Random Forest Classifier, 9 0.933 (0.010)\n",
      ">Random Forest Classifier, 11 0.933 (0.010)\n",
      ">Random Forest Classifier, 13 0.934 (0.009)\n",
      ">Random Forest Classifier, 15 0.932 (0.010)\n",
      ">Random Forest Classifier, 17 0.933 (0.010)\n",
      ">Random Forest Classifier, 19 0.933 (0.010)\n",
      ">Random Forest Classifier, 21 0.933 (0.010)\n",
      "\n",
      ">Linear Discriminant Analysis, 1 0.912 (0.022)\n",
      ">Linear Discriminant Analysis, 3 0.911 (0.022)\n",
      ">Linear Discriminant Analysis, 5 0.911 (0.023)\n",
      ">Linear Discriminant Analysis, 7 0.911 (0.022)\n",
      ">Linear Discriminant Analysis, 9 0.909 (0.023)\n",
      ">Linear Discriminant Analysis, 11 0.910 (0.023)\n",
      ">Linear Discriminant Analysis, 13 0.909 (0.023)\n",
      ">Linear Discriminant Analysis, 15 0.909 (0.023)\n",
      ">Linear Discriminant Analysis, 17 0.909 (0.023)\n",
      ">Linear Discriminant Analysis, 19 0.910 (0.022)\n",
      ">Linear Discriminant Analysis, 21 0.909 (0.022)\n",
      "\n",
      ">Logistic Regression, 1 0.933 (0.009)\n",
      ">Logistic Regression, 3 0.934 (0.007)\n",
      ">Logistic Regression, 5 0.934 (0.006)\n",
      ">Logistic Regression, 7 0.934 (0.007)\n",
      ">Logistic Regression, 9 0.933 (0.009)\n",
      ">Logistic Regression, 11 0.933 (0.008)\n",
      ">Logistic Regression, 13 0.932 (0.008)\n",
      ">Logistic Regression, 15 0.933 (0.008)\n",
      ">Logistic Regression, 17 0.933 (0.007)\n",
      ">Logistic Regression, 19 0.933 (0.007)\n",
      ">Logistic Regression, 21 0.932 (0.009)\n",
      "\n"
     ]
    }
   ],
   "source": [
    "# evaluate each strategy on base dataset\n",
    "strategies = [i for i in range(1,22,2)]\n",
    "for i, model in enumerate(models):\n",
    "    for s in strategies:\n",
    "        # create the modeling pipeline\n",
    "        pipeline = Pipeline(steps=[('i', KNNImputer(n_neighbors=s)), ('m', model)])\n",
    "        # evaluate the model\n",
    "        cv = RepeatedStratifiedKFold(n_splits=10, n_repeats=3, random_state=1)\n",
    "        scores = cross_val_score(pipeline, X, y, scoring='accuracy', cv=cv, n_jobs=-1)\n",
    "        # store results\n",
    "        results.loc[len(results.index)] = {'Dataset': \"Base\", \n",
    "                        'Model': names[i], \n",
    "                        'Imputation': \"KNN Imputer\", \n",
    "                        'Strategy': s, \n",
    "                        'Scores (Mean)': np.mean(scores), \n",
    "                        'Scores (SD)': np.std(scores)}\n",
    "        print('>%s, %s %.3f (%.3f)' % (names[i], s, np.mean(scores), np.std(scores)))\n",
    "    print()"
   ]
  },
  {
   "cell_type": "code",
   "execution_count": 60,
   "metadata": {},
   "outputs": [
    {
     "name": "stdout",
     "output_type": "stream",
     "text": [
      ">Random Forest Classifier, 1 0.932 (0.011)\n",
      ">Random Forest Classifier, 3 0.929 (0.011)\n",
      ">Random Forest Classifier, 5 0.929 (0.011)\n",
      ">Random Forest Classifier, 7 0.929 (0.010)\n",
      ">Random Forest Classifier, 9 0.930 (0.010)\n",
      ">Random Forest Classifier, 11 0.931 (0.012)\n",
      ">Random Forest Classifier, 13 0.931 (0.010)\n",
      ">Random Forest Classifier, 15 0.930 (0.012)\n",
      ">Random Forest Classifier, 17 0.930 (0.012)\n",
      ">Random Forest Classifier, 19 0.931 (0.011)\n",
      ">Random Forest Classifier, 21 0.930 (0.013)\n",
      "\n",
      ">Linear Discriminant Analysis, 1 0.927 (0.011)\n",
      ">Linear Discriminant Analysis, 3 0.929 (0.009)\n",
      ">Linear Discriminant Analysis, 5 0.927 (0.011)\n",
      ">Linear Discriminant Analysis, 7 0.929 (0.010)\n",
      ">Linear Discriminant Analysis, 9 0.927 (0.011)\n",
      ">Linear Discriminant Analysis, 11 0.929 (0.009)\n",
      ">Linear Discriminant Analysis, 13 0.929 (0.010)\n",
      ">Linear Discriminant Analysis, 15 0.929 (0.010)\n",
      ">Linear Discriminant Analysis, 17 0.929 (0.011)\n",
      ">Linear Discriminant Analysis, 19 0.929 (0.011)\n",
      ">Linear Discriminant Analysis, 21 0.929 (0.009)\n",
      "\n",
      ">Logistic Regression, 1 0.935 (0.006)\n",
      ">Logistic Regression, 3 0.935 (0.006)\n",
      ">Logistic Regression, 5 0.935 (0.006)\n",
      ">Logistic Regression, 7 0.935 (0.006)\n",
      ">Logistic Regression, 9 0.935 (0.006)\n",
      ">Logistic Regression, 11 0.935 (0.006)\n",
      ">Logistic Regression, 13 0.935 (0.006)\n",
      ">Logistic Regression, 15 0.935 (0.006)\n",
      ">Logistic Regression, 17 0.935 (0.006)\n",
      ">Logistic Regression, 19 0.935 (0.006)\n",
      ">Logistic Regression, 21 0.934 (0.006)\n",
      "\n"
     ]
    }
   ],
   "source": [
    "# evaluate each strategy on \"no-few-values-columns\" dataset\n",
    "strategies = [i for i in range(1,22,2)]\n",
    "for i, model in enumerate(models):\n",
    "    for s in strategies:\n",
    "        # create the modeling pipeline\n",
    "        pipeline = Pipeline(steps=[('i', KNNImputer(n_neighbors=s)), ('m', model)])\n",
    "        # evaluate the model\n",
    "        cv = RepeatedStratifiedKFold(n_splits=10, n_repeats=3, random_state=1)\n",
    "        scores = cross_val_score(pipeline, X_noFewValuesColumns, y, scoring='accuracy', cv=cv, n_jobs=-1)\n",
    "        # store results\n",
    "        results.loc[len(results.index)] = {'Dataset': \"No-few-values-columns\", \n",
    "                        'Model': names[i], \n",
    "                        'Imputation': \"KNN Imputer\", \n",
    "                        'Strategy': s, \n",
    "                        'Scores (Mean)': np.mean(scores), \n",
    "                        'Scores (SD)': np.std(scores)}\n",
    "        print('>%s, %s %.3f (%.3f)' % (names[i], s, np.mean(scores), np.std(scores)))\n",
    "    print()"
   ]
  },
  {
   "cell_type": "code",
   "execution_count": 61,
   "metadata": {},
   "outputs": [
    {
     "name": "stdout",
     "output_type": "stream",
     "text": [
      ">Random Forest Classifier, 1 0.933 (0.011)\n",
      ">Random Forest Classifier, 3 0.931 (0.010)\n",
      ">Random Forest Classifier, 5 0.931 (0.010)\n",
      ">Random Forest Classifier, 7 0.932 (0.011)\n",
      ">Random Forest Classifier, 9 0.932 (0.009)\n",
      ">Random Forest Classifier, 11 0.933 (0.010)\n",
      ">Random Forest Classifier, 13 0.932 (0.011)\n",
      ">Random Forest Classifier, 15 0.932 (0.012)\n",
      ">Random Forest Classifier, 17 0.932 (0.011)\n",
      ">Random Forest Classifier, 19 0.934 (0.011)\n",
      ">Random Forest Classifier, 21 0.932 (0.011)\n",
      "\n",
      ">Linear Discriminant Analysis, 1 0.917 (0.023)\n",
      ">Linear Discriminant Analysis, 3 0.915 (0.021)\n",
      ">Linear Discriminant Analysis, 5 0.914 (0.022)\n",
      ">Linear Discriminant Analysis, 7 0.915 (0.023)\n",
      ">Linear Discriminant Analysis, 9 0.914 (0.023)\n",
      ">Linear Discriminant Analysis, 11 0.914 (0.022)\n",
      ">Linear Discriminant Analysis, 13 0.913 (0.022)\n",
      ">Linear Discriminant Analysis, 15 0.912 (0.024)\n",
      ">Linear Discriminant Analysis, 17 0.913 (0.023)\n",
      ">Linear Discriminant Analysis, 19 0.913 (0.023)\n",
      ">Linear Discriminant Analysis, 21 0.913 (0.024)\n",
      "\n",
      ">Logistic Regression, 1 0.933 (0.007)\n",
      ">Logistic Regression, 3 0.934 (0.006)\n",
      ">Logistic Regression, 5 0.934 (0.007)\n",
      ">Logistic Regression, 7 0.935 (0.006)\n",
      ">Logistic Regression, 9 0.933 (0.007)\n",
      ">Logistic Regression, 11 0.933 (0.008)\n",
      ">Logistic Regression, 13 0.933 (0.008)\n",
      ">Logistic Regression, 15 0.932 (0.009)\n",
      ">Logistic Regression, 17 0.933 (0.008)\n",
      ">Logistic Regression, 19 0.932 (0.009)\n",
      ">Logistic Regression, 21 0.932 (0.008)\n",
      "\n"
     ]
    }
   ],
   "source": [
    "# evaluate each strategy on \"no-boolean-redundant-columns\" dataset\n",
    "strategies = [i for i in range(1,22,2)]\n",
    "for i, model in enumerate(models):\n",
    "    for s in strategies:\n",
    "        # create the modeling pipeline\n",
    "        pipeline = Pipeline(steps=[('i', KNNImputer(n_neighbors=s)), ('m', model)])\n",
    "        # evaluate the model\n",
    "        cv = RepeatedStratifiedKFold(n_splits=10, n_repeats=3, random_state=1)\n",
    "        scores = cross_val_score(pipeline, X_noBooleanRedundantColumns, y, scoring='accuracy', cv=cv, n_jobs=-1)\n",
    "        # store results\n",
    "        results.loc[len(results.index)] = {'Dataset': \"No-boolean-redundant-columns\", \n",
    "                        'Model': names[i], \n",
    "                        'Imputation': \"KNN Imputer\", \n",
    "                        'Strategy': s, \n",
    "                        'Scores (Mean)': np.mean(scores), \n",
    "                        'Scores (SD)': np.std(scores)}\n",
    "        print('>%s, %s %.3f (%.3f)' % (names[i], s, np.mean(scores), np.std(scores)))\n",
    "    print()"
   ]
  },
  {
   "cell_type": "markdown",
   "metadata": {},
   "source": [
    "##### 2.3.3.5. Resultados"
   ]
  },
  {
   "cell_type": "markdown",
   "metadata": {},
   "source": [
    "Pasemos a analizar los resultados. Como vemos, disponemos de un total de 279 registros en nuestro dataframe de resultados, con lo que podemos determinar el mejor dataset de partida, el mejor modelo y el mejor algoritmo de imputación."
   ]
  },
  {
   "cell_type": "code",
   "execution_count": 62,
   "metadata": {},
   "outputs": [
    {
     "data": {
      "text/plain": [
       "(279, 6)"
      ]
     },
     "execution_count": 62,
     "metadata": {},
     "output_type": "execute_result"
    }
   ],
   "source": [
    "results.shape"
   ]
  },
  {
   "cell_type": "code",
   "execution_count": 63,
   "metadata": {},
   "outputs": [
    {
     "data": {
      "text/html": [
       "<div>\n",
       "<style scoped>\n",
       "    .dataframe tbody tr th:only-of-type {\n",
       "        vertical-align: middle;\n",
       "    }\n",
       "\n",
       "    .dataframe tbody tr th {\n",
       "        vertical-align: top;\n",
       "    }\n",
       "\n",
       "    .dataframe thead th {\n",
       "        text-align: right;\n",
       "    }\n",
       "</style>\n",
       "<table border=\"1\" class=\"dataframe\">\n",
       "  <thead>\n",
       "    <tr style=\"text-align: right;\">\n",
       "      <th></th>\n",
       "      <th>Dataset</th>\n",
       "      <th>Model</th>\n",
       "      <th>Imputation</th>\n",
       "      <th>Strategy</th>\n",
       "      <th>Scores (Mean)</th>\n",
       "      <th>Scores (SD)</th>\n",
       "    </tr>\n",
       "  </thead>\n",
       "  <tbody>\n",
       "    <tr>\n",
       "      <th>0</th>\n",
       "      <td>Base</td>\n",
       "      <td>Random Forest Classifier</td>\n",
       "      <td>Deleting null rows</td>\n",
       "      <td>NaN</td>\n",
       "      <td>0.847368</td>\n",
       "      <td>0.003722</td>\n",
       "    </tr>\n",
       "    <tr>\n",
       "      <th>1</th>\n",
       "      <td>Base</td>\n",
       "      <td>Linear Discriminant Analysis</td>\n",
       "      <td>Deleting null rows</td>\n",
       "      <td>NaN</td>\n",
       "      <td>0.745322</td>\n",
       "      <td>0.078329</td>\n",
       "    </tr>\n",
       "    <tr>\n",
       "      <th>2</th>\n",
       "      <td>Base</td>\n",
       "      <td>Logistic Regression</td>\n",
       "      <td>Deleting null rows</td>\n",
       "      <td>NaN</td>\n",
       "      <td>0.806725</td>\n",
       "      <td>0.071243</td>\n",
       "    </tr>\n",
       "    <tr>\n",
       "      <th>3</th>\n",
       "      <td>No-few-values-columns</td>\n",
       "      <td>Random Forest Classifier</td>\n",
       "      <td>Deleting null rows</td>\n",
       "      <td>NaN</td>\n",
       "      <td>0.835965</td>\n",
       "      <td>0.022399</td>\n",
       "    </tr>\n",
       "    <tr>\n",
       "      <th>4</th>\n",
       "      <td>No-few-values-columns</td>\n",
       "      <td>Linear Discriminant Analysis</td>\n",
       "      <td>Deleting null rows</td>\n",
       "      <td>NaN</td>\n",
       "      <td>0.813450</td>\n",
       "      <td>0.034811</td>\n",
       "    </tr>\n",
       "  </tbody>\n",
       "</table>\n",
       "</div>"
      ],
      "text/plain": [
       "                 Dataset                         Model          Imputation  \\\n",
       "0                   Base      Random Forest Classifier  Deleting null rows   \n",
       "1                   Base  Linear Discriminant Analysis  Deleting null rows   \n",
       "2                   Base           Logistic Regression  Deleting null rows   \n",
       "3  No-few-values-columns      Random Forest Classifier  Deleting null rows   \n",
       "4  No-few-values-columns  Linear Discriminant Analysis  Deleting null rows   \n",
       "\n",
       "  Strategy  Scores (Mean)  Scores (SD)  \n",
       "0      NaN       0.847368     0.003722  \n",
       "1      NaN       0.745322     0.078329  \n",
       "2      NaN       0.806725     0.071243  \n",
       "3      NaN       0.835965     0.022399  \n",
       "4      NaN       0.813450     0.034811  "
      ]
     },
     "execution_count": 63,
     "metadata": {},
     "output_type": "execute_result"
    }
   ],
   "source": [
    "results.head()"
   ]
  },
  {
   "cell_type": "markdown",
   "metadata": {},
   "source": [
    "Obtengamos la mejor combinación de dataset y modelo para los resultados obtenidos."
   ]
  },
  {
   "cell_type": "code",
   "execution_count": 64,
   "metadata": {},
   "outputs": [
    {
     "data": {
      "text/html": [
       "<div>\n",
       "<style scoped>\n",
       "    .dataframe tbody tr th:only-of-type {\n",
       "        vertical-align: middle;\n",
       "    }\n",
       "\n",
       "    .dataframe tbody tr th {\n",
       "        vertical-align: top;\n",
       "    }\n",
       "\n",
       "    .dataframe thead th {\n",
       "        text-align: right;\n",
       "    }\n",
       "</style>\n",
       "<table border=\"1\" class=\"dataframe\">\n",
       "  <thead>\n",
       "    <tr style=\"text-align: right;\">\n",
       "      <th></th>\n",
       "      <th></th>\n",
       "      <th>Scores (Mean)</th>\n",
       "      <th>Scores (SD)</th>\n",
       "    </tr>\n",
       "    <tr>\n",
       "      <th>Model</th>\n",
       "      <th>Dataset</th>\n",
       "      <th></th>\n",
       "      <th></th>\n",
       "    </tr>\n",
       "  </thead>\n",
       "  <tbody>\n",
       "    <tr>\n",
       "      <th>Logistic Regression</th>\n",
       "      <th>No-few-values-columns</th>\n",
       "      <td>0.929866</td>\n",
       "      <td>0.007794</td>\n",
       "    </tr>\n",
       "    <tr>\n",
       "      <th rowspan=\"2\" valign=\"top\">Random Forest Classifier</th>\n",
       "      <th>Base</th>\n",
       "      <td>0.929312</td>\n",
       "      <td>0.009667</td>\n",
       "    </tr>\n",
       "    <tr>\n",
       "      <th>No-boolean-redundant-columns</th>\n",
       "      <td>0.929080</td>\n",
       "      <td>0.010022</td>\n",
       "    </tr>\n",
       "    <tr>\n",
       "      <th rowspan=\"2\" valign=\"top\">Logistic Regression</th>\n",
       "      <th>Base</th>\n",
       "      <td>0.928754</td>\n",
       "      <td>0.010182</td>\n",
       "    </tr>\n",
       "    <tr>\n",
       "      <th>No-boolean-redundant-columns</th>\n",
       "      <td>0.927926</td>\n",
       "      <td>0.009734</td>\n",
       "    </tr>\n",
       "    <tr>\n",
       "      <th>Random Forest Classifier</th>\n",
       "      <th>No-few-values-columns</th>\n",
       "      <td>0.927595</td>\n",
       "      <td>0.010695</td>\n",
       "    </tr>\n",
       "    <tr>\n",
       "      <th rowspan=\"3\" valign=\"top\">Linear Discriminant Analysis</th>\n",
       "      <th>No-few-values-columns</th>\n",
       "      <td>0.924862</td>\n",
       "      <td>0.010997</td>\n",
       "    </tr>\n",
       "    <tr>\n",
       "      <th>No-boolean-redundant-columns</th>\n",
       "      <td>0.908744</td>\n",
       "      <td>0.024355</td>\n",
       "    </tr>\n",
       "    <tr>\n",
       "      <th>Base</th>\n",
       "      <td>0.905273</td>\n",
       "      <td>0.024193</td>\n",
       "    </tr>\n",
       "  </tbody>\n",
       "</table>\n",
       "</div>"
      ],
      "text/plain": [
       "                                                           Scores (Mean)  \\\n",
       "Model                        Dataset                                       \n",
       "Logistic Regression          No-few-values-columns              0.929866   \n",
       "Random Forest Classifier     Base                               0.929312   \n",
       "                             No-boolean-redundant-columns       0.929080   \n",
       "Logistic Regression          Base                               0.928754   \n",
       "                             No-boolean-redundant-columns       0.927926   \n",
       "Random Forest Classifier     No-few-values-columns              0.927595   \n",
       "Linear Discriminant Analysis No-few-values-columns              0.924862   \n",
       "                             No-boolean-redundant-columns       0.908744   \n",
       "                             Base                               0.905273   \n",
       "\n",
       "                                                           Scores (SD)  \n",
       "Model                        Dataset                                    \n",
       "Logistic Regression          No-few-values-columns            0.007794  \n",
       "Random Forest Classifier     Base                             0.009667  \n",
       "                             No-boolean-redundant-columns     0.010022  \n",
       "Logistic Regression          Base                             0.010182  \n",
       "                             No-boolean-redundant-columns     0.009734  \n",
       "Random Forest Classifier     No-few-values-columns            0.010695  \n",
       "Linear Discriminant Analysis No-few-values-columns            0.010997  \n",
       "                             No-boolean-redundant-columns     0.024355  \n",
       "                             Base                             0.024193  "
      ]
     },
     "execution_count": 64,
     "metadata": {},
     "output_type": "execute_result"
    }
   ],
   "source": [
    "# results.groupby(['Model', 'Dataset'])[['Scores (Mean)', 'Scores (SD)']].mean()\n",
    "results.groupby(['Model', 'Dataset'])[['Scores (Mean)', 'Scores (SD)']].mean().sort_values('Scores (Mean)', ascending=False)"
   ]
  },
  {
   "cell_type": "markdown",
   "metadata": {},
   "source": [
    "Para tres combinaciones seleccionadas por sus buenos resultados, escogemos el método de imputación que mejor comportamiento haya tenido."
   ]
  },
  {
   "cell_type": "code",
   "execution_count": 65,
   "metadata": {},
   "outputs": [
    {
     "data": {
      "text/html": [
       "<div>\n",
       "<style scoped>\n",
       "    .dataframe tbody tr th:only-of-type {\n",
       "        vertical-align: middle;\n",
       "    }\n",
       "\n",
       "    .dataframe tbody tr th {\n",
       "        vertical-align: top;\n",
       "    }\n",
       "\n",
       "    .dataframe thead th {\n",
       "        text-align: right;\n",
       "    }\n",
       "</style>\n",
       "<table border=\"1\" class=\"dataframe\">\n",
       "  <thead>\n",
       "    <tr style=\"text-align: right;\">\n",
       "      <th></th>\n",
       "      <th></th>\n",
       "      <th>Scores (Mean)</th>\n",
       "      <th>Scores (SD)</th>\n",
       "    </tr>\n",
       "    <tr>\n",
       "      <th>Imputation</th>\n",
       "      <th>Strategy</th>\n",
       "      <th></th>\n",
       "      <th></th>\n",
       "    </tr>\n",
       "  </thead>\n",
       "  <tbody>\n",
       "    <tr>\n",
       "      <th>Iterative Imputer (BayesianRidge Estimator)</th>\n",
       "      <th>arabic</th>\n",
       "      <td>0.933510</td>\n",
       "      <td>0.007905</td>\n",
       "    </tr>\n",
       "    <tr>\n",
       "      <th>Iterative Imputer (Lasso Estimator)</th>\n",
       "      <th>descending</th>\n",
       "      <td>0.933510</td>\n",
       "      <td>0.009567</td>\n",
       "    </tr>\n",
       "    <tr>\n",
       "      <th>Iterative Imputer (BayesianRidge Estimator)</th>\n",
       "      <th>descending</th>\n",
       "      <td>0.933510</td>\n",
       "      <td>0.008495</td>\n",
       "    </tr>\n",
       "    <tr>\n",
       "      <th>KNN Imputer</th>\n",
       "      <th>13</th>\n",
       "      <td>0.933510</td>\n",
       "      <td>0.009047</td>\n",
       "    </tr>\n",
       "    <tr>\n",
       "      <th rowspan=\"2\" valign=\"top\">Iterative Imputer (Lasso Estimator)</th>\n",
       "      <th>arabic</th>\n",
       "      <td>0.933510</td>\n",
       "      <td>0.009567</td>\n",
       "    </tr>\n",
       "    <tr>\n",
       "      <th>random</th>\n",
       "      <td>0.933510</td>\n",
       "      <td>0.011819</td>\n",
       "    </tr>\n",
       "    <tr>\n",
       "      <th rowspan=\"2\" valign=\"top\">KNN Imputer</th>\n",
       "      <th>9</th>\n",
       "      <td>0.933113</td>\n",
       "      <td>0.009504</td>\n",
       "    </tr>\n",
       "    <tr>\n",
       "      <th>19</th>\n",
       "      <td>0.933113</td>\n",
       "      <td>0.010000</td>\n",
       "    </tr>\n",
       "    <tr>\n",
       "      <th>Iterative Imputer (Lasso Estimator)</th>\n",
       "      <th>roman</th>\n",
       "      <td>0.933109</td>\n",
       "      <td>0.009549</td>\n",
       "    </tr>\n",
       "    <tr>\n",
       "      <th rowspan=\"2\" valign=\"top\">KNN Imputer</th>\n",
       "      <th>17</th>\n",
       "      <td>0.933109</td>\n",
       "      <td>0.009549</td>\n",
       "    </tr>\n",
       "    <tr>\n",
       "      <th>11</th>\n",
       "      <td>0.932712</td>\n",
       "      <td>0.009967</td>\n",
       "    </tr>\n",
       "    <tr>\n",
       "      <th>Iterative Imputer (BayesianRidge Estimator)</th>\n",
       "      <th>random</th>\n",
       "      <td>0.932712</td>\n",
       "      <td>0.008944</td>\n",
       "    </tr>\n",
       "    <tr>\n",
       "      <th>Iterative Imputer (Lasso Estimator)</th>\n",
       "      <th>ascending</th>\n",
       "      <td>0.932707</td>\n",
       "      <td>0.008991</td>\n",
       "    </tr>\n",
       "    <tr>\n",
       "      <th>KNN Imputer</th>\n",
       "      <th>21</th>\n",
       "      <td>0.932707</td>\n",
       "      <td>0.010010</td>\n",
       "    </tr>\n",
       "    <tr>\n",
       "      <th>Iterative Imputer (BayesianRidge Estimator)</th>\n",
       "      <th>roman</th>\n",
       "      <td>0.932702</td>\n",
       "      <td>0.010522</td>\n",
       "    </tr>\n",
       "    <tr>\n",
       "      <th>KNN Imputer</th>\n",
       "      <th>7</th>\n",
       "      <td>0.932702</td>\n",
       "      <td>0.009546</td>\n",
       "    </tr>\n",
       "    <tr>\n",
       "      <th>Simple Imputation</th>\n",
       "      <th>constant</th>\n",
       "      <td>0.932310</td>\n",
       "      <td>0.007724</td>\n",
       "    </tr>\n",
       "    <tr>\n",
       "      <th>Iterative Imputer (BayesianRidge Estimator)</th>\n",
       "      <th>ascending</th>\n",
       "      <td>0.932305</td>\n",
       "      <td>0.010889</td>\n",
       "    </tr>\n",
       "    <tr>\n",
       "      <th rowspan=\"2\" valign=\"top\">KNN Imputer</th>\n",
       "      <th>15</th>\n",
       "      <td>0.931909</td>\n",
       "      <td>0.010331</td>\n",
       "    </tr>\n",
       "    <tr>\n",
       "      <th>5</th>\n",
       "      <td>0.931101</td>\n",
       "      <td>0.009711</td>\n",
       "    </tr>\n",
       "    <tr>\n",
       "      <th rowspan=\"5\" valign=\"top\">Iterative Imputer (LassoLars Estimator)</th>\n",
       "      <th>roman</th>\n",
       "      <td>0.930718</td>\n",
       "      <td>0.010841</td>\n",
       "    </tr>\n",
       "    <tr>\n",
       "      <th>random</th>\n",
       "      <td>0.930718</td>\n",
       "      <td>0.010841</td>\n",
       "    </tr>\n",
       "    <tr>\n",
       "      <th>descending</th>\n",
       "      <td>0.930718</td>\n",
       "      <td>0.010841</td>\n",
       "    </tr>\n",
       "    <tr>\n",
       "      <th>ascending</th>\n",
       "      <td>0.930718</td>\n",
       "      <td>0.010841</td>\n",
       "    </tr>\n",
       "    <tr>\n",
       "      <th>arabic</th>\n",
       "      <td>0.930718</td>\n",
       "      <td>0.010841</td>\n",
       "    </tr>\n",
       "    <tr>\n",
       "      <th>Simple Imputation</th>\n",
       "      <th>mean</th>\n",
       "      <td>0.930718</td>\n",
       "      <td>0.010841</td>\n",
       "    </tr>\n",
       "    <tr>\n",
       "      <th>KNN Imputer</th>\n",
       "      <th>3</th>\n",
       "      <td>0.930704</td>\n",
       "      <td>0.010044</td>\n",
       "    </tr>\n",
       "    <tr>\n",
       "      <th rowspan=\"2\" valign=\"top\">Simple Imputation</th>\n",
       "      <th>median</th>\n",
       "      <td>0.929915</td>\n",
       "      <td>0.009627</td>\n",
       "    </tr>\n",
       "    <tr>\n",
       "      <th>most_frequent</th>\n",
       "      <td>0.929504</td>\n",
       "      <td>0.009035</td>\n",
       "    </tr>\n",
       "    <tr>\n",
       "      <th>KNN Imputer</th>\n",
       "      <th>1</th>\n",
       "      <td>0.929499</td>\n",
       "      <td>0.010559</td>\n",
       "    </tr>\n",
       "  </tbody>\n",
       "</table>\n",
       "</div>"
      ],
      "text/plain": [
       "                                                           Scores (Mean)  \\\n",
       "Imputation                                  Strategy                       \n",
       "Iterative Imputer (BayesianRidge Estimator) arabic              0.933510   \n",
       "Iterative Imputer (Lasso Estimator)         descending          0.933510   \n",
       "Iterative Imputer (BayesianRidge Estimator) descending          0.933510   \n",
       "KNN Imputer                                 13                  0.933510   \n",
       "Iterative Imputer (Lasso Estimator)         arabic              0.933510   \n",
       "                                            random              0.933510   \n",
       "KNN Imputer                                 9                   0.933113   \n",
       "                                            19                  0.933113   \n",
       "Iterative Imputer (Lasso Estimator)         roman               0.933109   \n",
       "KNN Imputer                                 17                  0.933109   \n",
       "                                            11                  0.932712   \n",
       "Iterative Imputer (BayesianRidge Estimator) random              0.932712   \n",
       "Iterative Imputer (Lasso Estimator)         ascending           0.932707   \n",
       "KNN Imputer                                 21                  0.932707   \n",
       "Iterative Imputer (BayesianRidge Estimator) roman               0.932702   \n",
       "KNN Imputer                                 7                   0.932702   \n",
       "Simple Imputation                           constant            0.932310   \n",
       "Iterative Imputer (BayesianRidge Estimator) ascending           0.932305   \n",
       "KNN Imputer                                 15                  0.931909   \n",
       "                                            5                   0.931101   \n",
       "Iterative Imputer (LassoLars Estimator)     roman               0.930718   \n",
       "                                            random              0.930718   \n",
       "                                            descending          0.930718   \n",
       "                                            ascending           0.930718   \n",
       "                                            arabic              0.930718   \n",
       "Simple Imputation                           mean                0.930718   \n",
       "KNN Imputer                                 3                   0.930704   \n",
       "Simple Imputation                           median              0.929915   \n",
       "                                            most_frequent       0.929504   \n",
       "KNN Imputer                                 1                   0.929499   \n",
       "\n",
       "                                                           Scores (SD)  \n",
       "Imputation                                  Strategy                    \n",
       "Iterative Imputer (BayesianRidge Estimator) arabic            0.007905  \n",
       "Iterative Imputer (Lasso Estimator)         descending        0.009567  \n",
       "Iterative Imputer (BayesianRidge Estimator) descending        0.008495  \n",
       "KNN Imputer                                 13                0.009047  \n",
       "Iterative Imputer (Lasso Estimator)         arabic            0.009567  \n",
       "                                            random            0.011819  \n",
       "KNN Imputer                                 9                 0.009504  \n",
       "                                            19                0.010000  \n",
       "Iterative Imputer (Lasso Estimator)         roman             0.009549  \n",
       "KNN Imputer                                 17                0.009549  \n",
       "                                            11                0.009967  \n",
       "Iterative Imputer (BayesianRidge Estimator) random            0.008944  \n",
       "Iterative Imputer (Lasso Estimator)         ascending         0.008991  \n",
       "KNN Imputer                                 21                0.010010  \n",
       "Iterative Imputer (BayesianRidge Estimator) roman             0.010522  \n",
       "KNN Imputer                                 7                 0.009546  \n",
       "Simple Imputation                           constant          0.007724  \n",
       "Iterative Imputer (BayesianRidge Estimator) ascending         0.010889  \n",
       "KNN Imputer                                 15                0.010331  \n",
       "                                            5                 0.009711  \n",
       "Iterative Imputer (LassoLars Estimator)     roman             0.010841  \n",
       "                                            random            0.010841  \n",
       "                                            descending        0.010841  \n",
       "                                            ascending         0.010841  \n",
       "                                            arabic            0.010841  \n",
       "Simple Imputation                           mean              0.010841  \n",
       "KNN Imputer                                 3                 0.010044  \n",
       "Simple Imputation                           median            0.009627  \n",
       "                                            most_frequent     0.009035  \n",
       "KNN Imputer                                 1                 0.010559  "
      ]
     },
     "execution_count": 65,
     "metadata": {},
     "output_type": "execute_result"
    }
   ],
   "source": [
    "# results[(results[['Model', 'Dataset']] == ('Random Forest Classifier', 'Base')).all(axis=1)].groupby(['Imputation', 'Strategy'])[['Scores (Mean)', 'Scores (SD)']].mean()\n",
    "results[(results[['Model', 'Dataset']] == ('Random Forest Classifier', 'Base')).all(axis=1)].groupby(['Imputation', 'Strategy'])[['Scores (Mean)', 'Scores (SD)']].mean().sort_values('Scores (Mean)', ascending=False)"
   ]
  },
  {
   "cell_type": "code",
   "execution_count": 66,
   "metadata": {},
   "outputs": [
    {
     "data": {
      "text/html": [
       "<div>\n",
       "<style scoped>\n",
       "    .dataframe tbody tr th:only-of-type {\n",
       "        vertical-align: middle;\n",
       "    }\n",
       "\n",
       "    .dataframe tbody tr th {\n",
       "        vertical-align: top;\n",
       "    }\n",
       "\n",
       "    .dataframe thead th {\n",
       "        text-align: right;\n",
       "    }\n",
       "</style>\n",
       "<table border=\"1\" class=\"dataframe\">\n",
       "  <thead>\n",
       "    <tr style=\"text-align: right;\">\n",
       "      <th></th>\n",
       "      <th></th>\n",
       "      <th>Scores (Mean)</th>\n",
       "      <th>Scores (SD)</th>\n",
       "    </tr>\n",
       "    <tr>\n",
       "      <th>Imputation</th>\n",
       "      <th>Strategy</th>\n",
       "      <th></th>\n",
       "      <th></th>\n",
       "    </tr>\n",
       "  </thead>\n",
       "  <tbody>\n",
       "    <tr>\n",
       "      <th rowspan=\"2\" valign=\"top\">Iterative Imputer (LassoLars Estimator)</th>\n",
       "      <th>ascending</th>\n",
       "      <td>0.935112</td>\n",
       "      <td>0.005698</td>\n",
       "    </tr>\n",
       "    <tr>\n",
       "      <th>random</th>\n",
       "      <td>0.935112</td>\n",
       "      <td>0.005698</td>\n",
       "    </tr>\n",
       "    <tr>\n",
       "      <th>KNN Imputer</th>\n",
       "      <th>11</th>\n",
       "      <td>0.935112</td>\n",
       "      <td>0.005698</td>\n",
       "    </tr>\n",
       "    <tr>\n",
       "      <th>Simple Imputation</th>\n",
       "      <th>mean</th>\n",
       "      <td>0.935112</td>\n",
       "      <td>0.005698</td>\n",
       "    </tr>\n",
       "    <tr>\n",
       "      <th rowspan=\"4\" valign=\"top\">KNN Imputer</th>\n",
       "      <th>9</th>\n",
       "      <td>0.935112</td>\n",
       "      <td>0.005698</td>\n",
       "    </tr>\n",
       "    <tr>\n",
       "      <th>7</th>\n",
       "      <td>0.935112</td>\n",
       "      <td>0.005698</td>\n",
       "    </tr>\n",
       "    <tr>\n",
       "      <th>5</th>\n",
       "      <td>0.935112</td>\n",
       "      <td>0.005698</td>\n",
       "    </tr>\n",
       "    <tr>\n",
       "      <th>3</th>\n",
       "      <td>0.935112</td>\n",
       "      <td>0.005698</td>\n",
       "    </tr>\n",
       "    <tr>\n",
       "      <th rowspan=\"2\" valign=\"top\">Iterative Imputer (LassoLars Estimator)</th>\n",
       "      <th>roman</th>\n",
       "      <td>0.935112</td>\n",
       "      <td>0.005698</td>\n",
       "    </tr>\n",
       "    <tr>\n",
       "      <th>arabic</th>\n",
       "      <td>0.935112</td>\n",
       "      <td>0.005698</td>\n",
       "    </tr>\n",
       "    <tr>\n",
       "      <th>KNN Imputer</th>\n",
       "      <th>15</th>\n",
       "      <td>0.935112</td>\n",
       "      <td>0.005698</td>\n",
       "    </tr>\n",
       "    <tr>\n",
       "      <th>Iterative Imputer (LassoLars Estimator)</th>\n",
       "      <th>descending</th>\n",
       "      <td>0.935112</td>\n",
       "      <td>0.005698</td>\n",
       "    </tr>\n",
       "    <tr>\n",
       "      <th rowspan=\"3\" valign=\"top\">KNN Imputer</th>\n",
       "      <th>17</th>\n",
       "      <td>0.934710</td>\n",
       "      <td>0.005780</td>\n",
       "    </tr>\n",
       "    <tr>\n",
       "      <th>1</th>\n",
       "      <td>0.934710</td>\n",
       "      <td>0.005780</td>\n",
       "    </tr>\n",
       "    <tr>\n",
       "      <th>19</th>\n",
       "      <td>0.934710</td>\n",
       "      <td>0.005780</td>\n",
       "    </tr>\n",
       "    <tr>\n",
       "      <th>Simple Imputation</th>\n",
       "      <th>median</th>\n",
       "      <td>0.934710</td>\n",
       "      <td>0.005780</td>\n",
       "    </tr>\n",
       "    <tr>\n",
       "      <th>KNN Imputer</th>\n",
       "      <th>13</th>\n",
       "      <td>0.934710</td>\n",
       "      <td>0.005780</td>\n",
       "    </tr>\n",
       "    <tr>\n",
       "      <th rowspan=\"4\" valign=\"top\">Iterative Imputer (Lasso Estimator)</th>\n",
       "      <th>roman</th>\n",
       "      <td>0.934309</td>\n",
       "      <td>0.005834</td>\n",
       "    </tr>\n",
       "    <tr>\n",
       "      <th>descending</th>\n",
       "      <td>0.934309</td>\n",
       "      <td>0.005834</td>\n",
       "    </tr>\n",
       "    <tr>\n",
       "      <th>ascending</th>\n",
       "      <td>0.934309</td>\n",
       "      <td>0.005834</td>\n",
       "    </tr>\n",
       "    <tr>\n",
       "      <th>arabic</th>\n",
       "      <td>0.934309</td>\n",
       "      <td>0.005834</td>\n",
       "    </tr>\n",
       "    <tr>\n",
       "      <th rowspan=\"2\" valign=\"top\">Simple Imputation</th>\n",
       "      <th>constant</th>\n",
       "      <td>0.934309</td>\n",
       "      <td>0.005834</td>\n",
       "    </tr>\n",
       "    <tr>\n",
       "      <th>most_frequent</th>\n",
       "      <td>0.934309</td>\n",
       "      <td>0.005834</td>\n",
       "    </tr>\n",
       "    <tr>\n",
       "      <th>Iterative Imputer (BayesianRidge Estimator)</th>\n",
       "      <th>ascending</th>\n",
       "      <td>0.933907</td>\n",
       "      <td>0.007327</td>\n",
       "    </tr>\n",
       "    <tr>\n",
       "      <th>Iterative Imputer (Lasso Estimator)</th>\n",
       "      <th>random</th>\n",
       "      <td>0.933907</td>\n",
       "      <td>0.006634</td>\n",
       "    </tr>\n",
       "    <tr>\n",
       "      <th>KNN Imputer</th>\n",
       "      <th>21</th>\n",
       "      <td>0.933907</td>\n",
       "      <td>0.005860</td>\n",
       "    </tr>\n",
       "    <tr>\n",
       "      <th rowspan=\"4\" valign=\"top\">Iterative Imputer (BayesianRidge Estimator)</th>\n",
       "      <th>roman</th>\n",
       "      <td>0.933505</td>\n",
       "      <td>0.007326</td>\n",
       "    </tr>\n",
       "    <tr>\n",
       "      <th>arabic</th>\n",
       "      <td>0.933505</td>\n",
       "      <td>0.006632</td>\n",
       "    </tr>\n",
       "    <tr>\n",
       "      <th>descending</th>\n",
       "      <td>0.933505</td>\n",
       "      <td>0.006632</td>\n",
       "    </tr>\n",
       "    <tr>\n",
       "      <th>random</th>\n",
       "      <td>0.933104</td>\n",
       "      <td>0.007937</td>\n",
       "    </tr>\n",
       "  </tbody>\n",
       "</table>\n",
       "</div>"
      ],
      "text/plain": [
       "                                                           Scores (Mean)  \\\n",
       "Imputation                                  Strategy                       \n",
       "Iterative Imputer (LassoLars Estimator)     ascending           0.935112   \n",
       "                                            random              0.935112   \n",
       "KNN Imputer                                 11                  0.935112   \n",
       "Simple Imputation                           mean                0.935112   \n",
       "KNN Imputer                                 9                   0.935112   \n",
       "                                            7                   0.935112   \n",
       "                                            5                   0.935112   \n",
       "                                            3                   0.935112   \n",
       "Iterative Imputer (LassoLars Estimator)     roman               0.935112   \n",
       "                                            arabic              0.935112   \n",
       "KNN Imputer                                 15                  0.935112   \n",
       "Iterative Imputer (LassoLars Estimator)     descending          0.935112   \n",
       "KNN Imputer                                 17                  0.934710   \n",
       "                                            1                   0.934710   \n",
       "                                            19                  0.934710   \n",
       "Simple Imputation                           median              0.934710   \n",
       "KNN Imputer                                 13                  0.934710   \n",
       "Iterative Imputer (Lasso Estimator)         roman               0.934309   \n",
       "                                            descending          0.934309   \n",
       "                                            ascending           0.934309   \n",
       "                                            arabic              0.934309   \n",
       "Simple Imputation                           constant            0.934309   \n",
       "                                            most_frequent       0.934309   \n",
       "Iterative Imputer (BayesianRidge Estimator) ascending           0.933907   \n",
       "Iterative Imputer (Lasso Estimator)         random              0.933907   \n",
       "KNN Imputer                                 21                  0.933907   \n",
       "Iterative Imputer (BayesianRidge Estimator) roman               0.933505   \n",
       "                                            arabic              0.933505   \n",
       "                                            descending          0.933505   \n",
       "                                            random              0.933104   \n",
       "\n",
       "                                                           Scores (SD)  \n",
       "Imputation                                  Strategy                    \n",
       "Iterative Imputer (LassoLars Estimator)     ascending         0.005698  \n",
       "                                            random            0.005698  \n",
       "KNN Imputer                                 11                0.005698  \n",
       "Simple Imputation                           mean              0.005698  \n",
       "KNN Imputer                                 9                 0.005698  \n",
       "                                            7                 0.005698  \n",
       "                                            5                 0.005698  \n",
       "                                            3                 0.005698  \n",
       "Iterative Imputer (LassoLars Estimator)     roman             0.005698  \n",
       "                                            arabic            0.005698  \n",
       "KNN Imputer                                 15                0.005698  \n",
       "Iterative Imputer (LassoLars Estimator)     descending        0.005698  \n",
       "KNN Imputer                                 17                0.005780  \n",
       "                                            1                 0.005780  \n",
       "                                            19                0.005780  \n",
       "Simple Imputation                           median            0.005780  \n",
       "KNN Imputer                                 13                0.005780  \n",
       "Iterative Imputer (Lasso Estimator)         roman             0.005834  \n",
       "                                            descending        0.005834  \n",
       "                                            ascending         0.005834  \n",
       "                                            arabic            0.005834  \n",
       "Simple Imputation                           constant          0.005834  \n",
       "                                            most_frequent     0.005834  \n",
       "Iterative Imputer (BayesianRidge Estimator) ascending         0.007327  \n",
       "Iterative Imputer (Lasso Estimator)         random            0.006634  \n",
       "KNN Imputer                                 21                0.005860  \n",
       "Iterative Imputer (BayesianRidge Estimator) roman             0.007326  \n",
       "                                            arabic            0.006632  \n",
       "                                            descending        0.006632  \n",
       "                                            random            0.007937  "
      ]
     },
     "execution_count": 66,
     "metadata": {},
     "output_type": "execute_result"
    }
   ],
   "source": [
    "# results[(results[['Model', 'Dataset']] == ('Random Forest Classifier', 'Base')).all(axis=1)].groupby(['Imputation', 'Strategy'])[['Scores (Mean)', 'Scores (SD)']].mean()\n",
    "results[(results[['Model', 'Dataset']] == ('Logistic Regression', 'No-few-values-columns')).all(axis=1)].groupby(['Imputation', 'Strategy'])[['Scores (Mean)', 'Scores (SD)']].mean().sort_values('Scores (Mean)', ascending=False)"
   ]
  },
  {
   "cell_type": "code",
   "execution_count": 67,
   "metadata": {},
   "outputs": [
    {
     "data": {
      "text/html": [
       "<div>\n",
       "<style scoped>\n",
       "    .dataframe tbody tr th:only-of-type {\n",
       "        vertical-align: middle;\n",
       "    }\n",
       "\n",
       "    .dataframe tbody tr th {\n",
       "        vertical-align: top;\n",
       "    }\n",
       "\n",
       "    .dataframe thead th {\n",
       "        text-align: right;\n",
       "    }\n",
       "</style>\n",
       "<table border=\"1\" class=\"dataframe\">\n",
       "  <thead>\n",
       "    <tr style=\"text-align: right;\">\n",
       "      <th></th>\n",
       "      <th></th>\n",
       "      <th>Scores (Mean)</th>\n",
       "      <th>Scores (SD)</th>\n",
       "    </tr>\n",
       "    <tr>\n",
       "      <th>Imputation</th>\n",
       "      <th>Strategy</th>\n",
       "      <th></th>\n",
       "      <th></th>\n",
       "    </tr>\n",
       "  </thead>\n",
       "  <tbody>\n",
       "    <tr>\n",
       "      <th>Iterative Imputer (Lasso Estimator)</th>\n",
       "      <th>roman</th>\n",
       "      <td>0.934705</td>\n",
       "      <td>0.009597</td>\n",
       "    </tr>\n",
       "    <tr>\n",
       "      <th>Iterative Imputer (BayesianRidge Estimator)</th>\n",
       "      <th>arabic</th>\n",
       "      <td>0.934309</td>\n",
       "      <td>0.009066</td>\n",
       "    </tr>\n",
       "    <tr>\n",
       "      <th rowspan=\"2\" valign=\"top\">Iterative Imputer (Lasso Estimator)</th>\n",
       "      <th>ascending</th>\n",
       "      <td>0.934309</td>\n",
       "      <td>0.010077</td>\n",
       "    </tr>\n",
       "    <tr>\n",
       "      <th>random</th>\n",
       "      <td>0.933912</td>\n",
       "      <td>0.010531</td>\n",
       "    </tr>\n",
       "    <tr>\n",
       "      <th rowspan=\"2\" valign=\"top\">Iterative Imputer (BayesianRidge Estimator)</th>\n",
       "      <th>ascending</th>\n",
       "      <td>0.933907</td>\n",
       "      <td>0.008533</td>\n",
       "    </tr>\n",
       "    <tr>\n",
       "      <th>roman</th>\n",
       "      <td>0.933907</td>\n",
       "      <td>0.008533</td>\n",
       "    </tr>\n",
       "    <tr>\n",
       "      <th>KNN Imputer</th>\n",
       "      <th>19</th>\n",
       "      <td>0.933515</td>\n",
       "      <td>0.010941</td>\n",
       "    </tr>\n",
       "    <tr>\n",
       "      <th>Iterative Imputer (BayesianRidge Estimator)</th>\n",
       "      <th>descending</th>\n",
       "      <td>0.933505</td>\n",
       "      <td>0.009599</td>\n",
       "    </tr>\n",
       "    <tr>\n",
       "      <th>Iterative Imputer (Lasso Estimator)</th>\n",
       "      <th>descending</th>\n",
       "      <td>0.933109</td>\n",
       "      <td>0.010043</td>\n",
       "    </tr>\n",
       "    <tr>\n",
       "      <th rowspan=\"2\" valign=\"top\">KNN Imputer</th>\n",
       "      <th>11</th>\n",
       "      <td>0.933109</td>\n",
       "      <td>0.009549</td>\n",
       "    </tr>\n",
       "    <tr>\n",
       "      <th>1</th>\n",
       "      <td>0.933104</td>\n",
       "      <td>0.010543</td>\n",
       "    </tr>\n",
       "    <tr>\n",
       "      <th>Iterative Imputer (Lasso Estimator)</th>\n",
       "      <th>arabic</th>\n",
       "      <td>0.932707</td>\n",
       "      <td>0.010010</td>\n",
       "    </tr>\n",
       "    <tr>\n",
       "      <th rowspan=\"3\" valign=\"top\">KNN Imputer</th>\n",
       "      <th>15</th>\n",
       "      <td>0.931909</td>\n",
       "      <td>0.011652</td>\n",
       "    </tr>\n",
       "    <tr>\n",
       "      <th>13</th>\n",
       "      <td>0.931909</td>\n",
       "      <td>0.011229</td>\n",
       "    </tr>\n",
       "    <tr>\n",
       "      <th>9</th>\n",
       "      <td>0.931904</td>\n",
       "      <td>0.009393</td>\n",
       "    </tr>\n",
       "    <tr>\n",
       "      <th>Iterative Imputer (BayesianRidge Estimator)</th>\n",
       "      <th>random</th>\n",
       "      <td>0.931904</td>\n",
       "      <td>0.009393</td>\n",
       "    </tr>\n",
       "    <tr>\n",
       "      <th rowspan=\"3\" valign=\"top\">KNN Imputer</th>\n",
       "      <th>7</th>\n",
       "      <td>0.931894</td>\n",
       "      <td>0.010895</td>\n",
       "    </tr>\n",
       "    <tr>\n",
       "      <th>17</th>\n",
       "      <td>0.931507</td>\n",
       "      <td>0.011156</td>\n",
       "    </tr>\n",
       "    <tr>\n",
       "      <th>21</th>\n",
       "      <td>0.931507</td>\n",
       "      <td>0.011146</td>\n",
       "    </tr>\n",
       "    <tr>\n",
       "      <th>Simple Imputation</th>\n",
       "      <th>constant</th>\n",
       "      <td>0.931105</td>\n",
       "      <td>0.009154</td>\n",
       "    </tr>\n",
       "    <tr>\n",
       "      <th rowspan=\"2\" valign=\"top\">KNN Imputer</th>\n",
       "      <th>5</th>\n",
       "      <td>0.931101</td>\n",
       "      <td>0.009711</td>\n",
       "    </tr>\n",
       "    <tr>\n",
       "      <th>3</th>\n",
       "      <td>0.930704</td>\n",
       "      <td>0.009550</td>\n",
       "    </tr>\n",
       "    <tr>\n",
       "      <th>Simple Imputation</th>\n",
       "      <th>mean</th>\n",
       "      <td>0.930302</td>\n",
       "      <td>0.008884</td>\n",
       "    </tr>\n",
       "    <tr>\n",
       "      <th rowspan=\"5\" valign=\"top\">Iterative Imputer (LassoLars Estimator)</th>\n",
       "      <th>ascending</th>\n",
       "      <td>0.930302</td>\n",
       "      <td>0.008884</td>\n",
       "    </tr>\n",
       "    <tr>\n",
       "      <th>descending</th>\n",
       "      <td>0.930302</td>\n",
       "      <td>0.008884</td>\n",
       "    </tr>\n",
       "    <tr>\n",
       "      <th>arabic</th>\n",
       "      <td>0.930302</td>\n",
       "      <td>0.008884</td>\n",
       "    </tr>\n",
       "    <tr>\n",
       "      <th>roman</th>\n",
       "      <td>0.930302</td>\n",
       "      <td>0.008884</td>\n",
       "    </tr>\n",
       "    <tr>\n",
       "      <th>random</th>\n",
       "      <td>0.930302</td>\n",
       "      <td>0.008884</td>\n",
       "    </tr>\n",
       "    <tr>\n",
       "      <th rowspan=\"2\" valign=\"top\">Simple Imputation</th>\n",
       "      <th>median</th>\n",
       "      <td>0.929504</td>\n",
       "      <td>0.009556</td>\n",
       "    </tr>\n",
       "    <tr>\n",
       "      <th>most_frequent</th>\n",
       "      <td>0.929102</td>\n",
       "      <td>0.008823</td>\n",
       "    </tr>\n",
       "  </tbody>\n",
       "</table>\n",
       "</div>"
      ],
      "text/plain": [
       "                                                           Scores (Mean)  \\\n",
       "Imputation                                  Strategy                       \n",
       "Iterative Imputer (Lasso Estimator)         roman               0.934705   \n",
       "Iterative Imputer (BayesianRidge Estimator) arabic              0.934309   \n",
       "Iterative Imputer (Lasso Estimator)         ascending           0.934309   \n",
       "                                            random              0.933912   \n",
       "Iterative Imputer (BayesianRidge Estimator) ascending           0.933907   \n",
       "                                            roman               0.933907   \n",
       "KNN Imputer                                 19                  0.933515   \n",
       "Iterative Imputer (BayesianRidge Estimator) descending          0.933505   \n",
       "Iterative Imputer (Lasso Estimator)         descending          0.933109   \n",
       "KNN Imputer                                 11                  0.933109   \n",
       "                                            1                   0.933104   \n",
       "Iterative Imputer (Lasso Estimator)         arabic              0.932707   \n",
       "KNN Imputer                                 15                  0.931909   \n",
       "                                            13                  0.931909   \n",
       "                                            9                   0.931904   \n",
       "Iterative Imputer (BayesianRidge Estimator) random              0.931904   \n",
       "KNN Imputer                                 7                   0.931894   \n",
       "                                            17                  0.931507   \n",
       "                                            21                  0.931507   \n",
       "Simple Imputation                           constant            0.931105   \n",
       "KNN Imputer                                 5                   0.931101   \n",
       "                                            3                   0.930704   \n",
       "Simple Imputation                           mean                0.930302   \n",
       "Iterative Imputer (LassoLars Estimator)     ascending           0.930302   \n",
       "                                            descending          0.930302   \n",
       "                                            arabic              0.930302   \n",
       "                                            roman               0.930302   \n",
       "                                            random              0.930302   \n",
       "Simple Imputation                           median              0.929504   \n",
       "                                            most_frequent       0.929102   \n",
       "\n",
       "                                                           Scores (SD)  \n",
       "Imputation                                  Strategy                    \n",
       "Iterative Imputer (Lasso Estimator)         roman             0.009597  \n",
       "Iterative Imputer (BayesianRidge Estimator) arabic            0.009066  \n",
       "Iterative Imputer (Lasso Estimator)         ascending         0.010077  \n",
       "                                            random            0.010531  \n",
       "Iterative Imputer (BayesianRidge Estimator) ascending         0.008533  \n",
       "                                            roman             0.008533  \n",
       "KNN Imputer                                 19                0.010941  \n",
       "Iterative Imputer (BayesianRidge Estimator) descending        0.009599  \n",
       "Iterative Imputer (Lasso Estimator)         descending        0.010043  \n",
       "KNN Imputer                                 11                0.009549  \n",
       "                                            1                 0.010543  \n",
       "Iterative Imputer (Lasso Estimator)         arabic            0.010010  \n",
       "KNN Imputer                                 15                0.011652  \n",
       "                                            13                0.011229  \n",
       "                                            9                 0.009393  \n",
       "Iterative Imputer (BayesianRidge Estimator) random            0.009393  \n",
       "KNN Imputer                                 7                 0.010895  \n",
       "                                            17                0.011156  \n",
       "                                            21                0.011146  \n",
       "Simple Imputation                           constant          0.009154  \n",
       "KNN Imputer                                 5                 0.009711  \n",
       "                                            3                 0.009550  \n",
       "Simple Imputation                           mean              0.008884  \n",
       "Iterative Imputer (LassoLars Estimator)     ascending         0.008884  \n",
       "                                            descending        0.008884  \n",
       "                                            arabic            0.008884  \n",
       "                                            roman             0.008884  \n",
       "                                            random            0.008884  \n",
       "Simple Imputation                           median            0.009556  \n",
       "                                            most_frequent     0.008823  "
      ]
     },
     "execution_count": 67,
     "metadata": {},
     "output_type": "execute_result"
    }
   ],
   "source": [
    "# results[(results[['Model', 'Dataset']] == ('Random Forest Classifier', 'Base')).all(axis=1)].groupby(['Imputation', 'Strategy'])[['Scores (Mean)', 'Scores (SD)']].mean()\n",
    "results[(results[['Model', 'Dataset']] == ('Random Forest Classifier', 'No-boolean-redundant-columns')).all(axis=1)].groupby(['Imputation', 'Strategy'])[['Scores (Mean)', 'Scores (SD)']].mean().sort_values('Scores (Mean)', ascending=False)"
   ]
  },
  {
   "cell_type": "markdown",
   "metadata": {},
   "source": [
    "Las combinaciones que elegiré serán las 3 siguientes (variadas, de alta precisión media y baja varianza):\n",
    "\n",
    "* Dataset básico con una Iterative Imputation con estimador Bayesian Ridge y estrategia arabic, con un modelo de clasificación Random Forest (93,3510%).\n",
    "* Dataset sin columnas con baja variedad de valores (y/o valores de baja varianza) con una KNN Imputation con k = 11, con un modelo de clasificación Logistic Regression (93,5112%).\n",
    "* Dataset sin columnas booleanas redundantes con una Iterative Imputation con estimador Lasso Lars y estrategia roman, con un modelo de clasificación Random Forest (93,4705%)."
   ]
  },
  {
   "cell_type": "markdown",
   "metadata": {},
   "source": [
    "### 2.4. Outliers"
   ]
  },
  {
   "cell_type": "markdown",
   "metadata": {},
   "source": [
    "#### 2.4.1. Borrado de outliers mediante el Standard Deviation Method"
   ]
  },
  {
   "cell_type": "markdown",
   "metadata": {},
   "source": [
    "Para poder aplicar el SDM, necesitamos que las variables sigan una distribución normal. Si representamos los datos, vemos que la variable \"First sexual intercourse\" es la única que podría tener un comportamiento normal."
   ]
  },
  {
   "cell_type": "code",
   "execution_count": 68,
   "metadata": {},
   "outputs": [
    {
     "data": {
      "image/png": "[encoded data removed]",
      "text/plain": [
       "<Figure size 1440x1080 with 36 Axes>"
      ]
     },
     "metadata": {
      "needs_background": "light"
     },
     "output_type": "display_data"
    }
   ],
   "source": [
    "# histograms of the variables\n",
    "fig = df.hist(figsize=[20,15], xlabelsize=4, ylabelsize=4)\n",
    "# show the plot\n",
    "pyplot.show()"
   ]
  },
  {
   "cell_type": "markdown",
   "metadata": {},
   "source": [
    "Mostrémosla con más detalle."
   ]
  },
  {
   "cell_type": "code",
   "execution_count": 69,
   "metadata": {},
   "outputs": [
    {
     "data": {
      "image/png": "[encoded data removed]",
      "text/plain": [
       "<Figure size 504x360 with 1 Axes>"
      ]
     },
     "metadata": {
      "needs_background": "light"
     },
     "output_type": "display_data"
    }
   ],
   "source": [
    "fig = df['First sexual intercourse'].hist(figsize=[7,5], xlabelsize=4, ylabelsize=4)\n",
    "# show the plot\n",
    "pyplot.show()"
   ]
  },
  {
   "cell_type": "markdown",
   "metadata": {},
   "source": [
    "Eliminamos los outliers para esta variable y creamos un dataframe aparte. Si quisiéramos, podríamos obtener los resultados de estos nuevos datos filtrados, pero en nuestro caso aplicaremos otras técnicas que veremos más adelante."
   ]
  },
  {
   "cell_type": "code",
   "execution_count": 70,
   "metadata": {
    "tags": []
   },
   "outputs": [],
   "source": [
    "# calculate summary statistics\n",
    "data_mean, data_std = np.mean(df['First sexual intercourse']), np.std(df['First sexual intercourse'])\n",
    "# define outliers\n",
    "cut_off = data_std * 3\n",
    "lower, upper = data_mean - cut_off, data_mean + cut_off"
   ]
  },
  {
   "cell_type": "code",
   "execution_count": 71,
   "metadata": {},
   "outputs": [],
   "source": [
    "df_SDM = df[(df['First sexual intercourse'] >= lower) & (df['First sexual intercourse'] <= upper)]"
   ]
  },
  {
   "cell_type": "markdown",
   "metadata": {},
   "source": [
    "Observamos que hemos eliminado el grupo de outliers de la derecha."
   ]
  },
  {
   "cell_type": "code",
   "execution_count": 72,
   "metadata": {},
   "outputs": [
    {
     "data": {
      "image/png": "[encoded data removed]",
      "text/plain": [
       "<Figure size 504x360 with 1 Axes>"
      ]
     },
     "metadata": {
      "needs_background": "light"
     },
     "output_type": "display_data"
    }
   ],
   "source": [
    "fig = df_SDM['First sexual intercourse'].hist(figsize=[7,5], xlabelsize=4, ylabelsize=4)\n",
    "# show the plot\n",
    "pyplot.show()"
   ]
  },
  {
   "cell_type": "markdown",
   "metadata": {},
   "source": [
    "#### 2.4.2. Identificación de outliers mediante el Interquartile Range Method (IQR)"
   ]
  },
  {
   "cell_type": "markdown",
   "metadata": {},
   "source": [
    "Si estudiamos las variables con el método IQR nos damos cuenta de varias cosas. Por un lado, muchas de las variables tienen percentiles \"NaN\", por lo que conviene realizar una imputación previamente. Para ello, utilizamos la imputación estadística mediante la \"mediana\" de cada variable."
   ]
  },
  {
   "cell_type": "code",
   "execution_count": 73,
   "metadata": {},
   "outputs": [],
   "source": [
    "# define imputer\n",
    "imputer = SimpleImputer(strategy='median')  #strategy=['mean', 'median', 'most_frequent', 'constant']  constant=fixed value imputation--> 0 or 'missing_value'\n",
    "# fit on the dataset\n",
    "imputer.fit(X)\n",
    "# transform the dataset\n",
    "X_imputMedian = imputer.transform(X)"
   ]
  },
  {
   "cell_type": "markdown",
   "metadata": {},
   "source": [
    "Mostremos el número de outliers identificados para cada variable por el método IQR."
   ]
  },
  {
   "cell_type": "code",
   "execution_count": 74,
   "metadata": {},
   "outputs": [
    {
     "name": "stdout",
     "output_type": "stream",
     "text": [
      "Age\n",
      "Percentiles: 25th=21.000, 75th=32.000, IQR=11.000\n",
      "Identified outliers: 11\n",
      "\n",
      "Number of sexual partners\n",
      "Percentiles: 25th=2.000, 75th=3.000, IQR=1.000\n",
      "Identified outliers: 68\n",
      "\n",
      "First sexual intercourse\n",
      "Percentiles: 25th=15.000, 75th=18.000, IQR=3.000\n",
      "Identified outliers: 41\n",
      "\n",
      "Num of pregnancies\n",
      "Percentiles: 25th=1.000, 75th=3.000, IQR=2.000\n",
      "Identified outliers: 10\n",
      "\n",
      "Smokes\n",
      "Percentiles: 25th=0.000, 75th=0.000, IQR=0.000\n",
      "Identified outliers: 123\n",
      "\n",
      "Smokes (years)\n",
      "Percentiles: 25th=0.000, 75th=0.000, IQR=0.000\n",
      "Identified outliers: 123\n",
      "\n",
      "Smokes (packs/year)\n",
      "Percentiles: 25th=0.000, 75th=0.000, IQR=0.000\n",
      "Identified outliers: 123\n",
      "\n",
      "Hormonal Contraceptives\n",
      "Percentiles: 25th=0.000, 75th=1.000, IQR=1.000\n",
      "Identified outliers: 0\n",
      "\n",
      "Hormonal Contraceptives (years)\n",
      "Percentiles: 25th=0.000, 75th=3.000, IQR=3.000\n",
      "Identified outliers: 68\n",
      "\n",
      "IUD\n",
      "Percentiles: 25th=0.000, 75th=0.000, IQR=0.000\n",
      "Identified outliers: 83\n",
      "\n",
      "IUD (years)\n",
      "Percentiles: 25th=0.000, 75th=0.000, IQR=0.000\n",
      "Identified outliers: 83\n",
      "\n",
      "STDs\n",
      "Percentiles: 25th=0.000, 75th=0.000, IQR=0.000\n",
      "Identified outliers: 79\n",
      "\n",
      "STDs (number)\n",
      "Percentiles: 25th=0.000, 75th=0.000, IQR=0.000\n",
      "Identified outliers: 79\n",
      "\n",
      "STDs:condylomatosis\n",
      "Percentiles: 25th=0.000, 75th=0.000, IQR=0.000\n",
      "Identified outliers: 44\n",
      "\n",
      "STDs:vaginal condylomatosis\n",
      "Percentiles: 25th=0.000, 75th=0.000, IQR=0.000\n",
      "Identified outliers: 4\n",
      "\n",
      "STDs:vulvo-perineal condylomatosis\n",
      "Percentiles: 25th=0.000, 75th=0.000, IQR=0.000\n",
      "Identified outliers: 43\n",
      "\n",
      "STDs:syphilis\n",
      "Percentiles: 25th=0.000, 75th=0.000, IQR=0.000\n",
      "Identified outliers: 18\n",
      "\n",
      "STDs:pelvic inflammatory disease\n",
      "Percentiles: 25th=0.000, 75th=0.000, IQR=0.000\n",
      "Identified outliers: 1\n",
      "\n",
      "STDs:genital herpes\n",
      "Percentiles: 25th=0.000, 75th=0.000, IQR=0.000\n",
      "Identified outliers: 1\n",
      "\n",
      "STDs:molluscum contagiosum\n",
      "Percentiles: 25th=0.000, 75th=0.000, IQR=0.000\n",
      "Identified outliers: 1\n",
      "\n",
      "STDs:HIV\n",
      "Percentiles: 25th=0.000, 75th=0.000, IQR=0.000\n",
      "Identified outliers: 18\n",
      "\n",
      "STDs:Hepatitis B\n",
      "Percentiles: 25th=0.000, 75th=0.000, IQR=0.000\n",
      "Identified outliers: 1\n",
      "\n",
      "STDs:HPV\n",
      "Percentiles: 25th=0.000, 75th=0.000, IQR=0.000\n",
      "Identified outliers: 2\n",
      "\n",
      "STDs: Number of diagnosis\n",
      "Percentiles: 25th=0.000, 75th=0.000, IQR=0.000\n",
      "Identified outliers: 71\n",
      "\n",
      "STDs: Time since first diagnosis\n",
      "Percentiles: 25th=4.000, 75th=4.000, IQR=0.000\n",
      "Identified outliers: 65\n",
      "\n",
      "STDs: Time since last diagnosis\n",
      "Percentiles: 25th=3.000, 75th=3.000, IQR=0.000\n",
      "Identified outliers: 62\n",
      "\n",
      "Dx:Cancer\n",
      "Percentiles: 25th=0.000, 75th=0.000, IQR=0.000\n",
      "Identified outliers: 18\n",
      "\n",
      "Dx:CIN\n",
      "Percentiles: 25th=0.000, 75th=0.000, IQR=0.000\n",
      "Identified outliers: 9\n",
      "\n",
      "Dx:HPV\n",
      "Percentiles: 25th=0.000, 75th=0.000, IQR=0.000\n",
      "Identified outliers: 18\n",
      "\n",
      "Dx\n",
      "Percentiles: 25th=0.000, 75th=0.000, IQR=0.000\n",
      "Identified outliers: 24\n",
      "\n"
     ]
    }
   ],
   "source": [
    "#datos = df[['Clump_Thickness']].values\n",
    "for i,datos in enumerate(X_imputMedian.T):\n",
    "    print(df.columns[i])\n",
    "    # calculate interquartile range\n",
    "    q25, q75 = np.percentile(datos, 25), np.percentile(datos, 75)\n",
    "    iqr = q75 - q25\n",
    "    print('Percentiles: 25th=%.3f, 75th=%.3f, IQR=%.3f' % (q25, q75, iqr))\n",
    "    # calculate the outlier cutoff\n",
    "    cut_off = iqr * 1.5\n",
    "    lower, upper = q25 - cut_off, q75 + cut_off\n",
    "    # identify outliers\n",
    "    outliers = [x for x in datos if x < lower or x > upper]\n",
    "    print('Identified outliers: %d' % len(outliers))\n",
    "    print()"
   ]
  },
  {
   "cell_type": "markdown",
   "metadata": {},
   "source": [
    "También hay que tener en cuenta que muchas de las variables son booleanas. Debido al desbalanceo de datos, hay variables en las que incluso nos detecta como outliers todos los miembros de la submuestra \"True\". Esto es algo que tener en cuenta, ya que no tiene sentido identificar outliers en variables booleanas (el filtrado por desbalanceo de datos en estas columnas ya debería haber tenido lugar en el borrado de columnas con baja varianza)."
   ]
  },
  {
   "cell_type": "code",
   "execution_count": 75,
   "metadata": {},
   "outputs": [
    {
     "name": "stdout",
     "output_type": "stream",
     "text": [
      "Age\n",
      "Percentiles: 25th=21.000, 75th=32.000, IQR=11.000\n",
      "Identified outliers: 11\n",
      "\n",
      "Number of sexual partners\n",
      "Percentiles: 25th=2.000, 75th=3.000, IQR=1.000\n",
      "Identified outliers: 68\n",
      "\n",
      "First sexual intercourse\n",
      "Percentiles: 25th=15.000, 75th=18.000, IQR=3.000\n",
      "Identified outliers: 41\n",
      "\n",
      "Num of pregnancies\n",
      "Percentiles: 25th=1.000, 75th=3.000, IQR=2.000\n",
      "Identified outliers: 10\n",
      "\n",
      "Smokes (years)\n",
      "Percentiles: 25th=0.000, 75th=0.000, IQR=0.000\n",
      "Identified outliers: 123\n",
      "\n",
      "Smokes (packs/year)\n",
      "Percentiles: 25th=0.000, 75th=0.000, IQR=0.000\n",
      "Identified outliers: 123\n",
      "\n",
      "Hormonal Contraceptives (years)\n",
      "Percentiles: 25th=0.000, 75th=3.000, IQR=3.000\n",
      "Identified outliers: 68\n",
      "\n",
      "IUD (years)\n",
      "Percentiles: 25th=0.000, 75th=0.000, IQR=0.000\n",
      "Identified outliers: 83\n",
      "\n",
      "STDs (number)\n",
      "Percentiles: 25th=0.000, 75th=0.000, IQR=0.000\n",
      "Identified outliers: 79\n",
      "\n",
      "STDs: Number of diagnosis\n",
      "Percentiles: 25th=0.000, 75th=0.000, IQR=0.000\n",
      "Identified outliers: 71\n",
      "\n",
      "STDs: Time since first diagnosis\n",
      "Percentiles: 25th=4.000, 75th=4.000, IQR=0.000\n",
      "Identified outliers: 65\n",
      "\n",
      "STDs: Time since last diagnosis\n",
      "Percentiles: 25th=3.000, 75th=3.000, IQR=0.000\n",
      "Identified outliers: 62\n",
      "\n"
     ]
    }
   ],
   "source": [
    "#datos = df[['Clump_Thickness']].values\n",
    "for i,datos in enumerate(X_imputMedian.T):\n",
    "    if len(np.unique(datos)) != 2:\n",
    "        print(df.columns[i])\n",
    "        # calculate interquartile range\n",
    "        q25, q75 = np.percentile(datos, 25), np.percentile(datos, 75)\n",
    "        iqr = q75 - q25\n",
    "        print('Percentiles: 25th=%.3f, 75th=%.3f, IQR=%.3f' % (q25, q75, iqr))\n",
    "        # calculate the outlier cutoff\n",
    "        cut_off = iqr * 1.5\n",
    "        lower, upper = q25 - cut_off, q75 + cut_off\n",
    "        # identify outliers\n",
    "        outliers = [x for x in datos if x < lower or x > upper]\n",
    "        print('Identified outliers: %d' % len(outliers))\n",
    "        print()"
   ]
  },
  {
   "cell_type": "markdown",
   "metadata": {},
   "source": [
    "#### 2.4.3. Borrado automático de outliers mediante el Local Outlier Factor (LOF)"
   ]
  },
  {
   "cell_type": "markdown",
   "metadata": {},
   "source": [
    "Para poder utilizar LocalOutlierFactor en un Pipeline, creamos la siguiente clase, que nos permite combinar la técnica LOF con el modelo de predicción posterior."
   ]
  },
  {
   "cell_type": "code",
   "execution_count": 76,
   "metadata": {},
   "outputs": [],
   "source": [
    "class WithoutOutliersClassifier(BaseEstimator, ClassifierMixin):\n",
    "    def __init__(self, outlier_detector, classifier):\n",
    "        self.outlier_detector = outlier_detector\n",
    "        self.classifier = classifier\n",
    "\n",
    "    def fit(self, X, y):\n",
    "        self.outlier_detector_ = clone(self.outlier_detector)\n",
    "        mask = self.outlier_detector_.fit_predict(X, y) == 1\n",
    "        self.classifier_ = clone(self.classifier).fit(X[mask], y[mask])\n",
    "        return self\n",
    "\n",
    "    def predict(self, X):\n",
    "        return self.classifier_.predict(X)"
   ]
  },
  {
   "cell_type": "markdown",
   "metadata": {},
   "source": [
    "Ahora, obtengamos los nuevos resultados tras eliminar los outliers."
   ]
  },
  {
   "cell_type": "markdown",
   "metadata": {},
   "source": [
    "* Dataset básico con una Iterative Imputation con estimador Bayesian Ridge y estrategia arabic, con un modelo de clasificación Random Forest (93,3510%)."
   ]
  },
  {
   "cell_type": "code",
   "execution_count": 77,
   "metadata": {},
   "outputs": [
    {
     "name": "stdout",
     "output_type": "stream",
     "text": [
      ">0.930709 (0.010)\n"
     ]
    }
   ],
   "source": [
    "pipeline = Pipeline(steps=[('i', IterativeImputer(estimator=linear_model.BayesianRidge(), n_nearest_features=None,imputation_order='arabic')),\n",
    "                           ('rf', WithoutOutliersClassifier(LocalOutlierFactor(),RandomForestClassifier()))])\n",
    "# evaluate the model\n",
    "cv = RepeatedStratifiedKFold(n_splits=10, n_repeats=3, random_state=1)\n",
    "scores = cross_val_score(pipeline, X, y, scoring='accuracy', cv=cv, n_jobs=-1)\n",
    "print('>%.6f (%.3f)' % (np.mean(scores), np.std(scores)))"
   ]
  },
  {
   "cell_type": "markdown",
   "metadata": {},
   "source": [
    "* Dataset sin columnas con baja variedad de valores (y/o valores de baja varianza) con una KNN Imputation con k = 11, con un modelo de clasificación Logistic Regression (93,5112%)."
   ]
  },
  {
   "cell_type": "code",
   "execution_count": 78,
   "metadata": {},
   "outputs": [
    {
     "name": "stdout",
     "output_type": "stream",
     "text": [
      ">0.931904 (0.008)\n"
     ]
    }
   ],
   "source": [
    "pipeline = Pipeline(steps=[('i', KNNImputer(n_neighbors=11)),\n",
    "                           ('rf', WithoutOutliersClassifier(LocalOutlierFactor(),LogisticRegression()))])\n",
    "# evaluate the model\n",
    "cv = RepeatedStratifiedKFold(n_splits=10, n_repeats=3, random_state=1)\n",
    "scores = cross_val_score(pipeline, X_noFewValuesColumns, y, scoring='accuracy', cv=cv, n_jobs=-1)\n",
    "print('>%.6f (%.3f)' % (np.mean(scores), np.std(scores)))"
   ]
  },
  {
   "cell_type": "markdown",
   "metadata": {},
   "source": [
    "* Dataset sin columnas booleanas redundantes con una Iterative Imputation con estimador Lasso Lars y estrategia roman, con un modelo de clasificación Random Forest (93,4705%)."
   ]
  },
  {
   "cell_type": "code",
   "execution_count": 79,
   "metadata": {},
   "outputs": [
    {
     "name": "stdout",
     "output_type": "stream",
     "text": [
      ">0.930302 (0.010)\n"
     ]
    }
   ],
   "source": [
    "pipeline = Pipeline(steps=[('i', IterativeImputer(estimator=linear_model.LassoLars(), n_nearest_features=None,imputation_order='roman')),\n",
    "                           ('rf', WithoutOutliersClassifier(LocalOutlierFactor(),RandomForestClassifier()))])\n",
    "# evaluate the model\n",
    "cv = RepeatedStratifiedKFold(n_splits=10, n_repeats=3, random_state=1)\n",
    "scores = cross_val_score(pipeline, X_noBooleanRedundantColumns, y, scoring='accuracy', cv=cv, n_jobs=-1)\n",
    "print('>%.6f (%.3f)' % (np.mean(scores), np.std(scores)))"
   ]
  },
  {
   "cell_type": "markdown",
   "metadata": {},
   "source": [
    "Vemos que, en general, los resultados empeoran ligeramente."
   ]
  },
  {
   "cell_type": "markdown",
   "metadata": {},
   "source": [
    "## 3. Evaluación de los mejores modelos"
   ]
  },
  {
   "cell_type": "markdown",
   "metadata": {},
   "source": [
    "Por útlimo, para evaluar nuestros modelos, dividimos el dataset en dos conjuntos train y test y aplicamos las técnicas identificadas como aquellas que obtienen mejores resultados. Cabe destacar que esta división en conjunto de entrenamiento y conjunto test tendría que haberse hecho antes de evaluar nuestros modelos, ya que los datos de test pueden haber influido en nuestras decisiones a la hora de elegir unos métodos, estrategias, modelos o hiperparámetros.\n",
    "\n",
    "Podemos observar que los resultados obtenidos son muy buenos, de un 95%.\n",
    "\n",
    "**Nota**: Los warnings nos advierten de que no se ha aplicado ningún escalado a los datos mediante la pipeline. Para evitar que sean mostrados, se deben descomentar las dos primeras líneas de código."
   ]
  },
  {
   "cell_type": "code",
   "execution_count": 85,
   "metadata": {},
   "outputs": [
    {
     "name": "stdout",
     "output_type": "stream",
     "text": [
      "(557, 30) (557,)\n",
      "Accuracy Score: 0.949\n"
     ]
    }
   ],
   "source": [
    "# import warnings\n",
    "# warnings.filterwarnings('ignore')\n",
    "\n",
    "# split into train and test sets\n",
    "X_train, X_test, y_train, y_test = train_test_split(X, y, test_size=0.33, random_state=1)\n",
    "# summarize the shape of the training dataset\n",
    "print(X_train.shape, y_train.shape)\n",
    "model = Pipeline(steps=[('i', IterativeImputer(estimator=linear_model.BayesianRidge(), n_nearest_features=None,imputation_order='arabic')),\n",
    "                           ('m', RandomForestClassifier(random_state=123))])\n",
    "model.fit(X_train, y_train)\n",
    "# evaluate the model\n",
    "yhat = model.predict(X_test)\n",
    "# evaluate predictions\n",
    "ac = accuracy_score(y_test, yhat)\n",
    "print('Accuracy Score: %.3f' % ac)"
   ]
  },
  {
   "cell_type": "code",
   "execution_count": 86,
   "metadata": {},
   "outputs": [
    {
     "name": "stdout",
     "output_type": "stream",
     "text": [
      "(557, 30) (557,)\n",
      "Accuracy Score: 0.956\n"
     ]
    }
   ],
   "source": [
    "# import warnings\n",
    "# warnings.filterwarnings('ignore')\n",
    "\n",
    "# split into train and test sets\n",
    "X_train, X_test, y_train, y_test = train_test_split(X, y, test_size=0.33, random_state=1)\n",
    "# summarize the shape of the training dataset\n",
    "print(X_train.shape, y_train.shape)\n",
    "model = Pipeline(steps=[('i', KNNImputer(n_neighbors=11)),\n",
    "                           ('m', LogisticRegression())])\n",
    "model.fit(X_train, y_train)\n",
    "# evaluate the model\n",
    "yhat = model.predict(X_test)\n",
    "# evaluate predictions\n",
    "ac = accuracy_score(y_test, yhat)\n",
    "print('Accuracy Score: %.3f' % ac)"
   ]
  },
  {
   "cell_type": "code",
   "execution_count": 87,
   "metadata": {},
   "outputs": [
    {
     "name": "stdout",
     "output_type": "stream",
     "text": [
      "(557, 30) (557,)\n",
      "Accuracy Score: 0.945\n"
     ]
    }
   ],
   "source": [
    "# import warnings\n",
    "# warnings.filterwarnings('ignore')\n",
    "\n",
    "# split into train and test sets\n",
    "X_train, X_test, y_train, y_test = train_test_split(X, y, test_size=0.33, random_state=1)\n",
    "# summarize the shape of the training dataset\n",
    "print(X_train.shape, y_train.shape)\n",
    "model = Pipeline(steps=[('i', IterativeImputer(estimator=linear_model.LassoLars(), n_nearest_features=None,imputation_order='roman')),\n",
    "                           ('m',RandomForestClassifier(random_state=123))])\n",
    "model.fit(X_train, y_train)\n",
    "# evaluate the model\n",
    "yhat = model.predict(X_test)\n",
    "# evaluate predictions\n",
    "ac = accuracy_score(y_test, yhat)\n",
    "print('Accuracy Score: %.3f' % ac)"
   ]
  },
  {
   "cell_type": "code",
   "execution_count": null,
   "metadata": {},
   "outputs": [],
   "source": []
  }
 ],
 "metadata": {
  "kernelspec": {
   "display_name": "Python 3 (ipykernel)",
   "language": "python",
   "name": "python3"
  },
  "language_info": {
   "codemirror_mode": {
    "name": "ipython",
    "version": 3
   },
   "file_extension": ".py",
   "mimetype": "text/x-python",
   "name": "python",
   "nbconvert_exporter": "python",
   "pygments_lexer": "ipython3",
   "version": "3.9.13"
  },
  "toc-autonumbering": false
 },
 "nbformat": 4,
 "nbformat_minor": 4
}
