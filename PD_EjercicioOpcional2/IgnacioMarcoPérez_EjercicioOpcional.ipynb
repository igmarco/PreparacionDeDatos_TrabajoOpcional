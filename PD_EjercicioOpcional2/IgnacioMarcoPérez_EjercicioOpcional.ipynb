{
 "cells": [
  {
   "cell_type": "markdown",
   "id": "a9a6b59c-9436-421a-a01e-086cd6b76f39",
   "metadata": {},
   "source": [
    "# Práctica entregable: Feature Selection aplicada al dataset *Housing* con un problema de regresión"
   ]
  },
  {
   "cell_type": "markdown",
   "id": "5bbfdfea-c58d-4a9e-ae4b-c76ef0d1b31c",
   "metadata": {},
   "source": [
    "Para este problema, utilizaremos el dataset *Housing*, estudiado anteriormente en la práctica P7 de la asignatura. Recogeremos exactamente el último tratamiento realizado, en el que se le aplica un escalado *MinMaxScaler* entre *0* y *1* y una transformación avanzada *PowerTransformer*.\n",
    "\n",
    "Veamos los resultados obtenidos en la práctica para este procesado aplicando un modelo SVR de hiperparámetros por defecto."
   ]
  },
  {
   "cell_type": "code",
   "execution_count": 1,
   "id": "8a16cd88-6005-4f09-9dce-96fb4c94e566",
   "metadata": {},
   "outputs": [
    {
     "name": "stdout",
     "output_type": "stream",
     "text": [
      "(506, 13) (506,)\n",
      "Mean MAE: 2.209\n"
     ]
    }
   ],
   "source": [
    "# example of power transform input and output variables for regression.\n",
    "from numpy import mean\n",
    "from numpy import absolute\n",
    "from numpy import loadtxt\n",
    "from pandas import read_csv\n",
    "from sklearn.model_selection import cross_val_score\n",
    "from sklearn.model_selection import RepeatedKFold\n",
    "from sklearn.pipeline import Pipeline\n",
    "from sklearn.linear_model import HuberRegressor\n",
    "from sklearn import svm\n",
    "from sklearn.preprocessing import PowerTransformer\n",
    "from sklearn.preprocessing import MinMaxScaler\n",
    "from sklearn.compose import TransformedTargetRegressor\n",
    "\n",
    "# load data \n",
    "dataframe = read_csv('housing.csv', header=None)\n",
    "# split into inputs and outputs\n",
    "last_ix = len(dataframe.columns) - 1\n",
    "X, y = dataframe.drop(last_ix, axis=1), dataframe[last_ix]\n",
    "print(X.shape, y.shape)\n",
    "\n",
    "# prepare the model with input scaling and power transform\n",
    "steps = list()\n",
    "#steps.append(('scale', MinMaxScaler()))\n",
    "steps.append(('scale', MinMaxScaler(feature_range=(1e-5, 1))))\n",
    "steps.append(('power', PowerTransformer()))\n",
    "steps.append(('model', svm.SVR()))\n",
    "#steps.append(('model', HuberRegressor()))\n",
    "pipeline = Pipeline(steps=steps)\n",
    "\n",
    "# prepare the model with target scaling\n",
    "model_target_regressor = TransformedTargetRegressor(regressor=pipeline, transformer=PowerTransformer())\n",
    "# evaluate model\n",
    "cv = RepeatedKFold(n_splits=10, n_repeats=3, random_state=1)\n",
    "scores = cross_val_score(model_target_regressor, X, y, scoring='neg_mean_absolute_error', cv=cv, n_jobs=-1)\n",
    "# convert scores to positive\n",
    "scores = absolute(scores)\n",
    "# summarize the result\n",
    "s_mean = mean(scores)\n",
    "print('Mean MAE: %.3f' % (s_mean))"
   ]
  },
  {
   "cell_type": "markdown",
   "id": "2dc0fb62-dc7e-41e1-9201-10f727e301fa",
   "metadata": {},
   "source": [
    "## Selección de Características mediante Coeficientes de Correlación"
   ]
  },
  {
   "cell_type": "markdown",
   "id": "28b8cca5-06cd-4b53-b8c7-011fe1b3fae5",
   "metadata": {},
   "source": [
    "Veamos el orden de las variables en base a los coeficientes de correlación mediante la función *f_regression()*."
   ]
  },
  {
   "cell_type": "code",
   "execution_count": 2,
   "id": "8f85989c-4855-42f0-99fd-06d2b2298410",
   "metadata": {},
   "outputs": [
    {
     "name": "stdout",
     "output_type": "stream",
     "text": [
      "(506, 13) (506,)\n",
      "Feature 0: 73.362968\n",
      "Feature 1: 71.032551\n",
      "Feature 2: 132.606905\n",
      "Feature 3: 10.055319\n",
      "Feature 4: 102.055325\n",
      "Feature 5: 329.164062\n",
      "Feature 6: 82.965262\n",
      "Feature 7: 34.251355\n",
      "Feature 8: 73.543625\n",
      "Feature 9: 110.524655\n",
      "Feature 10: 152.853099\n",
      "Feature 11: 48.938266\n",
      "Feature 12: 490.397465\n",
      "\n",
      "[12.  5. 10.  2.  9.  4.  6.  8.  0.  1. 11.  7.  3.]\n"
     ]
    }
   ],
   "source": [
    "# Example of calculating correlation statistics for all input variables.\n",
    "# example of correlation feature selection for numerical data\n",
    "from numpy import empty\n",
    "from sklearn.datasets import make_regression\n",
    "from sklearn.model_selection import train_test_split\n",
    "from sklearn.feature_selection import SelectKBest\n",
    "from sklearn.feature_selection import f_regression\n",
    "from matplotlib import pyplot\n",
    "\n",
    "# feature selection\n",
    "def select_features(X_train, y_train, X_test):\n",
    "    # configure to select all features\n",
    "    fs = SelectKBest(score_func=f_regression, k='all') #Pearson's correlation (only positive values) ¿k=10?\n",
    "    # learn relationship from training data\n",
    "    fs.fit(X_train, y_train)\n",
    "    # transform train input data\n",
    "    X_train_fs = fs.transform(X_train)\n",
    "    # transform test input data\n",
    "    X_test_fs = fs.transform(X_test)\n",
    "    return X_train_fs, X_test_fs, fs  #return fs with scores\n",
    "\n",
    "# load data \n",
    "dataframe = read_csv('housing.csv', header=None)\n",
    "# split into inputs and outputs\n",
    "last_ix = len(dataframe.columns) - 1\n",
    "X, y = dataframe.drop(last_ix, axis=1), dataframe[last_ix]\n",
    "print(X.shape, y.shape)\n",
    "# split into train and test sets  \n",
    "X_train, X_test, y_train, y_test = train_test_split(X, y, test_size=0.2, random_state=1)\n",
    "# feature selection\n",
    "X_train_fs, X_test_fs, fs = select_features(X_train, y_train, X_test)\n",
    "# what are scores for the features\n",
    "corr = empty((X.shape[1],2))\n",
    "for i in range(len(fs.scores_)):\n",
    "    corr[i,0] = i\n",
    "    corr[i,1] = fs.scores_[i]\n",
    "    print('Feature %d: %f' % (i, fs.scores_[i]))\n",
    "print()\n",
    "print(corr[corr[:, 1].argsort()[::-1]][:,0])\n",
    "\n",
    "    #10 valores interesantes, el resto irrelevantes"
   ]
  },
  {
   "cell_type": "markdown",
   "id": "5d0f4805-da1c-45e9-879d-3515fcee5df9",
   "metadata": {},
   "source": [
    "Visualicemos claramente los resultados."
   ]
  },
  {
   "cell_type": "code",
   "execution_count": 3,
   "id": "959674e8-a46f-4ca3-8122-3649cd65a04f",
   "metadata": {},
   "outputs": [
    {
     "data": {
      "image/png": "[encoded data removed]",
      "text/plain": [
       "<Figure size 640x480 with 1 Axes>"
      ]
     },
     "metadata": {},
     "output_type": "display_data"
    }
   ],
   "source": [
    "# plot the scores\n",
    "pyplot.bar([i for i in range(len(fs.scores_))], fs.scores_)\n",
    "pyplot.show()"
   ]
  },
  {
   "cell_type": "markdown",
   "id": "6b8f9d19-9ffb-4256-8b48-326f2b13ee39",
   "metadata": {},
   "source": [
    "## Selección de Características mediante Mutual Information"
   ]
  },
  {
   "cell_type": "markdown",
   "id": "3b3d9166-c0f5-47a4-83f4-ba9498873079",
   "metadata": {},
   "source": [
    "Veamos el orden de las variables en base al Mutual Information mediante la función *mutual_info_regression()*:"
   ]
  },
  {
   "cell_type": "code",
   "execution_count": 4,
   "id": "36f36002-b202-4a6c-af74-37d8ad1aaf7c",
   "metadata": {},
   "outputs": [
    {
     "name": "stdout",
     "output_type": "stream",
     "text": [
      "(506, 13) (506,)\n",
      "Feature 0: 0.310451\n",
      "Feature 1: 0.185942\n",
      "Feature 2: 0.517256\n",
      "Feature 3: 0.014123\n",
      "Feature 4: 0.443175\n",
      "Feature 5: 0.487332\n",
      "Feature 6: 0.343970\n",
      "Feature 7: 0.291080\n",
      "Feature 8: 0.194301\n",
      "Feature 9: 0.334058\n",
      "Feature 10: 0.450730\n",
      "Feature 11: 0.177433\n",
      "Feature 12: 0.690850\n",
      "\n",
      "[12.  2.  5. 10.  4.  6.  9.  0.  7.  8.  1. 11.  3.]\n"
     ]
    }
   ],
   "source": [
    "# Example of applying mutual information feature selection and summarizing the selected features.\n",
    "# example of mutual information feature selection for numerical input data\n",
    "from sklearn.datasets import make_regression\n",
    "from sklearn.model_selection import train_test_split\n",
    "from sklearn.feature_selection import SelectKBest\n",
    "from sklearn.feature_selection import mutual_info_regression\n",
    "from matplotlib import pyplot\n",
    "\n",
    "# feature selection\n",
    "def select_features(X_train, y_train, X_test):\n",
    "    # configure to select all features\n",
    "    fs = SelectKBest(score_func=mutual_info_regression, k='all') #score_func=mutual_info_regression\n",
    "    # learn relationship from training data\n",
    "    fs.fit(X_train, y_train)\n",
    "    # transform train input data\n",
    "    X_train_fs = fs.transform(X_train)\n",
    "    # transform test input data\n",
    "    X_test_fs = fs.transform(X_test)\n",
    "    return X_train_fs, X_test_fs, fs\n",
    "\n",
    "# load data \n",
    "dataframe = read_csv('housing.csv', header=None)\n",
    "# split into inputs and outputs\n",
    "last_ix = len(dataframe.columns) - 1\n",
    "X, y = dataframe.drop(last_ix, axis=1), dataframe[last_ix]\n",
    "print(X.shape, y.shape)\n",
    "# split into train and test sets\n",
    "X_train, X_test, y_train, y_test = train_test_split(X, y, test_size=0.33, random_state=1)\n",
    "# feature selection\n",
    "X_train_fs, X_test_fs, fs = select_features(X_train, y_train, X_test)\n",
    "# what are scores for the features\n",
    "corr = empty((X.shape[1],2))\n",
    "for i in range(len(fs.scores_)):\n",
    "    corr[i,0] = i\n",
    "    corr[i,1] = fs.scores_[i]\n",
    "    print('Feature %d: %f' % (i, fs.scores_[i]))\n",
    "print()\n",
    "print(corr[corr[:, 1].argsort()[::-1]][:,0])"
   ]
  },
  {
   "cell_type": "markdown",
   "id": "a23a97cc-44b3-42bc-80c9-2771dec401ee",
   "metadata": {},
   "source": [
    "Visualicemos claramente los resultados."
   ]
  },
  {
   "cell_type": "code",
   "execution_count": 5,
   "id": "64a4786f-4f99-4b60-b381-643635052781",
   "metadata": {},
   "outputs": [
    {
     "data": {
      "image/png": "[encoded data removed]",
      "text/plain": [
       "<Figure size 640x480 with 1 Axes>"
      ]
     },
     "metadata": {},
     "output_type": "display_data"
    }
   ],
   "source": [
    "# plot the scores\n",
    "pyplot.bar([i for i in range(len(fs.scores_))], fs.scores_)\n",
    "pyplot.show()"
   ]
  },
  {
   "cell_type": "markdown",
   "id": "cf70dec2-667d-40ae-9c4b-f39fa2676f78",
   "metadata": {},
   "source": [
    "## Resultados de la aplicación de la Selección de Características"
   ]
  },
  {
   "cell_type": "markdown",
   "id": "8e83e811-dbd8-4617-8dc0-42d18080857b",
   "metadata": {},
   "source": [
    "### Cálculo del MAE base"
   ]
  },
  {
   "cell_type": "markdown",
   "id": "cc342771-8c20-4729-a927-52af59bb1896",
   "metadata": {},
   "source": [
    "Para poder comprobar la mejora (o la no pérdida) en los resultados obtenidos, calculemos el MAE base para el modelo aplicado al dataset con el procesamiento básico identificado en la práctica *P7*. Para ello, dejamos que se utilicen todas las variables del dataset."
   ]
  },
  {
   "cell_type": "code",
   "execution_count": 6,
   "id": "f8f82995-4933-4975-ab60-2ce3b17d7070",
   "metadata": {},
   "outputs": [
    {
     "name": "stdout",
     "output_type": "stream",
     "text": [
      "(506, 13) (506,)\n",
      "MAE: 3.519\n"
     ]
    }
   ],
   "source": [
    "from numpy import mean\n",
    "from numpy import absolute\n",
    "from numpy import loadtxt\n",
    "from pandas import read_csv\n",
    "from sklearn.pipeline import Pipeline\n",
    "from sklearn import svm\n",
    "from sklearn.preprocessing import PowerTransformer\n",
    "from sklearn.preprocessing import MinMaxScaler\n",
    "from sklearn.compose import TransformedTargetRegressor\n",
    "\n",
    "from sklearn.datasets import make_regression\n",
    "from sklearn.model_selection import train_test_split\n",
    "from sklearn.feature_selection import SelectKBest\n",
    "from sklearn.feature_selection import f_regression\n",
    "from sklearn.linear_model import LinearRegression\n",
    "from sklearn.metrics import mean_absolute_error\n",
    "\n",
    "# load data \n",
    "dataframe = read_csv('housing.csv', header=None)\n",
    "# split into inputs and outputs\n",
    "last_ix = len(dataframe.columns) - 1\n",
    "X, y = dataframe.drop(last_ix, axis=1), dataframe[last_ix]\n",
    "print(X.shape, y.shape)\n",
    "\n",
    "# split into train and test sets\n",
    "X_train, X_test, y_train, y_test = train_test_split(X, y, test_size=0.20, random_state=1)\n",
    "\n",
    "# prepare the model with input scaling and power transform\n",
    "steps = list()\n",
    "#steps.append(('scale', MinMaxScaler()))\n",
    "steps.append(('scale', MinMaxScaler(feature_range=(1e-5, 1))))\n",
    "steps.append(('power', PowerTransformer()))\n",
    "steps.append(('model', svm.SVR()))\n",
    "#steps.append(('model', HuberRegressor()))\n",
    "pipeline = Pipeline(steps=steps)\n",
    "\n",
    "# prepare the model with target scaling\n",
    "model_target_regressor = TransformedTargetRegressor(regressor=pipeline, transformer=PowerTransformer())\n",
    "pipeline.fit(X_train, y_train)\n",
    "\n",
    "# evaluate predictions\n",
    "yhat = pipeline.predict(X_test)\n",
    "mae = mean_absolute_error(y_test, yhat)\n",
    "print('MAE: %.3f' % mae)"
   ]
  },
  {
   "cell_type": "markdown",
   "id": "bf8a600e-db97-4188-b107-8b0fd970ecfb",
   "metadata": {},
   "source": [
    "### Cálculo del MAE con Selección de Características mediante Coeficientes de Correlación"
   ]
  },
  {
   "cell_type": "markdown",
   "id": "278d8024-3f66-4a6a-ae1b-41d4629ec55f",
   "metadata": {},
   "source": [
    "Ahora, calculemos el MAE para la aplicación del mismo modelo aplicado sobre los datos con el mismo procesamiento sobre un número inferior de variables seleccionadas mediante los coeficientes de correlación. Por ejemplo, vemos que utilizando solo 5 variables disminuimos considerablemente la complejidad del modelo y aumentamos la precisión."
   ]
  },
  {
   "cell_type": "code",
   "execution_count": 7,
   "id": "d7844417-8384-4e5a-ae42-12206b26c305",
   "metadata": {},
   "outputs": [
    {
     "name": "stdout",
     "output_type": "stream",
     "text": [
      "(506, 13) (506,)\n",
      "MAE: 3.334\n"
     ]
    }
   ],
   "source": [
    "from numpy import mean\n",
    "from numpy import absolute\n",
    "from numpy import loadtxt\n",
    "from pandas import read_csv\n",
    "from sklearn.pipeline import Pipeline\n",
    "from sklearn import svm\n",
    "from sklearn.preprocessing import PowerTransformer\n",
    "from sklearn.preprocessing import MinMaxScaler\n",
    "from sklearn.compose import TransformedTargetRegressor\n",
    "\n",
    "from sklearn.datasets import make_regression\n",
    "from sklearn.model_selection import train_test_split\n",
    "from sklearn.feature_selection import SelectKBest\n",
    "from sklearn.feature_selection import f_regression\n",
    "from sklearn.linear_model import LinearRegression\n",
    "from sklearn.metrics import mean_absolute_error\n",
    "\n",
    "# feature selection\n",
    "def select_features(X_train, y_train, X_test):\n",
    "    # configure to select a subset of features\n",
    "    fs = SelectKBest(score_func=f_regression, k=5)\n",
    "    # learn relationship from training data\n",
    "    fs.fit(X_train, y_train)\n",
    "    # transform train input data\n",
    "    X_train_fs = fs.transform(X_train)\n",
    "    # transform test input data\n",
    "    X_test_fs = fs.transform(X_test)\n",
    "    return X_train_fs, X_test_fs\n",
    "\n",
    "# load data \n",
    "dataframe = read_csv('housing.csv', header=None)\n",
    "# split into inputs and outputs\n",
    "last_ix = len(dataframe.columns) - 1\n",
    "X, y = dataframe.drop(last_ix, axis=1), dataframe[last_ix]\n",
    "print(X.shape, y.shape)\n",
    "\n",
    "# split into train and test sets\n",
    "X_train, X_test, y_train, y_test = train_test_split(X, y, test_size=0.20, random_state=1)\n",
    "# feature selection\n",
    "X_train_fs, X_test_fs = select_features(X_train, y_train, X_test)\n",
    "\n",
    "# prepare the model with input scaling and power transform\n",
    "steps = list()\n",
    "#steps.append(('scale', MinMaxScaler()))\n",
    "steps.append(('scale', MinMaxScaler(feature_range=(1e-5, 1))))\n",
    "steps.append(('power', PowerTransformer()))\n",
    "steps.append(('model', svm.SVR()))\n",
    "#steps.append(('model', HuberRegressor()))\n",
    "pipeline = Pipeline(steps=steps)\n",
    "\n",
    "# prepare the model with target scaling\n",
    "model_target_regressor = TransformedTargetRegressor(regressor=pipeline, transformer=PowerTransformer())\n",
    "pipeline.fit(X_train_fs, y_train)\n",
    "\n",
    "# evaluate predictions\n",
    "yhat = pipeline.predict(X_test_fs)\n",
    "mae = mean_absolute_error(y_test, yhat)\n",
    "print('MAE: %.3f' % mae)"
   ]
  },
  {
   "cell_type": "markdown",
   "id": "ba9de126-6851-4e30-9f31-5207c918eb2d",
   "metadata": {},
   "source": [
    "### Cálculo del MAE con Selección de Características mediante Mutual Information"
   ]
  },
  {
   "cell_type": "markdown",
   "id": "6104dd60-4dad-4127-9e58-ac74d18bf472",
   "metadata": {},
   "source": [
    "Ahora, calculemos el MAE para la aplicación del mismo modelo aplicado sobre los datos con el mismo procesamiento sobre un número inferior de variables seleccionadas mediante los valores de información mutua. Por ejemplo, vemos que utilizando 6 variables también disminuimos la complejidad del modelo y seguimos aumentando la precisión."
   ]
  },
  {
   "cell_type": "code",
   "execution_count": 8,
   "id": "2af4e680-20c9-47d5-b54e-ab7e14eab9aa",
   "metadata": {},
   "outputs": [
    {
     "name": "stdout",
     "output_type": "stream",
     "text": [
      "(506, 13) (506,)\n",
      "MAE: 3.392\n"
     ]
    }
   ],
   "source": [
    "from numpy import mean\n",
    "from numpy import absolute\n",
    "from numpy import loadtxt\n",
    "from pandas import read_csv\n",
    "from sklearn.pipeline import Pipeline\n",
    "from sklearn import svm\n",
    "from sklearn.preprocessing import PowerTransformer\n",
    "from sklearn.preprocessing import MinMaxScaler\n",
    "from sklearn.compose import TransformedTargetRegressor\n",
    "\n",
    "from sklearn.datasets import make_regression\n",
    "from sklearn.model_selection import train_test_split\n",
    "from sklearn.feature_selection import SelectKBest\n",
    "from sklearn.feature_selection import f_regression\n",
    "from sklearn.linear_model import LinearRegression\n",
    "from sklearn.metrics import mean_absolute_error\n",
    "\n",
    "# feature selection\n",
    "def select_features(X_train, y_train, X_test):\n",
    "    # configure to select a subset of features\n",
    "    fs = SelectKBest(score_func=mutual_info_regression, k=6)\n",
    "    # learn relationship from training data\n",
    "    fs.fit(X_train, y_train)\n",
    "    # transform train input data\n",
    "    X_train_fs = fs.transform(X_train)\n",
    "    # transform test input data\n",
    "    X_test_fs = fs.transform(X_test)\n",
    "    return X_train_fs, X_test_fs\n",
    "\n",
    "# load data \n",
    "dataframe = read_csv('housing.csv', header=None)\n",
    "# split into inputs and outputs\n",
    "last_ix = len(dataframe.columns) - 1\n",
    "X, y = dataframe.drop(last_ix, axis=1), dataframe[last_ix]\n",
    "print(X.shape, y.shape)\n",
    "\n",
    "# split into train and test sets\n",
    "X_train, X_test, y_train, y_test = train_test_split(X, y, test_size=0.20, random_state=1)\n",
    "# feature selection\n",
    "X_train_fs, X_test_fs = select_features(X_train, y_train, X_test)\n",
    "\n",
    "# prepare the model with input scaling and power transform\n",
    "steps = list()\n",
    "#steps.append(('scale', MinMaxScaler()))\n",
    "steps.append(('scale', MinMaxScaler(feature_range=(1e-5, 1))))\n",
    "steps.append(('power', PowerTransformer()))\n",
    "steps.append(('model', svm.SVR()))\n",
    "#steps.append(('model', HuberRegressor()))\n",
    "pipeline = Pipeline(steps=steps)\n",
    "\n",
    "# prepare the model with target scaling\n",
    "model_target_regressor = TransformedTargetRegressor(regressor=pipeline, transformer=PowerTransformer())\n",
    "pipeline.fit(X_train_fs, y_train)\n",
    "\n",
    "# evaluate predictions\n",
    "yhat = pipeline.predict(X_test_fs)\n",
    "mae = mean_absolute_error(y_test, yhat)\n",
    "print('MAE: %.3f' % mae)"
   ]
  },
  {
   "cell_type": "markdown",
   "id": "d759b180-d8c0-4ec1-8045-0c792d87b1d3",
   "metadata": {},
   "source": [
    "## Resumen de resultados"
   ]
  },
  {
   "cell_type": "code",
   "execution_count": 9,
   "id": "a9e05e87-8b65-4a57-91d6-d9670b300185",
   "metadata": {},
   "outputs": [],
   "source": [
    "from pandas import DataFrame\n",
    "results = DataFrame(columns=['FSmethod', 'k', 'MAE'])"
   ]
  },
  {
   "cell_type": "code",
   "execution_count": 10,
   "id": "b4b4db3a-d630-4061-b81e-459232df5ee8",
   "metadata": {},
   "outputs": [
    {
     "name": "stdout",
     "output_type": "stream",
     "text": [
      "(506, 13) (506,)\n"
     ]
    }
   ],
   "source": [
    "from numpy import mean\n",
    "from numpy import absolute\n",
    "from numpy import loadtxt\n",
    "from pandas import read_csv\n",
    "from sklearn.pipeline import Pipeline\n",
    "from sklearn import svm\n",
    "from sklearn.preprocessing import PowerTransformer\n",
    "from sklearn.preprocessing import MinMaxScaler\n",
    "from sklearn.compose import TransformedTargetRegressor\n",
    "\n",
    "from sklearn.datasets import make_regression\n",
    "from sklearn.model_selection import train_test_split\n",
    "from sklearn.feature_selection import SelectKBest\n",
    "from sklearn.feature_selection import f_regression\n",
    "from sklearn.feature_selection import mutual_info_regression\n",
    "from sklearn.linear_model import LinearRegression\n",
    "from sklearn.metrics import mean_absolute_error\n",
    "\n",
    "# feature selection\n",
    "def select_features(func, k, X_train, y_train, X_test):\n",
    "    # configure to select a subset of features\n",
    "    fs = SelectKBest(score_func=func, k=k)\n",
    "    # learn relationship from training data\n",
    "    fs.fit(X_train, y_train)\n",
    "    # transform train input data\n",
    "    X_train_fs = fs.transform(X_train)\n",
    "    # transform test input data\n",
    "    X_test_fs = fs.transform(X_test)\n",
    "    return X_train_fs, X_test_fs\n",
    "\n",
    "FSmethods = [f_regression, mutual_info_regression]\n",
    "FSmethods_names = ['Correlación','Mutual Information']\n",
    "k_values = list(range(1,14))\n",
    "\n",
    "# load data \n",
    "dataframe = read_csv('housing.csv', header=None)\n",
    "# split into inputs and outputs\n",
    "last_ix = len(dataframe.columns) - 1\n",
    "X, y = dataframe.drop(last_ix, axis=1), dataframe[last_ix]\n",
    "print(X.shape, y.shape)\n",
    "\n",
    "# split into train and test sets\n",
    "X_train, X_test, y_train, y_test = train_test_split(X, y, test_size=0.20, random_state=1)\n",
    "\n",
    "# prepare the model with input scaling and power transform\n",
    "steps = list()\n",
    "#steps.append(('scale', MinMaxScaler()))\n",
    "steps.append(('scale', MinMaxScaler(feature_range=(1e-5, 1))))\n",
    "steps.append(('power', PowerTransformer()))\n",
    "steps.append(('model', svm.SVR()))\n",
    "#steps.append(('model', HuberRegressor()))\n",
    "pipeline = Pipeline(steps=steps)\n",
    "\n",
    "for i,FSmethod in enumerate(FSmethods):\n",
    "    for k in k_values:\n",
    "        # feature selection\n",
    "        X_train_fs, X_test_fs = select_features(FSmethod, k, X_train, y_train, X_test)\n",
    "\n",
    "        # prepare the model with target scaling\n",
    "        model_target_regressor = TransformedTargetRegressor(regressor=pipeline, transformer=PowerTransformer())\n",
    "        pipeline.fit(X_train_fs, y_train)\n",
    "\n",
    "        # evaluate predictions\n",
    "        yhat = pipeline.predict(X_test_fs)\n",
    "        mae = mean_absolute_error(y_test, yhat)\n",
    "        \n",
    "        results.loc[len(results.index)] = {'FSmethod': FSmethods_names[i], \n",
    "                    'k': k, \n",
    "                    'MAE': mae}\n",
    "        \n",
    "        # print('MAE (%s con k=%i): %.3f' % (FSmethods_names[i], k, mae))"
   ]
  },
  {
   "cell_type": "code",
   "execution_count": 11,
   "id": "fe7cbda8-8063-4fb2-b916-39f2a3448c8f",
   "metadata": {},
   "outputs": [
    {
     "data": {
      "text/html": [
       "<div>\n",
       "<style scoped>\n",
       "    .dataframe tbody tr th:only-of-type {\n",
       "        vertical-align: middle;\n",
       "    }\n",
       "\n",
       "    .dataframe tbody tr th {\n",
       "        vertical-align: top;\n",
       "    }\n",
       "\n",
       "    .dataframe thead th {\n",
       "        text-align: right;\n",
       "    }\n",
       "</style>\n",
       "<table border=\"1\" class=\"dataframe\">\n",
       "  <thead>\n",
       "    <tr style=\"text-align: right;\">\n",
       "      <th></th>\n",
       "      <th>FSmethod</th>\n",
       "      <th>k</th>\n",
       "      <th>MAE</th>\n",
       "    </tr>\n",
       "  </thead>\n",
       "  <tbody>\n",
       "    <tr>\n",
       "      <th>22</th>\n",
       "      <td>Mutual Information</td>\n",
       "      <td>10</td>\n",
       "      <td>3.295261</td>\n",
       "    </tr>\n",
       "    <tr>\n",
       "      <th>21</th>\n",
       "      <td>Mutual Information</td>\n",
       "      <td>9</td>\n",
       "      <td>3.303136</td>\n",
       "    </tr>\n",
       "    <tr>\n",
       "      <th>4</th>\n",
       "      <td>Correlación</td>\n",
       "      <td>5</td>\n",
       "      <td>3.333810</td>\n",
       "    </tr>\n",
       "    <tr>\n",
       "      <th>8</th>\n",
       "      <td>Correlación</td>\n",
       "      <td>9</td>\n",
       "      <td>3.368152</td>\n",
       "    </tr>\n",
       "    <tr>\n",
       "      <th>19</th>\n",
       "      <td>Mutual Information</td>\n",
       "      <td>7</td>\n",
       "      <td>3.381178</td>\n",
       "    </tr>\n",
       "  </tbody>\n",
       "</table>\n",
       "</div>"
      ],
      "text/plain": [
       "              FSmethod   k       MAE\n",
       "22  Mutual Information  10  3.295261\n",
       "21  Mutual Information   9  3.303136\n",
       "4          Correlación   5  3.333810\n",
       "8          Correlación   9  3.368152\n",
       "19  Mutual Information   7  3.381178"
      ]
     },
     "execution_count": 11,
     "metadata": {},
     "output_type": "execute_result"
    }
   ],
   "source": [
    "results.sort_values('MAE', ascending=True).head(5)"
   ]
  },
  {
   "cell_type": "markdown",
   "id": "f0d5ac0c-a0b7-44f1-94c8-2f358b4b2833",
   "metadata": {},
   "source": [
    "Aunque para escoger el mejor método de Feature Selection deberíamos haber utilizado el conjunto de validación (con un CrossValidation adecuado), estos resultados nos permiten hacernos una idea de qué resultados se obtienen con los distintos métodos para este dataset con la partición realizada.\n",
    "\n",
    "Aunque depende de lo que busquemos en cada problema, considero que la selección de 5 variables realizada mediante los coeficientes de correlación nos aporta el \"mejor\" resultado."
   ]
  },
  {
   "cell_type": "code",
   "execution_count": null,
   "id": "3b1a6d22-67af-4870-a6dc-65e97083265d",
   "metadata": {},
   "outputs": [],
   "source": []
  }
 ],
 "metadata": {
  "kernelspec": {
   "display_name": "Python 3 (ipykernel)",
   "language": "python",
   "name": "python3"
  },
  "language_info": {
   "codemirror_mode": {
    "name": "ipython",
    "version": 3
   },
   "file_extension": ".py",
   "mimetype": "text/x-python",
   "name": "python",
   "nbconvert_exporter": "python",
   "pygments_lexer": "ipython3",
   "version": "3.9.13"
  }
 },
 "nbformat": 4,
 "nbformat_minor": 5
}
